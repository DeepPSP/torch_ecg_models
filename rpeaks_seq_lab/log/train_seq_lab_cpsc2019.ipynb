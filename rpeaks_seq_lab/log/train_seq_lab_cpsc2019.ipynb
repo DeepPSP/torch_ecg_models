{
 "cells": [
  {
   "cell_type": "code",
   "execution_count": 1,
   "metadata": {},
   "outputs": [],
   "source": [
    "import sys\n",
    "import warnings\n",
    "warnings.simplefilter(action='ignore', category=FutureWarning)\n",
    "from copy import deepcopy\n",
    "\n",
    "%load_ext autoreload\n",
    "%autoreload 2"
   ]
  },
  {
   "cell_type": "code",
   "execution_count": 2,
   "metadata": {},
   "outputs": [
    {
     "data": {
      "text/plain": [
       "'1.19.2'"
      ]
     },
     "execution_count": 2,
     "metadata": {},
     "output_type": "execute_result"
    }
   ],
   "source": [
    "import numpy as np\n",
    "np.__version__"
   ]
  },
  {
   "cell_type": "code",
   "execution_count": 3,
   "metadata": {},
   "outputs": [
    {
     "data": {
      "text/plain": [
       "'1.3.1'"
      ]
     },
     "execution_count": 3,
     "metadata": {},
     "output_type": "execute_result"
    }
   ],
   "source": [
    "import das.pytorch.estimator as pe\n",
    "import torch\n",
    "torch.__version__"
   ]
  },
  {
   "cell_type": "code",
   "execution_count": 4,
   "metadata": {},
   "outputs": [
    {
     "data": {
      "text/plain": [
       "True"
      ]
     },
     "execution_count": 4,
     "metadata": {},
     "output_type": "execute_result"
    }
   ],
   "source": [
    "torch.cuda.is_available()"
   ]
  },
  {
   "cell_type": "code",
   "execution_count": null,
   "metadata": {},
   "outputs": [],
   "source": []
  },
  {
   "cell_type": "code",
   "execution_count": null,
   "metadata": {},
   "outputs": [],
   "source": []
  },
  {
   "cell_type": "code",
   "execution_count": 5,
   "metadata": {},
   "outputs": [
    {
     "name": "stderr",
     "output_type": "stream",
     "text": [
      "2021-02-08 00:51:25,336 (WARNING) __init__.py:482] Matplotlib created a temporary config/cache directory at /tmp/matplotlib-rqzzt39i because the default path (/work/.cache/matplotlib) is not a writable directory; it is highly recommended to set the MPLCONFIGDIR environment variable to a writable directory, in particular to speed up the import of Matplotlib and to better support multiprocessing.\n",
      "2021-02-08 00:51:25,337 (INFO) font_manager.py:1423] Generating new fontManager, this may take some time...\n"
     ]
    }
   ],
   "source": [
    "sys.path.insert(0,\"/media/cfs/wenhao71/workspace/torch_ecg/\")\n",
    "from torch_ecg.train.train_seq_lab_net_cpsc2019.cfg import TrainCfg, ModelCfg\n",
    "from torch_ecg.train.train_seq_lab_net_cpsc2019.train import train, evaluate\n",
    "from torch_ecg.train.train_seq_lab_net_cpsc2019.model import ECG_SEQ_LAB_NET_CPSC2019\n",
    "from torch_ecg.train.train_seq_lab_net_cpsc2019.utils import init_logger, dict_to_str\n"
   ]
  },
  {
   "cell_type": "code",
   "execution_count": 6,
   "metadata": {},
   "outputs": [],
   "source": [
    "train_config = deepcopy(TrainCfg)"
   ]
  },
  {
   "cell_type": "code",
   "execution_count": 7,
   "metadata": {},
   "outputs": [
    {
     "data": {
      "text/plain": [
       "{'fs': 500,\n",
       " 'db_dir': '/media/cfs/wenhao71/data/CPSC2019/train/',\n",
       " 'log_dir': '/media/cfs/wenhao71/workspace/torch_ecg/torch_ecg/train/train_seq_lab_net_cpsc2019/log',\n",
       " 'checkpoints': '/media/cfs/wenhao71/workspace/torch_ecg/torch_ecg/train/train_seq_lab_net_cpsc2019/checkpoints',\n",
       " 'keep_checkpoint_max': 50,\n",
       " 'train_ratio': 0.8,\n",
       " 'input_len': 5000,\n",
       " 'classes': ['N'],\n",
       " 'n_leads': 1,\n",
       " 'bias_thr': 37.5,\n",
       " 'skip_dist': 250.0,\n",
       " 'label_smoothing': 0.0,\n",
       " 'random_normalize': True,\n",
       " 'random_normalize_mean': [-0.05, 0.1],\n",
       " 'random_normalize_std': [0.08, 0.32],\n",
       " 'baseline_wander': True,\n",
       " 'bw': True,\n",
       " 'bw_fs': array([0.33, 0.1 , 0.05, 0.01]),\n",
       " 'bw_ampl_ratio': array([[0.01, 0.01, 0.02, 0.03],\n",
       "        [0.01, 0.02, 0.04, 0.05],\n",
       "        [0.1 , 0.06, 0.04, 0.02],\n",
       "        [0.02, 0.04, 0.07, 0.1 ],\n",
       "        [0.05, 0.1 , 0.16, 0.25],\n",
       "        [0.1 , 0.15, 0.25, 0.3 ],\n",
       "        [0.25, 0.25, 0.3 , 0.35]]),\n",
       " 'bw_gaussian': array([[0.   , 0.   ],\n",
       "        [0.   , 0.   ],\n",
       "        [0.   , 0.   ],\n",
       "        [0.   , 0.003],\n",
       "        [0.   , 0.01 ]]),\n",
       " 'flip': [-1, 1, 1, 1, 1],\n",
       " 'seq_lab_reduction': 8,\n",
       " 'n_epochs': 300,\n",
       " 'batch_size': 256,\n",
       " 'train_optimizer': 'adam',\n",
       " 'learning_rate': 0.0001,\n",
       " 'lr': 0.0001,\n",
       " 'lr_step_size': 50,\n",
       " 'lr_gamma': 0.1,\n",
       " 'lr_scheduler': None,\n",
       " 'momentum': 0.949,\n",
       " 'decay': 0.0005,\n",
       " 'loss': 'BCEWithLogitsLoss',\n",
       " 'eval_every': 20,\n",
       " 'model_name': 'cnn',\n",
       " 'cnn_name': 'multi_scopic',\n",
       " 'rnn_name': 'none',\n",
       " 'attn_name': 'se'}"
      ]
     },
     "execution_count": 7,
     "metadata": {},
     "output_type": "execute_result"
    }
   ],
   "source": [
    "train_config"
   ]
  },
  {
   "cell_type": "code",
   "execution_count": 8,
   "metadata": {},
   "outputs": [],
   "source": [
    "train_config.model_name = \"crnn\""
   ]
  },
  {
   "cell_type": "code",
   "execution_count": null,
   "metadata": {},
   "outputs": [],
   "source": [
    "# train_config.model_name = \"cnn\""
   ]
  },
  {
   "cell_type": "code",
   "execution_count": null,
   "metadata": {},
   "outputs": [],
   "source": []
  },
  {
   "cell_type": "code",
   "execution_count": 9,
   "metadata": {
    "scrolled": true
   },
   "outputs": [
    {
     "data": {
      "text/plain": [
       "{'skip_dist': 250.0,\n",
       " 'torch_dtype': 'float',\n",
       " 'fs': 500,\n",
       " 'spacing': 2.0,\n",
       " 'classes': ['N'],\n",
       " 'n_leads': 1,\n",
       " 'seq_lab_crnn': {'fs': 500,\n",
       "  'classes': ['N'],\n",
       "  'n_leads': 1,\n",
       "  'skip_dist': 250.0,\n",
       "  'torch_dtype': 'float',\n",
       "  'cnn': {'name': 'multi_scopic',\n",
       "   'multi_scopic': {'groups': 1,\n",
       "    'scopes': [[[1], [1, 1], [1, 1, 1]],\n",
       "     [[2], [2, 4], [8, 8, 8]],\n",
       "     [[4], [4, 8], [16, 32, 64]]],\n",
       "    'filter_lengths': [[11, 7, 5], [11, 7, 5], [11, 7, 5]],\n",
       "    'subsample_lengths': [2, 2, 2],\n",
       "    'num_filters': [[32, 64, 128], [32, 64, 128], [32, 64, 128]],\n",
       "    'dropouts': [[0, 0.2, 0], [0, 0.2, 0], [0, 0.2, 0]],\n",
       "    'bias': True,\n",
       "    'kernel_initializer': 'he_normal',\n",
       "    'kw_initializer': {},\n",
       "    'activation': 'relu',\n",
       "    'kw_activation': {'inplace': True},\n",
       "    'block': {'subsample_mode': 'max',\n",
       "     'bias': True,\n",
       "     'kernel_initializer': 'he_normal',\n",
       "     'kw_initializer': {},\n",
       "     'activation': 'relu',\n",
       "     'kw_activation': {'inplace': True}}}},\n",
       "  'rnn': {'name': 'lstm',\n",
       "   'lstm': {'hidden_sizes': [256, 64],\n",
       "    'bias': True,\n",
       "    'dropouts': 0.2,\n",
       "    'bidirectional': True}},\n",
       "  'attn': {'name': 'se',\n",
       "   'se': {'reduction': 8,\n",
       "    'activation': 'relu',\n",
       "    'kw_activation': {'inplace': True},\n",
       "    'bias': True,\n",
       "    'kernel_initializer': 'he_normal'}},\n",
       "  'clf': {'out_channels': [256, 64],\n",
       "   'activation': 'mish',\n",
       "   'bias': True,\n",
       "   'kernel_initializer': 'he_normal',\n",
       "   'dropouts': [0.2, 0.2, 0.0]}},\n",
       " 'seq_lab_cnn': {'fs': 500,\n",
       "  'classes': ['N'],\n",
       "  'n_leads': 1,\n",
       "  'skip_dist': 250.0,\n",
       "  'torch_dtype': 'float',\n",
       "  'cnn': {'name': 'multi_scopic',\n",
       "   'multi_scopic': {'groups': 1,\n",
       "    'scopes': [[[1], [1, 1], [1, 1, 1]],\n",
       "     [[2], [2, 4], [8, 8, 8]],\n",
       "     [[4], [4, 8], [16, 32, 64]]],\n",
       "    'filter_lengths': [[11, 7, 5], [11, 7, 5], [11, 7, 5]],\n",
       "    'subsample_lengths': [2, 2, 2],\n",
       "    'num_filters': [[32, 64, 128], [32, 64, 128], [32, 64, 128]],\n",
       "    'dropouts': [[0, 0.2, 0], [0, 0.2, 0], [0, 0.2, 0]],\n",
       "    'bias': True,\n",
       "    'kernel_initializer': 'he_normal',\n",
       "    'kw_initializer': {},\n",
       "    'activation': 'relu',\n",
       "    'kw_activation': {'inplace': True},\n",
       "    'block': {'subsample_mode': 'max',\n",
       "     'bias': True,\n",
       "     'kernel_initializer': 'he_normal',\n",
       "     'kw_initializer': {},\n",
       "     'activation': 'relu',\n",
       "     'kw_activation': {'inplace': True}}}},\n",
       "  'rnn': {'name': 'none'},\n",
       "  'attn': {'name': 'se',\n",
       "   'se': {'reduction': 8,\n",
       "    'activation': 'relu',\n",
       "    'kw_activation': {'inplace': True},\n",
       "    'bias': True,\n",
       "    'kernel_initializer': 'he_normal'}},\n",
       "  'clf': {'out_channels': [256, 64],\n",
       "   'activation': 'mish',\n",
       "   'bias': True,\n",
       "   'kernel_initializer': 'he_normal',\n",
       "   'dropouts': [0.2, 0.2, 0.0]}}}"
      ]
     },
     "execution_count": 9,
     "metadata": {},
     "output_type": "execute_result"
    }
   ],
   "source": [
    "ModelCfg"
   ]
  },
  {
   "cell_type": "code",
   "execution_count": 10,
   "metadata": {
    "scrolled": true
   },
   "outputs": [
    {
     "data": {
      "text/plain": [
       "{'fs': 500,\n",
       " 'classes': ['N'],\n",
       " 'n_leads': 1,\n",
       " 'skip_dist': 250.0,\n",
       " 'torch_dtype': 'float',\n",
       " 'cnn': {'name': 'multi_scopic',\n",
       "  'multi_scopic': {'groups': 1,\n",
       "   'scopes': [[[1], [1, 1], [1, 1, 1]],\n",
       "    [[2], [2, 4], [8, 8, 8]],\n",
       "    [[4], [4, 8], [16, 32, 64]]],\n",
       "   'filter_lengths': [[11, 7, 5], [11, 7, 5], [11, 7, 5]],\n",
       "   'subsample_lengths': [2, 2, 2],\n",
       "   'num_filters': [[32, 64, 128], [32, 64, 128], [32, 64, 128]],\n",
       "   'dropouts': [[0, 0.2, 0], [0, 0.2, 0], [0, 0.2, 0]],\n",
       "   'bias': True,\n",
       "   'kernel_initializer': 'he_normal',\n",
       "   'kw_initializer': {},\n",
       "   'activation': 'relu',\n",
       "   'kw_activation': {'inplace': True},\n",
       "   'block': {'subsample_mode': 'max',\n",
       "    'bias': True,\n",
       "    'kernel_initializer': 'he_normal',\n",
       "    'kw_initializer': {},\n",
       "    'activation': 'relu',\n",
       "    'kw_activation': {'inplace': True}}}},\n",
       " 'rnn': {'name': 'lstm',\n",
       "  'lstm': {'hidden_sizes': [256, 64],\n",
       "   'bias': True,\n",
       "   'dropouts': 0.2,\n",
       "   'bidirectional': True}},\n",
       " 'attn': {'name': 'se',\n",
       "  'se': {'reduction': 8,\n",
       "   'activation': 'relu',\n",
       "   'kw_activation': {'inplace': True},\n",
       "   'bias': True,\n",
       "   'kernel_initializer': 'he_normal'}},\n",
       " 'clf': {'out_channels': [256, 64],\n",
       "  'activation': 'mish',\n",
       "  'bias': True,\n",
       "  'kernel_initializer': 'he_normal',\n",
       "  'dropouts': [0.2, 0.2, 0.0]}}"
      ]
     },
     "execution_count": 10,
     "metadata": {},
     "output_type": "execute_result"
    }
   ],
   "source": [
    "ModelCfg[f\"seq_lab_{train_config.model_name.lower()}\"]"
   ]
  },
  {
   "cell_type": "code",
   "execution_count": 11,
   "metadata": {},
   "outputs": [],
   "source": [
    "model_config = deepcopy(ModelCfg[f\"seq_lab_{train_config.model_name.lower()}\"])"
   ]
  },
  {
   "cell_type": "code",
   "execution_count": 12,
   "metadata": {
    "scrolled": true
   },
   "outputs": [
    {
     "data": {
      "text/plain": [
       "{'fs': 500,\n",
       " 'db_dir': '/media/cfs/wenhao71/data/CPSC2019/train/',\n",
       " 'log_dir': '/media/cfs/wenhao71/workspace/torch_ecg/torch_ecg/train/train_seq_lab_net_cpsc2019/log',\n",
       " 'checkpoints': '/media/cfs/wenhao71/workspace/torch_ecg/torch_ecg/train/train_seq_lab_net_cpsc2019/checkpoints',\n",
       " 'keep_checkpoint_max': 50,\n",
       " 'train_ratio': 0.8,\n",
       " 'input_len': 5000,\n",
       " 'classes': ['N'],\n",
       " 'n_leads': 1,\n",
       " 'bias_thr': 37.5,\n",
       " 'skip_dist': 250.0,\n",
       " 'label_smoothing': 0.0,\n",
       " 'random_normalize': True,\n",
       " 'random_normalize_mean': [-0.05, 0.1],\n",
       " 'random_normalize_std': [0.08, 0.32],\n",
       " 'baseline_wander': True,\n",
       " 'bw': True,\n",
       " 'bw_fs': array([0.33, 0.1 , 0.05, 0.01]),\n",
       " 'bw_ampl_ratio': array([[0.01, 0.01, 0.02, 0.03],\n",
       "        [0.01, 0.02, 0.04, 0.05],\n",
       "        [0.1 , 0.06, 0.04, 0.02],\n",
       "        [0.02, 0.04, 0.07, 0.1 ],\n",
       "        [0.05, 0.1 , 0.16, 0.25],\n",
       "        [0.1 , 0.15, 0.25, 0.3 ],\n",
       "        [0.25, 0.25, 0.3 , 0.35]]),\n",
       " 'bw_gaussian': array([[0.   , 0.   ],\n",
       "        [0.   , 0.   ],\n",
       "        [0.   , 0.   ],\n",
       "        [0.   , 0.003],\n",
       "        [0.   , 0.01 ]]),\n",
       " 'flip': [-1, 1, 1, 1, 1],\n",
       " 'seq_lab_reduction': 8,\n",
       " 'n_epochs': 300,\n",
       " 'batch_size': 256,\n",
       " 'train_optimizer': 'adam',\n",
       " 'learning_rate': 0.0001,\n",
       " 'lr': 0.0001,\n",
       " 'lr_step_size': 50,\n",
       " 'lr_gamma': 0.1,\n",
       " 'lr_scheduler': None,\n",
       " 'momentum': 0.949,\n",
       " 'decay': 0.0005,\n",
       " 'loss': 'BCEWithLogitsLoss',\n",
       " 'eval_every': 20,\n",
       " 'model_name': 'crnn',\n",
       " 'cnn_name': 'multi_scopic',\n",
       " 'rnn_name': 'none',\n",
       " 'attn_name': 'se'}"
      ]
     },
     "execution_count": 12,
     "metadata": {},
     "output_type": "execute_result"
    }
   ],
   "source": [
    "train_config"
   ]
  },
  {
   "cell_type": "code",
   "execution_count": 13,
   "metadata": {},
   "outputs": [
    {
     "name": "stdout",
     "output_type": "stream",
     "text": [
      "classes (totally 1) for prediction:['N']\n",
      "configuration of ECG_SEQ_LAB_NET_CPSC2019 is as follows\n",
      "{\n",
      "    \"cnn\": {\n",
      "        \"name\": \"multi_scopic\",\n",
      "        \"multi_scopic\": {\n",
      "            \"groups\": 1,\n",
      "            \"scopes\": [\n",
      "                [\n",
      "                    [\n",
      "                        1\n",
      "                    ],\n",
      "                    [\n",
      "                        1, 1\n",
      "                    ],\n",
      "                    [\n",
      "                        1, 1, 1\n",
      "                    ]\n",
      "                ],\n",
      "                [\n",
      "                    [\n",
      "                        2\n",
      "                    ],\n",
      "                    [\n",
      "                        2, 4\n",
      "                    ],\n",
      "                    [\n",
      "                        8, 8, 8\n",
      "                    ]\n",
      "                ],\n",
      "                [\n",
      "                    [\n",
      "                        4\n",
      "                    ],\n",
      "                    [\n",
      "                        4, 8\n",
      "                    ],\n",
      "                    [\n",
      "                        16, 32, 64\n",
      "                    ]\n",
      "                ]\n",
      "            ],\n",
      "            \"filter_lengths\": [\n",
      "                [\n",
      "                    11, 7, 5\n",
      "                ],\n",
      "                [\n",
      "                    11, 7, 5\n",
      "                ],\n",
      "                [\n",
      "                    11, 7, 5\n",
      "                ]\n",
      "            ],\n",
      "            \"subsample_lengths\": [\n",
      "                2, 2, 2\n",
      "            ],\n",
      "            \"num_filters\": [\n",
      "                [\n",
      "                    32, 64, 128\n",
      "                ],\n",
      "                [\n",
      "                    32, 64, 128\n",
      "                ],\n",
      "                [\n",
      "                    32, 64, 128\n",
      "                ]\n",
      "            ],\n",
      "            \"dropouts\": [\n",
      "                [\n",
      "                    0, 0.2, 0\n",
      "                ],\n",
      "                [\n",
      "                    0, 0.2, 0\n",
      "                ],\n",
      "                [\n",
      "                    0, 0.2, 0\n",
      "                ]\n",
      "            ],\n",
      "            \"bias\": True,\n",
      "            \"kernel_initializer\": \"he_normal\",\n",
      "            \"kw_initializer\": {},\n",
      "            \"activation\": \"relu\",\n",
      "            \"kw_activation\": {\n",
      "                \"inplace\": True\n",
      "            },\n",
      "            \"block\": {\n",
      "                \"subsample_mode\": \"max\",\n",
      "                \"bias\": True,\n",
      "                \"kernel_initializer\": \"he_normal\",\n",
      "                \"kw_initializer\": {},\n",
      "                \"activation\": \"relu\",\n",
      "                \"kw_activation\": {\n",
      "                    \"inplace\": True\n",
      "                }\n",
      "            }\n",
      "        }\n",
      "    },\n",
      "    \"rnn\": {\n",
      "        \"name\": \"lstm\",\n",
      "        \"lstm\": {\n",
      "            \"hidden_sizes\": [\n",
      "                256, 64\n",
      "            ],\n",
      "            \"bias\": True,\n",
      "            \"dropouts\": 0.2,\n",
      "            \"bidirectional\": True\n",
      "        }\n",
      "    },\n",
      "    \"attn\": {\n",
      "        \"name\": \"se\",\n",
      "        \"se\": {\n",
      "            \"reduction\": 8,\n",
      "            \"activation\": \"relu\",\n",
      "            \"kw_activation\": {\n",
      "                \"inplace\": True\n",
      "            },\n",
      "            \"bias\": True,\n",
      "            \"kernel_initializer\": \"he_normal\"\n",
      "        }\n",
      "    },\n",
      "    \"clf\": {\n",
      "        \"out_channels\": [\n",
      "            256, 64\n",
      "        ],\n",
      "        \"activation\": \"mish\",\n",
      "        \"bias\": True,\n",
      "        \"kernel_initializer\": \"he_normal\",\n",
      "        \"dropouts\": [\n",
      "            0.2, 0.2, 0.0\n",
      "        ]\n",
      "    },\n",
      "    \"fs\": 500,\n",
      "    \"classes\": [\n",
      "        \"N\"\n",
      "    ],\n",
      "    \"n_leads\": 1,\n",
      "    \"skip_dist\": 250.0,\n",
      "    \"torch_dtype\": \"float\"\n",
      "}\n",
      "cnn output shape (batch_size, features, seq_len) = (None, 384, 625), given input seq_len = 5000\n",
      "rnn output shape (seq_len, batch_size, features) = (625, None, 128), given input seq_len = 625\n",
      "configs of attn are {\n",
      "    \"name\": \"se\",\n",
      "    \"se\": {\n",
      "        \"reduction\": 8,\n",
      "        \"activation\": \"relu\",\n",
      "        \"kw_activation\": {\n",
      "            \"inplace\": True\n",
      "        },\n",
      "        \"bias\": True,\n",
      "        \"kernel_initializer\": \"he_normal\"\n",
      "    }\n",
      "}\n"
     ]
    }
   ],
   "source": [
    "model = ECG_SEQ_LAB_NET_CPSC2019(\n",
    "    n_leads=train_config.n_leads,\n",
    "    input_len=train_config.input_len,\n",
    "    config=model_config,\n",
    ")"
   ]
  },
  {
   "cell_type": "code",
   "execution_count": 14,
   "metadata": {},
   "outputs": [
    {
     "data": {
      "text/plain": [
       "1"
      ]
     },
     "execution_count": 14,
     "metadata": {},
     "output_type": "execute_result"
    }
   ],
   "source": [
    "torch.cuda.device_count()"
   ]
  },
  {
   "cell_type": "code",
   "execution_count": 15,
   "metadata": {},
   "outputs": [
    {
     "data": {
      "text/plain": [
       "device(type='cuda')"
      ]
     },
     "execution_count": 15,
     "metadata": {},
     "output_type": "execute_result"
    }
   ],
   "source": [
    "device = torch.device('cuda' if torch.cuda.is_available() else 'cpu')\n",
    "device"
   ]
  },
  {
   "cell_type": "code",
   "execution_count": 16,
   "metadata": {},
   "outputs": [
    {
     "data": {
      "text/plain": [
       "ECG_SEQ_LAB_NET_CPSC2019(\n",
       "  (cnn): MultiScopicCNN(\n",
       "    (branches): ModuleDict(\n",
       "      (branch_0): MultiScopicBranch(\n",
       "        (block_0): MultiScopicBasicBlock(\n",
       "          (ca_0): Conv_Bn_Activation(\n",
       "            (conv1d): Conv1d(1, 32, kernel_size=(11,), stride=(1,), padding=(5,))\n",
       "            (activation_relu): ReLU(inplace=True)\n",
       "          )\n",
       "          (bn): BatchNorm1d(32, eps=1e-05, momentum=0.1, affine=True, track_running_stats=True)\n",
       "          (down): DownSample(\n",
       "            (down_sample): MaxPool1d(kernel_size=2, stride=2, padding=0, dilation=1, ceil_mode=False)\n",
       "          )\n",
       "        )\n",
       "        (block_1): MultiScopicBasicBlock(\n",
       "          (ca_0): Conv_Bn_Activation(\n",
       "            (conv1d): Conv1d(32, 64, kernel_size=(7,), stride=(1,), padding=(3,))\n",
       "            (activation_relu): ReLU(inplace=True)\n",
       "          )\n",
       "          (ca_1): Conv_Bn_Activation(\n",
       "            (conv1d): Conv1d(64, 64, kernel_size=(7,), stride=(1,), padding=(3,))\n",
       "            (activation_relu): ReLU(inplace=True)\n",
       "          )\n",
       "          (bn): BatchNorm1d(64, eps=1e-05, momentum=0.1, affine=True, track_running_stats=True)\n",
       "          (down): DownSample(\n",
       "            (down_sample): MaxPool1d(kernel_size=2, stride=2, padding=0, dilation=1, ceil_mode=False)\n",
       "          )\n",
       "          (dropout): Dropout(p=0.2, inplace=False)\n",
       "        )\n",
       "        (block_2): MultiScopicBasicBlock(\n",
       "          (ca_0): Conv_Bn_Activation(\n",
       "            (conv1d): Conv1d(64, 128, kernel_size=(5,), stride=(1,), padding=(2,))\n",
       "            (activation_relu): ReLU(inplace=True)\n",
       "          )\n",
       "          (ca_1): Conv_Bn_Activation(\n",
       "            (conv1d): Conv1d(128, 128, kernel_size=(5,), stride=(1,), padding=(2,))\n",
       "            (activation_relu): ReLU(inplace=True)\n",
       "          )\n",
       "          (ca_2): Conv_Bn_Activation(\n",
       "            (conv1d): Conv1d(128, 128, kernel_size=(5,), stride=(1,), padding=(2,))\n",
       "            (activation_relu): ReLU(inplace=True)\n",
       "          )\n",
       "          (bn): BatchNorm1d(128, eps=1e-05, momentum=0.1, affine=True, track_running_stats=True)\n",
       "          (down): DownSample(\n",
       "            (down_sample): MaxPool1d(kernel_size=2, stride=2, padding=0, dilation=1, ceil_mode=False)\n",
       "          )\n",
       "        )\n",
       "      )\n",
       "      (branch_1): MultiScopicBranch(\n",
       "        (block_0): MultiScopicBasicBlock(\n",
       "          (ca_0): Conv_Bn_Activation(\n",
       "            (conv1d): Conv1d(1, 32, kernel_size=(11,), stride=(1,), padding=(10,), dilation=(2,))\n",
       "            (activation_relu): ReLU(inplace=True)\n",
       "          )\n",
       "          (bn): BatchNorm1d(32, eps=1e-05, momentum=0.1, affine=True, track_running_stats=True)\n",
       "          (down): DownSample(\n",
       "            (down_sample): MaxPool1d(kernel_size=2, stride=2, padding=0, dilation=1, ceil_mode=False)\n",
       "          )\n",
       "        )\n",
       "        (block_1): MultiScopicBasicBlock(\n",
       "          (ca_0): Conv_Bn_Activation(\n",
       "            (conv1d): Conv1d(32, 64, kernel_size=(7,), stride=(1,), padding=(6,), dilation=(2,))\n",
       "            (activation_relu): ReLU(inplace=True)\n",
       "          )\n",
       "          (ca_1): Conv_Bn_Activation(\n",
       "            (conv1d): Conv1d(64, 64, kernel_size=(7,), stride=(1,), padding=(12,), dilation=(4,))\n",
       "            (activation_relu): ReLU(inplace=True)\n",
       "          )\n",
       "          (bn): BatchNorm1d(64, eps=1e-05, momentum=0.1, affine=True, track_running_stats=True)\n",
       "          (down): DownSample(\n",
       "            (down_sample): MaxPool1d(kernel_size=2, stride=2, padding=0, dilation=1, ceil_mode=False)\n",
       "          )\n",
       "          (dropout): Dropout(p=0.2, inplace=False)\n",
       "        )\n",
       "        (block_2): MultiScopicBasicBlock(\n",
       "          (ca_0): Conv_Bn_Activation(\n",
       "            (conv1d): Conv1d(64, 128, kernel_size=(5,), stride=(1,), padding=(16,), dilation=(8,))\n",
       "            (activation_relu): ReLU(inplace=True)\n",
       "          )\n",
       "          (ca_1): Conv_Bn_Activation(\n",
       "            (conv1d): Conv1d(128, 128, kernel_size=(5,), stride=(1,), padding=(16,), dilation=(8,))\n",
       "            (activation_relu): ReLU(inplace=True)\n",
       "          )\n",
       "          (ca_2): Conv_Bn_Activation(\n",
       "            (conv1d): Conv1d(128, 128, kernel_size=(5,), stride=(1,), padding=(16,), dilation=(8,))\n",
       "            (activation_relu): ReLU(inplace=True)\n",
       "          )\n",
       "          (bn): BatchNorm1d(128, eps=1e-05, momentum=0.1, affine=True, track_running_stats=True)\n",
       "          (down): DownSample(\n",
       "            (down_sample): MaxPool1d(kernel_size=2, stride=2, padding=0, dilation=1, ceil_mode=False)\n",
       "          )\n",
       "        )\n",
       "      )\n",
       "      (branch_2): MultiScopicBranch(\n",
       "        (block_0): MultiScopicBasicBlock(\n",
       "          (ca_0): Conv_Bn_Activation(\n",
       "            (conv1d): Conv1d(1, 32, kernel_size=(11,), stride=(1,), padding=(20,), dilation=(4,))\n",
       "            (activation_relu): ReLU(inplace=True)\n",
       "          )\n",
       "          (bn): BatchNorm1d(32, eps=1e-05, momentum=0.1, affine=True, track_running_stats=True)\n",
       "          (down): DownSample(\n",
       "            (down_sample): MaxPool1d(kernel_size=2, stride=2, padding=0, dilation=1, ceil_mode=False)\n",
       "          )\n",
       "        )\n",
       "        (block_1): MultiScopicBasicBlock(\n",
       "          (ca_0): Conv_Bn_Activation(\n",
       "            (conv1d): Conv1d(32, 64, kernel_size=(7,), stride=(1,), padding=(12,), dilation=(4,))\n",
       "            (activation_relu): ReLU(inplace=True)\n",
       "          )\n",
       "          (ca_1): Conv_Bn_Activation(\n",
       "            (conv1d): Conv1d(64, 64, kernel_size=(7,), stride=(1,), padding=(24,), dilation=(8,))\n",
       "            (activation_relu): ReLU(inplace=True)\n",
       "          )\n",
       "          (bn): BatchNorm1d(64, eps=1e-05, momentum=0.1, affine=True, track_running_stats=True)\n",
       "          (down): DownSample(\n",
       "            (down_sample): MaxPool1d(kernel_size=2, stride=2, padding=0, dilation=1, ceil_mode=False)\n",
       "          )\n",
       "          (dropout): Dropout(p=0.2, inplace=False)\n",
       "        )\n",
       "        (block_2): MultiScopicBasicBlock(\n",
       "          (ca_0): Conv_Bn_Activation(\n",
       "            (conv1d): Conv1d(64, 128, kernel_size=(5,), stride=(1,), padding=(32,), dilation=(16,))\n",
       "            (activation_relu): ReLU(inplace=True)\n",
       "          )\n",
       "          (ca_1): Conv_Bn_Activation(\n",
       "            (conv1d): Conv1d(128, 128, kernel_size=(5,), stride=(1,), padding=(64,), dilation=(32,))\n",
       "            (activation_relu): ReLU(inplace=True)\n",
       "          )\n",
       "          (ca_2): Conv_Bn_Activation(\n",
       "            (conv1d): Conv1d(128, 128, kernel_size=(5,), stride=(1,), padding=(128,), dilation=(64,))\n",
       "            (activation_relu): ReLU(inplace=True)\n",
       "          )\n",
       "          (bn): BatchNorm1d(128, eps=1e-05, momentum=0.1, affine=True, track_running_stats=True)\n",
       "          (down): DownSample(\n",
       "            (down_sample): MaxPool1d(kernel_size=2, stride=2, padding=0, dilation=1, ceil_mode=False)\n",
       "          )\n",
       "        )\n",
       "      )\n",
       "    )\n",
       "  )\n",
       "  (rnn): StackedLSTM(\n",
       "    (bidirectional_lstm_1): LSTM(384, 256, bidirectional=True)\n",
       "    (dropout_1): Dropout(p=0.2, inplace=False)\n",
       "    (bidirectional_lstm_2): LSTM(512, 64, bidirectional=True)\n",
       "  )\n",
       "  (attn): SEBlock(\n",
       "    (avg_pool): AdaptiveAvgPool1d(output_size=1)\n",
       "    (fc): Sequential(\n",
       "      (0): SeqLin(\n",
       "        (lin_0): Linear(in_features=128, out_features=16, bias=True)\n",
       "        (act_0): ReLU(inplace=True)\n",
       "        (lin_1): Linear(in_features=16, out_features=128, bias=True)\n",
       "      )\n",
       "      (1): Sigmoid()\n",
       "    )\n",
       "  )\n",
       "  (clf): SeqLin(\n",
       "    (lin_0): Linear(in_features=128, out_features=256, bias=True)\n",
       "    (act_0): Mish()\n",
       "    (dropout_0): Dropout(p=0.2, inplace=False)\n",
       "    (lin_1): Linear(in_features=256, out_features=64, bias=True)\n",
       "    (act_1): Mish()\n",
       "    (dropout_1): Dropout(p=0.2, inplace=False)\n",
       "    (lin_2): Linear(in_features=64, out_features=1, bias=True)\n",
       "  )\n",
       "  (softmax): Softmax(dim=-1)\n",
       "  (sigmoid): Sigmoid()\n",
       ")"
      ]
     },
     "execution_count": 16,
     "metadata": {},
     "output_type": "execute_result"
    }
   ],
   "source": [
    "model.to(device=device)"
   ]
  },
  {
   "cell_type": "code",
   "execution_count": 17,
   "metadata": {},
   "outputs": [
    {
     "name": "stdout",
     "output_type": "stream",
     "text": [
      "log file path: /media/cfs/wenhao71/workspace/torch_ecg/torch_ecg/train/train_seq_lab_net_cpsc2019/log/log_2021-02-08-00-54-21.txt\n",
      "levels of c_handler and f_handler are set DEBUG\n",
      "ECG-SEQ-LAB - INFO - \n",
      "********************   Start Training   ********************\n",
      "\n"
     ]
    },
    {
     "name": "stderr",
     "output_type": "stream",
     "text": [
      "2021-02-08 00:54:21,603 (INFO) <ipython-input-17-ffb3b0987ced>:2] \n",
      "********************   Start Training   ********************\n",
      "\n"
     ]
    },
    {
     "name": "stdout",
     "output_type": "stream",
     "text": [
      "ECG-SEQ-LAB - INFO - Using device cuda\n"
     ]
    },
    {
     "name": "stderr",
     "output_type": "stream",
     "text": [
      "2021-02-08 00:54:21,604 (INFO) <ipython-input-17-ffb3b0987ced>:3] Using device cuda\n"
     ]
    },
    {
     "name": "stdout",
     "output_type": "stream",
     "text": [
      "ECG-SEQ-LAB - INFO - Using torch of version 1.3.1\n"
     ]
    },
    {
     "name": "stderr",
     "output_type": "stream",
     "text": [
      "2021-02-08 00:54:21,606 (INFO) <ipython-input-17-ffb3b0987ced>:4] Using torch of version 1.3.1\n"
     ]
    },
    {
     "name": "stdout",
     "output_type": "stream",
     "text": [
      "ECG-SEQ-LAB - INFO - with configuration\n",
      "{\n",
      "    \"fs\": 500\n",
      "    \"db_dir\": \"/media/cfs/wenhao71/data/CPSC2019/train/\"\n",
      "    \"log_dir\": \"/media/cfs/wenhao71/workspace/torch_ecg/torch_ecg/train/train_seq_lab_net_cpsc2019/log\"\n",
      "    \"checkpoints\": \"/media/cfs/wenhao71/workspace/torch_ecg/torch_ecg/train/train_seq_lab_net_cpsc2019/checkpoints\"\n",
      "    \"keep_checkpoint_max\": 50\n",
      "    \"train_ratio\": 0.8\n",
      "    \"input_len\": 5000\n",
      "    \"classes\": [\n",
      "        \"N\"\n",
      "    ]\n",
      "    \"n_leads\": 1\n",
      "    \"bias_thr\": 37.5\n",
      "    \"skip_dist\": 250.0\n",
      "    \"label_smoothing\": 0.0\n",
      "    \"random_normalize\": True\n",
      "    \"random_normalize_mean\": [\n",
      "        -0.05, 0.1\n",
      "    ]\n",
      "    \"random_normalize_std\": [\n",
      "        0.08, 0.32\n",
      "    ]\n",
      "    \"baseline_wander\": True\n",
      "    \"bw\": True\n",
      "    \"bw_fs\": [0.33 0.1  0.05 0.01]\n",
      "    \"bw_ampl_ratio\": [[0.01 0.01 0.02 0.03]\n",
      " [0.01 0.02 0.04 0.05]\n",
      " [0.1  0.06 0.04 0.02]\n",
      " [0.02 0.04 0.07 0.1 ]\n",
      " [0.05 0.1  0.16 0.25]\n",
      " [0.1  0.15 0.25 0.3 ]\n",
      " [0.25 0.25 0.3  0.35]]\n",
      "    \"bw_gaussian\": [[0.    0.   ]\n",
      " [0.    0.   ]\n",
      " [0.    0.   ]\n",
      " [0.    0.003]\n",
      " [0.    0.01 ]]\n",
      "    \"flip\": [\n",
      "        -1, 1, 1, 1, 1\n",
      "    ]\n",
      "    \"seq_lab_reduction\": 8\n",
      "    \"n_epochs\": 300\n",
      "    \"batch_size\": 256\n",
      "    \"train_optimizer\": \"adam\"\n",
      "    \"learning_rate\": 0.0001\n",
      "    \"lr\": 0.0001\n",
      "    \"lr_step_size\": 50\n",
      "    \"lr_gamma\": 0.1\n",
      "    \"lr_scheduler\": None\n",
      "    \"momentum\": 0.949\n",
      "    \"decay\": 0.0005\n",
      "    \"loss\": \"BCEWithLogitsLoss\"\n",
      "    \"eval_every\": 20\n",
      "    \"model_name\": \"crnn\"\n",
      "    \"cnn_name\": \"multi_scopic\"\n",
      "    \"rnn_name\": \"none\"\n",
      "    \"attn_name\": \"se\"\n",
      "}\n"
     ]
    },
    {
     "name": "stderr",
     "output_type": "stream",
     "text": [
      "2021-02-08 00:54:21,608 (INFO) <ipython-input-17-ffb3b0987ced>:5] with configuration\n",
      "{\n",
      "    \"fs\": 500\n",
      "    \"db_dir\": \"/media/cfs/wenhao71/data/CPSC2019/train/\"\n",
      "    \"log_dir\": \"/media/cfs/wenhao71/workspace/torch_ecg/torch_ecg/train/train_seq_lab_net_cpsc2019/log\"\n",
      "    \"checkpoints\": \"/media/cfs/wenhao71/workspace/torch_ecg/torch_ecg/train/train_seq_lab_net_cpsc2019/checkpoints\"\n",
      "    \"keep_checkpoint_max\": 50\n",
      "    \"train_ratio\": 0.8\n",
      "    \"input_len\": 5000\n",
      "    \"classes\": [\n",
      "        \"N\"\n",
      "    ]\n",
      "    \"n_leads\": 1\n",
      "    \"bias_thr\": 37.5\n",
      "    \"skip_dist\": 250.0\n",
      "    \"label_smoothing\": 0.0\n",
      "    \"random_normalize\": True\n",
      "    \"random_normalize_mean\": [\n",
      "        -0.05, 0.1\n",
      "    ]\n",
      "    \"random_normalize_std\": [\n",
      "        0.08, 0.32\n",
      "    ]\n",
      "    \"baseline_wander\": True\n",
      "    \"bw\": True\n",
      "    \"bw_fs\": [0.33 0.1  0.05 0.01]\n",
      "    \"bw_ampl_ratio\": [[0.01 0.01 0.02 0.03]\n",
      " [0.01 0.02 0.04 0.05]\n",
      " [0.1  0.06 0.04 0.02]\n",
      " [0.02 0.04 0.07 0.1 ]\n",
      " [0.05 0.1  0.16 0.25]\n",
      " [0.1  0.15 0.25 0.3 ]\n",
      " [0.25 0.25 0.3  0.35]]\n",
      "    \"bw_gaussian\": [[0.    0.   ]\n",
      " [0.    0.   ]\n",
      " [0.    0.   ]\n",
      " [0.    0.003]\n",
      " [0.    0.01 ]]\n",
      "    \"flip\": [\n",
      "        -1, 1, 1, 1, 1\n",
      "    ]\n",
      "    \"seq_lab_reduction\": 8\n",
      "    \"n_epochs\": 300\n",
      "    \"batch_size\": 256\n",
      "    \"train_optimizer\": \"adam\"\n",
      "    \"learning_rate\": 0.0001\n",
      "    \"lr\": 0.0001\n",
      "    \"lr_step_size\": 50\n",
      "    \"lr_gamma\": 0.1\n",
      "    \"lr_scheduler\": None\n",
      "    \"momentum\": 0.949\n",
      "    \"decay\": 0.0005\n",
      "    \"loss\": \"BCEWithLogitsLoss\"\n",
      "    \"eval_every\": 20\n",
      "    \"model_name\": \"crnn\"\n",
      "    \"cnn_name\": \"multi_scopic\"\n",
      "    \"rnn_name\": \"none\"\n",
      "    \"attn_name\": \"se\"\n",
      "}\n"
     ]
    }
   ],
   "source": [
    "logger = init_logger(log_dir=train_config.log_dir, verbose=2)\n",
    "logger.info(f\"\\n{'*'*20}   Start Training   {'*'*20}\\n\")\n",
    "logger.info(f'Using device {device}')\n",
    "logger.info(f\"Using torch of version {torch.__version__}\")\n",
    "logger.info(f'with configuration\\n{dict_to_str(train_config)}')"
   ]
  },
  {
   "cell_type": "code",
   "execution_count": null,
   "metadata": {},
   "outputs": [],
   "source": []
  },
  {
   "cell_type": "code",
   "execution_count": null,
   "metadata": {},
   "outputs": [],
   "source": []
  },
  {
   "cell_type": "code",
   "execution_count": null,
   "metadata": {},
   "outputs": [],
   "source": [
    "# hehe_input = torch.rand((2,1,4000)).to(device,dtype=torch.float32)"
   ]
  },
  {
   "cell_type": "code",
   "execution_count": null,
   "metadata": {},
   "outputs": [],
   "source": [
    "# pred, rpeaks = model.inference(hehe_input,0.5)"
   ]
  },
  {
   "cell_type": "code",
   "execution_count": null,
   "metadata": {},
   "outputs": [],
   "source": [
    "# rpeaks"
   ]
  },
  {
   "cell_type": "code",
   "execution_count": null,
   "metadata": {},
   "outputs": [],
   "source": []
  },
  {
   "cell_type": "code",
   "execution_count": 18,
   "metadata": {
    "scrolled": true
   },
   "outputs": [
    {
     "data": {
      "text/plain": [
       "{'fs': 500,\n",
       " 'db_dir': '/media/cfs/wenhao71/data/CPSC2019/train/',\n",
       " 'log_dir': '/media/cfs/wenhao71/workspace/torch_ecg/torch_ecg/train/train_seq_lab_net_cpsc2019/log',\n",
       " 'checkpoints': '/media/cfs/wenhao71/workspace/torch_ecg/torch_ecg/train/train_seq_lab_net_cpsc2019/checkpoints',\n",
       " 'keep_checkpoint_max': 50,\n",
       " 'train_ratio': 0.8,\n",
       " 'input_len': 5000,\n",
       " 'classes': ['N'],\n",
       " 'n_leads': 1,\n",
       " 'bias_thr': 37.5,\n",
       " 'skip_dist': 250.0,\n",
       " 'label_smoothing': 0.0,\n",
       " 'random_normalize': True,\n",
       " 'random_normalize_mean': [-0.05, 0.1],\n",
       " 'random_normalize_std': [0.08, 0.32],\n",
       " 'baseline_wander': True,\n",
       " 'bw': True,\n",
       " 'bw_fs': array([0.33, 0.1 , 0.05, 0.01]),\n",
       " 'bw_ampl_ratio': array([[0.01, 0.01, 0.02, 0.03],\n",
       "        [0.01, 0.02, 0.04, 0.05],\n",
       "        [0.1 , 0.06, 0.04, 0.02],\n",
       "        [0.02, 0.04, 0.07, 0.1 ],\n",
       "        [0.05, 0.1 , 0.16, 0.25],\n",
       "        [0.1 , 0.15, 0.25, 0.3 ],\n",
       "        [0.25, 0.25, 0.3 , 0.35]]),\n",
       " 'bw_gaussian': array([[0.   , 0.   ],\n",
       "        [0.   , 0.   ],\n",
       "        [0.   , 0.   ],\n",
       "        [0.   , 0.003],\n",
       "        [0.   , 0.01 ]]),\n",
       " 'flip': [-1, 1, 1, 1, 1],\n",
       " 'seq_lab_reduction': 8,\n",
       " 'n_epochs': 300,\n",
       " 'batch_size': 256,\n",
       " 'train_optimizer': 'adam',\n",
       " 'learning_rate': 0.0001,\n",
       " 'lr': 0.0001,\n",
       " 'lr_step_size': 50,\n",
       " 'lr_gamma': 0.1,\n",
       " 'lr_scheduler': None,\n",
       " 'momentum': 0.949,\n",
       " 'decay': 0.0005,\n",
       " 'loss': 'BCEWithLogitsLoss',\n",
       " 'eval_every': 20,\n",
       " 'model_name': 'crnn',\n",
       " 'cnn_name': 'multi_scopic',\n",
       " 'rnn_name': 'lstm',\n",
       " 'attn_name': 'se',\n",
       " 'debug': True}"
      ]
     },
     "execution_count": 18,
     "metadata": {},
     "output_type": "execute_result"
    }
   ],
   "source": [
    "train_config.debug = True\n",
    "train_config.cnn_name = model_config.cnn.name\n",
    "train_config.rnn_name = model_config.rnn.name\n",
    "train_config.attn_name = model_config.attn.name\n",
    "train_config"
   ]
  },
  {
   "cell_type": "code",
   "execution_count": 19,
   "metadata": {},
   "outputs": [
    {
     "name": "stdout",
     "output_type": "stream",
     "text": [
      "ECG-SEQ-LAB - INFO - training configurations are as follows:\n",
      "{\n",
      "    \"fs\": 500\n",
      "    \"db_dir\": \"/media/cfs/wenhao71/data/CPSC2019/train/\"\n",
      "    \"log_dir\": \"/media/cfs/wenhao71/workspace/torch_ecg/torch_ecg/train/train_seq_lab_net_cpsc2019/log\"\n",
      "    \"checkpoints\": \"/media/cfs/wenhao71/workspace/torch_ecg/torch_ecg/train/train_seq_lab_net_cpsc2019/checkpoints\"\n",
      "    \"keep_checkpoint_max\": 50\n",
      "    \"train_ratio\": 0.8\n",
      "    \"input_len\": 5000\n",
      "    \"classes\": [\n",
      "        \"N\"\n",
      "    ]\n",
      "    \"n_leads\": 1\n",
      "    \"bias_thr\": 37.5\n",
      "    \"skip_dist\": 250.0\n",
      "    \"label_smoothing\": 0.0\n",
      "    \"random_normalize\": True\n",
      "    \"random_normalize_mean\": [\n",
      "        -0.05, 0.1\n",
      "    ]\n",
      "    \"random_normalize_std\": [\n",
      "        0.08, 0.32\n",
      "    ]\n",
      "    \"baseline_wander\": True\n",
      "    \"bw\": True\n",
      "    \"bw_fs\": [0.33 0.1  0.05 0.01]\n",
      "    \"bw_ampl_ratio\": [[0.01 0.01 0.02 0.03]\n",
      " [0.01 0.02 0.04 0.05]\n",
      " [0.1  0.06 0.04 0.02]\n",
      " [0.02 0.04 0.07 0.1 ]\n",
      " [0.05 0.1  0.16 0.25]\n",
      " [0.1  0.15 0.25 0.3 ]\n",
      " [0.25 0.25 0.3  0.35]]\n",
      "    \"bw_gaussian\": [[0.    0.   ]\n",
      " [0.    0.   ]\n",
      " [0.    0.   ]\n",
      " [0.    0.003]\n",
      " [0.    0.01 ]]\n",
      "    \"flip\": [\n",
      "        -1, 1, 1, 1, 1\n",
      "    ]\n",
      "    \"seq_lab_reduction\": 8\n",
      "    \"n_epochs\": 300\n",
      "    \"batch_size\": 256\n",
      "    \"train_optimizer\": \"adam\"\n",
      "    \"learning_rate\": 0.0001\n",
      "    \"lr\": 0.0001\n",
      "    \"lr_step_size\": 50\n",
      "    \"lr_gamma\": 0.1\n",
      "    \"lr_scheduler\": None\n",
      "    \"momentum\": 0.949\n",
      "    \"decay\": 0.0005\n",
      "    \"loss\": \"BCEWithLogitsLoss\"\n",
      "    \"eval_every\": 20\n",
      "    \"model_name\": \"crnn\"\n",
      "    \"cnn_name\": \"multi_scopic\"\n",
      "    \"rnn_name\": \"lstm\"\n",
      "    \"attn_name\": \"se\"\n",
      "    \"debug\": True\n",
      "}\n"
     ]
    },
    {
     "name": "stderr",
     "output_type": "stream",
     "text": [
      "2021-02-08 00:54:40,340 (INFO) train.py:74] training configurations are as follows:\n",
      "{\n",
      "    \"fs\": 500\n",
      "    \"db_dir\": \"/media/cfs/wenhao71/data/CPSC2019/train/\"\n",
      "    \"log_dir\": \"/media/cfs/wenhao71/workspace/torch_ecg/torch_ecg/train/train_seq_lab_net_cpsc2019/log\"\n",
      "    \"checkpoints\": \"/media/cfs/wenhao71/workspace/torch_ecg/torch_ecg/train/train_seq_lab_net_cpsc2019/checkpoints\"\n",
      "    \"keep_checkpoint_max\": 50\n",
      "    \"train_ratio\": 0.8\n",
      "    \"input_len\": 5000\n",
      "    \"classes\": [\n",
      "        \"N\"\n",
      "    ]\n",
      "    \"n_leads\": 1\n",
      "    \"bias_thr\": 37.5\n",
      "    \"skip_dist\": 250.0\n",
      "    \"label_smoothing\": 0.0\n",
      "    \"random_normalize\": True\n",
      "    \"random_normalize_mean\": [\n",
      "        -0.05, 0.1\n",
      "    ]\n",
      "    \"random_normalize_std\": [\n",
      "        0.08, 0.32\n",
      "    ]\n",
      "    \"baseline_wander\": True\n",
      "    \"bw\": True\n",
      "    \"bw_fs\": [0.33 0.1  0.05 0.01]\n",
      "    \"bw_ampl_ratio\": [[0.01 0.01 0.02 0.03]\n",
      " [0.01 0.02 0.04 0.05]\n",
      " [0.1  0.06 0.04 0.02]\n",
      " [0.02 0.04 0.07 0.1 ]\n",
      " [0.05 0.1  0.16 0.25]\n",
      " [0.1  0.15 0.25 0.3 ]\n",
      " [0.25 0.25 0.3  0.35]]\n",
      "    \"bw_gaussian\": [[0.    0.   ]\n",
      " [0.    0.   ]\n",
      " [0.    0.   ]\n",
      " [0.    0.003]\n",
      " [0.    0.01 ]]\n",
      "    \"flip\": [\n",
      "        -1, 1, 1, 1, 1\n",
      "    ]\n",
      "    \"seq_lab_reduction\": 8\n",
      "    \"n_epochs\": 300\n",
      "    \"batch_size\": 256\n",
      "    \"train_optimizer\": \"adam\"\n",
      "    \"learning_rate\": 0.0001\n",
      "    \"lr\": 0.0001\n",
      "    \"lr_step_size\": 50\n",
      "    \"lr_gamma\": 0.1\n",
      "    \"lr_scheduler\": None\n",
      "    \"momentum\": 0.949\n",
      "    \"decay\": 0.0005\n",
      "    \"loss\": \"BCEWithLogitsLoss\"\n",
      "    \"eval_every\": 20\n",
      "    \"model_name\": \"crnn\"\n",
      "    \"cnn_name\": \"multi_scopic\"\n",
      "    \"rnn_name\": \"lstm\"\n",
      "    \"attn_name\": \"se\"\n",
      "    \"debug\": True\n",
      "}\n"
     ]
    },
    {
     "name": "stdout",
     "output_type": "stream",
     "text": [
      "log file path is set \"/media/cfs/wenhao71/workspace/torch_ecg/CPSC2019-CPSC2019.log\"\n",
      "levels of c_handler and f_handler are set DEBUG\n",
      "log file path is set \"/media/cfs/wenhao71/workspace/torch_ecg/CPSC2019-CPSC2019.log\"\n",
      "levels of c_handler and f_handler are set DEBUG\n",
      "log file path is set \"/media/cfs/wenhao71/workspace/torch_ecg/CPSC2019-CPSC2019.log\"\n",
      "levels of c_handler and f_handler are set DEBUG\n",
      "ECG-SEQ-LAB - INFO - \n",
      "Starting training:\n",
      "------------------\n",
      "Epochs:          300\n",
      "Batch size:      256\n",
      "Learning rate:   0.0001\n",
      "Training size:   1600\n",
      "Validation size: 400\n",
      "Device:          cuda\n",
      "Optimizer:       adam\n",
      "-----------------------------------------\n",
      "\n"
     ]
    },
    {
     "name": "stderr",
     "output_type": "stream",
     "text": [
      "2021-02-08 00:54:40,414 (INFO) train.py:145] \n",
      "Starting training:\n",
      "------------------\n",
      "Epochs:          300\n",
      "Batch size:      256\n",
      "Learning rate:   0.0001\n",
      "Training size:   1600\n",
      "Validation size: 400\n",
      "Device:          cuda\n",
      "Optimizer:       adam\n",
      "-----------------------------------------\n",
      "\n",
      "Epoch 1/300: 100%|██████████████████████████████████████████████| 1600/1600 [00:38<00:00, 28.26it/s]"
     ]
    },
    {
     "name": "stdout",
     "output_type": "stream",
     "text": [
      "QRS_acc: 0.0385\n",
      "Scoring complete.\n"
     ]
    },
    {
     "name": "stderr",
     "output_type": "stream",
     "text": [
      "\r",
      "Epoch 1/300: 100%|██████████████████████████████████████████████| 1600/1600 [00:50<00:00, 28.26it/s]"
     ]
    },
    {
     "name": "stdout",
     "output_type": "stream",
     "text": [
      "QRS_acc: 0.0488\n",
      "Scoring complete.\n",
      "ECG-SEQ-LAB - INFO - \n",
      "                Train epoch_1:\n",
      "                --------------------\n",
      "                train/epoch_loss:        4.46848338842392\n",
      "train/qrs_score:         0.0385\n",
      "\n",
      "                test/qrs_score:          0.0488\n",
      "                ---------------------------------\n",
      "\n"
     ]
    },
    {
     "name": "stderr",
     "output_type": "stream",
     "text": [
      "2021-02-08 00:55:42,256 (INFO) train.py:268] \n",
      "                Train epoch_1:\n",
      "                --------------------\n",
      "                train/epoch_loss:        4.46848338842392\n",
      "train/qrs_score:         0.0385\n",
      "\n",
      "                test/qrs_score:          0.0488\n",
      "                ---------------------------------\n",
      "\n"
     ]
    },
    {
     "name": "stdout",
     "output_type": "stream",
     "text": [
      "ECG-SEQ-LAB - INFO - Created checkpoint directory\n"
     ]
    },
    {
     "name": "stderr",
     "output_type": "stream",
     "text": [
      "2021-02-08 00:55:42,310 (INFO) train.py:275] Created checkpoint directory\n"
     ]
    },
    {
     "name": "stdout",
     "output_type": "stream",
     "text": [
      "ECG-SEQ-LAB - INFO - Checkpoint 1 saved!\n"
     ]
    },
    {
     "name": "stderr",
     "output_type": "stream",
     "text": [
      "2021-02-08 00:55:42,624 (INFO) train.py:283] Checkpoint 1 saved!\n",
      "Epoch 1/300: 100%|██████████████████████████████████████████████| 1600/1600 [01:02<00:00, 25.72it/s]\n",
      "Epoch 2/300: 100%|██████████████████████████████████████████████| 1600/1600 [00:38<00:00, 28.37it/s]"
     ]
    },
    {
     "name": "stdout",
     "output_type": "stream",
     "text": [
      "QRS_acc: 0.07\n",
      "Scoring complete.\n"
     ]
    },
    {
     "name": "stderr",
     "output_type": "stream",
     "text": [
      "\r",
      "Epoch 2/300: 100%|██████████████████████████████████████████████| 1600/1600 [00:50<00:00, 28.37it/s]"
     ]
    },
    {
     "name": "stdout",
     "output_type": "stream",
     "text": [
      "QRS_acc: 0.0648\n",
      "Scoring complete.\n",
      "ECG-SEQ-LAB - INFO - \n",
      "                Train epoch_2:\n",
      "                --------------------\n",
      "                train/epoch_loss:        3.7668543457984924\n",
      "train/qrs_score:         0.07\n",
      "\n",
      "                test/qrs_score:          0.0648\n",
      "                ---------------------------------\n",
      "\n"
     ]
    },
    {
     "name": "stderr",
     "output_type": "stream",
     "text": [
      "2021-02-08 00:56:36,357 (INFO) train.py:268] \n",
      "                Train epoch_2:\n",
      "                --------------------\n",
      "                train/epoch_loss:        3.7668543457984924\n",
      "train/qrs_score:         0.07\n",
      "\n",
      "                test/qrs_score:          0.0648\n",
      "                ---------------------------------\n",
      "\n"
     ]
    },
    {
     "name": "stdout",
     "output_type": "stream",
     "text": [
      "ECG-SEQ-LAB - INFO - Created checkpoint directory\n"
     ]
    },
    {
     "name": "stderr",
     "output_type": "stream",
     "text": [
      "2021-02-08 00:56:36,411 (INFO) train.py:275] Created checkpoint directory\n"
     ]
    },
    {
     "name": "stdout",
     "output_type": "stream",
     "text": [
      "ECG-SEQ-LAB - INFO - Checkpoint 2 saved!\n"
     ]
    },
    {
     "name": "stderr",
     "output_type": "stream",
     "text": [
      "2021-02-08 00:56:36,628 (INFO) train.py:283] Checkpoint 2 saved!\n",
      "Epoch 2/300: 100%|██████████████████████████████████████████████| 1600/1600 [00:54<00:00, 29.63it/s]\n",
      "Epoch 3/300:  80%|████████████████████▊     | 1280/1600 [00:45<00:09, 33.04it/s, loss (batch)=0.418]"
     ]
    },
    {
     "name": "stdout",
     "output_type": "stream",
     "text": [
      "ECG-SEQ-LAB - INFO - Train step_20: loss : 0.41833359003067017\n"
     ]
    },
    {
     "name": "stderr",
     "output_type": "stream",
     "text": [
      "2021-02-08 00:57:21,896 (INFO) train.py:225] Train step_20: loss : 0.41833359003067017\n",
      "Epoch 3/300: 100%|██████████████████████████| 1600/1600 [00:45<00:00, 41.67it/s, loss (batch)=0.418]"
     ]
    },
    {
     "name": "stdout",
     "output_type": "stream",
     "text": [
      "QRS_acc: 0.1254\n",
      "Scoring complete.\n"
     ]
    },
    {
     "name": "stderr",
     "output_type": "stream",
     "text": [
      "\r",
      "Epoch 3/300: 100%|██████████████████████████| 1600/1600 [01:00<00:00, 41.67it/s, loss (batch)=0.418]"
     ]
    },
    {
     "name": "stdout",
     "output_type": "stream",
     "text": [
      "QRS_acc: 0.1225\n",
      "Scoring complete.\n",
      "ECG-SEQ-LAB - INFO - \n",
      "                Train epoch_3:\n",
      "                --------------------\n",
      "                train/epoch_loss:        3.0939725637435913\n",
      "train/qrs_score:         0.1254\n",
      "\n",
      "                test/qrs_score:          0.1225\n",
      "                ---------------------------------\n",
      "\n"
     ]
    },
    {
     "name": "stderr",
     "output_type": "stream",
     "text": [
      "2021-02-08 00:57:39,157 (INFO) train.py:268] \n",
      "                Train epoch_3:\n",
      "                --------------------\n",
      "                train/epoch_loss:        3.0939725637435913\n",
      "train/qrs_score:         0.1254\n",
      "\n",
      "                test/qrs_score:          0.1225\n",
      "                ---------------------------------\n",
      "\n"
     ]
    },
    {
     "name": "stdout",
     "output_type": "stream",
     "text": [
      "ECG-SEQ-LAB - INFO - Created checkpoint directory\n"
     ]
    },
    {
     "name": "stderr",
     "output_type": "stream",
     "text": [
      "2021-02-08 00:57:39,331 (INFO) train.py:275] Created checkpoint directory\n"
     ]
    },
    {
     "name": "stdout",
     "output_type": "stream",
     "text": [
      "ECG-SEQ-LAB - INFO - Checkpoint 3 saved!\n"
     ]
    },
    {
     "name": "stderr",
     "output_type": "stream",
     "text": [
      "2021-02-08 00:57:39,612 (INFO) train.py:283] Checkpoint 3 saved!\n",
      "Epoch 3/300: 100%|██████████████████████████| 1600/1600 [01:02<00:00, 25.40it/s, loss (batch)=0.418]\n",
      "Epoch 4/300: 100%|██████████████████████████████████████████████| 1600/1600 [00:36<00:00, 29.19it/s]"
     ]
    },
    {
     "name": "stdout",
     "output_type": "stream",
     "text": [
      "QRS_acc: 0.206\n",
      "Scoring complete.\n"
     ]
    },
    {
     "name": "stderr",
     "output_type": "stream",
     "text": [
      "\r",
      "Epoch 4/300: 100%|██████████████████████████████████████████████| 1600/1600 [00:50<00:00, 29.19it/s]"
     ]
    },
    {
     "name": "stdout",
     "output_type": "stream",
     "text": [
      "QRS_acc: 0.219\n",
      "Scoring complete.\n",
      "ECG-SEQ-LAB - INFO - \n",
      "                Train epoch_4:\n",
      "                --------------------\n",
      "                train/epoch_loss:        2.5759382843971252\n",
      "train/qrs_score:         0.206\n",
      "\n",
      "                test/qrs_score:          0.219\n",
      "                ---------------------------------\n",
      "\n"
     ]
    },
    {
     "name": "stderr",
     "output_type": "stream",
     "text": [
      "2021-02-08 00:58:31,823 (INFO) train.py:268] \n",
      "                Train epoch_4:\n",
      "                --------------------\n",
      "                train/epoch_loss:        2.5759382843971252\n",
      "train/qrs_score:         0.206\n",
      "\n",
      "                test/qrs_score:          0.219\n",
      "                ---------------------------------\n",
      "\n"
     ]
    },
    {
     "name": "stdout",
     "output_type": "stream",
     "text": [
      "ECG-SEQ-LAB - INFO - Created checkpoint directory\n"
     ]
    },
    {
     "name": "stderr",
     "output_type": "stream",
     "text": [
      "2021-02-08 00:58:31,829 (INFO) train.py:275] Created checkpoint directory\n"
     ]
    },
    {
     "name": "stdout",
     "output_type": "stream",
     "text": [
      "ECG-SEQ-LAB - INFO - Checkpoint 4 saved!\n"
     ]
    },
    {
     "name": "stderr",
     "output_type": "stream",
     "text": [
      "2021-02-08 00:58:32,061 (INFO) train.py:283] Checkpoint 4 saved!\n",
      "Epoch 4/300: 100%|██████████████████████████████████████████████| 1600/1600 [00:52<00:00, 30.51it/s]\n",
      "Epoch 5/300: 100%|██████████████████████████████████████████████| 1600/1600 [00:50<00:00, 25.16it/s]"
     ]
    },
    {
     "name": "stdout",
     "output_type": "stream",
     "text": [
      "QRS_acc: 0.3942\n",
      "Scoring complete.\n",
      "QRS_acc: 0.3478\n",
      "Scoring complete.\n",
      "ECG-SEQ-LAB - INFO - \n",
      "                Train epoch_5:\n",
      "                --------------------\n",
      "                train/epoch_loss:        2.1917836666107178\n",
      "train/qrs_score:         0.3942\n",
      "\n",
      "                test/qrs_score:          0.3478\n",
      "                ---------------------------------\n",
      "\n"
     ]
    },
    {
     "name": "stderr",
     "output_type": "stream",
     "text": [
      "2021-02-08 00:59:30,626 (INFO) train.py:268] \n",
      "                Train epoch_5:\n",
      "                --------------------\n",
      "                train/epoch_loss:        2.1917836666107178\n",
      "train/qrs_score:         0.3942\n",
      "\n",
      "                test/qrs_score:          0.3478\n",
      "                ---------------------------------\n",
      "\n"
     ]
    },
    {
     "name": "stdout",
     "output_type": "stream",
     "text": [
      "ECG-SEQ-LAB - INFO - Created checkpoint directory\n"
     ]
    },
    {
     "name": "stderr",
     "output_type": "stream",
     "text": [
      "2021-02-08 00:59:30,650 (INFO) train.py:275] Created checkpoint directory\n"
     ]
    },
    {
     "name": "stdout",
     "output_type": "stream",
     "text": [
      "ECG-SEQ-LAB - INFO - Checkpoint 5 saved!\n"
     ]
    },
    {
     "name": "stderr",
     "output_type": "stream",
     "text": [
      "2021-02-08 00:59:31,028 (INFO) train.py:283] Checkpoint 5 saved!\n",
      "Epoch 5/300: 100%|██████████████████████████████████████████████| 1600/1600 [00:58<00:00, 27.13it/s]\n",
      "Epoch 6/300:  64%|████████████████▋         | 1024/1600 [00:35<00:15, 36.29it/s, loss (batch)=0.267]"
     ]
    },
    {
     "name": "stdout",
     "output_type": "stream",
     "text": [
      "ECG-SEQ-LAB - INFO - Train step_40: loss : 0.26687943935394287\n"
     ]
    },
    {
     "name": "stderr",
     "output_type": "stream",
     "text": [
      "2021-02-08 01:00:06,426 (INFO) train.py:225] Train step_40: loss : 0.26687943935394287\n",
      "Epoch 6/300: 100%|██████████████████████████| 1600/1600 [00:41<00:00, 25.11it/s, loss (batch)=0.267]"
     ]
    },
    {
     "name": "stdout",
     "output_type": "stream",
     "text": [
      "QRS_acc: 0.5807\n",
      "Scoring complete.\n"
     ]
    },
    {
     "name": "stderr",
     "output_type": "stream",
     "text": [
      "\r",
      "Epoch 6/300: 100%|██████████████████████████| 1600/1600 [01:00<00:00, 25.11it/s, loss (batch)=0.267]"
     ]
    },
    {
     "name": "stdout",
     "output_type": "stream",
     "text": [
      "QRS_acc: 0.5642\n",
      "Scoring complete.\n",
      "ECG-SEQ-LAB - INFO - \n",
      "                Train epoch_6:\n",
      "                --------------------\n",
      "                train/epoch_loss:        1.8851438462734222\n",
      "train/qrs_score:         0.5807\n",
      "\n",
      "                test/qrs_score:          0.5642\n",
      "                ---------------------------------\n",
      "\n"
     ]
    },
    {
     "name": "stderr",
     "output_type": "stream",
     "text": [
      "2021-02-08 01:00:35,307 (INFO) train.py:268] \n",
      "                Train epoch_6:\n",
      "                --------------------\n",
      "                train/epoch_loss:        1.8851438462734222\n",
      "train/qrs_score:         0.5807\n",
      "\n",
      "                test/qrs_score:          0.5642\n",
      "                ---------------------------------\n",
      "\n"
     ]
    },
    {
     "name": "stdout",
     "output_type": "stream",
     "text": [
      "ECG-SEQ-LAB - INFO - Created checkpoint directory\n"
     ]
    },
    {
     "name": "stderr",
     "output_type": "stream",
     "text": [
      "2021-02-08 01:00:35,342 (INFO) train.py:275] Created checkpoint directory\n"
     ]
    },
    {
     "name": "stdout",
     "output_type": "stream",
     "text": [
      "ECG-SEQ-LAB - INFO - Checkpoint 6 saved!\n"
     ]
    },
    {
     "name": "stderr",
     "output_type": "stream",
     "text": [
      "2021-02-08 01:00:35,437 (INFO) train.py:283] Checkpoint 6 saved!\n",
      "Epoch 6/300: 100%|██████████████████████████| 1600/1600 [01:04<00:00, 24.84it/s, loss (batch)=0.267]\n",
      "Epoch 7/300: 100%|██████████████████████████████████████████████| 1600/1600 [00:37<00:00, 28.38it/s]"
     ]
    },
    {
     "name": "stdout",
     "output_type": "stream",
     "text": [
      "QRS_acc: 0.6489\n",
      "Scoring complete.\n"
     ]
    },
    {
     "name": "stderr",
     "output_type": "stream",
     "text": [
      "\r",
      "Epoch 7/300: 100%|██████████████████████████████████████████████| 1600/1600 [00:50<00:00, 28.38it/s]"
     ]
    },
    {
     "name": "stdout",
     "output_type": "stream",
     "text": [
      "QRS_acc: 0.6692\n",
      "Scoring complete.\n",
      "ECG-SEQ-LAB - INFO - \n",
      "                Train epoch_7:\n",
      "                --------------------\n",
      "                train/epoch_loss:        1.6772851943969727\n",
      "train/qrs_score:         0.6489\n",
      "\n",
      "                test/qrs_score:          0.6692\n",
      "                ---------------------------------\n",
      "\n"
     ]
    },
    {
     "name": "stderr",
     "output_type": "stream",
     "text": [
      "2021-02-08 01:01:28,441 (INFO) train.py:268] \n",
      "                Train epoch_7:\n",
      "                --------------------\n",
      "                train/epoch_loss:        1.6772851943969727\n",
      "train/qrs_score:         0.6489\n",
      "\n",
      "                test/qrs_score:          0.6692\n",
      "                ---------------------------------\n",
      "\n"
     ]
    },
    {
     "name": "stdout",
     "output_type": "stream",
     "text": [
      "ECG-SEQ-LAB - INFO - Created checkpoint directory\n"
     ]
    },
    {
     "name": "stderr",
     "output_type": "stream",
     "text": [
      "2021-02-08 01:01:28,455 (INFO) train.py:275] Created checkpoint directory\n"
     ]
    },
    {
     "name": "stdout",
     "output_type": "stream",
     "text": [
      "ECG-SEQ-LAB - INFO - Checkpoint 7 saved!\n"
     ]
    },
    {
     "name": "stderr",
     "output_type": "stream",
     "text": [
      "2021-02-08 01:01:28,893 (INFO) train.py:283] Checkpoint 7 saved!\n",
      "Epoch 7/300: 100%|██████████████████████████████████████████████| 1600/1600 [00:53<00:00, 29.93it/s]\n",
      "Epoch 8/300: 100%|██████████████████████████████████████████████| 1600/1600 [00:37<00:00, 28.34it/s]"
     ]
    },
    {
     "name": "stdout",
     "output_type": "stream",
     "text": [
      "QRS_acc: 0.6836\n",
      "Scoring complete.\n"
     ]
    },
    {
     "name": "stderr",
     "output_type": "stream",
     "text": [
      "\r",
      "Epoch 8/300: 100%|██████████████████████████████████████████████| 1600/1600 [00:50<00:00, 28.34it/s]"
     ]
    },
    {
     "name": "stdout",
     "output_type": "stream",
     "text": [
      "QRS_acc: 0.6912\n",
      "Scoring complete.\n",
      "ECG-SEQ-LAB - INFO - \n",
      "                Train epoch_8:\n",
      "                --------------------\n",
      "                train/epoch_loss:        1.4538044929504395\n",
      "train/qrs_score:         0.6836\n",
      "\n",
      "                test/qrs_score:          0.6912\n",
      "                ---------------------------------\n",
      "\n"
     ]
    },
    {
     "name": "stderr",
     "output_type": "stream",
     "text": [
      "2021-02-08 01:02:23,403 (INFO) train.py:268] \n",
      "                Train epoch_8:\n",
      "                --------------------\n",
      "                train/epoch_loss:        1.4538044929504395\n",
      "train/qrs_score:         0.6836\n",
      "\n",
      "                test/qrs_score:          0.6912\n",
      "                ---------------------------------\n",
      "\n"
     ]
    },
    {
     "name": "stdout",
     "output_type": "stream",
     "text": [
      "ECG-SEQ-LAB - INFO - Created checkpoint directory\n"
     ]
    },
    {
     "name": "stderr",
     "output_type": "stream",
     "text": [
      "2021-02-08 01:02:23,428 (INFO) train.py:275] Created checkpoint directory\n"
     ]
    },
    {
     "name": "stdout",
     "output_type": "stream",
     "text": [
      "ECG-SEQ-LAB - INFO - Checkpoint 8 saved!\n"
     ]
    },
    {
     "name": "stderr",
     "output_type": "stream",
     "text": [
      "2021-02-08 01:02:23,729 (INFO) train.py:283] Checkpoint 8 saved!\n",
      "Epoch 8/300: 100%|██████████████████████████████████████████████| 1600/1600 [00:54<00:00, 29.18it/s]\n",
      "Epoch 9/300:  48%|████████████▉              | 768/1600 [00:26<00:20, 40.09it/s, loss (batch)=0.179]"
     ]
    },
    {
     "name": "stdout",
     "output_type": "stream",
     "text": [
      "ECG-SEQ-LAB - INFO - Train step_60: loss : 0.17935702204704285\n"
     ]
    },
    {
     "name": "stderr",
     "output_type": "stream",
     "text": [
      "2021-02-08 01:02:50,396 (INFO) train.py:225] Train step_60: loss : 0.17935702204704285\n",
      "Epoch 9/300: 100%|██████████████████████████| 1600/1600 [00:50<00:00, 29.87it/s, loss (batch)=0.179]"
     ]
    },
    {
     "name": "stdout",
     "output_type": "stream",
     "text": [
      "QRS_acc: 0.6799\n",
      "Scoring complete.\n",
      "QRS_acc: 0.6793\n",
      "Scoring complete.\n",
      "ECG-SEQ-LAB - INFO - \n",
      "                Train epoch_9:\n",
      "                --------------------\n",
      "                train/epoch_loss:        1.3035091161727905\n",
      "train/qrs_score:         0.6799\n",
      "\n",
      "                test/qrs_score:          0.6793\n",
      "                ---------------------------------\n",
      "\n"
     ]
    },
    {
     "name": "stderr",
     "output_type": "stream",
     "text": [
      "2021-02-08 01:03:26,546 (INFO) train.py:268] \n",
      "                Train epoch_9:\n",
      "                --------------------\n",
      "                train/epoch_loss:        1.3035091161727905\n",
      "train/qrs_score:         0.6799\n",
      "\n",
      "                test/qrs_score:          0.6793\n",
      "                ---------------------------------\n",
      "\n"
     ]
    },
    {
     "name": "stdout",
     "output_type": "stream",
     "text": [
      "ECG-SEQ-LAB - INFO - Created checkpoint directory\n"
     ]
    },
    {
     "name": "stderr",
     "output_type": "stream",
     "text": [
      "2021-02-08 01:03:26,711 (INFO) train.py:275] Created checkpoint directory\n"
     ]
    },
    {
     "name": "stdout",
     "output_type": "stream",
     "text": [
      "ECG-SEQ-LAB - INFO - Checkpoint 9 saved!\n"
     ]
    },
    {
     "name": "stderr",
     "output_type": "stream",
     "text": [
      "2021-02-08 01:03:27,706 (INFO) train.py:283] Checkpoint 9 saved!\n",
      "Epoch 9/300: 100%|██████████████████████████| 1600/1600 [01:03<00:00, 25.01it/s, loss (batch)=0.179]\n",
      "Epoch 10/300: 100%|█████████████████████████████████████████████| 1600/1600 [00:40<00:00, 27.26it/s]"
     ]
    },
    {
     "name": "stdout",
     "output_type": "stream",
     "text": [
      "QRS_acc: 0.6834\n",
      "Scoring complete.\n",
      "QRS_acc: 0.6975\n",
      "Scoring complete.\n",
      "ECG-SEQ-LAB - INFO - \n",
      "                Train epoch_10:\n",
      "                --------------------\n",
      "                train/epoch_loss:        1.2030726224184036\n",
      "train/qrs_score:         0.6834\n",
      "\n",
      "                test/qrs_score:          0.6975\n",
      "                ---------------------------------\n",
      "\n"
     ]
    },
    {
     "name": "stderr",
     "output_type": "stream",
     "text": [
      "2021-02-08 01:04:25,618 (INFO) train.py:268] \n",
      "                Train epoch_10:\n",
      "                --------------------\n",
      "                train/epoch_loss:        1.2030726224184036\n",
      "train/qrs_score:         0.6834\n",
      "\n",
      "                test/qrs_score:          0.6975\n",
      "                ---------------------------------\n",
      "\n"
     ]
    },
    {
     "name": "stdout",
     "output_type": "stream",
     "text": [
      "ECG-SEQ-LAB - INFO - Created checkpoint directory\n"
     ]
    },
    {
     "name": "stderr",
     "output_type": "stream",
     "text": [
      "2021-02-08 01:04:25,622 (INFO) train.py:275] Created checkpoint directory\n"
     ]
    },
    {
     "name": "stdout",
     "output_type": "stream",
     "text": [
      "ECG-SEQ-LAB - INFO - Checkpoint 10 saved!\n"
     ]
    },
    {
     "name": "stderr",
     "output_type": "stream",
     "text": [
      "2021-02-08 01:04:25,893 (INFO) train.py:283] Checkpoint 10 saved!\n",
      "Epoch 10/300: 100%|█████████████████████████████████████████████| 1600/1600 [00:58<00:00, 27.50it/s]\n",
      "Epoch 11/300: 100%|█████████████████████████████████████████████| 1600/1600 [00:44<00:00, 26.27it/s]"
     ]
    },
    {
     "name": "stdout",
     "output_type": "stream",
     "text": [
      "QRS_acc: 0.7082\n",
      "Scoring complete.\n"
     ]
    },
    {
     "name": "stderr",
     "output_type": "stream",
     "text": [
      "\r",
      "Epoch 11/300: 100%|█████████████████████████████████████████████| 1600/1600 [01:00<00:00, 26.27it/s]"
     ]
    },
    {
     "name": "stdout",
     "output_type": "stream",
     "text": [
      "QRS_acc: 0.7228\n",
      "Scoring complete.\n",
      "ECG-SEQ-LAB - INFO - \n",
      "                Train epoch_11:\n",
      "                --------------------\n",
      "                train/epoch_loss:        1.0650753378868103\n",
      "train/qrs_score:         0.7082\n",
      "\n",
      "                test/qrs_score:          0.7228\n",
      "                ---------------------------------\n",
      "\n"
     ]
    },
    {
     "name": "stderr",
     "output_type": "stream",
     "text": [
      "2021-02-08 01:05:27,627 (INFO) train.py:268] \n",
      "                Train epoch_11:\n",
      "                --------------------\n",
      "                train/epoch_loss:        1.0650753378868103\n",
      "train/qrs_score:         0.7082\n",
      "\n",
      "                test/qrs_score:          0.7228\n",
      "                ---------------------------------\n",
      "\n"
     ]
    },
    {
     "name": "stdout",
     "output_type": "stream",
     "text": [
      "ECG-SEQ-LAB - INFO - Created checkpoint directory\n"
     ]
    },
    {
     "name": "stderr",
     "output_type": "stream",
     "text": [
      "2021-02-08 01:05:27,637 (INFO) train.py:275] Created checkpoint directory\n"
     ]
    },
    {
     "name": "stdout",
     "output_type": "stream",
     "text": [
      "ECG-SEQ-LAB - INFO - Checkpoint 11 saved!\n"
     ]
    },
    {
     "name": "stderr",
     "output_type": "stream",
     "text": [
      "2021-02-08 01:05:27,901 (INFO) train.py:283] Checkpoint 11 saved!\n",
      "Epoch 11/300: 100%|█████████████████████████████████████████████| 1600/1600 [01:02<00:00, 25.80it/s]\n",
      "Epoch 12/300:  32%|████████▎                 | 512/1600 [00:22<00:30, 35.69it/s, loss (batch)=0.141]"
     ]
    },
    {
     "name": "stdout",
     "output_type": "stream",
     "text": [
      "ECG-SEQ-LAB - INFO - Train step_80: loss : 0.14091284573078156\n"
     ]
    },
    {
     "name": "stderr",
     "output_type": "stream",
     "text": [
      "2021-02-08 01:05:50,156 (INFO) train.py:225] Train step_80: loss : 0.14091284573078156\n",
      "Epoch 12/300: 100%|█████████████████████████| 1600/1600 [00:38<00:00, 28.69it/s, loss (batch)=0.141]"
     ]
    },
    {
     "name": "stdout",
     "output_type": "stream",
     "text": [
      "QRS_acc: 0.7256\n",
      "Scoring complete.\n"
     ]
    },
    {
     "name": "stderr",
     "output_type": "stream",
     "text": [
      "\r",
      "Epoch 12/300: 100%|█████████████████████████| 1600/1600 [00:50<00:00, 28.69it/s, loss (batch)=0.141]"
     ]
    },
    {
     "name": "stdout",
     "output_type": "stream",
     "text": [
      "QRS_acc: 0.7588\n",
      "Scoring complete.\n",
      "ECG-SEQ-LAB - INFO - \n",
      "                Train epoch_12:\n",
      "                --------------------\n",
      "                train/epoch_loss:        0.9748766869306564\n",
      "train/qrs_score:         0.7256\n",
      "\n",
      "                test/qrs_score:          0.7588\n",
      "                ---------------------------------\n",
      "\n"
     ]
    },
    {
     "name": "stderr",
     "output_type": "stream",
     "text": [
      "2021-02-08 01:06:25,208 (INFO) train.py:268] \n",
      "                Train epoch_12:\n",
      "                --------------------\n",
      "                train/epoch_loss:        0.9748766869306564\n",
      "train/qrs_score:         0.7256\n",
      "\n",
      "                test/qrs_score:          0.7588\n",
      "                ---------------------------------\n",
      "\n"
     ]
    },
    {
     "name": "stdout",
     "output_type": "stream",
     "text": [
      "ECG-SEQ-LAB - INFO - Created checkpoint directory\n"
     ]
    },
    {
     "name": "stderr",
     "output_type": "stream",
     "text": [
      "2021-02-08 01:06:25,323 (INFO) train.py:275] Created checkpoint directory\n"
     ]
    },
    {
     "name": "stdout",
     "output_type": "stream",
     "text": [
      "ECG-SEQ-LAB - INFO - Checkpoint 12 saved!\n"
     ]
    },
    {
     "name": "stderr",
     "output_type": "stream",
     "text": [
      "2021-02-08 01:06:26,450 (INFO) train.py:283] Checkpoint 12 saved!\n",
      "Epoch 12/300: 100%|█████████████████████████| 1600/1600 [00:58<00:00, 27.33it/s, loss (batch)=0.141]\n",
      "Epoch 13/300: 100%|█████████████████████████████████████████████| 1600/1600 [00:50<00:00, 24.52it/s]"
     ]
    },
    {
     "name": "stdout",
     "output_type": "stream",
     "text": [
      "QRS_acc: 0.7164\n",
      "Scoring complete.\n"
     ]
    },
    {
     "name": "stderr",
     "output_type": "stream",
     "text": [
      "\r",
      "Epoch 13/300: 100%|█████████████████████████████████████████████| 1600/1600 [01:10<00:00, 24.52it/s]"
     ]
    },
    {
     "name": "stdout",
     "output_type": "stream",
     "text": [
      "QRS_acc: 0.7338\n",
      "Scoring complete.\n",
      "ECG-SEQ-LAB - INFO - \n",
      "                Train epoch_13:\n",
      "                --------------------\n",
      "                train/epoch_loss:        0.9311242550611496\n",
      "train/qrs_score:         0.7164\n",
      "\n",
      "                test/qrs_score:          0.7338\n",
      "                ---------------------------------\n",
      "\n"
     ]
    },
    {
     "name": "stderr",
     "output_type": "stream",
     "text": [
      "2021-02-08 01:07:43,504 (INFO) train.py:268] \n",
      "                Train epoch_13:\n",
      "                --------------------\n",
      "                train/epoch_loss:        0.9311242550611496\n",
      "train/qrs_score:         0.7164\n",
      "\n",
      "                test/qrs_score:          0.7338\n",
      "                ---------------------------------\n",
      "\n"
     ]
    },
    {
     "name": "stdout",
     "output_type": "stream",
     "text": [
      "ECG-SEQ-LAB - INFO - Created checkpoint directory\n"
     ]
    },
    {
     "name": "stderr",
     "output_type": "stream",
     "text": [
      "2021-02-08 01:07:43,516 (INFO) train.py:275] Created checkpoint directory\n"
     ]
    },
    {
     "name": "stdout",
     "output_type": "stream",
     "text": [
      "ECG-SEQ-LAB - INFO - Checkpoint 13 saved!\n"
     ]
    },
    {
     "name": "stderr",
     "output_type": "stream",
     "text": [
      "2021-02-08 01:07:43,719 (INFO) train.py:283] Checkpoint 13 saved!\n",
      "Epoch 13/300: 100%|█████████████████████████████████████████████| 1600/1600 [01:17<00:00, 20.71it/s]\n",
      "Epoch 14/300: 100%|█████████████████████████████████████████████| 1600/1600 [00:37<00:00, 28.87it/s]"
     ]
    },
    {
     "name": "stdout",
     "output_type": "stream",
     "text": [
      "QRS_acc: 0.7525\n",
      "Scoring complete.\n"
     ]
    },
    {
     "name": "stderr",
     "output_type": "stream",
     "text": [
      "\r",
      "Epoch 14/300: 100%|█████████████████████████████████████████████| 1600/1600 [00:50<00:00, 28.87it/s]"
     ]
    },
    {
     "name": "stdout",
     "output_type": "stream",
     "text": [
      "QRS_acc: 0.7725\n",
      "Scoring complete.\n",
      "ECG-SEQ-LAB - INFO - \n",
      "                Train epoch_14:\n",
      "                --------------------\n",
      "                train/epoch_loss:        0.8934136182069778\n",
      "train/qrs_score:         0.7525\n",
      "\n",
      "                test/qrs_score:          0.7725\n",
      "                ---------------------------------\n",
      "\n"
     ]
    },
    {
     "name": "stderr",
     "output_type": "stream",
     "text": [
      "2021-02-08 01:08:35,737 (INFO) train.py:268] \n",
      "                Train epoch_14:\n",
      "                --------------------\n",
      "                train/epoch_loss:        0.8934136182069778\n",
      "train/qrs_score:         0.7525\n",
      "\n",
      "                test/qrs_score:          0.7725\n",
      "                ---------------------------------\n",
      "\n"
     ]
    },
    {
     "name": "stdout",
     "output_type": "stream",
     "text": [
      "ECG-SEQ-LAB - INFO - Created checkpoint directory\n"
     ]
    },
    {
     "name": "stderr",
     "output_type": "stream",
     "text": [
      "2021-02-08 01:08:35,740 (INFO) train.py:275] Created checkpoint directory\n"
     ]
    },
    {
     "name": "stdout",
     "output_type": "stream",
     "text": [
      "ECG-SEQ-LAB - INFO - Checkpoint 14 saved!\n"
     ]
    },
    {
     "name": "stderr",
     "output_type": "stream",
     "text": [
      "2021-02-08 01:08:35,995 (INFO) train.py:283] Checkpoint 14 saved!\n",
      "Epoch 14/300: 100%|█████████████████████████████████████████████| 1600/1600 [00:52<00:00, 30.61it/s]\n",
      "Epoch 15/300:  16%|████▎                      | 256/1600 [00:16<00:38, 34.50it/s, loss (batch)=0.12]"
     ]
    },
    {
     "name": "stdout",
     "output_type": "stream",
     "text": [
      "ECG-SEQ-LAB - INFO - Train step_100: loss : 0.12011370807886124\n"
     ]
    },
    {
     "name": "stderr",
     "output_type": "stream",
     "text": [
      "2021-02-08 01:08:52,096 (INFO) train.py:225] Train step_100: loss : 0.12011370807886124\n",
      "Epoch 15/300: 100%|██████████████████████████| 1600/1600 [00:36<00:00, 28.87it/s, loss (batch)=0.12]"
     ]
    },
    {
     "name": "stdout",
     "output_type": "stream",
     "text": [
      "QRS_acc: 0.7379\n",
      "Scoring complete.\n"
     ]
    },
    {
     "name": "stderr",
     "output_type": "stream",
     "text": [
      "\r",
      "Epoch 15/300: 100%|██████████████████████████| 1600/1600 [00:50<00:00, 28.87it/s, loss (batch)=0.12]"
     ]
    },
    {
     "name": "stdout",
     "output_type": "stream",
     "text": [
      "QRS_acc: 0.7635\n",
      "Scoring complete.\n",
      "ECG-SEQ-LAB - INFO - \n",
      "                Train epoch_15:\n",
      "                --------------------\n",
      "                train/epoch_loss:        0.862616516649723\n",
      "train/qrs_score:         0.7379\n",
      "\n",
      "                test/qrs_score:          0.7635\n",
      "                ---------------------------------\n",
      "\n"
     ]
    },
    {
     "name": "stderr",
     "output_type": "stream",
     "text": [
      "2021-02-08 01:09:28,537 (INFO) train.py:268] \n",
      "                Train epoch_15:\n",
      "                --------------------\n",
      "                train/epoch_loss:        0.862616516649723\n",
      "train/qrs_score:         0.7379\n",
      "\n",
      "                test/qrs_score:          0.7635\n",
      "                ---------------------------------\n",
      "\n"
     ]
    },
    {
     "name": "stdout",
     "output_type": "stream",
     "text": [
      "ECG-SEQ-LAB - INFO - Created checkpoint directory\n"
     ]
    },
    {
     "name": "stderr",
     "output_type": "stream",
     "text": [
      "2021-02-08 01:09:28,544 (INFO) train.py:275] Created checkpoint directory\n"
     ]
    },
    {
     "name": "stdout",
     "output_type": "stream",
     "text": [
      "ECG-SEQ-LAB - INFO - Checkpoint 15 saved!\n"
     ]
    },
    {
     "name": "stderr",
     "output_type": "stream",
     "text": [
      "2021-02-08 01:09:28,702 (INFO) train.py:283] Checkpoint 15 saved!\n",
      "Epoch 15/300: 100%|██████████████████████████| 1600/1600 [00:52<00:00, 30.36it/s, loss (batch)=0.12]\n",
      "Epoch 16/300: 100%|█████████████████████████████████████████████| 1600/1600 [00:50<00:00, 28.84it/s]"
     ]
    },
    {
     "name": "stdout",
     "output_type": "stream",
     "text": [
      "QRS_acc: 0.7328\n",
      "Scoring complete.\n",
      "QRS_acc: 0.7557\n",
      "Scoring complete.\n",
      "ECG-SEQ-LAB - INFO - \n",
      "                Train epoch_16:\n",
      "                --------------------\n",
      "                train/epoch_loss:        0.8371615037322044\n",
      "train/qrs_score:         0.7328\n",
      "\n",
      "                test/qrs_score:          0.7557\n",
      "                ---------------------------------\n",
      "\n"
     ]
    },
    {
     "name": "stderr",
     "output_type": "stream",
     "text": [
      "2021-02-08 01:11:32,420 (INFO) train.py:268] \n",
      "                Train epoch_16:\n",
      "                --------------------\n",
      "                train/epoch_loss:        0.8371615037322044\n",
      "train/qrs_score:         0.7328\n",
      "\n",
      "                test/qrs_score:          0.7557\n",
      "                ---------------------------------\n",
      "\n"
     ]
    },
    {
     "name": "stdout",
     "output_type": "stream",
     "text": [
      "ECG-SEQ-LAB - INFO - Created checkpoint directory\n"
     ]
    },
    {
     "name": "stderr",
     "output_type": "stream",
     "text": [
      "2021-02-08 01:11:32,584 (INFO) train.py:275] Created checkpoint directory\n"
     ]
    },
    {
     "name": "stdout",
     "output_type": "stream",
     "text": [
      "ECG-SEQ-LAB - INFO - Checkpoint 16 saved!\n"
     ]
    },
    {
     "name": "stderr",
     "output_type": "stream",
     "text": [
      "2021-02-08 01:11:34,768 (INFO) train.py:283] Checkpoint 16 saved!\n",
      "Epoch 16/300: 100%|█████████████████████████████████████████████| 1600/1600 [02:06<00:00, 12.69it/s]\n",
      "Epoch 17/300: 100%|█████████████████████████████████████████████| 1600/1600 [01:30<00:00, 18.46it/s]"
     ]
    },
    {
     "name": "stdout",
     "output_type": "stream",
     "text": [
      "QRS_acc: 0.7425\n",
      "Scoring complete.\n",
      "QRS_acc: 0.7682\n",
      "Scoring complete.\n",
      "ECG-SEQ-LAB - INFO - \n",
      "                Train epoch_17:\n",
      "                --------------------\n",
      "                train/epoch_loss:        0.7884202376008034\n",
      "train/qrs_score:         0.7425\n",
      "\n",
      "                test/qrs_score:          0.7682\n",
      "                ---------------------------------\n",
      "\n"
     ]
    },
    {
     "name": "stderr",
     "output_type": "stream",
     "text": [
      "2021-02-08 01:14:03,503 (INFO) train.py:268] \n",
      "                Train epoch_17:\n",
      "                --------------------\n",
      "                train/epoch_loss:        0.7884202376008034\n",
      "train/qrs_score:         0.7425\n",
      "\n",
      "                test/qrs_score:          0.7682\n",
      "                ---------------------------------\n",
      "\n"
     ]
    },
    {
     "name": "stdout",
     "output_type": "stream",
     "text": [
      "ECG-SEQ-LAB - INFO - Created checkpoint directory\n"
     ]
    },
    {
     "name": "stderr",
     "output_type": "stream",
     "text": [
      "2021-02-08 01:14:03,706 (INFO) train.py:275] Created checkpoint directory\n"
     ]
    },
    {
     "name": "stdout",
     "output_type": "stream",
     "text": [
      "ECG-SEQ-LAB - INFO - Checkpoint 17 saved!\n"
     ]
    },
    {
     "name": "stderr",
     "output_type": "stream",
     "text": [
      "2021-02-08 01:14:05,635 (INFO) train.py:283] Checkpoint 17 saved!\n",
      "Epoch 17/300: 100%|█████████████████████████████████████████████| 1600/1600 [02:30<00:00, 10.61it/s]\n",
      "Epoch 18/300:   0%|                                     | 0/1600 [00:57<?, ?it/s, loss (batch)=0.11]"
     ]
    },
    {
     "name": "stdout",
     "output_type": "stream",
     "text": [
      "ECG-SEQ-LAB - INFO - Train step_120: loss : 0.10961012542247772\n"
     ]
    },
    {
     "name": "stderr",
     "output_type": "stream",
     "text": [
      "2021-02-08 01:15:03,510 (INFO) train.py:225] Train step_120: loss : 0.10961012542247772\n",
      "Epoch 18/300: 100%|██████████████████████████| 1600/1600 [01:40<00:00, 17.54it/s, loss (batch)=0.11]"
     ]
    },
    {
     "name": "stdout",
     "output_type": "stream",
     "text": [
      "QRS_acc: 0.7636\n",
      "Scoring complete.\n",
      "QRS_acc: 0.778\n",
      "Scoring complete.\n",
      "ECG-SEQ-LAB - INFO - \n",
      "                Train epoch_18:\n",
      "                --------------------\n",
      "                train/epoch_loss:        0.773630365729332\n",
      "train/qrs_score:         0.7636\n",
      "\n",
      "                test/qrs_score:          0.778\n",
      "                ---------------------------------\n",
      "\n"
     ]
    },
    {
     "name": "stderr",
     "output_type": "stream",
     "text": [
      "2021-02-08 01:17:32,954 (INFO) train.py:268] \n",
      "                Train epoch_18:\n",
      "                --------------------\n",
      "                train/epoch_loss:        0.773630365729332\n",
      "train/qrs_score:         0.7636\n",
      "\n",
      "                test/qrs_score:          0.778\n",
      "                ---------------------------------\n",
      "\n"
     ]
    },
    {
     "name": "stdout",
     "output_type": "stream",
     "text": [
      "ECG-SEQ-LAB - INFO - Created checkpoint directory\n"
     ]
    },
    {
     "name": "stderr",
     "output_type": "stream",
     "text": [
      "2021-02-08 01:17:32,966 (INFO) train.py:275] Created checkpoint directory\n"
     ]
    },
    {
     "name": "stdout",
     "output_type": "stream",
     "text": [
      "ECG-SEQ-LAB - INFO - Checkpoint 18 saved!\n"
     ]
    },
    {
     "name": "stderr",
     "output_type": "stream",
     "text": [
      "2021-02-08 01:17:33,321 (INFO) train.py:283] Checkpoint 18 saved!\n",
      "Epoch 18/300: 100%|██████████████████████████| 1600/1600 [03:27<00:00,  7.70it/s, loss (batch)=0.11]\n",
      "Epoch 19/300: 100%|█████████████████████████████████████████████| 1600/1600 [02:10<00:00, 15.50it/s]"
     ]
    },
    {
     "name": "stdout",
     "output_type": "stream",
     "text": [
      "QRS_acc: 0.7524\n",
      "Scoring complete.\n",
      "QRS_acc: 0.7722\n",
      "Scoring complete.\n",
      "ECG-SEQ-LAB - INFO - \n",
      "                Train epoch_19:\n",
      "                --------------------\n",
      "                train/epoch_loss:        0.777402974665165\n",
      "train/qrs_score:         0.7524\n",
      "\n",
      "                test/qrs_score:          0.7722\n",
      "                ---------------------------------\n",
      "\n"
     ]
    },
    {
     "name": "stderr",
     "output_type": "stream",
     "text": [
      "2021-02-08 01:21:11,557 (INFO) train.py:268] \n",
      "                Train epoch_19:\n",
      "                --------------------\n",
      "                train/epoch_loss:        0.777402974665165\n",
      "train/qrs_score:         0.7524\n",
      "\n",
      "                test/qrs_score:          0.7722\n",
      "                ---------------------------------\n",
      "\n"
     ]
    },
    {
     "name": "stdout",
     "output_type": "stream",
     "text": [
      "ECG-SEQ-LAB - INFO - Created checkpoint directory\n"
     ]
    },
    {
     "name": "stderr",
     "output_type": "stream",
     "text": [
      "2021-02-08 01:21:11,592 (INFO) train.py:275] Created checkpoint directory\n"
     ]
    },
    {
     "name": "stdout",
     "output_type": "stream",
     "text": [
      "ECG-SEQ-LAB - INFO - Checkpoint 19 saved!\n"
     ]
    },
    {
     "name": "stderr",
     "output_type": "stream",
     "text": [
      "2021-02-08 01:21:11,940 (INFO) train.py:283] Checkpoint 19 saved!\n",
      "Epoch 19/300: 100%|█████████████████████████████████████████████| 1600/1600 [03:38<00:00,  7.32it/s]\n",
      "Epoch 20/300:  96%|████████████████████████ | 1536/1600 [00:54<00:02, 31.57it/s, loss (batch)=0.112]"
     ]
    },
    {
     "name": "stdout",
     "output_type": "stream",
     "text": [
      "ECG-SEQ-LAB - INFO - Train step_140: loss : 0.11156152933835983\n"
     ]
    },
    {
     "name": "stderr",
     "output_type": "stream",
     "text": [
      "2021-02-08 01:22:06,548 (INFO) train.py:225] Train step_140: loss : 0.11156152933835983\n",
      "Epoch 20/300: 100%|█████████████████████████| 1600/1600 [01:10<00:00, 19.33it/s, loss (batch)=0.112]"
     ]
    },
    {
     "name": "stdout",
     "output_type": "stream",
     "text": [
      "QRS_acc: 0.739\n",
      "Scoring complete.\n",
      "QRS_acc: 0.7507\n",
      "Scoring complete.\n",
      "ECG-SEQ-LAB - INFO - \n",
      "                Train epoch_20:\n",
      "                --------------------\n",
      "                train/epoch_loss:        0.7552717849612236\n",
      "train/qrs_score:         0.739\n",
      "\n",
      "                test/qrs_score:          0.7507\n",
      "                ---------------------------------\n",
      "\n"
     ]
    },
    {
     "name": "stderr",
     "output_type": "stream",
     "text": [
      "2021-02-08 01:22:58,247 (INFO) train.py:268] \n",
      "                Train epoch_20:\n",
      "                --------------------\n",
      "                train/epoch_loss:        0.7552717849612236\n",
      "train/qrs_score:         0.739\n",
      "\n",
      "                test/qrs_score:          0.7507\n",
      "                ---------------------------------\n",
      "\n"
     ]
    },
    {
     "name": "stdout",
     "output_type": "stream",
     "text": [
      "ECG-SEQ-LAB - INFO - Created checkpoint directory\n"
     ]
    },
    {
     "name": "stderr",
     "output_type": "stream",
     "text": [
      "2021-02-08 01:22:58,260 (INFO) train.py:275] Created checkpoint directory\n"
     ]
    },
    {
     "name": "stdout",
     "output_type": "stream",
     "text": [
      "ECG-SEQ-LAB - INFO - Checkpoint 20 saved!\n"
     ]
    },
    {
     "name": "stderr",
     "output_type": "stream",
     "text": [
      "2021-02-08 01:22:58,496 (INFO) train.py:283] Checkpoint 20 saved!\n",
      "Epoch 20/300: 100%|█████████████████████████| 1600/1600 [01:46<00:00, 15.02it/s, loss (batch)=0.112]\n",
      "Epoch 21/300: 100%|█████████████████████████████████████████████| 1600/1600 [00:37<00:00, 28.51it/s]"
     ]
    },
    {
     "name": "stdout",
     "output_type": "stream",
     "text": [
      "QRS_acc: 0.7573\n",
      "Scoring complete.\n"
     ]
    },
    {
     "name": "stderr",
     "output_type": "stream",
     "text": [
      "\r",
      "Epoch 21/300: 100%|█████████████████████████████████████████████| 1600/1600 [00:50<00:00, 28.51it/s]"
     ]
    },
    {
     "name": "stdout",
     "output_type": "stream",
     "text": [
      "QRS_acc: 0.7658\n",
      "Scoring complete.\n",
      "ECG-SEQ-LAB - INFO - \n",
      "                Train epoch_21:\n",
      "                --------------------\n",
      "                train/epoch_loss:        0.7381194978952408\n",
      "train/qrs_score:         0.7573\n",
      "\n",
      "                test/qrs_score:          0.7658\n",
      "                ---------------------------------\n",
      "\n"
     ]
    },
    {
     "name": "stderr",
     "output_type": "stream",
     "text": [
      "2021-02-08 01:23:51,019 (INFO) train.py:268] \n",
      "                Train epoch_21:\n",
      "                --------------------\n",
      "                train/epoch_loss:        0.7381194978952408\n",
      "train/qrs_score:         0.7573\n",
      "\n",
      "                test/qrs_score:          0.7658\n",
      "                ---------------------------------\n",
      "\n"
     ]
    },
    {
     "name": "stdout",
     "output_type": "stream",
     "text": [
      "ECG-SEQ-LAB - INFO - Created checkpoint directory\n"
     ]
    },
    {
     "name": "stderr",
     "output_type": "stream",
     "text": [
      "2021-02-08 01:23:51,023 (INFO) train.py:275] Created checkpoint directory\n"
     ]
    },
    {
     "name": "stdout",
     "output_type": "stream",
     "text": [
      "ECG-SEQ-LAB - INFO - Checkpoint 21 saved!\n"
     ]
    },
    {
     "name": "stderr",
     "output_type": "stream",
     "text": [
      "2021-02-08 01:23:51,237 (INFO) train.py:283] Checkpoint 21 saved!\n",
      "Epoch 21/300: 100%|█████████████████████████████████████████████| 1600/1600 [00:52<00:00, 30.34it/s]\n",
      "Epoch 22/300: 100%|█████████████████████████████████████████████| 1600/1600 [00:36<00:00, 28.58it/s]"
     ]
    },
    {
     "name": "stdout",
     "output_type": "stream",
     "text": [
      "QRS_acc: 0.7695\n",
      "Scoring complete.\n"
     ]
    },
    {
     "name": "stderr",
     "output_type": "stream",
     "text": [
      "\r",
      "Epoch 22/300: 100%|█████████████████████████████████████████████| 1600/1600 [00:50<00:00, 28.58it/s]"
     ]
    },
    {
     "name": "stdout",
     "output_type": "stream",
     "text": [
      "QRS_acc: 0.7852\n",
      "Scoring complete.\n",
      "ECG-SEQ-LAB - INFO - \n",
      "                Train epoch_22:\n",
      "                --------------------\n",
      "                train/epoch_loss:        0.7194378301501274\n",
      "train/qrs_score:         0.7695\n",
      "\n",
      "                test/qrs_score:          0.7852\n",
      "                ---------------------------------\n",
      "\n"
     ]
    },
    {
     "name": "stderr",
     "output_type": "stream",
     "text": [
      "2021-02-08 01:24:44,727 (INFO) train.py:268] \n",
      "                Train epoch_22:\n",
      "                --------------------\n",
      "                train/epoch_loss:        0.7194378301501274\n",
      "train/qrs_score:         0.7695\n",
      "\n",
      "                test/qrs_score:          0.7852\n",
      "                ---------------------------------\n",
      "\n"
     ]
    },
    {
     "name": "stdout",
     "output_type": "stream",
     "text": [
      "ECG-SEQ-LAB - INFO - Created checkpoint directory\n"
     ]
    },
    {
     "name": "stderr",
     "output_type": "stream",
     "text": [
      "2021-02-08 01:24:44,738 (INFO) train.py:275] Created checkpoint directory\n"
     ]
    },
    {
     "name": "stdout",
     "output_type": "stream",
     "text": [
      "ECG-SEQ-LAB - INFO - Checkpoint 22 saved!\n"
     ]
    },
    {
     "name": "stderr",
     "output_type": "stream",
     "text": [
      "2021-02-08 01:24:45,233 (INFO) train.py:283] Checkpoint 22 saved!\n",
      "Epoch 22/300: 100%|█████████████████████████████████████████████| 1600/1600 [00:53<00:00, 29.63it/s]\n",
      "Epoch 23/300:  80%|████████████████████     | 1280/1600 [00:37<00:07, 44.13it/s, loss (batch)=0.101]"
     ]
    },
    {
     "name": "stdout",
     "output_type": "stream",
     "text": [
      "ECG-SEQ-LAB - INFO - Train step_160: loss : 0.10134521126747131\n"
     ]
    },
    {
     "name": "stderr",
     "output_type": "stream",
     "text": [
      "2021-02-08 01:25:22,352 (INFO) train.py:225] Train step_160: loss : 0.10134521126747131\n",
      "Epoch 23/300: 100%|█████████████████████████| 1600/1600 [00:37<00:00, 48.66it/s, loss (batch)=0.101]"
     ]
    },
    {
     "name": "stdout",
     "output_type": "stream",
     "text": [
      "QRS_acc: 0.7749\n",
      "Scoring complete.\n"
     ]
    },
    {
     "name": "stderr",
     "output_type": "stream",
     "text": [
      "\r",
      "Epoch 23/300: 100%|█████████████████████████| 1600/1600 [00:50<00:00, 48.66it/s, loss (batch)=0.101]"
     ]
    },
    {
     "name": "stdout",
     "output_type": "stream",
     "text": [
      "QRS_acc: 0.7867\n",
      "Scoring complete.\n",
      "ECG-SEQ-LAB - INFO - \n",
      "                Train epoch_23:\n",
      "                --------------------\n",
      "                train/epoch_loss:        0.7117695957422256\n",
      "train/qrs_score:         0.7749\n",
      "\n",
      "                test/qrs_score:          0.7867\n",
      "                ---------------------------------\n",
      "\n"
     ]
    },
    {
     "name": "stderr",
     "output_type": "stream",
     "text": [
      "2021-02-08 01:25:37,252 (INFO) train.py:268] \n",
      "                Train epoch_23:\n",
      "                --------------------\n",
      "                train/epoch_loss:        0.7117695957422256\n",
      "train/qrs_score:         0.7749\n",
      "\n",
      "                test/qrs_score:          0.7867\n",
      "                ---------------------------------\n",
      "\n"
     ]
    },
    {
     "name": "stdout",
     "output_type": "stream",
     "text": [
      "ECG-SEQ-LAB - INFO - Created checkpoint directory\n"
     ]
    },
    {
     "name": "stderr",
     "output_type": "stream",
     "text": [
      "2021-02-08 01:25:37,256 (INFO) train.py:275] Created checkpoint directory\n"
     ]
    },
    {
     "name": "stdout",
     "output_type": "stream",
     "text": [
      "ECG-SEQ-LAB - INFO - Checkpoint 23 saved!\n"
     ]
    },
    {
     "name": "stderr",
     "output_type": "stream",
     "text": [
      "2021-02-08 01:25:37,491 (INFO) train.py:283] Checkpoint 23 saved!\n",
      "Epoch 23/300: 100%|█████████████████████████| 1600/1600 [00:52<00:00, 30.62it/s, loss (batch)=0.101]\n",
      "Epoch 24/300: 100%|█████████████████████████████████████████████| 1600/1600 [00:36<00:00, 28.55it/s]"
     ]
    },
    {
     "name": "stdout",
     "output_type": "stream",
     "text": [
      "QRS_acc: 0.7638\n",
      "Scoring complete.\n"
     ]
    },
    {
     "name": "stderr",
     "output_type": "stream",
     "text": [
      "\r",
      "Epoch 24/300: 100%|█████████████████████████████████████████████| 1600/1600 [00:50<00:00, 28.55it/s]"
     ]
    },
    {
     "name": "stdout",
     "output_type": "stream",
     "text": [
      "QRS_acc: 0.7682\n",
      "Scoring complete.\n",
      "ECG-SEQ-LAB - INFO - \n",
      "                Train epoch_24:\n",
      "                --------------------\n",
      "                train/epoch_loss:        0.7278983369469643\n",
      "train/qrs_score:         0.7638\n",
      "\n",
      "                test/qrs_score:          0.7682\n",
      "                ---------------------------------\n",
      "\n"
     ]
    },
    {
     "name": "stderr",
     "output_type": "stream",
     "text": [
      "2021-02-08 01:26:30,933 (INFO) train.py:268] \n",
      "                Train epoch_24:\n",
      "                --------------------\n",
      "                train/epoch_loss:        0.7278983369469643\n",
      "train/qrs_score:         0.7638\n",
      "\n",
      "                test/qrs_score:          0.7682\n",
      "                ---------------------------------\n",
      "\n"
     ]
    },
    {
     "name": "stdout",
     "output_type": "stream",
     "text": [
      "ECG-SEQ-LAB - INFO - Created checkpoint directory\n"
     ]
    },
    {
     "name": "stderr",
     "output_type": "stream",
     "text": [
      "2021-02-08 01:26:30,950 (INFO) train.py:275] Created checkpoint directory\n"
     ]
    },
    {
     "name": "stdout",
     "output_type": "stream",
     "text": [
      "ECG-SEQ-LAB - INFO - Checkpoint 24 saved!\n"
     ]
    },
    {
     "name": "stderr",
     "output_type": "stream",
     "text": [
      "2021-02-08 01:26:31,255 (INFO) train.py:283] Checkpoint 24 saved!\n",
      "Epoch 24/300: 100%|█████████████████████████████████████████████| 1600/1600 [00:53<00:00, 29.76it/s]\n",
      "Epoch 25/300: 100%|█████████████████████████████████████████████| 1600/1600 [00:36<00:00, 29.00it/s]"
     ]
    },
    {
     "name": "stdout",
     "output_type": "stream",
     "text": [
      "QRS_acc: 0.7588\n",
      "Scoring complete.\n"
     ]
    },
    {
     "name": "stderr",
     "output_type": "stream",
     "text": [
      "\r",
      "Epoch 25/300: 100%|█████████████████████████████████████████████| 1600/1600 [00:50<00:00, 29.00it/s]"
     ]
    },
    {
     "name": "stdout",
     "output_type": "stream",
     "text": [
      "QRS_acc: 0.7575\n",
      "Scoring complete.\n",
      "ECG-SEQ-LAB - INFO - \n",
      "                Train epoch_25:\n",
      "                --------------------\n",
      "                train/epoch_loss:        0.7032514661550522\n",
      "train/qrs_score:         0.7588\n",
      "\n",
      "                test/qrs_score:          0.7575\n",
      "                ---------------------------------\n",
      "\n"
     ]
    },
    {
     "name": "stderr",
     "output_type": "stream",
     "text": [
      "2021-02-08 01:27:22,154 (INFO) train.py:268] \n",
      "                Train epoch_25:\n",
      "                --------------------\n",
      "                train/epoch_loss:        0.7032514661550522\n",
      "train/qrs_score:         0.7588\n",
      "\n",
      "                test/qrs_score:          0.7575\n",
      "                ---------------------------------\n",
      "\n"
     ]
    },
    {
     "name": "stdout",
     "output_type": "stream",
     "text": [
      "ECG-SEQ-LAB - INFO - Created checkpoint directory\n"
     ]
    },
    {
     "name": "stderr",
     "output_type": "stream",
     "text": [
      "2021-02-08 01:27:22,157 (INFO) train.py:275] Created checkpoint directory\n"
     ]
    },
    {
     "name": "stdout",
     "output_type": "stream",
     "text": [
      "ECG-SEQ-LAB - INFO - Checkpoint 25 saved!\n"
     ]
    },
    {
     "name": "stderr",
     "output_type": "stream",
     "text": [
      "2021-02-08 01:27:22,436 (INFO) train.py:283] Checkpoint 25 saved!\n",
      "Epoch 25/300: 100%|█████████████████████████████████████████████| 1600/1600 [00:51<00:00, 31.26it/s]\n",
      "Epoch 26/300:  64%|███████████████▎        | 1024/1600 [00:31<00:13, 42.26it/s, loss (batch)=0.0979]"
     ]
    },
    {
     "name": "stdout",
     "output_type": "stream",
     "text": [
      "ECG-SEQ-LAB - INFO - Train step_180: loss : 0.09790174663066864\n"
     ]
    },
    {
     "name": "stderr",
     "output_type": "stream",
     "text": [
      "2021-02-08 01:27:54,412 (INFO) train.py:225] Train step_180: loss : 0.09790174663066864\n",
      "Epoch 26/300: 100%|████████████████████████| 1600/1600 [00:37<00:00, 29.76it/s, loss (batch)=0.0979]"
     ]
    },
    {
     "name": "stdout",
     "output_type": "stream",
     "text": [
      "QRS_acc: 0.7864\n",
      "Scoring complete.\n"
     ]
    },
    {
     "name": "stderr",
     "output_type": "stream",
     "text": [
      "\r",
      "Epoch 26/300: 100%|████████████████████████| 1600/1600 [00:50<00:00, 29.76it/s, loss (batch)=0.0979]"
     ]
    },
    {
     "name": "stdout",
     "output_type": "stream",
     "text": [
      "QRS_acc: 0.7965\n",
      "Scoring complete.\n",
      "ECG-SEQ-LAB - INFO - \n",
      "                Train epoch_26:\n",
      "                --------------------\n",
      "                train/epoch_loss:        0.7213682979345322\n",
      "train/qrs_score:         0.7864\n",
      "\n",
      "                test/qrs_score:          0.7965\n",
      "                ---------------------------------\n",
      "\n"
     ]
    },
    {
     "name": "stderr",
     "output_type": "stream",
     "text": [
      "2021-02-08 01:28:14,553 (INFO) train.py:268] \n",
      "                Train epoch_26:\n",
      "                --------------------\n",
      "                train/epoch_loss:        0.7213682979345322\n",
      "train/qrs_score:         0.7864\n",
      "\n",
      "                test/qrs_score:          0.7965\n",
      "                ---------------------------------\n",
      "\n"
     ]
    },
    {
     "name": "stdout",
     "output_type": "stream",
     "text": [
      "ECG-SEQ-LAB - INFO - Created checkpoint directory\n"
     ]
    },
    {
     "name": "stderr",
     "output_type": "stream",
     "text": [
      "2021-02-08 01:28:14,569 (INFO) train.py:275] Created checkpoint directory\n"
     ]
    },
    {
     "name": "stdout",
     "output_type": "stream",
     "text": [
      "ECG-SEQ-LAB - INFO - Checkpoint 26 saved!\n"
     ]
    },
    {
     "name": "stderr",
     "output_type": "stream",
     "text": [
      "2021-02-08 01:28:14,793 (INFO) train.py:283] Checkpoint 26 saved!\n",
      "Epoch 26/300: 100%|████████████████████████| 1600/1600 [00:52<00:00, 30.56it/s, loss (batch)=0.0979]\n",
      "Epoch 27/300: 100%|█████████████████████████████████████████████| 1600/1600 [00:40<00:00, 24.86it/s]"
     ]
    },
    {
     "name": "stdout",
     "output_type": "stream",
     "text": [
      "QRS_acc: 0.7829\n",
      "Scoring complete.\n",
      "QRS_acc: 0.7882\n",
      "Scoring complete.\n",
      "ECG-SEQ-LAB - INFO - \n",
      "                Train epoch_27:\n",
      "                --------------------\n",
      "                train/epoch_loss:        0.7019534856081009\n",
      "train/qrs_score:         0.7829\n",
      "\n",
      "                test/qrs_score:          0.7882\n",
      "                ---------------------------------\n",
      "\n"
     ]
    },
    {
     "name": "stderr",
     "output_type": "stream",
     "text": [
      "2021-02-08 01:29:10,011 (INFO) train.py:268] \n",
      "                Train epoch_27:\n",
      "                --------------------\n",
      "                train/epoch_loss:        0.7019534856081009\n",
      "train/qrs_score:         0.7829\n",
      "\n",
      "                test/qrs_score:          0.7882\n",
      "                ---------------------------------\n",
      "\n"
     ]
    },
    {
     "name": "stdout",
     "output_type": "stream",
     "text": [
      "ECG-SEQ-LAB - INFO - Created checkpoint directory\n"
     ]
    },
    {
     "name": "stderr",
     "output_type": "stream",
     "text": [
      "2021-02-08 01:29:10,015 (INFO) train.py:275] Created checkpoint directory\n"
     ]
    },
    {
     "name": "stdout",
     "output_type": "stream",
     "text": [
      "ECG-SEQ-LAB - INFO - Checkpoint 27 saved!\n"
     ]
    },
    {
     "name": "stderr",
     "output_type": "stream",
     "text": [
      "2021-02-08 01:29:10,209 (INFO) train.py:283] Checkpoint 27 saved!\n",
      "Epoch 27/300: 100%|█████████████████████████████████████████████| 1600/1600 [00:55<00:00, 28.87it/s]\n",
      "Epoch 28/300: 100%|█████████████████████████████████████████████| 1600/1600 [00:38<00:00, 26.02it/s]"
     ]
    },
    {
     "name": "stdout",
     "output_type": "stream",
     "text": [
      "QRS_acc: 0.7446\n",
      "Scoring complete.\n"
     ]
    },
    {
     "name": "stderr",
     "output_type": "stream",
     "text": [
      "\r",
      "Epoch 28/300: 100%|█████████████████████████████████████████████| 1600/1600 [00:50<00:00, 26.02it/s]"
     ]
    },
    {
     "name": "stdout",
     "output_type": "stream",
     "text": [
      "QRS_acc: 0.7628\n",
      "Scoring complete.\n",
      "ECG-SEQ-LAB - INFO - \n",
      "                Train epoch_28:\n",
      "                --------------------\n",
      "                train/epoch_loss:        0.6938134729862213\n",
      "train/qrs_score:         0.7446\n",
      "\n",
      "                test/qrs_score:          0.7628\n",
      "                ---------------------------------\n",
      "\n"
     ]
    },
    {
     "name": "stderr",
     "output_type": "stream",
     "text": [
      "2021-02-08 01:30:04,715 (INFO) train.py:268] \n",
      "                Train epoch_28:\n",
      "                --------------------\n",
      "                train/epoch_loss:        0.6938134729862213\n",
      "train/qrs_score:         0.7446\n",
      "\n",
      "                test/qrs_score:          0.7628\n",
      "                ---------------------------------\n",
      "\n"
     ]
    },
    {
     "name": "stdout",
     "output_type": "stream",
     "text": [
      "ECG-SEQ-LAB - INFO - Created checkpoint directory\n"
     ]
    },
    {
     "name": "stderr",
     "output_type": "stream",
     "text": [
      "2021-02-08 01:30:04,743 (INFO) train.py:275] Created checkpoint directory\n"
     ]
    },
    {
     "name": "stdout",
     "output_type": "stream",
     "text": [
      "ECG-SEQ-LAB - INFO - Checkpoint 28 saved!\n"
     ]
    },
    {
     "name": "stderr",
     "output_type": "stream",
     "text": [
      "2021-02-08 01:30:04,915 (INFO) train.py:283] Checkpoint 28 saved!\n",
      "Epoch 28/300: 100%|█████████████████████████████████████████████| 1600/1600 [00:54<00:00, 29.25it/s]\n",
      "Epoch 29/300:  48%|████████████             | 768/1600 [00:28<00:23, 35.09it/s, loss (batch)=0.0968]"
     ]
    },
    {
     "name": "stdout",
     "output_type": "stream",
     "text": [
      "ECG-SEQ-LAB - INFO - Train step_200: loss : 0.09680340439081192\n"
     ]
    },
    {
     "name": "stderr",
     "output_type": "stream",
     "text": [
      "2021-02-08 01:30:33,496 (INFO) train.py:225] Train step_200: loss : 0.09680340439081192\n",
      "Epoch 29/300: 100%|████████████████████████| 1600/1600 [00:38<00:00, 28.61it/s, loss (batch)=0.0968]"
     ]
    },
    {
     "name": "stdout",
     "output_type": "stream",
     "text": [
      "QRS_acc: 0.7761\n",
      "Scoring complete.\n"
     ]
    },
    {
     "name": "stderr",
     "output_type": "stream",
     "text": [
      "\r",
      "Epoch 29/300: 100%|████████████████████████| 1600/1600 [00:50<00:00, 28.61it/s, loss (batch)=0.0968]"
     ]
    },
    {
     "name": "stdout",
     "output_type": "stream",
     "text": [
      "QRS_acc: 0.7872\n",
      "Scoring complete.\n",
      "ECG-SEQ-LAB - INFO - \n",
      "                Train epoch_29:\n",
      "                --------------------\n",
      "                train/epoch_loss:        0.6715478003025055\n",
      "train/qrs_score:         0.7761\n",
      "\n",
      "                test/qrs_score:          0.7872\n",
      "                ---------------------------------\n",
      "\n"
     ]
    },
    {
     "name": "stderr",
     "output_type": "stream",
     "text": [
      "2021-02-08 01:30:57,806 (INFO) train.py:268] \n",
      "                Train epoch_29:\n",
      "                --------------------\n",
      "                train/epoch_loss:        0.6715478003025055\n",
      "train/qrs_score:         0.7761\n",
      "\n",
      "                test/qrs_score:          0.7872\n",
      "                ---------------------------------\n",
      "\n"
     ]
    },
    {
     "name": "stdout",
     "output_type": "stream",
     "text": [
      "ECG-SEQ-LAB - INFO - Created checkpoint directory\n"
     ]
    },
    {
     "name": "stderr",
     "output_type": "stream",
     "text": [
      "2021-02-08 01:30:57,810 (INFO) train.py:275] Created checkpoint directory\n"
     ]
    },
    {
     "name": "stdout",
     "output_type": "stream",
     "text": [
      "ECG-SEQ-LAB - INFO - Checkpoint 29 saved!\n"
     ]
    },
    {
     "name": "stderr",
     "output_type": "stream",
     "text": [
      "2021-02-08 01:30:57,991 (INFO) train.py:283] Checkpoint 29 saved!\n",
      "Epoch 29/300: 100%|████████████████████████| 1600/1600 [00:53<00:00, 30.15it/s, loss (batch)=0.0968]\n",
      "Epoch 30/300: 100%|█████████████████████████████████████████████| 1600/1600 [00:36<00:00, 28.86it/s]"
     ]
    },
    {
     "name": "stdout",
     "output_type": "stream",
     "text": [
      "QRS_acc: 0.789\n",
      "Scoring complete.\n"
     ]
    },
    {
     "name": "stderr",
     "output_type": "stream",
     "text": [
      "\r",
      "Epoch 30/300: 100%|█████████████████████████████████████████████| 1600/1600 [00:50<00:00, 28.86it/s]"
     ]
    },
    {
     "name": "stdout",
     "output_type": "stream",
     "text": [
      "QRS_acc: 0.8038\n",
      "Scoring complete.\n",
      "ECG-SEQ-LAB - INFO - \n",
      "                Train epoch_30:\n",
      "                --------------------\n",
      "                train/epoch_loss:        0.6691346541047096\n",
      "train/qrs_score:         0.789\n",
      "\n",
      "                test/qrs_score:          0.8038\n",
      "                ---------------------------------\n",
      "\n"
     ]
    },
    {
     "name": "stderr",
     "output_type": "stream",
     "text": [
      "2021-02-08 01:31:50,437 (INFO) train.py:268] \n",
      "                Train epoch_30:\n",
      "                --------------------\n",
      "                train/epoch_loss:        0.6691346541047096\n",
      "train/qrs_score:         0.789\n",
      "\n",
      "                test/qrs_score:          0.8038\n",
      "                ---------------------------------\n",
      "\n"
     ]
    },
    {
     "name": "stdout",
     "output_type": "stream",
     "text": [
      "ECG-SEQ-LAB - INFO - Created checkpoint directory\n"
     ]
    },
    {
     "name": "stderr",
     "output_type": "stream",
     "text": [
      "2021-02-08 01:31:50,446 (INFO) train.py:275] Created checkpoint directory\n"
     ]
    },
    {
     "name": "stdout",
     "output_type": "stream",
     "text": [
      "ECG-SEQ-LAB - INFO - Checkpoint 30 saved!\n"
     ]
    },
    {
     "name": "stderr",
     "output_type": "stream",
     "text": [
      "2021-02-08 01:31:50,602 (INFO) train.py:283] Checkpoint 30 saved!\n",
      "Epoch 30/300: 100%|█████████████████████████████████████████████| 1600/1600 [00:52<00:00, 30.41it/s]\n",
      "Epoch 31/300: 100%|█████████████████████████████████████████████| 1600/1600 [00:36<00:00, 28.84it/s]"
     ]
    },
    {
     "name": "stdout",
     "output_type": "stream",
     "text": [
      "QRS_acc: 0.7878\n",
      "Scoring complete.\n"
     ]
    },
    {
     "name": "stderr",
     "output_type": "stream",
     "text": [
      "\r",
      "Epoch 31/300: 100%|█████████████████████████████████████████████| 1600/1600 [00:50<00:00, 28.84it/s]"
     ]
    },
    {
     "name": "stdout",
     "output_type": "stream",
     "text": [
      "QRS_acc: 0.7955\n",
      "Scoring complete.\n",
      "ECG-SEQ-LAB - INFO - \n",
      "                Train epoch_31:\n",
      "                --------------------\n",
      "                train/epoch_loss:        0.6593074351549149\n",
      "train/qrs_score:         0.7878\n",
      "\n",
      "                test/qrs_score:          0.7955\n",
      "                ---------------------------------\n",
      "\n"
     ]
    },
    {
     "name": "stderr",
     "output_type": "stream",
     "text": [
      "2021-02-08 01:32:42,703 (INFO) train.py:268] \n",
      "                Train epoch_31:\n",
      "                --------------------\n",
      "                train/epoch_loss:        0.6593074351549149\n",
      "train/qrs_score:         0.7878\n",
      "\n",
      "                test/qrs_score:          0.7955\n",
      "                ---------------------------------\n",
      "\n"
     ]
    },
    {
     "name": "stdout",
     "output_type": "stream",
     "text": [
      "ECG-SEQ-LAB - INFO - Created checkpoint directory\n"
     ]
    },
    {
     "name": "stderr",
     "output_type": "stream",
     "text": [
      "2021-02-08 01:32:42,709 (INFO) train.py:275] Created checkpoint directory\n"
     ]
    },
    {
     "name": "stdout",
     "output_type": "stream",
     "text": [
      "ECG-SEQ-LAB - INFO - Checkpoint 31 saved!\n"
     ]
    },
    {
     "name": "stderr",
     "output_type": "stream",
     "text": [
      "2021-02-08 01:32:43,025 (INFO) train.py:283] Checkpoint 31 saved!\n",
      "Epoch 31/300: 100%|█████████████████████████████████████████████| 1600/1600 [00:52<00:00, 30.52it/s]\n",
      "Epoch 32/300:  32%|████████▎                 | 512/1600 [00:25<00:39, 27.66it/s, loss (batch)=0.095]"
     ]
    },
    {
     "name": "stdout",
     "output_type": "stream",
     "text": [
      "ECG-SEQ-LAB - INFO - Train step_220: loss : 0.094952791929245\n"
     ]
    },
    {
     "name": "stderr",
     "output_type": "stream",
     "text": [
      "2021-02-08 01:33:08,157 (INFO) train.py:225] Train step_220: loss : 0.094952791929245\n",
      "Epoch 32/300: 100%|█████████████████████████| 1600/1600 [00:40<00:00, 28.18it/s, loss (batch)=0.095]"
     ]
    },
    {
     "name": "stdout",
     "output_type": "stream",
     "text": [
      "QRS_acc: 0.7916\n",
      "Scoring complete.\n",
      "QRS_acc: 0.8048\n",
      "Scoring complete.\n",
      "ECG-SEQ-LAB - INFO - \n",
      "                Train epoch_32:\n",
      "                --------------------\n",
      "                train/epoch_loss:        0.6602021679282188\n",
      "train/qrs_score:         0.7916\n",
      "\n",
      "                test/qrs_score:          0.8048\n",
      "                ---------------------------------\n",
      "\n"
     ]
    },
    {
     "name": "stderr",
     "output_type": "stream",
     "text": [
      "2021-02-08 01:33:38,359 (INFO) train.py:268] \n",
      "                Train epoch_32:\n",
      "                --------------------\n",
      "                train/epoch_loss:        0.6602021679282188\n",
      "train/qrs_score:         0.7916\n",
      "\n",
      "                test/qrs_score:          0.8048\n",
      "                ---------------------------------\n",
      "\n"
     ]
    },
    {
     "name": "stdout",
     "output_type": "stream",
     "text": [
      "ECG-SEQ-LAB - INFO - Created checkpoint directory\n"
     ]
    },
    {
     "name": "stderr",
     "output_type": "stream",
     "text": [
      "2021-02-08 01:33:38,401 (INFO) train.py:275] Created checkpoint directory\n"
     ]
    },
    {
     "name": "stdout",
     "output_type": "stream",
     "text": [
      "ECG-SEQ-LAB - INFO - Checkpoint 32 saved!\n"
     ]
    },
    {
     "name": "stderr",
     "output_type": "stream",
     "text": [
      "2021-02-08 01:33:38,602 (INFO) train.py:283] Checkpoint 32 saved!\n",
      "Epoch 32/300: 100%|█████████████████████████| 1600/1600 [00:55<00:00, 28.79it/s, loss (batch)=0.095]\n",
      "Epoch 33/300: 100%|█████████████████████████████████████████████| 1600/1600 [00:36<00:00, 28.94it/s]"
     ]
    },
    {
     "name": "stdout",
     "output_type": "stream",
     "text": [
      "QRS_acc: 0.7902\n",
      "Scoring complete.\n"
     ]
    },
    {
     "name": "stderr",
     "output_type": "stream",
     "text": [
      "\r",
      "Epoch 33/300: 100%|█████████████████████████████████████████████| 1600/1600 [00:50<00:00, 28.94it/s]"
     ]
    },
    {
     "name": "stdout",
     "output_type": "stream",
     "text": [
      "QRS_acc: 0.7938\n",
      "Scoring complete.\n",
      "ECG-SEQ-LAB - INFO - \n",
      "                Train epoch_33:\n",
      "                --------------------\n",
      "                train/epoch_loss:        0.6342094838619232\n",
      "train/qrs_score:         0.7902\n",
      "\n",
      "                test/qrs_score:          0.7938\n",
      "                ---------------------------------\n",
      "\n"
     ]
    },
    {
     "name": "stderr",
     "output_type": "stream",
     "text": [
      "2021-02-08 01:34:30,007 (INFO) train.py:268] \n",
      "                Train epoch_33:\n",
      "                --------------------\n",
      "                train/epoch_loss:        0.6342094838619232\n",
      "train/qrs_score:         0.7902\n",
      "\n",
      "                test/qrs_score:          0.7938\n",
      "                ---------------------------------\n",
      "\n"
     ]
    },
    {
     "name": "stdout",
     "output_type": "stream",
     "text": [
      "ECG-SEQ-LAB - INFO - Created checkpoint directory\n"
     ]
    },
    {
     "name": "stderr",
     "output_type": "stream",
     "text": [
      "2021-02-08 01:34:30,013 (INFO) train.py:275] Created checkpoint directory\n"
     ]
    },
    {
     "name": "stdout",
     "output_type": "stream",
     "text": [
      "ECG-SEQ-LAB - INFO - Checkpoint 33 saved!\n"
     ]
    },
    {
     "name": "stderr",
     "output_type": "stream",
     "text": [
      "2021-02-08 01:34:30,228 (INFO) train.py:283] Checkpoint 33 saved!\n",
      "Epoch 33/300: 100%|█████████████████████████████████████████████| 1600/1600 [00:51<00:00, 30.99it/s]\n",
      "Epoch 34/300: 100%|█████████████████████████████████████████████| 1600/1600 [00:36<00:00, 28.51it/s]"
     ]
    },
    {
     "name": "stdout",
     "output_type": "stream",
     "text": [
      "QRS_acc: 0.7863\n",
      "Scoring complete.\n"
     ]
    },
    {
     "name": "stderr",
     "output_type": "stream",
     "text": [
      "\r",
      "Epoch 34/300: 100%|█████████████████████████████████████████████| 1600/1600 [00:50<00:00, 28.51it/s]"
     ]
    },
    {
     "name": "stdout",
     "output_type": "stream",
     "text": [
      "QRS_acc: 0.7875\n",
      "Scoring complete.\n",
      "ECG-SEQ-LAB - INFO - \n",
      "                Train epoch_34:\n",
      "                --------------------\n",
      "                train/epoch_loss:        0.6359275132417679\n",
      "train/qrs_score:         0.7863\n",
      "\n",
      "                test/qrs_score:          0.7875\n",
      "                ---------------------------------\n",
      "\n"
     ]
    },
    {
     "name": "stderr",
     "output_type": "stream",
     "text": [
      "2021-02-08 01:35:22,111 (INFO) train.py:268] \n",
      "                Train epoch_34:\n",
      "                --------------------\n",
      "                train/epoch_loss:        0.6359275132417679\n",
      "train/qrs_score:         0.7863\n",
      "\n",
      "                test/qrs_score:          0.7875\n",
      "                ---------------------------------\n",
      "\n"
     ]
    },
    {
     "name": "stdout",
     "output_type": "stream",
     "text": [
      "ECG-SEQ-LAB - INFO - Created checkpoint directory\n"
     ]
    },
    {
     "name": "stderr",
     "output_type": "stream",
     "text": [
      "2021-02-08 01:35:22,119 (INFO) train.py:275] Created checkpoint directory\n"
     ]
    },
    {
     "name": "stdout",
     "output_type": "stream",
     "text": [
      "ECG-SEQ-LAB - INFO - Checkpoint 34 saved!\n"
     ]
    },
    {
     "name": "stderr",
     "output_type": "stream",
     "text": [
      "2021-02-08 01:35:22,305 (INFO) train.py:283] Checkpoint 34 saved!\n",
      "Epoch 34/300: 100%|█████████████████████████████████████████████| 1600/1600 [00:52<00:00, 30.72it/s]\n",
      "Epoch 35/300:  16%|████                     | 256/1600 [00:17<00:41, 32.47it/s, loss (batch)=0.0883]"
     ]
    },
    {
     "name": "stdout",
     "output_type": "stream",
     "text": [
      "ECG-SEQ-LAB - INFO - Train step_240: loss : 0.08828441053628922\n"
     ]
    },
    {
     "name": "stderr",
     "output_type": "stream",
     "text": [
      "2021-02-08 01:35:40,038 (INFO) train.py:225] Train step_240: loss : 0.08828441053628922\n",
      "Epoch 35/300: 100%|████████████████████████| 1600/1600 [00:41<00:00, 24.83it/s, loss (batch)=0.0883]"
     ]
    },
    {
     "name": "stdout",
     "output_type": "stream",
     "text": [
      "QRS_acc: 0.7847\n",
      "Scoring complete.\n",
      "QRS_acc: 0.7928\n",
      "Scoring complete.\n",
      "ECG-SEQ-LAB - INFO - \n",
      "                Train epoch_35:\n",
      "                --------------------\n",
      "                train/epoch_loss:        0.6233504191040993\n",
      "train/qrs_score:         0.7847\n",
      "\n",
      "                test/qrs_score:          0.7928\n",
      "                ---------------------------------\n",
      "\n"
     ]
    },
    {
     "name": "stderr",
     "output_type": "stream",
     "text": [
      "2021-02-08 01:36:20,696 (INFO) train.py:268] \n",
      "                Train epoch_35:\n",
      "                --------------------\n",
      "                train/epoch_loss:        0.6233504191040993\n",
      "train/qrs_score:         0.7847\n",
      "\n",
      "                test/qrs_score:          0.7928\n",
      "                ---------------------------------\n",
      "\n"
     ]
    },
    {
     "name": "stdout",
     "output_type": "stream",
     "text": [
      "ECG-SEQ-LAB - INFO - Created checkpoint directory\n"
     ]
    },
    {
     "name": "stderr",
     "output_type": "stream",
     "text": [
      "2021-02-08 01:36:20,713 (INFO) train.py:275] Created checkpoint directory\n"
     ]
    },
    {
     "name": "stdout",
     "output_type": "stream",
     "text": [
      "ECG-SEQ-LAB - INFO - Checkpoint 35 saved!\n"
     ]
    },
    {
     "name": "stderr",
     "output_type": "stream",
     "text": [
      "2021-02-08 01:36:21,861 (INFO) train.py:283] Checkpoint 35 saved!\n",
      "Epoch 35/300: 100%|████████████████████████| 1600/1600 [00:59<00:00, 26.87it/s, loss (batch)=0.0883]\n",
      "Epoch 36/300: 100%|█████████████████████████████████████████████| 1600/1600 [00:50<00:00, 24.48it/s]"
     ]
    },
    {
     "name": "stdout",
     "output_type": "stream",
     "text": [
      "QRS_acc: 0.7969\n",
      "Scoring complete.\n"
     ]
    },
    {
     "name": "stderr",
     "output_type": "stream",
     "text": [
      "\r",
      "Epoch 36/300: 100%|█████████████████████████████████████████████| 1600/1600 [01:10<00:00, 24.48it/s]"
     ]
    },
    {
     "name": "stdout",
     "output_type": "stream",
     "text": [
      "QRS_acc: 0.8145\n",
      "Scoring complete.\n",
      "ECG-SEQ-LAB - INFO - \n",
      "                Train epoch_36:\n",
      "                --------------------\n",
      "                train/epoch_loss:        0.6576748937368393\n",
      "train/qrs_score:         0.7969\n",
      "\n",
      "                test/qrs_score:          0.8145\n",
      "                ---------------------------------\n",
      "\n"
     ]
    },
    {
     "name": "stderr",
     "output_type": "stream",
     "text": [
      "2021-02-08 01:37:32,853 (INFO) train.py:268] \n",
      "                Train epoch_36:\n",
      "                --------------------\n",
      "                train/epoch_loss:        0.6576748937368393\n",
      "train/qrs_score:         0.7969\n",
      "\n",
      "                test/qrs_score:          0.8145\n",
      "                ---------------------------------\n",
      "\n"
     ]
    },
    {
     "name": "stdout",
     "output_type": "stream",
     "text": [
      "ECG-SEQ-LAB - INFO - Created checkpoint directory\n"
     ]
    },
    {
     "name": "stderr",
     "output_type": "stream",
     "text": [
      "2021-02-08 01:37:32,868 (INFO) train.py:275] Created checkpoint directory\n"
     ]
    },
    {
     "name": "stdout",
     "output_type": "stream",
     "text": [
      "ECG-SEQ-LAB - INFO - Checkpoint 36 saved!\n"
     ]
    },
    {
     "name": "stderr",
     "output_type": "stream",
     "text": [
      "2021-02-08 01:37:33,093 (INFO) train.py:283] Checkpoint 36 saved!\n",
      "Epoch 36/300: 100%|█████████████████████████████████████████████| 1600/1600 [01:11<00:00, 22.46it/s]\n",
      "Epoch 37/300: 100%|█████████████████████████████████████████████| 1600/1600 [00:37<00:00, 28.10it/s]"
     ]
    },
    {
     "name": "stdout",
     "output_type": "stream",
     "text": [
      "QRS_acc: 0.7811\n",
      "Scoring complete.\n"
     ]
    },
    {
     "name": "stderr",
     "output_type": "stream",
     "text": [
      "\r",
      "Epoch 37/300: 100%|█████████████████████████████████████████████| 1600/1600 [00:50<00:00, 28.10it/s]"
     ]
    },
    {
     "name": "stdout",
     "output_type": "stream",
     "text": [
      "QRS_acc: 0.7958\n",
      "Scoring complete.\n",
      "ECG-SEQ-LAB - INFO - \n",
      "                Train epoch_37:\n",
      "                --------------------\n",
      "                train/epoch_loss:        0.6481238827109337\n",
      "train/qrs_score:         0.7811\n",
      "\n",
      "                test/qrs_score:          0.7958\n",
      "                ---------------------------------\n",
      "\n"
     ]
    },
    {
     "name": "stderr",
     "output_type": "stream",
     "text": [
      "2021-02-08 01:38:24,861 (INFO) train.py:268] \n",
      "                Train epoch_37:\n",
      "                --------------------\n",
      "                train/epoch_loss:        0.6481238827109337\n",
      "train/qrs_score:         0.7811\n",
      "\n",
      "                test/qrs_score:          0.7958\n",
      "                ---------------------------------\n",
      "\n"
     ]
    },
    {
     "name": "stdout",
     "output_type": "stream",
     "text": [
      "ECG-SEQ-LAB - INFO - Created checkpoint directory\n"
     ]
    },
    {
     "name": "stderr",
     "output_type": "stream",
     "text": [
      "2021-02-08 01:38:24,896 (INFO) train.py:275] Created checkpoint directory\n"
     ]
    },
    {
     "name": "stdout",
     "output_type": "stream",
     "text": [
      "ECG-SEQ-LAB - INFO - Checkpoint 37 saved!\n"
     ]
    },
    {
     "name": "stderr",
     "output_type": "stream",
     "text": [
      "2021-02-08 01:38:25,014 (INFO) train.py:283] Checkpoint 37 saved!\n",
      "Epoch 37/300: 100%|█████████████████████████████████████████████| 1600/1600 [00:51<00:00, 30.82it/s]\n",
      "Epoch 38/300:   0%|                                   | 0/1600 [00:11<?, ?it/s, loss (batch)=0.0908]"
     ]
    },
    {
     "name": "stdout",
     "output_type": "stream",
     "text": [
      "ECG-SEQ-LAB - INFO - Train step_260: loss : 0.0907692164182663\n"
     ]
    },
    {
     "name": "stderr",
     "output_type": "stream",
     "text": [
      "2021-02-08 01:38:36,222 (INFO) train.py:225] Train step_260: loss : 0.0907692164182663\n",
      "Epoch 38/300: 100%|████████████████████████| 1600/1600 [00:36<00:00, 28.12it/s, loss (batch)=0.0908]"
     ]
    },
    {
     "name": "stdout",
     "output_type": "stream",
     "text": [
      "QRS_acc: 0.8002\n",
      "Scoring complete.\n"
     ]
    },
    {
     "name": "stderr",
     "output_type": "stream",
     "text": [
      "\r",
      "Epoch 38/300: 100%|████████████████████████| 1600/1600 [00:50<00:00, 28.12it/s, loss (batch)=0.0908]"
     ]
    },
    {
     "name": "stdout",
     "output_type": "stream",
     "text": [
      "QRS_acc: 0.8082\n",
      "Scoring complete.\n",
      "ECG-SEQ-LAB - INFO - \n",
      "                Train epoch_38:\n",
      "                --------------------\n",
      "                train/epoch_loss:        0.6167786493897438\n",
      "train/qrs_score:         0.8002\n",
      "\n",
      "                test/qrs_score:          0.8082\n",
      "                ---------------------------------\n",
      "\n"
     ]
    },
    {
     "name": "stderr",
     "output_type": "stream",
     "text": [
      "2021-02-08 01:39:16,715 (INFO) train.py:268] \n",
      "                Train epoch_38:\n",
      "                --------------------\n",
      "                train/epoch_loss:        0.6167786493897438\n",
      "train/qrs_score:         0.8002\n",
      "\n",
      "                test/qrs_score:          0.8082\n",
      "                ---------------------------------\n",
      "\n"
     ]
    },
    {
     "name": "stdout",
     "output_type": "stream",
     "text": [
      "ECG-SEQ-LAB - INFO - Created checkpoint directory\n"
     ]
    },
    {
     "name": "stderr",
     "output_type": "stream",
     "text": [
      "2021-02-08 01:39:16,722 (INFO) train.py:275] Created checkpoint directory\n"
     ]
    },
    {
     "name": "stdout",
     "output_type": "stream",
     "text": [
      "ECG-SEQ-LAB - INFO - Checkpoint 38 saved!\n"
     ]
    },
    {
     "name": "stderr",
     "output_type": "stream",
     "text": [
      "2021-02-08 01:39:16,830 (INFO) train.py:283] Checkpoint 38 saved!\n",
      "Epoch 38/300: 100%|████████████████████████| 1600/1600 [00:51<00:00, 30.88it/s, loss (batch)=0.0908]\n",
      "Epoch 39/300: 100%|█████████████████████████████████████████████| 1600/1600 [00:37<00:00, 28.77it/s]"
     ]
    },
    {
     "name": "stdout",
     "output_type": "stream",
     "text": [
      "QRS_acc: 0.7936\n",
      "Scoring complete.\n"
     ]
    },
    {
     "name": "stderr",
     "output_type": "stream",
     "text": [
      "\r",
      "Epoch 39/300: 100%|█████████████████████████████████████████████| 1600/1600 [00:50<00:00, 28.77it/s]"
     ]
    },
    {
     "name": "stdout",
     "output_type": "stream",
     "text": [
      "QRS_acc: 0.802\n",
      "Scoring complete.\n",
      "ECG-SEQ-LAB - INFO - \n",
      "                Train epoch_39:\n",
      "                --------------------\n",
      "                train/epoch_loss:        0.6181718558073044\n",
      "train/qrs_score:         0.7936\n",
      "\n",
      "                test/qrs_score:          0.802\n",
      "                ---------------------------------\n",
      "\n"
     ]
    },
    {
     "name": "stderr",
     "output_type": "stream",
     "text": [
      "2021-02-08 01:40:08,359 (INFO) train.py:268] \n",
      "                Train epoch_39:\n",
      "                --------------------\n",
      "                train/epoch_loss:        0.6181718558073044\n",
      "train/qrs_score:         0.7936\n",
      "\n",
      "                test/qrs_score:          0.802\n",
      "                ---------------------------------\n",
      "\n"
     ]
    },
    {
     "name": "stdout",
     "output_type": "stream",
     "text": [
      "ECG-SEQ-LAB - INFO - Created checkpoint directory\n"
     ]
    },
    {
     "name": "stderr",
     "output_type": "stream",
     "text": [
      "2021-02-08 01:40:08,402 (INFO) train.py:275] Created checkpoint directory\n"
     ]
    },
    {
     "name": "stdout",
     "output_type": "stream",
     "text": [
      "ECG-SEQ-LAB - INFO - Checkpoint 39 saved!\n"
     ]
    },
    {
     "name": "stderr",
     "output_type": "stream",
     "text": [
      "2021-02-08 01:40:08,600 (INFO) train.py:283] Checkpoint 39 saved!\n",
      "Epoch 39/300: 100%|█████████████████████████████████████████████| 1600/1600 [00:51<00:00, 30.91it/s]\n",
      "Epoch 40/300:  96%|███████████████████████ | 1536/1600 [00:38<00:01, 46.59it/s, loss (batch)=0.0858]"
     ]
    },
    {
     "name": "stdout",
     "output_type": "stream",
     "text": [
      "ECG-SEQ-LAB - INFO - Train step_280: loss : 0.0857999175786972\n"
     ]
    },
    {
     "name": "stderr",
     "output_type": "stream",
     "text": [
      "2021-02-08 01:40:46,836 (INFO) train.py:225] Train step_280: loss : 0.0857999175786972\n",
      "Epoch 40/300: 100%|████████████████████████| 1600/1600 [00:38<00:00, 25.32it/s, loss (batch)=0.0858]"
     ]
    },
    {
     "name": "stdout",
     "output_type": "stream",
     "text": [
      "QRS_acc: 0.8031\n",
      "Scoring complete.\n"
     ]
    },
    {
     "name": "stderr",
     "output_type": "stream",
     "text": [
      "\r",
      "Epoch 40/300: 100%|████████████████████████| 1600/1600 [00:50<00:00, 25.32it/s, loss (batch)=0.0858]"
     ]
    },
    {
     "name": "stdout",
     "output_type": "stream",
     "text": [
      "QRS_acc: 0.8148\n",
      "Scoring complete.\n",
      "ECG-SEQ-LAB - INFO - \n",
      "                Train epoch_40:\n",
      "                --------------------\n",
      "                train/epoch_loss:        0.6170622557401657\n",
      "train/qrs_score:         0.8031\n",
      "\n",
      "                test/qrs_score:          0.8148\n",
      "                ---------------------------------\n",
      "\n"
     ]
    },
    {
     "name": "stderr",
     "output_type": "stream",
     "text": [
      "2021-02-08 01:41:01,912 (INFO) train.py:268] \n",
      "                Train epoch_40:\n",
      "                --------------------\n",
      "                train/epoch_loss:        0.6170622557401657\n",
      "train/qrs_score:         0.8031\n",
      "\n",
      "                test/qrs_score:          0.8148\n",
      "                ---------------------------------\n",
      "\n"
     ]
    },
    {
     "name": "stdout",
     "output_type": "stream",
     "text": [
      "ECG-SEQ-LAB - INFO - Created checkpoint directory\n"
     ]
    },
    {
     "name": "stderr",
     "output_type": "stream",
     "text": [
      "2021-02-08 01:41:01,924 (INFO) train.py:275] Created checkpoint directory\n"
     ]
    },
    {
     "name": "stdout",
     "output_type": "stream",
     "text": [
      "ECG-SEQ-LAB - INFO - Checkpoint 40 saved!\n"
     ]
    },
    {
     "name": "stderr",
     "output_type": "stream",
     "text": [
      "2021-02-08 01:41:02,189 (INFO) train.py:283] Checkpoint 40 saved!\n",
      "Epoch 40/300: 100%|████████████████████████| 1600/1600 [00:53<00:00, 29.86it/s, loss (batch)=0.0858]\n",
      "Epoch 41/300: 100%|█████████████████████████████████████████████| 1600/1600 [00:38<00:00, 28.73it/s]"
     ]
    },
    {
     "name": "stdout",
     "output_type": "stream",
     "text": [
      "QRS_acc: 0.8071\n",
      "Scoring complete.\n"
     ]
    },
    {
     "name": "stderr",
     "output_type": "stream",
     "text": [
      "\r",
      "Epoch 41/300: 100%|█████████████████████████████████████████████| 1600/1600 [00:50<00:00, 28.73it/s]"
     ]
    },
    {
     "name": "stdout",
     "output_type": "stream",
     "text": [
      "QRS_acc: 0.8182\n",
      "Scoring complete.\n",
      "ECG-SEQ-LAB - INFO - \n",
      "                Train epoch_41:\n",
      "                --------------------\n",
      "                train/epoch_loss:        0.6050711646676064\n",
      "train/qrs_score:         0.8071\n",
      "\n",
      "                test/qrs_score:          0.8182\n",
      "                ---------------------------------\n",
      "\n"
     ]
    },
    {
     "name": "stderr",
     "output_type": "stream",
     "text": [
      "2021-02-08 01:41:55,508 (INFO) train.py:268] \n",
      "                Train epoch_41:\n",
      "                --------------------\n",
      "                train/epoch_loss:        0.6050711646676064\n",
      "train/qrs_score:         0.8071\n",
      "\n",
      "                test/qrs_score:          0.8182\n",
      "                ---------------------------------\n",
      "\n"
     ]
    },
    {
     "name": "stdout",
     "output_type": "stream",
     "text": [
      "ECG-SEQ-LAB - INFO - Created checkpoint directory\n"
     ]
    },
    {
     "name": "stderr",
     "output_type": "stream",
     "text": [
      "2021-02-08 01:41:55,513 (INFO) train.py:275] Created checkpoint directory\n"
     ]
    },
    {
     "name": "stdout",
     "output_type": "stream",
     "text": [
      "ECG-SEQ-LAB - INFO - Checkpoint 41 saved!\n"
     ]
    },
    {
     "name": "stderr",
     "output_type": "stream",
     "text": [
      "2021-02-08 01:41:55,726 (INFO) train.py:283] Checkpoint 41 saved!\n",
      "Epoch 41/300: 100%|█████████████████████████████████████████████| 1600/1600 [00:53<00:00, 29.89it/s]\n",
      "Epoch 42/300: 100%|█████████████████████████████████████████████| 1600/1600 [00:36<00:00, 28.48it/s]"
     ]
    },
    {
     "name": "stdout",
     "output_type": "stream",
     "text": [
      "QRS_acc: 0.8084\n",
      "Scoring complete.\n"
     ]
    },
    {
     "name": "stderr",
     "output_type": "stream",
     "text": [
      "\r",
      "Epoch 42/300: 100%|█████████████████████████████████████████████| 1600/1600 [00:50<00:00, 28.48it/s]"
     ]
    },
    {
     "name": "stdout",
     "output_type": "stream",
     "text": [
      "QRS_acc: 0.8055\n",
      "Scoring complete.\n",
      "ECG-SEQ-LAB - INFO - \n",
      "                Train epoch_42:\n",
      "                --------------------\n",
      "                train/epoch_loss:        0.5960560515522957\n",
      "train/qrs_score:         0.8084\n",
      "\n",
      "                test/qrs_score:          0.8055\n",
      "                ---------------------------------\n",
      "\n"
     ]
    },
    {
     "name": "stderr",
     "output_type": "stream",
     "text": [
      "2021-02-08 01:42:48,614 (INFO) train.py:268] \n",
      "                Train epoch_42:\n",
      "                --------------------\n",
      "                train/epoch_loss:        0.5960560515522957\n",
      "train/qrs_score:         0.8084\n",
      "\n",
      "                test/qrs_score:          0.8055\n",
      "                ---------------------------------\n",
      "\n"
     ]
    },
    {
     "name": "stdout",
     "output_type": "stream",
     "text": [
      "ECG-SEQ-LAB - INFO - Created checkpoint directory\n"
     ]
    },
    {
     "name": "stderr",
     "output_type": "stream",
     "text": [
      "2021-02-08 01:42:48,632 (INFO) train.py:275] Created checkpoint directory\n"
     ]
    },
    {
     "name": "stdout",
     "output_type": "stream",
     "text": [
      "ECG-SEQ-LAB - INFO - Checkpoint 42 saved!\n"
     ]
    },
    {
     "name": "stderr",
     "output_type": "stream",
     "text": [
      "2021-02-08 01:42:48,764 (INFO) train.py:283] Checkpoint 42 saved!\n",
      "Epoch 42/300: 100%|█████████████████████████████████████████████| 1600/1600 [00:53<00:00, 30.17it/s]\n",
      "Epoch 43/300:  80%|███████████████████▏    | 1280/1600 [00:37<00:07, 43.65it/s, loss (batch)=0.0793]"
     ]
    },
    {
     "name": "stdout",
     "output_type": "stream",
     "text": [
      "ECG-SEQ-LAB - INFO - Train step_300: loss : 0.07926472276449203\n"
     ]
    },
    {
     "name": "stderr",
     "output_type": "stream",
     "text": [
      "2021-02-08 01:43:26,420 (INFO) train.py:225] Train step_300: loss : 0.07926472276449203\n",
      "Epoch 43/300: 100%|████████████████████████| 1600/1600 [00:38<00:00, 49.31it/s, loss (batch)=0.0793]"
     ]
    },
    {
     "name": "stdout",
     "output_type": "stream",
     "text": [
      "QRS_acc: 0.8088\n",
      "Scoring complete.\n"
     ]
    },
    {
     "name": "stderr",
     "output_type": "stream",
     "text": [
      "\r",
      "Epoch 43/300: 100%|████████████████████████| 1600/1600 [00:50<00:00, 49.31it/s, loss (batch)=0.0793]"
     ]
    },
    {
     "name": "stdout",
     "output_type": "stream",
     "text": [
      "QRS_acc: 0.809\n",
      "Scoring complete.\n",
      "ECG-SEQ-LAB - INFO - \n",
      "                Train epoch_43:\n",
      "                --------------------\n",
      "                train/epoch_loss:        0.6010935455560684\n",
      "train/qrs_score:         0.8088\n",
      "\n",
      "                test/qrs_score:          0.809\n",
      "                ---------------------------------\n",
      "\n"
     ]
    },
    {
     "name": "stderr",
     "output_type": "stream",
     "text": [
      "2021-02-08 01:43:41,498 (INFO) train.py:268] \n",
      "                Train epoch_43:\n",
      "                --------------------\n",
      "                train/epoch_loss:        0.6010935455560684\n",
      "train/qrs_score:         0.8088\n",
      "\n",
      "                test/qrs_score:          0.809\n",
      "                ---------------------------------\n",
      "\n"
     ]
    },
    {
     "name": "stdout",
     "output_type": "stream",
     "text": [
      "ECG-SEQ-LAB - INFO - Created checkpoint directory\n"
     ]
    },
    {
     "name": "stderr",
     "output_type": "stream",
     "text": [
      "2021-02-08 01:43:41,502 (INFO) train.py:275] Created checkpoint directory\n"
     ]
    },
    {
     "name": "stdout",
     "output_type": "stream",
     "text": [
      "ECG-SEQ-LAB - INFO - Checkpoint 43 saved!\n"
     ]
    },
    {
     "name": "stderr",
     "output_type": "stream",
     "text": [
      "2021-02-08 01:43:41,601 (INFO) train.py:283] Checkpoint 43 saved!\n",
      "Epoch 43/300: 100%|████████████████████████| 1600/1600 [00:52<00:00, 30.28it/s, loss (batch)=0.0793]\n",
      "Epoch 44/300: 100%|█████████████████████████████████████████████| 1600/1600 [00:50<00:00, 27.65it/s]"
     ]
    },
    {
     "name": "stdout",
     "output_type": "stream",
     "text": [
      "QRS_acc: 0.8123\n",
      "Scoring complete.\n",
      "QRS_acc: 0.817\n",
      "Scoring complete.\n",
      "ECG-SEQ-LAB - INFO - \n",
      "                Train epoch_44:\n",
      "                --------------------\n",
      "                train/epoch_loss:        0.5891240686178207\n",
      "train/qrs_score:         0.8123\n",
      "\n",
      "                test/qrs_score:          0.817\n",
      "                ---------------------------------\n",
      "\n"
     ]
    },
    {
     "name": "stderr",
     "output_type": "stream",
     "text": [
      "2021-02-08 01:45:04,856 (INFO) train.py:268] \n",
      "                Train epoch_44:\n",
      "                --------------------\n",
      "                train/epoch_loss:        0.5891240686178207\n",
      "train/qrs_score:         0.8123\n",
      "\n",
      "                test/qrs_score:          0.817\n",
      "                ---------------------------------\n",
      "\n"
     ]
    },
    {
     "name": "stdout",
     "output_type": "stream",
     "text": [
      "ECG-SEQ-LAB - INFO - Created checkpoint directory\n"
     ]
    },
    {
     "name": "stderr",
     "output_type": "stream",
     "text": [
      "2021-02-08 01:45:04,879 (INFO) train.py:275] Created checkpoint directory\n"
     ]
    },
    {
     "name": "stdout",
     "output_type": "stream",
     "text": [
      "ECG-SEQ-LAB - INFO - Checkpoint 44 saved!\n"
     ]
    },
    {
     "name": "stderr",
     "output_type": "stream",
     "text": [
      "2021-02-08 01:45:05,146 (INFO) train.py:283] Checkpoint 44 saved!\n",
      "Epoch 44/300: 100%|█████████████████████████████████████████████| 1600/1600 [01:23<00:00, 19.15it/s]\n",
      "Epoch 45/300: 100%|█████████████████████████████████████████████| 1600/1600 [00:37<00:00, 28.68it/s]"
     ]
    },
    {
     "name": "stdout",
     "output_type": "stream",
     "text": [
      "QRS_acc: 0.7974\n",
      "Scoring complete.\n"
     ]
    },
    {
     "name": "stderr",
     "output_type": "stream",
     "text": [
      "\r",
      "Epoch 45/300: 100%|█████████████████████████████████████████████| 1600/1600 [00:50<00:00, 28.68it/s]"
     ]
    },
    {
     "name": "stdout",
     "output_type": "stream",
     "text": [
      "QRS_acc: 0.8138\n",
      "Scoring complete.\n",
      "ECG-SEQ-LAB - INFO - \n",
      "                Train epoch_45:\n",
      "                --------------------\n",
      "                train/epoch_loss:        0.596418522298336\n",
      "train/qrs_score:         0.7974\n",
      "\n",
      "                test/qrs_score:          0.8138\n",
      "                ---------------------------------\n",
      "\n"
     ]
    },
    {
     "name": "stderr",
     "output_type": "stream",
     "text": [
      "2021-02-08 01:45:57,047 (INFO) train.py:268] \n",
      "                Train epoch_45:\n",
      "                --------------------\n",
      "                train/epoch_loss:        0.596418522298336\n",
      "train/qrs_score:         0.7974\n",
      "\n",
      "                test/qrs_score:          0.8138\n",
      "                ---------------------------------\n",
      "\n"
     ]
    },
    {
     "name": "stdout",
     "output_type": "stream",
     "text": [
      "ECG-SEQ-LAB - INFO - Created checkpoint directory\n"
     ]
    },
    {
     "name": "stderr",
     "output_type": "stream",
     "text": [
      "2021-02-08 01:45:57,054 (INFO) train.py:275] Created checkpoint directory\n"
     ]
    },
    {
     "name": "stdout",
     "output_type": "stream",
     "text": [
      "ECG-SEQ-LAB - INFO - Checkpoint 45 saved!\n"
     ]
    },
    {
     "name": "stderr",
     "output_type": "stream",
     "text": [
      "2021-02-08 01:45:57,299 (INFO) train.py:283] Checkpoint 45 saved!\n",
      "Epoch 45/300: 100%|█████████████████████████████████████████████| 1600/1600 [00:52<00:00, 30.68it/s]\n",
      "Epoch 46/300:  64%|███████████████▎        | 1024/1600 [00:32<00:13, 41.43it/s, loss (batch)=0.0945]"
     ]
    },
    {
     "name": "stdout",
     "output_type": "stream",
     "text": [
      "ECG-SEQ-LAB - INFO - Train step_320: loss : 0.09448498487472534\n"
     ]
    },
    {
     "name": "stderr",
     "output_type": "stream",
     "text": [
      "2021-02-08 01:46:29,594 (INFO) train.py:225] Train step_320: loss : 0.09448498487472534\n",
      "Epoch 46/300: 100%|████████████████████████| 1600/1600 [00:37<00:00, 29.07it/s, loss (batch)=0.0945]"
     ]
    },
    {
     "name": "stdout",
     "output_type": "stream",
     "text": [
      "QRS_acc: 0.8179\n",
      "Scoring complete.\n"
     ]
    },
    {
     "name": "stderr",
     "output_type": "stream",
     "text": [
      "\r",
      "Epoch 46/300: 100%|████████████████████████| 1600/1600 [00:50<00:00, 29.07it/s, loss (batch)=0.0945]"
     ]
    },
    {
     "name": "stdout",
     "output_type": "stream",
     "text": [
      "QRS_acc: 0.8222\n",
      "Scoring complete.\n",
      "ECG-SEQ-LAB - INFO - \n",
      "                Train epoch_46:\n",
      "                --------------------\n",
      "                train/epoch_loss:        0.5936737954616547\n",
      "train/qrs_score:         0.8179\n",
      "\n",
      "                test/qrs_score:          0.8222\n",
      "                ---------------------------------\n",
      "\n"
     ]
    },
    {
     "name": "stderr",
     "output_type": "stream",
     "text": [
      "2021-02-08 01:46:50,200 (INFO) train.py:268] \n",
      "                Train epoch_46:\n",
      "                --------------------\n",
      "                train/epoch_loss:        0.5936737954616547\n",
      "train/qrs_score:         0.8179\n",
      "\n",
      "                test/qrs_score:          0.8222\n",
      "                ---------------------------------\n",
      "\n"
     ]
    },
    {
     "name": "stdout",
     "output_type": "stream",
     "text": [
      "ECG-SEQ-LAB - INFO - Created checkpoint directory\n"
     ]
    },
    {
     "name": "stderr",
     "output_type": "stream",
     "text": [
      "2021-02-08 01:46:50,209 (INFO) train.py:275] Created checkpoint directory\n"
     ]
    },
    {
     "name": "stdout",
     "output_type": "stream",
     "text": [
      "ECG-SEQ-LAB - INFO - Checkpoint 46 saved!\n"
     ]
    },
    {
     "name": "stderr",
     "output_type": "stream",
     "text": [
      "2021-02-08 01:46:50,409 (INFO) train.py:283] Checkpoint 46 saved!\n",
      "Epoch 46/300: 100%|████████████████████████| 1600/1600 [00:53<00:00, 30.13it/s, loss (batch)=0.0945]\n",
      "Epoch 47/300: 100%|█████████████████████████████████████████████| 1600/1600 [00:37<00:00, 28.44it/s]"
     ]
    },
    {
     "name": "stdout",
     "output_type": "stream",
     "text": [
      "QRS_acc: 0.8211\n",
      "Scoring complete.\n"
     ]
    },
    {
     "name": "stderr",
     "output_type": "stream",
     "text": [
      "\r",
      "Epoch 47/300: 100%|█████████████████████████████████████████████| 1600/1600 [00:50<00:00, 28.44it/s]"
     ]
    },
    {
     "name": "stdout",
     "output_type": "stream",
     "text": [
      "QRS_acc: 0.8265\n",
      "Scoring complete.\n",
      "ECG-SEQ-LAB - INFO - \n",
      "                Train epoch_47:\n",
      "                --------------------\n",
      "                train/epoch_loss:        0.5861602574586868\n",
      "train/qrs_score:         0.8211\n",
      "\n",
      "                test/qrs_score:          0.8265\n",
      "                ---------------------------------\n",
      "\n"
     ]
    },
    {
     "name": "stderr",
     "output_type": "stream",
     "text": [
      "2021-02-08 01:47:43,257 (INFO) train.py:268] \n",
      "                Train epoch_47:\n",
      "                --------------------\n",
      "                train/epoch_loss:        0.5861602574586868\n",
      "train/qrs_score:         0.8211\n",
      "\n",
      "                test/qrs_score:          0.8265\n",
      "                ---------------------------------\n",
      "\n"
     ]
    },
    {
     "name": "stdout",
     "output_type": "stream",
     "text": [
      "ECG-SEQ-LAB - INFO - Created checkpoint directory\n"
     ]
    },
    {
     "name": "stderr",
     "output_type": "stream",
     "text": [
      "2021-02-08 01:47:43,435 (INFO) train.py:275] Created checkpoint directory\n"
     ]
    },
    {
     "name": "stdout",
     "output_type": "stream",
     "text": [
      "ECG-SEQ-LAB - INFO - Checkpoint 47 saved!\n"
     ]
    },
    {
     "name": "stderr",
     "output_type": "stream",
     "text": [
      "2021-02-08 01:47:43,823 (INFO) train.py:283] Checkpoint 47 saved!\n",
      "Epoch 47/300: 100%|█████████████████████████████████████████████| 1600/1600 [00:53<00:00, 29.96it/s]\n",
      "Epoch 48/300: 100%|█████████████████████████████████████████████| 1600/1600 [00:38<00:00, 27.88it/s]"
     ]
    },
    {
     "name": "stdout",
     "output_type": "stream",
     "text": [
      "QRS_acc: 0.8097\n",
      "Scoring complete.\n"
     ]
    },
    {
     "name": "stderr",
     "output_type": "stream",
     "text": [
      "\r",
      "Epoch 48/300: 100%|█████████████████████████████████████████████| 1600/1600 [00:50<00:00, 27.88it/s]"
     ]
    },
    {
     "name": "stdout",
     "output_type": "stream",
     "text": [
      "QRS_acc: 0.8105\n",
      "Scoring complete.\n",
      "ECG-SEQ-LAB - INFO - \n",
      "                Train epoch_48:\n",
      "                --------------------\n",
      "                train/epoch_loss:        0.5793328210711479\n",
      "train/qrs_score:         0.8097\n",
      "\n",
      "                test/qrs_score:          0.8105\n",
      "                ---------------------------------\n",
      "\n"
     ]
    },
    {
     "name": "stderr",
     "output_type": "stream",
     "text": [
      "2021-02-08 01:48:38,311 (INFO) train.py:268] \n",
      "                Train epoch_48:\n",
      "                --------------------\n",
      "                train/epoch_loss:        0.5793328210711479\n",
      "train/qrs_score:         0.8097\n",
      "\n",
      "                test/qrs_score:          0.8105\n",
      "                ---------------------------------\n",
      "\n"
     ]
    },
    {
     "name": "stdout",
     "output_type": "stream",
     "text": [
      "ECG-SEQ-LAB - INFO - Created checkpoint directory\n"
     ]
    },
    {
     "name": "stderr",
     "output_type": "stream",
     "text": [
      "2021-02-08 01:48:38,321 (INFO) train.py:275] Created checkpoint directory\n"
     ]
    },
    {
     "name": "stdout",
     "output_type": "stream",
     "text": [
      "ECG-SEQ-LAB - INFO - Checkpoint 48 saved!\n"
     ]
    },
    {
     "name": "stderr",
     "output_type": "stream",
     "text": [
      "2021-02-08 01:48:38,524 (INFO) train.py:283] Checkpoint 48 saved!\n",
      "Epoch 48/300: 100%|█████████████████████████████████████████████| 1600/1600 [00:54<00:00, 29.25it/s]\n",
      "Epoch 49/300:  48%|████████████             | 768/1600 [00:27<00:21, 39.09it/s, loss (batch)=0.0844]"
     ]
    },
    {
     "name": "stdout",
     "output_type": "stream",
     "text": [
      "ECG-SEQ-LAB - INFO - Train step_340: loss : 0.08441375195980072\n"
     ]
    },
    {
     "name": "stderr",
     "output_type": "stream",
     "text": [
      "2021-02-08 01:49:05,696 (INFO) train.py:225] Train step_340: loss : 0.08441375195980072\n",
      "Epoch 49/300: 100%|████████████████████████| 1600/1600 [00:37<00:00, 29.89it/s, loss (batch)=0.0844]"
     ]
    },
    {
     "name": "stdout",
     "output_type": "stream",
     "text": [
      "QRS_acc: 0.8021\n",
      "Scoring complete.\n"
     ]
    },
    {
     "name": "stderr",
     "output_type": "stream",
     "text": [
      "\r",
      "Epoch 49/300: 100%|████████████████████████| 1600/1600 [00:50<00:00, 29.89it/s, loss (batch)=0.0844]"
     ]
    },
    {
     "name": "stdout",
     "output_type": "stream",
     "text": [
      "QRS_acc: 0.7965\n",
      "Scoring complete.\n",
      "ECG-SEQ-LAB - INFO - \n",
      "                Train epoch_49:\n",
      "                --------------------\n",
      "                train/epoch_loss:        0.6022450402379036\n",
      "train/qrs_score:         0.8021\n",
      "\n",
      "                test/qrs_score:          0.7965\n",
      "                ---------------------------------\n",
      "\n"
     ]
    },
    {
     "name": "stderr",
     "output_type": "stream",
     "text": [
      "2021-02-08 01:49:30,724 (INFO) train.py:268] \n",
      "                Train epoch_49:\n",
      "                --------------------\n",
      "                train/epoch_loss:        0.6022450402379036\n",
      "train/qrs_score:         0.8021\n",
      "\n",
      "                test/qrs_score:          0.7965\n",
      "                ---------------------------------\n",
      "\n"
     ]
    },
    {
     "name": "stdout",
     "output_type": "stream",
     "text": [
      "ECG-SEQ-LAB - INFO - Created checkpoint directory\n"
     ]
    },
    {
     "name": "stderr",
     "output_type": "stream",
     "text": [
      "2021-02-08 01:49:30,728 (INFO) train.py:275] Created checkpoint directory\n"
     ]
    },
    {
     "name": "stdout",
     "output_type": "stream",
     "text": [
      "ECG-SEQ-LAB - INFO - Checkpoint 49 saved!\n"
     ]
    },
    {
     "name": "stderr",
     "output_type": "stream",
     "text": [
      "2021-02-08 01:49:31,057 (INFO) train.py:283] Checkpoint 49 saved!\n",
      "Epoch 49/300: 100%|████████████████████████| 1600/1600 [00:52<00:00, 30.46it/s, loss (batch)=0.0844]\n",
      "Epoch 50/300: 100%|█████████████████████████████████████████████| 1600/1600 [00:37<00:00, 28.68it/s]"
     ]
    },
    {
     "name": "stdout",
     "output_type": "stream",
     "text": [
      "QRS_acc: 0.8135\n",
      "Scoring complete.\n"
     ]
    },
    {
     "name": "stderr",
     "output_type": "stream",
     "text": [
      "\r",
      "Epoch 50/300: 100%|█████████████████████████████████████████████| 1600/1600 [00:50<00:00, 28.68it/s]"
     ]
    },
    {
     "name": "stdout",
     "output_type": "stream",
     "text": [
      "QRS_acc: 0.8155\n",
      "Scoring complete.\n",
      "ECG-SEQ-LAB - INFO - \n",
      "                Train epoch_50:\n",
      "                --------------------\n",
      "                train/epoch_loss:        0.581570453941822\n",
      "train/qrs_score:         0.8135\n",
      "\n",
      "                test/qrs_score:          0.8155\n",
      "                ---------------------------------\n",
      "\n"
     ]
    },
    {
     "name": "stderr",
     "output_type": "stream",
     "text": [
      "2021-02-08 01:50:23,824 (INFO) train.py:268] \n",
      "                Train epoch_50:\n",
      "                --------------------\n",
      "                train/epoch_loss:        0.581570453941822\n",
      "train/qrs_score:         0.8135\n",
      "\n",
      "                test/qrs_score:          0.8155\n",
      "                ---------------------------------\n",
      "\n"
     ]
    },
    {
     "name": "stdout",
     "output_type": "stream",
     "text": [
      "ECG-SEQ-LAB - INFO - Created checkpoint directory\n"
     ]
    },
    {
     "name": "stderr",
     "output_type": "stream",
     "text": [
      "2021-02-08 01:50:23,831 (INFO) train.py:275] Created checkpoint directory\n"
     ]
    },
    {
     "name": "stdout",
     "output_type": "stream",
     "text": [
      "ECG-SEQ-LAB - INFO - Checkpoint 50 saved!\n"
     ]
    },
    {
     "name": "stderr",
     "output_type": "stream",
     "text": [
      "2021-02-08 01:50:23,914 (INFO) train.py:283] Checkpoint 50 saved!\n",
      "Epoch 50/300: 100%|█████████████████████████████████████████████| 1600/1600 [00:52<00:00, 30.27it/s]\n",
      "Epoch 51/300: 100%|█████████████████████████████████████████████| 1600/1600 [00:36<00:00, 28.57it/s]"
     ]
    },
    {
     "name": "stdout",
     "output_type": "stream",
     "text": [
      "QRS_acc: 0.8135\n",
      "Scoring complete.\n"
     ]
    },
    {
     "name": "stderr",
     "output_type": "stream",
     "text": [
      "\r",
      "Epoch 51/300: 100%|█████████████████████████████████████████████| 1600/1600 [00:50<00:00, 28.57it/s]"
     ]
    },
    {
     "name": "stdout",
     "output_type": "stream",
     "text": [
      "QRS_acc: 0.8048\n",
      "Scoring complete.\n",
      "ECG-SEQ-LAB - INFO - \n",
      "                Train epoch_51:\n",
      "                --------------------\n",
      "                train/epoch_loss:        0.5820498988032341\n",
      "train/qrs_score:         0.8135\n",
      "\n",
      "                test/qrs_score:          0.8048\n",
      "                ---------------------------------\n",
      "\n"
     ]
    },
    {
     "name": "stderr",
     "output_type": "stream",
     "text": [
      "2021-02-08 01:51:15,297 (INFO) train.py:268] \n",
      "                Train epoch_51:\n",
      "                --------------------\n",
      "                train/epoch_loss:        0.5820498988032341\n",
      "train/qrs_score:         0.8135\n",
      "\n",
      "                test/qrs_score:          0.8048\n",
      "                ---------------------------------\n",
      "\n"
     ]
    },
    {
     "name": "stdout",
     "output_type": "stream",
     "text": [
      "ECG-SEQ-LAB - INFO - Created checkpoint directory\n"
     ]
    },
    {
     "name": "stderr",
     "output_type": "stream",
     "text": [
      "2021-02-08 01:51:15,331 (INFO) train.py:275] Created checkpoint directory\n"
     ]
    },
    {
     "name": "stdout",
     "output_type": "stream",
     "text": [
      "ECG-SEQ-LAB - INFO - Checkpoint 51 saved!\n"
     ]
    },
    {
     "name": "stderr",
     "output_type": "stream",
     "text": [
      "2021-02-08 01:51:15,514 (INFO) train.py:283] Checkpoint 51 saved!\n",
      "Epoch 51/300: 100%|█████████████████████████████████████████████| 1600/1600 [00:51<00:00, 31.01it/s]\n",
      "Epoch 52/300:  32%|████████                 | 512/1600 [00:34<01:07, 16.24it/s, loss (batch)=0.0837]"
     ]
    },
    {
     "name": "stdout",
     "output_type": "stream",
     "text": [
      "ECG-SEQ-LAB - INFO - Train step_360: loss : 0.08369878679513931\n"
     ]
    },
    {
     "name": "stderr",
     "output_type": "stream",
     "text": [
      "2021-02-08 01:51:49,797 (INFO) train.py:225] Train step_360: loss : 0.08369878679513931\n",
      "Epoch 52/300: 100%|████████████████████████| 1600/1600 [01:00<00:00, 24.98it/s, loss (batch)=0.0837]"
     ]
    },
    {
     "name": "stdout",
     "output_type": "stream",
     "text": [
      "QRS_acc: 0.8268\n",
      "Scoring complete.\n",
      "QRS_acc: 0.8152\n",
      "Scoring complete.\n",
      "ECG-SEQ-LAB - INFO - \n",
      "                Train epoch_52:\n",
      "                --------------------\n",
      "                train/epoch_loss:        0.6120635494589806\n",
      "train/qrs_score:         0.8268\n",
      "\n",
      "                test/qrs_score:          0.8152\n",
      "                ---------------------------------\n",
      "\n"
     ]
    },
    {
     "name": "stderr",
     "output_type": "stream",
     "text": [
      "2021-02-08 01:52:26,402 (INFO) train.py:268] \n",
      "                Train epoch_52:\n",
      "                --------------------\n",
      "                train/epoch_loss:        0.6120635494589806\n",
      "train/qrs_score:         0.8268\n",
      "\n",
      "                test/qrs_score:          0.8152\n",
      "                ---------------------------------\n",
      "\n"
     ]
    },
    {
     "name": "stdout",
     "output_type": "stream",
     "text": [
      "ECG-SEQ-LAB - INFO - Created checkpoint directory\n"
     ]
    },
    {
     "name": "stderr",
     "output_type": "stream",
     "text": [
      "2021-02-08 01:52:26,418 (INFO) train.py:275] Created checkpoint directory\n"
     ]
    },
    {
     "name": "stdout",
     "output_type": "stream",
     "text": [
      "ECG-SEQ-LAB - INFO - Checkpoint 52 saved!\n"
     ]
    },
    {
     "name": "stderr",
     "output_type": "stream",
     "text": [
      "2021-02-08 01:52:26,622 (INFO) train.py:283] Checkpoint 52 saved!\n",
      "Epoch 52/300: 100%|████████████████████████| 1600/1600 [01:11<00:00, 22.50it/s, loss (batch)=0.0837]\n",
      "Epoch 53/300: 100%|█████████████████████████████████████████████| 1600/1600 [00:37<00:00, 28.25it/s]"
     ]
    },
    {
     "name": "stdout",
     "output_type": "stream",
     "text": [
      "QRS_acc: 0.8186\n",
      "Scoring complete.\n"
     ]
    },
    {
     "name": "stderr",
     "output_type": "stream",
     "text": [
      "\r",
      "Epoch 53/300: 100%|█████████████████████████████████████████████| 1600/1600 [00:50<00:00, 28.25it/s]"
     ]
    },
    {
     "name": "stdout",
     "output_type": "stream",
     "text": [
      "QRS_acc: 0.8078\n",
      "Scoring complete.\n",
      "ECG-SEQ-LAB - INFO - \n",
      "                Train epoch_53:\n",
      "                --------------------\n",
      "                train/epoch_loss:        0.5833341777324677\n",
      "train/qrs_score:         0.8186\n",
      "\n",
      "                test/qrs_score:          0.8078\n",
      "                ---------------------------------\n",
      "\n"
     ]
    },
    {
     "name": "stderr",
     "output_type": "stream",
     "text": [
      "2021-02-08 01:53:18,913 (INFO) train.py:268] \n",
      "                Train epoch_53:\n",
      "                --------------------\n",
      "                train/epoch_loss:        0.5833341777324677\n",
      "train/qrs_score:         0.8186\n",
      "\n",
      "                test/qrs_score:          0.8078\n",
      "                ---------------------------------\n",
      "\n"
     ]
    },
    {
     "name": "stdout",
     "output_type": "stream",
     "text": [
      "ECG-SEQ-LAB - INFO - Created checkpoint directory\n"
     ]
    },
    {
     "name": "stderr",
     "output_type": "stream",
     "text": [
      "2021-02-08 01:53:18,917 (INFO) train.py:275] Created checkpoint directory\n"
     ]
    },
    {
     "name": "stdout",
     "output_type": "stream",
     "text": [
      "ECG-SEQ-LAB - INFO - Checkpoint 53 saved!\n"
     ]
    },
    {
     "name": "stderr",
     "output_type": "stream",
     "text": [
      "2021-02-08 01:53:19,051 (INFO) train.py:283] Checkpoint 53 saved!\n",
      "Epoch 53/300: 100%|█████████████████████████████████████████████| 1600/1600 [00:52<00:00, 30.51it/s]\n",
      "Epoch 54/300: 100%|█████████████████████████████████████████████| 1600/1600 [00:36<00:00, 28.47it/s]"
     ]
    },
    {
     "name": "stdout",
     "output_type": "stream",
     "text": [
      "QRS_acc: 0.8319\n",
      "Scoring complete.\n"
     ]
    },
    {
     "name": "stderr",
     "output_type": "stream",
     "text": [
      "\r",
      "Epoch 54/300: 100%|█████████████████████████████████████████████| 1600/1600 [00:50<00:00, 28.47it/s]"
     ]
    },
    {
     "name": "stdout",
     "output_type": "stream",
     "text": [
      "QRS_acc: 0.8248\n",
      "Scoring complete.\n",
      "ECG-SEQ-LAB - INFO - \n",
      "                Train epoch_54:\n",
      "                --------------------\n",
      "                train/epoch_loss:        0.5570140182971954\n",
      "train/qrs_score:         0.8319\n",
      "\n",
      "                test/qrs_score:          0.8248\n",
      "                ---------------------------------\n",
      "\n"
     ]
    },
    {
     "name": "stderr",
     "output_type": "stream",
     "text": [
      "2021-02-08 01:54:11,628 (INFO) train.py:268] \n",
      "                Train epoch_54:\n",
      "                --------------------\n",
      "                train/epoch_loss:        0.5570140182971954\n",
      "train/qrs_score:         0.8319\n",
      "\n",
      "                test/qrs_score:          0.8248\n",
      "                ---------------------------------\n",
      "\n"
     ]
    },
    {
     "name": "stdout",
     "output_type": "stream",
     "text": [
      "ECG-SEQ-LAB - INFO - Created checkpoint directory\n"
     ]
    },
    {
     "name": "stderr",
     "output_type": "stream",
     "text": [
      "2021-02-08 01:54:11,639 (INFO) train.py:275] Created checkpoint directory\n"
     ]
    },
    {
     "name": "stdout",
     "output_type": "stream",
     "text": [
      "ECG-SEQ-LAB - INFO - Checkpoint 54 saved!\n"
     ]
    },
    {
     "name": "stderr",
     "output_type": "stream",
     "text": [
      "2021-02-08 01:54:11,731 (INFO) train.py:283] Checkpoint 54 saved!\n",
      "Epoch 54/300: 100%|█████████████████████████████████████████████| 1600/1600 [00:52<00:00, 30.38it/s]\n",
      "Epoch 55/300:  16%|████                     | 256/1600 [00:16<00:39, 33.77it/s, loss (batch)=0.0822]"
     ]
    },
    {
     "name": "stdout",
     "output_type": "stream",
     "text": [
      "ECG-SEQ-LAB - INFO - Train step_380: loss : 0.08219042420387268\n"
     ]
    },
    {
     "name": "stderr",
     "output_type": "stream",
     "text": [
      "2021-02-08 01:54:28,099 (INFO) train.py:225] Train step_380: loss : 0.08219042420387268\n",
      "Epoch 55/300: 100%|████████████████████████| 1600/1600 [00:36<00:00, 29.22it/s, loss (batch)=0.0822]"
     ]
    },
    {
     "name": "stdout",
     "output_type": "stream",
     "text": [
      "QRS_acc: 0.8246\n",
      "Scoring complete.\n"
     ]
    },
    {
     "name": "stderr",
     "output_type": "stream",
     "text": [
      "\r",
      "Epoch 55/300: 100%|████████████████████████| 1600/1600 [00:50<00:00, 29.22it/s, loss (batch)=0.0822]"
     ]
    },
    {
     "name": "stdout",
     "output_type": "stream",
     "text": [
      "QRS_acc: 0.8232\n",
      "Scoring complete.\n",
      "ECG-SEQ-LAB - INFO - \n",
      "                Train epoch_55:\n",
      "                --------------------\n",
      "                train/epoch_loss:        0.552922923117876\n",
      "train/qrs_score:         0.8246\n",
      "\n",
      "                test/qrs_score:          0.8232\n",
      "                ---------------------------------\n",
      "\n"
     ]
    },
    {
     "name": "stderr",
     "output_type": "stream",
     "text": [
      "2021-02-08 01:55:03,617 (INFO) train.py:268] \n",
      "                Train epoch_55:\n",
      "                --------------------\n",
      "                train/epoch_loss:        0.552922923117876\n",
      "train/qrs_score:         0.8246\n",
      "\n",
      "                test/qrs_score:          0.8232\n",
      "                ---------------------------------\n",
      "\n"
     ]
    },
    {
     "name": "stdout",
     "output_type": "stream",
     "text": [
      "ECG-SEQ-LAB - INFO - Created checkpoint directory\n"
     ]
    },
    {
     "name": "stderr",
     "output_type": "stream",
     "text": [
      "2021-02-08 01:55:03,621 (INFO) train.py:275] Created checkpoint directory\n"
     ]
    },
    {
     "name": "stdout",
     "output_type": "stream",
     "text": [
      "ECG-SEQ-LAB - INFO - Checkpoint 55 saved!\n"
     ]
    },
    {
     "name": "stderr",
     "output_type": "stream",
     "text": [
      "2021-02-08 01:55:03,788 (INFO) train.py:283] Checkpoint 55 saved!\n",
      "Epoch 55/300: 100%|████████████████████████| 1600/1600 [00:52<00:00, 30.74it/s, loss (batch)=0.0822]\n",
      "Epoch 56/300: 100%|█████████████████████████████████████████████| 1600/1600 [00:37<00:00, 28.41it/s]"
     ]
    },
    {
     "name": "stdout",
     "output_type": "stream",
     "text": [
      "QRS_acc: 0.8285\n",
      "Scoring complete.\n"
     ]
    },
    {
     "name": "stderr",
     "output_type": "stream",
     "text": [
      "\r",
      "Epoch 56/300: 100%|█████████████████████████████████████████████| 1600/1600 [00:50<00:00, 28.41it/s]"
     ]
    },
    {
     "name": "stdout",
     "output_type": "stream",
     "text": [
      "QRS_acc: 0.8218\n",
      "Scoring complete.\n",
      "ECG-SEQ-LAB - INFO - \n",
      "                Train epoch_56:\n",
      "                --------------------\n",
      "                train/epoch_loss:        0.5538264289498329\n",
      "train/qrs_score:         0.8285\n",
      "\n",
      "                test/qrs_score:          0.8218\n",
      "                ---------------------------------\n",
      "\n"
     ]
    },
    {
     "name": "stderr",
     "output_type": "stream",
     "text": [
      "2021-02-08 01:55:55,831 (INFO) train.py:268] \n",
      "                Train epoch_56:\n",
      "                --------------------\n",
      "                train/epoch_loss:        0.5538264289498329\n",
      "train/qrs_score:         0.8285\n",
      "\n",
      "                test/qrs_score:          0.8218\n",
      "                ---------------------------------\n",
      "\n"
     ]
    },
    {
     "name": "stdout",
     "output_type": "stream",
     "text": [
      "ECG-SEQ-LAB - INFO - Created checkpoint directory\n"
     ]
    },
    {
     "name": "stderr",
     "output_type": "stream",
     "text": [
      "2021-02-08 01:55:55,840 (INFO) train.py:275] Created checkpoint directory\n"
     ]
    },
    {
     "name": "stdout",
     "output_type": "stream",
     "text": [
      "ECG-SEQ-LAB - INFO - Checkpoint 56 saved!\n"
     ]
    },
    {
     "name": "stderr",
     "output_type": "stream",
     "text": [
      "2021-02-08 01:55:56,050 (INFO) train.py:283] Checkpoint 56 saved!\n",
      "Epoch 56/300: 100%|█████████████████████████████████████████████| 1600/1600 [00:52<00:00, 30.62it/s]\n",
      "Epoch 57/300: 100%|█████████████████████████████████████████████| 1600/1600 [00:40<00:00, 28.80it/s]"
     ]
    },
    {
     "name": "stdout",
     "output_type": "stream",
     "text": [
      "QRS_acc: 0.8369\n",
      "Scoring complete.\n",
      "QRS_acc: 0.8345\n",
      "Scoring complete.\n",
      "ECG-SEQ-LAB - INFO - \n",
      "                Train epoch_57:\n",
      "                --------------------\n",
      "                train/epoch_loss:        0.5538439899682999\n",
      "train/qrs_score:         0.8369\n",
      "\n",
      "                test/qrs_score:          0.8345\n",
      "                ---------------------------------\n",
      "\n"
     ]
    },
    {
     "name": "stderr",
     "output_type": "stream",
     "text": [
      "2021-02-08 01:56:51,602 (INFO) train.py:268] \n",
      "                Train epoch_57:\n",
      "                --------------------\n",
      "                train/epoch_loss:        0.5538439899682999\n",
      "train/qrs_score:         0.8369\n",
      "\n",
      "                test/qrs_score:          0.8345\n",
      "                ---------------------------------\n",
      "\n"
     ]
    },
    {
     "name": "stdout",
     "output_type": "stream",
     "text": [
      "ECG-SEQ-LAB - INFO - Created checkpoint directory\n"
     ]
    },
    {
     "name": "stderr",
     "output_type": "stream",
     "text": [
      "2021-02-08 01:56:51,606 (INFO) train.py:275] Created checkpoint directory\n"
     ]
    },
    {
     "name": "stdout",
     "output_type": "stream",
     "text": [
      "ECG-SEQ-LAB - INFO - Checkpoint 57 saved!\n"
     ]
    },
    {
     "name": "stderr",
     "output_type": "stream",
     "text": [
      "2021-02-08 01:56:51,800 (INFO) train.py:283] Checkpoint 57 saved!\n",
      "Epoch 57/300: 100%|█████████████████████████████████████████████| 1600/1600 [00:55<00:00, 28.70it/s]\n",
      "Epoch 58/300:   0%|                                   | 0/1600 [00:11<?, ?it/s, loss (batch)=0.0786]"
     ]
    },
    {
     "name": "stdout",
     "output_type": "stream",
     "text": [
      "ECG-SEQ-LAB - INFO - Train step_400: loss : 0.07858757674694061\n"
     ]
    },
    {
     "name": "stderr",
     "output_type": "stream",
     "text": [
      "2021-02-08 01:57:03,097 (INFO) train.py:225] Train step_400: loss : 0.07858757674694061\n",
      "Epoch 58/300: 100%|████████████████████████| 1600/1600 [00:36<00:00, 27.92it/s, loss (batch)=0.0786]"
     ]
    },
    {
     "name": "stdout",
     "output_type": "stream",
     "text": [
      "QRS_acc: 0.8341\n",
      "Scoring complete.\n"
     ]
    },
    {
     "name": "stderr",
     "output_type": "stream",
     "text": [
      "\r",
      "Epoch 58/300: 100%|████████████████████████| 1600/1600 [00:50<00:00, 27.92it/s, loss (batch)=0.0786]"
     ]
    },
    {
     "name": "stdout",
     "output_type": "stream",
     "text": [
      "QRS_acc: 0.8382\n",
      "Scoring complete.\n",
      "ECG-SEQ-LAB - INFO - \n",
      "                Train epoch_58:\n",
      "                --------------------\n",
      "                train/epoch_loss:        0.5566976293921471\n",
      "train/qrs_score:         0.8341\n",
      "\n",
      "                test/qrs_score:          0.8382\n",
      "                ---------------------------------\n",
      "\n"
     ]
    },
    {
     "name": "stderr",
     "output_type": "stream",
     "text": [
      "2021-02-08 01:57:44,204 (INFO) train.py:268] \n",
      "                Train epoch_58:\n",
      "                --------------------\n",
      "                train/epoch_loss:        0.5566976293921471\n",
      "train/qrs_score:         0.8341\n",
      "\n",
      "                test/qrs_score:          0.8382\n",
      "                ---------------------------------\n",
      "\n"
     ]
    },
    {
     "name": "stdout",
     "output_type": "stream",
     "text": [
      "ECG-SEQ-LAB - INFO - Created checkpoint directory\n"
     ]
    },
    {
     "name": "stderr",
     "output_type": "stream",
     "text": [
      "2021-02-08 01:57:44,216 (INFO) train.py:275] Created checkpoint directory\n"
     ]
    },
    {
     "name": "stdout",
     "output_type": "stream",
     "text": [
      "ECG-SEQ-LAB - INFO - Checkpoint 58 saved!\n"
     ]
    },
    {
     "name": "stderr",
     "output_type": "stream",
     "text": [
      "2021-02-08 01:57:44,421 (INFO) train.py:283] Checkpoint 58 saved!\n",
      "Epoch 58/300: 100%|████████████████████████| 1600/1600 [00:52<00:00, 30.41it/s, loss (batch)=0.0786]\n",
      "Epoch 59/300: 100%|█████████████████████████████████████████████| 1600/1600 [00:38<00:00, 25.68it/s]"
     ]
    },
    {
     "name": "stdout",
     "output_type": "stream",
     "text": [
      "QRS_acc: 0.8232\n",
      "Scoring complete.\n"
     ]
    },
    {
     "name": "stderr",
     "output_type": "stream",
     "text": [
      "\r",
      "Epoch 59/300: 100%|█████████████████████████████████████████████| 1600/1600 [00:50<00:00, 25.68it/s]"
     ]
    },
    {
     "name": "stdout",
     "output_type": "stream",
     "text": [
      "QRS_acc: 0.8165\n",
      "Scoring complete.\n",
      "ECG-SEQ-LAB - INFO - \n",
      "                Train epoch_59:\n",
      "                --------------------\n",
      "                train/epoch_loss:        0.5524187982082367\n",
      "train/qrs_score:         0.8232\n",
      "\n",
      "                test/qrs_score:          0.8165\n",
      "                ---------------------------------\n",
      "\n"
     ]
    },
    {
     "name": "stderr",
     "output_type": "stream",
     "text": [
      "2021-02-08 01:58:37,414 (INFO) train.py:268] \n",
      "                Train epoch_59:\n",
      "                --------------------\n",
      "                train/epoch_loss:        0.5524187982082367\n",
      "train/qrs_score:         0.8232\n",
      "\n",
      "                test/qrs_score:          0.8165\n",
      "                ---------------------------------\n",
      "\n"
     ]
    },
    {
     "name": "stdout",
     "output_type": "stream",
     "text": [
      "ECG-SEQ-LAB - INFO - Created checkpoint directory\n"
     ]
    },
    {
     "name": "stderr",
     "output_type": "stream",
     "text": [
      "2021-02-08 01:58:37,417 (INFO) train.py:275] Created checkpoint directory\n"
     ]
    },
    {
     "name": "stdout",
     "output_type": "stream",
     "text": [
      "ECG-SEQ-LAB - INFO - Checkpoint 59 saved!\n"
     ]
    },
    {
     "name": "stderr",
     "output_type": "stream",
     "text": [
      "2021-02-08 01:58:37,509 (INFO) train.py:283] Checkpoint 59 saved!\n",
      "Epoch 59/300: 100%|█████████████████████████████████████████████| 1600/1600 [00:53<00:00, 30.14it/s]\n",
      "Epoch 60/300:  96%|███████████████████████ | 1536/1600 [00:37<00:01, 46.98it/s, loss (batch)=0.0816]"
     ]
    },
    {
     "name": "stdout",
     "output_type": "stream",
     "text": [
      "ECG-SEQ-LAB - INFO - Train step_420: loss : 0.08160599321126938\n"
     ]
    },
    {
     "name": "stderr",
     "output_type": "stream",
     "text": [
      "2021-02-08 01:59:15,408 (INFO) train.py:225] Train step_420: loss : 0.08160599321126938\n",
      "Epoch 60/300: 100%|████████████████████████| 1600/1600 [00:37<00:00, 25.48it/s, loss (batch)=0.0816]"
     ]
    },
    {
     "name": "stdout",
     "output_type": "stream",
     "text": [
      "QRS_acc: 0.8271\n",
      "Scoring complete.\n"
     ]
    },
    {
     "name": "stderr",
     "output_type": "stream",
     "text": [
      "\r",
      "Epoch 60/300: 100%|████████████████████████| 1600/1600 [00:50<00:00, 25.48it/s, loss (batch)=0.0816]"
     ]
    },
    {
     "name": "stdout",
     "output_type": "stream",
     "text": [
      "QRS_acc: 0.819\n",
      "Scoring complete.\n",
      "ECG-SEQ-LAB - INFO - \n",
      "                Train epoch_60:\n",
      "                --------------------\n",
      "                train/epoch_loss:        0.5489770248532295\n",
      "train/qrs_score:         0.8271\n",
      "\n",
      "                test/qrs_score:          0.819\n",
      "                ---------------------------------\n",
      "\n"
     ]
    },
    {
     "name": "stderr",
     "output_type": "stream",
     "text": [
      "2021-02-08 01:59:35,004 (INFO) train.py:268] \n",
      "                Train epoch_60:\n",
      "                --------------------\n",
      "                train/epoch_loss:        0.5489770248532295\n",
      "train/qrs_score:         0.8271\n",
      "\n",
      "                test/qrs_score:          0.819\n",
      "                ---------------------------------\n",
      "\n"
     ]
    },
    {
     "name": "stdout",
     "output_type": "stream",
     "text": [
      "ECG-SEQ-LAB - INFO - Created checkpoint directory\n"
     ]
    },
    {
     "name": "stderr",
     "output_type": "stream",
     "text": [
      "2021-02-08 01:59:35,025 (INFO) train.py:275] Created checkpoint directory\n"
     ]
    },
    {
     "name": "stdout",
     "output_type": "stream",
     "text": [
      "ECG-SEQ-LAB - INFO - Checkpoint 60 saved!\n"
     ]
    },
    {
     "name": "stderr",
     "output_type": "stream",
     "text": [
      "2021-02-08 01:59:35,466 (INFO) train.py:283] Checkpoint 60 saved!\n",
      "Epoch 60/300: 100%|████████████████████████| 1600/1600 [00:57<00:00, 27.61it/s, loss (batch)=0.0816]\n",
      "Epoch 61/300: 100%|█████████████████████████████████████████████| 1600/1600 [00:38<00:00, 28.17it/s]"
     ]
    },
    {
     "name": "stdout",
     "output_type": "stream",
     "text": [
      "QRS_acc: 0.8399\n",
      "Scoring complete.\n"
     ]
    },
    {
     "name": "stderr",
     "output_type": "stream",
     "text": [
      "\r",
      "Epoch 61/300: 100%|█████████████████████████████████████████████| 1600/1600 [00:50<00:00, 28.17it/s]"
     ]
    },
    {
     "name": "stdout",
     "output_type": "stream",
     "text": [
      "QRS_acc: 0.8228\n",
      "Scoring complete.\n",
      "ECG-SEQ-LAB - INFO - \n",
      "                Train epoch_61:\n",
      "                --------------------\n",
      "                train/epoch_loss:        0.5441425442695618\n",
      "train/qrs_score:         0.8399\n",
      "\n",
      "                test/qrs_score:          0.8228\n",
      "                ---------------------------------\n",
      "\n"
     ]
    },
    {
     "name": "stderr",
     "output_type": "stream",
     "text": [
      "2021-02-08 02:00:28,313 (INFO) train.py:268] \n",
      "                Train epoch_61:\n",
      "                --------------------\n",
      "                train/epoch_loss:        0.5441425442695618\n",
      "train/qrs_score:         0.8399\n",
      "\n",
      "                test/qrs_score:          0.8228\n",
      "                ---------------------------------\n",
      "\n"
     ]
    },
    {
     "name": "stdout",
     "output_type": "stream",
     "text": [
      "ECG-SEQ-LAB - INFO - Created checkpoint directory\n"
     ]
    },
    {
     "name": "stderr",
     "output_type": "stream",
     "text": [
      "2021-02-08 02:00:28,320 (INFO) train.py:275] Created checkpoint directory\n"
     ]
    },
    {
     "name": "stdout",
     "output_type": "stream",
     "text": [
      "ECG-SEQ-LAB - INFO - Checkpoint 61 saved!\n"
     ]
    },
    {
     "name": "stderr",
     "output_type": "stream",
     "text": [
      "2021-02-08 02:00:28,521 (INFO) train.py:283] Checkpoint 61 saved!\n",
      "Epoch 61/300: 100%|█████████████████████████████████████████████| 1600/1600 [00:53<00:00, 30.16it/s]\n",
      "Epoch 62/300: 100%|█████████████████████████████████████████████| 1600/1600 [00:37<00:00, 28.73it/s]"
     ]
    },
    {
     "name": "stdout",
     "output_type": "stream",
     "text": [
      "QRS_acc: 0.8237\n",
      "Scoring complete.\n"
     ]
    },
    {
     "name": "stderr",
     "output_type": "stream",
     "text": [
      "\r",
      "Epoch 62/300: 100%|█████████████████████████████████████████████| 1600/1600 [00:50<00:00, 28.73it/s]"
     ]
    },
    {
     "name": "stdout",
     "output_type": "stream",
     "text": [
      "QRS_acc: 0.823\n",
      "Scoring complete.\n",
      "ECG-SEQ-LAB - INFO - \n",
      "                Train epoch_62:\n",
      "                --------------------\n",
      "                train/epoch_loss:        0.5456517338752747\n",
      "train/qrs_score:         0.8237\n",
      "\n",
      "                test/qrs_score:          0.823\n",
      "                ---------------------------------\n",
      "\n"
     ]
    },
    {
     "name": "stderr",
     "output_type": "stream",
     "text": [
      "2021-02-08 02:01:22,028 (INFO) train.py:268] \n",
      "                Train epoch_62:\n",
      "                --------------------\n",
      "                train/epoch_loss:        0.5456517338752747\n",
      "train/qrs_score:         0.8237\n",
      "\n",
      "                test/qrs_score:          0.823\n",
      "                ---------------------------------\n",
      "\n"
     ]
    },
    {
     "name": "stdout",
     "output_type": "stream",
     "text": [
      "ECG-SEQ-LAB - INFO - Created checkpoint directory\n"
     ]
    },
    {
     "name": "stderr",
     "output_type": "stream",
     "text": [
      "2021-02-08 02:01:22,035 (INFO) train.py:275] Created checkpoint directory\n"
     ]
    },
    {
     "name": "stdout",
     "output_type": "stream",
     "text": [
      "ECG-SEQ-LAB - INFO - Checkpoint 62 saved!\n"
     ]
    },
    {
     "name": "stderr",
     "output_type": "stream",
     "text": [
      "2021-02-08 02:01:22,227 (INFO) train.py:283] Checkpoint 62 saved!\n",
      "Epoch 62/300: 100%|█████████████████████████████████████████████| 1600/1600 [00:53<00:00, 29.79it/s]\n",
      "Epoch 63/300:  80%|███████████████████▏    | 1280/1600 [00:36<00:07, 45.23it/s, loss (batch)=0.0765]"
     ]
    },
    {
     "name": "stdout",
     "output_type": "stream",
     "text": [
      "ECG-SEQ-LAB - INFO - Train step_440: loss : 0.07652705162763596\n"
     ]
    },
    {
     "name": "stderr",
     "output_type": "stream",
     "text": [
      "2021-02-08 02:01:58,996 (INFO) train.py:225] Train step_440: loss : 0.07652705162763596\n",
      "Epoch 63/300: 100%|████████████████████████| 1600/1600 [00:37<00:00, 49.19it/s, loss (batch)=0.0765]"
     ]
    },
    {
     "name": "stdout",
     "output_type": "stream",
     "text": [
      "QRS_acc: 0.8411\n",
      "Scoring complete.\n"
     ]
    },
    {
     "name": "stderr",
     "output_type": "stream",
     "text": [
      "\r",
      "Epoch 63/300: 100%|████████████████████████| 1600/1600 [00:50<00:00, 49.19it/s, loss (batch)=0.0765]"
     ]
    },
    {
     "name": "stdout",
     "output_type": "stream",
     "text": [
      "QRS_acc: 0.828\n",
      "Scoring complete.\n",
      "ECG-SEQ-LAB - INFO - \n",
      "                Train epoch_63:\n",
      "                --------------------\n",
      "                train/epoch_loss:        0.543973334133625\n",
      "train/qrs_score:         0.8411\n",
      "\n",
      "                test/qrs_score:          0.828\n",
      "                ---------------------------------\n",
      "\n"
     ]
    },
    {
     "name": "stderr",
     "output_type": "stream",
     "text": [
      "2021-02-08 02:02:14,207 (INFO) train.py:268] \n",
      "                Train epoch_63:\n",
      "                --------------------\n",
      "                train/epoch_loss:        0.543973334133625\n",
      "train/qrs_score:         0.8411\n",
      "\n",
      "                test/qrs_score:          0.828\n",
      "                ---------------------------------\n",
      "\n"
     ]
    },
    {
     "name": "stdout",
     "output_type": "stream",
     "text": [
      "ECG-SEQ-LAB - INFO - Created checkpoint directory\n"
     ]
    },
    {
     "name": "stderr",
     "output_type": "stream",
     "text": [
      "2021-02-08 02:02:14,212 (INFO) train.py:275] Created checkpoint directory\n"
     ]
    },
    {
     "name": "stdout",
     "output_type": "stream",
     "text": [
      "ECG-SEQ-LAB - INFO - Checkpoint 63 saved!\n"
     ]
    },
    {
     "name": "stderr",
     "output_type": "stream",
     "text": [
      "2021-02-08 02:02:14,398 (INFO) train.py:283] Checkpoint 63 saved!\n",
      "Epoch 63/300: 100%|████████████████████████| 1600/1600 [00:52<00:00, 30.67it/s, loss (batch)=0.0765]\n",
      "Epoch 64/300: 100%|█████████████████████████████████████████████| 1600/1600 [00:36<00:00, 28.94it/s]"
     ]
    },
    {
     "name": "stdout",
     "output_type": "stream",
     "text": [
      "QRS_acc: 0.8439\n",
      "Scoring complete.\n"
     ]
    },
    {
     "name": "stderr",
     "output_type": "stream",
     "text": [
      "\r",
      "Epoch 64/300: 100%|█████████████████████████████████████████████| 1600/1600 [00:50<00:00, 28.94it/s]"
     ]
    },
    {
     "name": "stdout",
     "output_type": "stream",
     "text": [
      "QRS_acc: 0.829\n",
      "Scoring complete.\n",
      "ECG-SEQ-LAB - INFO - \n",
      "                Train epoch_64:\n",
      "                --------------------\n",
      "                train/epoch_loss:        0.5383692905306816\n",
      "train/qrs_score:         0.8439\n",
      "\n",
      "                test/qrs_score:          0.829\n",
      "                ---------------------------------\n",
      "\n"
     ]
    },
    {
     "name": "stderr",
     "output_type": "stream",
     "text": [
      "2021-02-08 02:03:08,422 (INFO) train.py:268] \n",
      "                Train epoch_64:\n",
      "                --------------------\n",
      "                train/epoch_loss:        0.5383692905306816\n",
      "train/qrs_score:         0.8439\n",
      "\n",
      "                test/qrs_score:          0.829\n",
      "                ---------------------------------\n",
      "\n"
     ]
    },
    {
     "name": "stdout",
     "output_type": "stream",
     "text": [
      "ECG-SEQ-LAB - INFO - Created checkpoint directory\n"
     ]
    },
    {
     "name": "stderr",
     "output_type": "stream",
     "text": [
      "2021-02-08 02:03:08,445 (INFO) train.py:275] Created checkpoint directory\n"
     ]
    },
    {
     "name": "stdout",
     "output_type": "stream",
     "text": [
      "ECG-SEQ-LAB - INFO - Checkpoint 64 saved!\n"
     ]
    },
    {
     "name": "stderr",
     "output_type": "stream",
     "text": [
      "2021-02-08 02:03:08,735 (INFO) train.py:283] Checkpoint 64 saved!\n",
      "Epoch 64/300: 100%|█████████████████████████████████████████████| 1600/1600 [00:54<00:00, 29.45it/s]\n",
      "Epoch 65/300: 100%|█████████████████████████████████████████████| 1600/1600 [00:40<00:00, 27.50it/s]"
     ]
    },
    {
     "name": "stdout",
     "output_type": "stream",
     "text": [
      "QRS_acc: 0.8268\n",
      "Scoring complete.\n",
      "QRS_acc: 0.8248\n",
      "Scoring complete.\n",
      "ECG-SEQ-LAB - INFO - \n",
      "                Train epoch_65:\n",
      "                --------------------\n",
      "                train/epoch_loss:        0.5475491285324097\n",
      "train/qrs_score:         0.8268\n",
      "\n",
      "                test/qrs_score:          0.8248\n",
      "                ---------------------------------\n",
      "\n"
     ]
    },
    {
     "name": "stderr",
     "output_type": "stream",
     "text": [
      "2021-02-08 02:04:03,822 (INFO) train.py:268] \n",
      "                Train epoch_65:\n",
      "                --------------------\n",
      "                train/epoch_loss:        0.5475491285324097\n",
      "train/qrs_score:         0.8268\n",
      "\n",
      "                test/qrs_score:          0.8248\n",
      "                ---------------------------------\n",
      "\n"
     ]
    },
    {
     "name": "stdout",
     "output_type": "stream",
     "text": [
      "ECG-SEQ-LAB - INFO - Created checkpoint directory\n"
     ]
    },
    {
     "name": "stderr",
     "output_type": "stream",
     "text": [
      "2021-02-08 02:04:03,827 (INFO) train.py:275] Created checkpoint directory\n"
     ]
    },
    {
     "name": "stdout",
     "output_type": "stream",
     "text": [
      "ECG-SEQ-LAB - INFO - Checkpoint 65 saved!\n"
     ]
    },
    {
     "name": "stderr",
     "output_type": "stream",
     "text": [
      "2021-02-08 02:04:03,909 (INFO) train.py:283] Checkpoint 65 saved!\n",
      "Epoch 65/300: 100%|█████████████████████████████████████████████| 1600/1600 [00:55<00:00, 29.00it/s]\n",
      "Epoch 66/300:  64%|███████████████▎        | 1024/1600 [00:31<00:13, 43.10it/s, loss (batch)=0.0846]"
     ]
    },
    {
     "name": "stdout",
     "output_type": "stream",
     "text": [
      "ECG-SEQ-LAB - INFO - Train step_460: loss : 0.08456698060035706\n"
     ]
    },
    {
     "name": "stderr",
     "output_type": "stream",
     "text": [
      "2021-02-08 02:04:35,633 (INFO) train.py:225] Train step_460: loss : 0.08456698060035706\n",
      "Epoch 66/300: 100%|████████████████████████| 1600/1600 [00:36<00:00, 29.75it/s, loss (batch)=0.0846]"
     ]
    },
    {
     "name": "stdout",
     "output_type": "stream",
     "text": [
      "QRS_acc: 0.8314\n",
      "Scoring complete.\n"
     ]
    },
    {
     "name": "stderr",
     "output_type": "stream",
     "text": [
      "\r",
      "Epoch 66/300: 100%|████████████████████████| 1600/1600 [00:50<00:00, 29.75it/s, loss (batch)=0.0846]"
     ]
    },
    {
     "name": "stdout",
     "output_type": "stream",
     "text": [
      "QRS_acc: 0.828\n",
      "Scoring complete.\n",
      "ECG-SEQ-LAB - INFO - \n",
      "                Train epoch_66:\n",
      "                --------------------\n",
      "                train/epoch_loss:        0.5476348176598549\n",
      "train/qrs_score:         0.8314\n",
      "\n",
      "                test/qrs_score:          0.828\n",
      "                ---------------------------------\n",
      "\n"
     ]
    },
    {
     "name": "stderr",
     "output_type": "stream",
     "text": [
      "2021-02-08 02:04:56,728 (INFO) train.py:268] \n",
      "                Train epoch_66:\n",
      "                --------------------\n",
      "                train/epoch_loss:        0.5476348176598549\n",
      "train/qrs_score:         0.8314\n",
      "\n",
      "                test/qrs_score:          0.828\n",
      "                ---------------------------------\n",
      "\n"
     ]
    },
    {
     "name": "stdout",
     "output_type": "stream",
     "text": [
      "ECG-SEQ-LAB - INFO - Created checkpoint directory\n"
     ]
    },
    {
     "name": "stderr",
     "output_type": "stream",
     "text": [
      "2021-02-08 02:04:56,736 (INFO) train.py:275] Created checkpoint directory\n"
     ]
    },
    {
     "name": "stdout",
     "output_type": "stream",
     "text": [
      "ECG-SEQ-LAB - INFO - Checkpoint 66 saved!\n"
     ]
    },
    {
     "name": "stderr",
     "output_type": "stream",
     "text": [
      "2021-02-08 02:04:56,833 (INFO) train.py:283] Checkpoint 66 saved!\n",
      "Epoch 66/300: 100%|████████████████████████| 1600/1600 [00:52<00:00, 30.23it/s, loss (batch)=0.0846]\n",
      "Epoch 67/300: 100%|█████████████████████████████████████████████| 1600/1600 [00:36<00:00, 28.79it/s]"
     ]
    },
    {
     "name": "stdout",
     "output_type": "stream",
     "text": [
      "QRS_acc: 0.8459\n",
      "Scoring complete.\n"
     ]
    },
    {
     "name": "stderr",
     "output_type": "stream",
     "text": [
      "\r",
      "Epoch 67/300: 100%|█████████████████████████████████████████████| 1600/1600 [00:50<00:00, 28.79it/s]"
     ]
    },
    {
     "name": "stdout",
     "output_type": "stream",
     "text": [
      "QRS_acc: 0.8305\n",
      "Scoring complete.\n",
      "ECG-SEQ-LAB - INFO - \n",
      "                Train epoch_67:\n",
      "                --------------------\n",
      "                train/epoch_loss:        0.532851904630661\n",
      "train/qrs_score:         0.8459\n",
      "\n",
      "                test/qrs_score:          0.8305\n",
      "                ---------------------------------\n",
      "\n"
     ]
    },
    {
     "name": "stderr",
     "output_type": "stream",
     "text": [
      "2021-02-08 02:05:48,994 (INFO) train.py:268] \n",
      "                Train epoch_67:\n",
      "                --------------------\n",
      "                train/epoch_loss:        0.532851904630661\n",
      "train/qrs_score:         0.8459\n",
      "\n",
      "                test/qrs_score:          0.8305\n",
      "                ---------------------------------\n",
      "\n"
     ]
    },
    {
     "name": "stdout",
     "output_type": "stream",
     "text": [
      "ECG-SEQ-LAB - INFO - Created checkpoint directory\n"
     ]
    },
    {
     "name": "stderr",
     "output_type": "stream",
     "text": [
      "2021-02-08 02:05:49,000 (INFO) train.py:275] Created checkpoint directory\n"
     ]
    },
    {
     "name": "stdout",
     "output_type": "stream",
     "text": [
      "ECG-SEQ-LAB - INFO - Checkpoint 67 saved!\n"
     ]
    },
    {
     "name": "stderr",
     "output_type": "stream",
     "text": [
      "2021-02-08 02:05:49,202 (INFO) train.py:283] Checkpoint 67 saved!\n",
      "Epoch 67/300: 100%|█████████████████████████████████████████████| 1600/1600 [00:52<00:00, 30.55it/s]\n",
      "Epoch 68/300: 100%|█████████████████████████████████████████████| 1600/1600 [00:50<00:00, 28.87it/s]"
     ]
    },
    {
     "name": "stdout",
     "output_type": "stream",
     "text": [
      "QRS_acc: 0.8409\n",
      "Scoring complete.\n",
      "QRS_acc: 0.829\n",
      "Scoring complete.\n",
      "ECG-SEQ-LAB - INFO - \n",
      "                Train epoch_68:\n",
      "                --------------------\n",
      "                train/epoch_loss:        0.5213772989809513\n",
      "train/qrs_score:         0.8409\n",
      "\n",
      "                test/qrs_score:          0.829\n",
      "                ---------------------------------\n",
      "\n"
     ]
    },
    {
     "name": "stderr",
     "output_type": "stream",
     "text": [
      "2021-02-08 02:06:59,921 (INFO) train.py:268] \n",
      "                Train epoch_68:\n",
      "                --------------------\n",
      "                train/epoch_loss:        0.5213772989809513\n",
      "train/qrs_score:         0.8409\n",
      "\n",
      "                test/qrs_score:          0.829\n",
      "                ---------------------------------\n",
      "\n"
     ]
    },
    {
     "name": "stdout",
     "output_type": "stream",
     "text": [
      "ECG-SEQ-LAB - INFO - Created checkpoint directory\n"
     ]
    },
    {
     "name": "stderr",
     "output_type": "stream",
     "text": [
      "2021-02-08 02:06:59,940 (INFO) train.py:275] Created checkpoint directory\n"
     ]
    },
    {
     "name": "stdout",
     "output_type": "stream",
     "text": [
      "ECG-SEQ-LAB - INFO - Checkpoint 68 saved!\n"
     ]
    },
    {
     "name": "stderr",
     "output_type": "stream",
     "text": [
      "2021-02-08 02:07:00,346 (INFO) train.py:283] Checkpoint 68 saved!\n",
      "Epoch 68/300: 100%|█████████████████████████████████████████████| 1600/1600 [01:11<00:00, 22.45it/s]\n",
      "Epoch 69/300:  48%|████████████             | 768/1600 [00:36<00:36, 22.83it/s, loss (batch)=0.0727]"
     ]
    },
    {
     "name": "stdout",
     "output_type": "stream",
     "text": [
      "ECG-SEQ-LAB - INFO - Train step_480: loss : 0.07274516671895981\n"
     ]
    },
    {
     "name": "stderr",
     "output_type": "stream",
     "text": [
      "2021-02-08 02:07:37,055 (INFO) train.py:225] Train step_480: loss : 0.07274516671895981\n",
      "Epoch 69/300: 100%|████████████████████████| 1600/1600 [00:46<00:00, 25.72it/s, loss (batch)=0.0727]"
     ]
    },
    {
     "name": "stdout",
     "output_type": "stream",
     "text": [
      "QRS_acc: 0.8369\n",
      "Scoring complete.\n"
     ]
    },
    {
     "name": "stderr",
     "output_type": "stream",
     "text": [
      "\r",
      "Epoch 69/300: 100%|████████████████████████| 1600/1600 [01:00<00:00, 25.72it/s, loss (batch)=0.0727]"
     ]
    },
    {
     "name": "stdout",
     "output_type": "stream",
     "text": [
      "QRS_acc: 0.8302\n",
      "Scoring complete.\n",
      "ECG-SEQ-LAB - INFO - \n",
      "                Train epoch_69:\n",
      "                --------------------\n",
      "                train/epoch_loss:        0.529267318546772\n",
      "train/qrs_score:         0.8369\n",
      "\n",
      "                test/qrs_score:          0.8302\n",
      "                ---------------------------------\n",
      "\n"
     ]
    },
    {
     "name": "stderr",
     "output_type": "stream",
     "text": [
      "2021-02-08 02:08:02,911 (INFO) train.py:268] \n",
      "                Train epoch_69:\n",
      "                --------------------\n",
      "                train/epoch_loss:        0.529267318546772\n",
      "train/qrs_score:         0.8369\n",
      "\n",
      "                test/qrs_score:          0.8302\n",
      "                ---------------------------------\n",
      "\n"
     ]
    },
    {
     "name": "stdout",
     "output_type": "stream",
     "text": [
      "ECG-SEQ-LAB - INFO - Created checkpoint directory\n"
     ]
    },
    {
     "name": "stderr",
     "output_type": "stream",
     "text": [
      "2021-02-08 02:08:02,923 (INFO) train.py:275] Created checkpoint directory\n"
     ]
    },
    {
     "name": "stdout",
     "output_type": "stream",
     "text": [
      "ECG-SEQ-LAB - INFO - Checkpoint 69 saved!\n"
     ]
    },
    {
     "name": "stderr",
     "output_type": "stream",
     "text": [
      "2021-02-08 02:08:03,123 (INFO) train.py:283] Checkpoint 69 saved!\n",
      "Epoch 69/300: 100%|████████████████████████| 1600/1600 [01:02<00:00, 25.54it/s, loss (batch)=0.0727]\n",
      "Epoch 70/300: 100%|█████████████████████████████████████████████| 1600/1600 [00:37<00:00, 28.13it/s]"
     ]
    },
    {
     "name": "stdout",
     "output_type": "stream",
     "text": [
      "QRS_acc: 0.8519\n",
      "Scoring complete.\n"
     ]
    },
    {
     "name": "stderr",
     "output_type": "stream",
     "text": [
      "\r",
      "Epoch 70/300: 100%|█████████████████████████████████████████████| 1600/1600 [00:50<00:00, 28.13it/s]"
     ]
    },
    {
     "name": "stdout",
     "output_type": "stream",
     "text": [
      "QRS_acc: 0.8435\n",
      "Scoring complete.\n",
      "ECG-SEQ-LAB - INFO - \n",
      "                Train epoch_70:\n",
      "                --------------------\n",
      "                train/epoch_loss:        0.5350312367081642\n",
      "train/qrs_score:         0.8519\n",
      "\n",
      "                test/qrs_score:          0.8435\n",
      "                ---------------------------------\n",
      "\n"
     ]
    },
    {
     "name": "stderr",
     "output_type": "stream",
     "text": [
      "2021-02-08 02:08:54,460 (INFO) train.py:268] \n",
      "                Train epoch_70:\n",
      "                --------------------\n",
      "                train/epoch_loss:        0.5350312367081642\n",
      "train/qrs_score:         0.8519\n",
      "\n",
      "                test/qrs_score:          0.8435\n",
      "                ---------------------------------\n",
      "\n"
     ]
    },
    {
     "name": "stdout",
     "output_type": "stream",
     "text": [
      "ECG-SEQ-LAB - INFO - Created checkpoint directory\n"
     ]
    },
    {
     "name": "stderr",
     "output_type": "stream",
     "text": [
      "2021-02-08 02:08:54,496 (INFO) train.py:275] Created checkpoint directory\n"
     ]
    },
    {
     "name": "stdout",
     "output_type": "stream",
     "text": [
      "ECG-SEQ-LAB - INFO - Checkpoint 70 saved!\n"
     ]
    },
    {
     "name": "stderr",
     "output_type": "stream",
     "text": [
      "2021-02-08 02:08:54,653 (INFO) train.py:283] Checkpoint 70 saved!\n",
      "Epoch 70/300: 100%|█████████████████████████████████████████████| 1600/1600 [00:51<00:00, 31.05it/s]\n",
      "Epoch 71/300: 100%|█████████████████████████████████████████████| 1600/1600 [00:50<00:00, 28.84it/s]"
     ]
    },
    {
     "name": "stdout",
     "output_type": "stream",
     "text": [
      "QRS_acc: 0.8574\n",
      "Scoring complete.\n",
      "QRS_acc: 0.8355\n",
      "Scoring complete.\n",
      "ECG-SEQ-LAB - INFO - \n",
      "                Train epoch_71:\n",
      "                --------------------\n",
      "                train/epoch_loss:        0.534736379981041\n",
      "train/qrs_score:         0.8574\n",
      "\n",
      "                test/qrs_score:          0.8355\n",
      "                ---------------------------------\n",
      "\n"
     ]
    },
    {
     "name": "stderr",
     "output_type": "stream",
     "text": [
      "2021-02-08 02:09:50,748 (INFO) train.py:268] \n",
      "                Train epoch_71:\n",
      "                --------------------\n",
      "                train/epoch_loss:        0.534736379981041\n",
      "train/qrs_score:         0.8574\n",
      "\n",
      "                test/qrs_score:          0.8355\n",
      "                ---------------------------------\n",
      "\n"
     ]
    },
    {
     "name": "stdout",
     "output_type": "stream",
     "text": [
      "ECG-SEQ-LAB - INFO - Created checkpoint directory\n"
     ]
    },
    {
     "name": "stderr",
     "output_type": "stream",
     "text": [
      "2021-02-08 02:09:50,756 (INFO) train.py:275] Created checkpoint directory\n"
     ]
    },
    {
     "name": "stdout",
     "output_type": "stream",
     "text": [
      "ECG-SEQ-LAB - INFO - Checkpoint 71 saved!\n"
     ]
    },
    {
     "name": "stderr",
     "output_type": "stream",
     "text": [
      "2021-02-08 02:09:50,880 (INFO) train.py:283] Checkpoint 71 saved!\n",
      "Epoch 71/300: 100%|█████████████████████████████████████████████| 1600/1600 [00:56<00:00, 28.46it/s]\n",
      "Epoch 72/300:  32%|████████                 | 512/1600 [00:23<00:30, 35.72it/s, loss (batch)=0.0734]"
     ]
    },
    {
     "name": "stdout",
     "output_type": "stream",
     "text": [
      "ECG-SEQ-LAB - INFO - Train step_500: loss : 0.0733589306473732\n"
     ]
    },
    {
     "name": "stderr",
     "output_type": "stream",
     "text": [
      "2021-02-08 02:10:14,059 (INFO) train.py:225] Train step_500: loss : 0.0733589306473732\n",
      "Epoch 72/300: 100%|████████████████████████| 1600/1600 [00:38<00:00, 28.45it/s, loss (batch)=0.0734]"
     ]
    },
    {
     "name": "stdout",
     "output_type": "stream",
     "text": [
      "QRS_acc: 0.8492\n",
      "Scoring complete.\n"
     ]
    },
    {
     "name": "stderr",
     "output_type": "stream",
     "text": [
      "\r",
      "Epoch 72/300: 100%|████████████████████████| 1600/1600 [00:50<00:00, 28.45it/s, loss (batch)=0.0734]"
     ]
    },
    {
     "name": "stdout",
     "output_type": "stream",
     "text": [
      "QRS_acc: 0.8352\n",
      "Scoring complete.\n",
      "ECG-SEQ-LAB - INFO - \n",
      "                Train epoch_72:\n",
      "                --------------------\n",
      "                train/epoch_loss:        0.523034580051899\n",
      "train/qrs_score:         0.8492\n",
      "\n",
      "                test/qrs_score:          0.8352\n",
      "                ---------------------------------\n",
      "\n"
     ]
    },
    {
     "name": "stderr",
     "output_type": "stream",
     "text": [
      "2021-02-08 02:10:44,139 (INFO) train.py:268] \n",
      "                Train epoch_72:\n",
      "                --------------------\n",
      "                train/epoch_loss:        0.523034580051899\n",
      "train/qrs_score:         0.8492\n",
      "\n",
      "                test/qrs_score:          0.8352\n",
      "                ---------------------------------\n",
      "\n"
     ]
    },
    {
     "name": "stdout",
     "output_type": "stream",
     "text": [
      "ECG-SEQ-LAB - INFO - Created checkpoint directory\n"
     ]
    },
    {
     "name": "stderr",
     "output_type": "stream",
     "text": [
      "2021-02-08 02:10:44,147 (INFO) train.py:275] Created checkpoint directory\n"
     ]
    },
    {
     "name": "stdout",
     "output_type": "stream",
     "text": [
      "ECG-SEQ-LAB - INFO - Checkpoint 72 saved!\n"
     ]
    },
    {
     "name": "stderr",
     "output_type": "stream",
     "text": [
      "2021-02-08 02:10:44,254 (INFO) train.py:283] Checkpoint 72 saved!\n",
      "Epoch 72/300: 100%|████████████████████████| 1600/1600 [00:53<00:00, 29.98it/s, loss (batch)=0.0734]\n",
      "Epoch 73/300: 100%|█████████████████████████████████████████████| 1600/1600 [00:36<00:00, 28.68it/s]"
     ]
    },
    {
     "name": "stdout",
     "output_type": "stream",
     "text": [
      "QRS_acc: 0.8599\n",
      "Scoring complete.\n"
     ]
    },
    {
     "name": "stderr",
     "output_type": "stream",
     "text": [
      "\r",
      "Epoch 73/300: 100%|█████████████████████████████████████████████| 1600/1600 [00:50<00:00, 28.68it/s]"
     ]
    },
    {
     "name": "stdout",
     "output_type": "stream",
     "text": [
      "QRS_acc: 0.8447\n",
      "Scoring complete.\n",
      "ECG-SEQ-LAB - INFO - \n",
      "                Train epoch_73:\n",
      "                --------------------\n",
      "                train/epoch_loss:        0.5285447984933853\n",
      "train/qrs_score:         0.8599\n",
      "\n",
      "                test/qrs_score:          0.8447\n",
      "                ---------------------------------\n",
      "\n"
     ]
    },
    {
     "name": "stderr",
     "output_type": "stream",
     "text": [
      "2021-02-08 02:11:36,459 (INFO) train.py:268] \n",
      "                Train epoch_73:\n",
      "                --------------------\n",
      "                train/epoch_loss:        0.5285447984933853\n",
      "train/qrs_score:         0.8599\n",
      "\n",
      "                test/qrs_score:          0.8447\n",
      "                ---------------------------------\n",
      "\n"
     ]
    },
    {
     "name": "stdout",
     "output_type": "stream",
     "text": [
      "ECG-SEQ-LAB - INFO - Created checkpoint directory\n"
     ]
    },
    {
     "name": "stderr",
     "output_type": "stream",
     "text": [
      "2021-02-08 02:11:36,500 (INFO) train.py:275] Created checkpoint directory\n"
     ]
    },
    {
     "name": "stdout",
     "output_type": "stream",
     "text": [
      "ECG-SEQ-LAB - INFO - Checkpoint 73 saved!\n"
     ]
    },
    {
     "name": "stderr",
     "output_type": "stream",
     "text": [
      "2021-02-08 02:11:36,595 (INFO) train.py:283] Checkpoint 73 saved!\n",
      "Epoch 73/300: 100%|█████████████████████████████████████████████| 1600/1600 [00:52<00:00, 30.57it/s]\n",
      "Epoch 74/300: 100%|█████████████████████████████████████████████| 1600/1600 [00:37<00:00, 28.65it/s]"
     ]
    },
    {
     "name": "stdout",
     "output_type": "stream",
     "text": [
      "QRS_acc: 0.8483\n",
      "Scoring complete.\n"
     ]
    },
    {
     "name": "stderr",
     "output_type": "stream",
     "text": [
      "\r",
      "Epoch 74/300: 100%|█████████████████████████████████████████████| 1600/1600 [00:50<00:00, 28.65it/s]"
     ]
    },
    {
     "name": "stdout",
     "output_type": "stream",
     "text": [
      "QRS_acc: 0.8372\n",
      "Scoring complete.\n",
      "ECG-SEQ-LAB - INFO - \n",
      "                Train epoch_74:\n",
      "                --------------------\n",
      "                train/epoch_loss:        0.5297446027398109\n",
      "train/qrs_score:         0.8483\n",
      "\n",
      "                test/qrs_score:          0.8372\n",
      "                ---------------------------------\n",
      "\n"
     ]
    },
    {
     "name": "stderr",
     "output_type": "stream",
     "text": [
      "2021-02-08 02:12:28,595 (INFO) train.py:268] \n",
      "                Train epoch_74:\n",
      "                --------------------\n",
      "                train/epoch_loss:        0.5297446027398109\n",
      "train/qrs_score:         0.8483\n",
      "\n",
      "                test/qrs_score:          0.8372\n",
      "                ---------------------------------\n",
      "\n"
     ]
    },
    {
     "name": "stdout",
     "output_type": "stream",
     "text": [
      "ECG-SEQ-LAB - INFO - Created checkpoint directory\n"
     ]
    },
    {
     "name": "stderr",
     "output_type": "stream",
     "text": [
      "2021-02-08 02:12:28,599 (INFO) train.py:275] Created checkpoint directory\n"
     ]
    },
    {
     "name": "stdout",
     "output_type": "stream",
     "text": [
      "ECG-SEQ-LAB - INFO - Checkpoint 74 saved!\n"
     ]
    },
    {
     "name": "stderr",
     "output_type": "stream",
     "text": [
      "2021-02-08 02:12:28,742 (INFO) train.py:283] Checkpoint 74 saved!\n",
      "Epoch 74/300: 100%|█████████████████████████████████████████████| 1600/1600 [00:52<00:00, 30.68it/s]\n",
      "Epoch 75/300:  16%|████                     | 256/1600 [00:16<00:41, 32.14it/s, loss (batch)=0.0724]"
     ]
    },
    {
     "name": "stdout",
     "output_type": "stream",
     "text": [
      "ECG-SEQ-LAB - INFO - Train step_520: loss : 0.07242985814809799\n"
     ]
    },
    {
     "name": "stderr",
     "output_type": "stream",
     "text": [
      "2021-02-08 02:12:45,543 (INFO) train.py:225] Train step_520: loss : 0.07242985814809799\n",
      "Epoch 75/300: 100%|████████████████████████| 1600/1600 [00:37<00:00, 29.00it/s, loss (batch)=0.0724]"
     ]
    },
    {
     "name": "stdout",
     "output_type": "stream",
     "text": [
      "QRS_acc: 0.8586\n",
      "Scoring complete.\n"
     ]
    },
    {
     "name": "stderr",
     "output_type": "stream",
     "text": [
      "\r",
      "Epoch 75/300: 100%|████████████████████████| 1600/1600 [00:50<00:00, 29.00it/s, loss (batch)=0.0724]"
     ]
    },
    {
     "name": "stdout",
     "output_type": "stream",
     "text": [
      "QRS_acc: 0.8608\n",
      "Scoring complete.\n",
      "ECG-SEQ-LAB - INFO - \n",
      "                Train epoch_75:\n",
      "                --------------------\n",
      "                train/epoch_loss:        0.5214382782578468\n",
      "train/qrs_score:         0.8586\n",
      "\n",
      "                test/qrs_score:          0.8608\n",
      "                ---------------------------------\n",
      "\n"
     ]
    },
    {
     "name": "stderr",
     "output_type": "stream",
     "text": [
      "2021-02-08 02:13:21,512 (INFO) train.py:268] \n",
      "                Train epoch_75:\n",
      "                --------------------\n",
      "                train/epoch_loss:        0.5214382782578468\n",
      "train/qrs_score:         0.8586\n",
      "\n",
      "                test/qrs_score:          0.8608\n",
      "                ---------------------------------\n",
      "\n"
     ]
    },
    {
     "name": "stdout",
     "output_type": "stream",
     "text": [
      "ECG-SEQ-LAB - INFO - Created checkpoint directory\n"
     ]
    },
    {
     "name": "stderr",
     "output_type": "stream",
     "text": [
      "2021-02-08 02:13:21,526 (INFO) train.py:275] Created checkpoint directory\n"
     ]
    },
    {
     "name": "stdout",
     "output_type": "stream",
     "text": [
      "ECG-SEQ-LAB - INFO - Checkpoint 75 saved!\n"
     ]
    },
    {
     "name": "stderr",
     "output_type": "stream",
     "text": [
      "2021-02-08 02:13:21,707 (INFO) train.py:283] Checkpoint 75 saved!\n",
      "Epoch 75/300: 100%|████████████████████████| 1600/1600 [00:52<00:00, 30.21it/s, loss (batch)=0.0724]\n",
      "Epoch 76/300: 100%|█████████████████████████████████████████████| 1600/1600 [00:36<00:00, 28.99it/s]"
     ]
    },
    {
     "name": "stdout",
     "output_type": "stream",
     "text": [
      "QRS_acc: 0.8513\n",
      "Scoring complete.\n"
     ]
    },
    {
     "name": "stderr",
     "output_type": "stream",
     "text": [
      "\r",
      "Epoch 76/300: 100%|█████████████████████████████████████████████| 1600/1600 [00:50<00:00, 28.99it/s]"
     ]
    },
    {
     "name": "stdout",
     "output_type": "stream",
     "text": [
      "QRS_acc: 0.8352\n",
      "Scoring complete.\n",
      "ECG-SEQ-LAB - INFO - \n",
      "                Train epoch_76:\n",
      "                --------------------\n",
      "                train/epoch_loss:        0.5187924206256866\n",
      "train/qrs_score:         0.8513\n",
      "\n",
      "                test/qrs_score:          0.8352\n",
      "                ---------------------------------\n",
      "\n"
     ]
    },
    {
     "name": "stderr",
     "output_type": "stream",
     "text": [
      "2021-02-08 02:14:13,402 (INFO) train.py:268] \n",
      "                Train epoch_76:\n",
      "                --------------------\n",
      "                train/epoch_loss:        0.5187924206256866\n",
      "train/qrs_score:         0.8513\n",
      "\n",
      "                test/qrs_score:          0.8352\n",
      "                ---------------------------------\n",
      "\n"
     ]
    },
    {
     "name": "stdout",
     "output_type": "stream",
     "text": [
      "ECG-SEQ-LAB - INFO - Created checkpoint directory\n"
     ]
    },
    {
     "name": "stderr",
     "output_type": "stream",
     "text": [
      "2021-02-08 02:14:13,407 (INFO) train.py:275] Created checkpoint directory\n"
     ]
    },
    {
     "name": "stdout",
     "output_type": "stream",
     "text": [
      "ECG-SEQ-LAB - INFO - Checkpoint 76 saved!\n"
     ]
    },
    {
     "name": "stderr",
     "output_type": "stream",
     "text": [
      "2021-02-08 02:14:13,599 (INFO) train.py:283] Checkpoint 76 saved!\n",
      "Epoch 76/300: 100%|█████████████████████████████████████████████| 1600/1600 [00:51<00:00, 30.84it/s]\n",
      "Epoch 77/300: 100%|█████████████████████████████████████████████| 1600/1600 [00:36<00:00, 28.30it/s]"
     ]
    },
    {
     "name": "stdout",
     "output_type": "stream",
     "text": [
      "QRS_acc: 0.8562\n",
      "Scoring complete.\n"
     ]
    },
    {
     "name": "stderr",
     "output_type": "stream",
     "text": [
      "\r",
      "Epoch 77/300: 100%|█████████████████████████████████████████████| 1600/1600 [00:49<00:00, 28.30it/s]"
     ]
    },
    {
     "name": "stdout",
     "output_type": "stream",
     "text": [
      "QRS_acc: 0.8465\n",
      "Scoring complete.\n",
      "ECG-SEQ-LAB - INFO - \n",
      "                Train epoch_77:\n",
      "                --------------------\n",
      "                train/epoch_loss:        0.516133114695549\n",
      "train/qrs_score:         0.8562\n",
      "\n",
      "                test/qrs_score:          0.8465\n",
      "                ---------------------------------\n",
      "\n"
     ]
    },
    {
     "name": "stderr",
     "output_type": "stream",
     "text": [
      "2021-02-08 02:15:19,948 (INFO) train.py:268] \n",
      "                Train epoch_77:\n",
      "                --------------------\n",
      "                train/epoch_loss:        0.516133114695549\n",
      "train/qrs_score:         0.8562\n",
      "\n",
      "                test/qrs_score:          0.8465\n",
      "                ---------------------------------\n",
      "\n"
     ]
    },
    {
     "name": "stdout",
     "output_type": "stream",
     "text": [
      "ECG-SEQ-LAB - INFO - Created checkpoint directory\n"
     ]
    },
    {
     "name": "stderr",
     "output_type": "stream",
     "text": [
      "2021-02-08 02:15:19,960 (INFO) train.py:275] Created checkpoint directory\n"
     ]
    },
    {
     "name": "stdout",
     "output_type": "stream",
     "text": [
      "ECG-SEQ-LAB - INFO - Checkpoint 77 saved!\n"
     ]
    },
    {
     "name": "stderr",
     "output_type": "stream",
     "text": [
      "2021-02-08 02:15:20,197 (INFO) train.py:283] Checkpoint 77 saved!\n",
      "Epoch 77/300: 100%|█████████████████████████████████████████████| 1600/1600 [01:06<00:00, 24.03it/s]\n",
      "Epoch 78/300:   0%|                                   | 0/1600 [00:13<?, ?it/s, loss (batch)=0.0736]"
     ]
    },
    {
     "name": "stdout",
     "output_type": "stream",
     "text": [
      "ECG-SEQ-LAB - INFO - Train step_540: loss : 0.07361380755901337\n"
     ]
    },
    {
     "name": "stderr",
     "output_type": "stream",
     "text": [
      "2021-02-08 02:15:33,216 (INFO) train.py:225] Train step_540: loss : 0.07361380755901337\n",
      "Epoch 78/300: 100%|████████████████████████| 1600/1600 [00:38<00:00, 27.61it/s, loss (batch)=0.0736]"
     ]
    },
    {
     "name": "stdout",
     "output_type": "stream",
     "text": [
      "QRS_acc: 0.8606\n",
      "Scoring complete.\n"
     ]
    },
    {
     "name": "stderr",
     "output_type": "stream",
     "text": [
      "\r",
      "Epoch 78/300: 100%|████████████████████████| 1600/1600 [00:50<00:00, 27.61it/s, loss (batch)=0.0736]"
     ]
    },
    {
     "name": "stdout",
     "output_type": "stream",
     "text": [
      "QRS_acc: 0.8442\n",
      "Scoring complete.\n",
      "ECG-SEQ-LAB - INFO - \n",
      "                Train epoch_78:\n",
      "                --------------------\n",
      "                train/epoch_loss:        0.5047804266214371\n",
      "train/qrs_score:         0.8606\n",
      "\n",
      "                test/qrs_score:          0.8442\n",
      "                ---------------------------------\n",
      "\n"
     ]
    },
    {
     "name": "stderr",
     "output_type": "stream",
     "text": [
      "2021-02-08 02:16:13,451 (INFO) train.py:268] \n",
      "                Train epoch_78:\n",
      "                --------------------\n",
      "                train/epoch_loss:        0.5047804266214371\n",
      "train/qrs_score:         0.8606\n",
      "\n",
      "                test/qrs_score:          0.8442\n",
      "                ---------------------------------\n",
      "\n"
     ]
    },
    {
     "name": "stdout",
     "output_type": "stream",
     "text": [
      "ECG-SEQ-LAB - INFO - Created checkpoint directory\n"
     ]
    },
    {
     "name": "stderr",
     "output_type": "stream",
     "text": [
      "2021-02-08 02:16:13,455 (INFO) train.py:275] Created checkpoint directory\n"
     ]
    },
    {
     "name": "stdout",
     "output_type": "stream",
     "text": [
      "ECG-SEQ-LAB - INFO - Checkpoint 78 saved!\n"
     ]
    },
    {
     "name": "stderr",
     "output_type": "stream",
     "text": [
      "2021-02-08 02:16:13,694 (INFO) train.py:283] Checkpoint 78 saved!\n",
      "Epoch 78/300: 100%|████████████████████████| 1600/1600 [00:53<00:00, 29.91it/s, loss (batch)=0.0736]\n",
      "Epoch 79/300: 100%|█████████████████████████████████████████████| 1600/1600 [00:37<00:00, 25.89it/s]"
     ]
    },
    {
     "name": "stdout",
     "output_type": "stream",
     "text": [
      "QRS_acc: 0.8652\n",
      "Scoring complete.\n"
     ]
    },
    {
     "name": "stderr",
     "output_type": "stream",
     "text": [
      "\r",
      "Epoch 79/300: 100%|█████████████████████████████████████████████| 1600/1600 [00:50<00:00, 25.89it/s]"
     ]
    },
    {
     "name": "stdout",
     "output_type": "stream",
     "text": [
      "QRS_acc: 0.843\n",
      "Scoring complete.\n",
      "ECG-SEQ-LAB - INFO - \n",
      "                Train epoch_79:\n",
      "                --------------------\n",
      "                train/epoch_loss:        0.5146427005529404\n",
      "train/qrs_score:         0.8652\n",
      "\n",
      "                test/qrs_score:          0.843\n",
      "                ---------------------------------\n",
      "\n"
     ]
    },
    {
     "name": "stderr",
     "output_type": "stream",
     "text": [
      "2021-02-08 02:17:08,844 (INFO) train.py:268] \n",
      "                Train epoch_79:\n",
      "                --------------------\n",
      "                train/epoch_loss:        0.5146427005529404\n",
      "train/qrs_score:         0.8652\n",
      "\n",
      "                test/qrs_score:          0.843\n",
      "                ---------------------------------\n",
      "\n"
     ]
    },
    {
     "name": "stdout",
     "output_type": "stream",
     "text": [
      "ECG-SEQ-LAB - INFO - Created checkpoint directory\n"
     ]
    },
    {
     "name": "stderr",
     "output_type": "stream",
     "text": [
      "2021-02-08 02:17:09,059 (INFO) train.py:275] Created checkpoint directory\n"
     ]
    },
    {
     "name": "stdout",
     "output_type": "stream",
     "text": [
      "ECG-SEQ-LAB - INFO - Checkpoint 79 saved!\n"
     ]
    },
    {
     "name": "stderr",
     "output_type": "stream",
     "text": [
      "2021-02-08 02:17:09,135 (INFO) train.py:283] Checkpoint 79 saved!\n",
      "Epoch 79/300: 100%|█████████████████████████████████████████████| 1600/1600 [00:55<00:00, 28.86it/s]\n",
      "Epoch 80/300:  96%|███████████████████████ | 1536/1600 [00:37<00:01, 47.63it/s, loss (batch)=0.0808]"
     ]
    },
    {
     "name": "stdout",
     "output_type": "stream",
     "text": [
      "ECG-SEQ-LAB - INFO - Train step_560: loss : 0.08077714592218399\n"
     ]
    },
    {
     "name": "stderr",
     "output_type": "stream",
     "text": [
      "2021-02-08 02:17:46,798 (INFO) train.py:225] Train step_560: loss : 0.08077714592218399\n",
      "Epoch 80/300: 100%|████████████████████████| 1600/1600 [00:50<00:00, 25.09it/s, loss (batch)=0.0808]"
     ]
    },
    {
     "name": "stdout",
     "output_type": "stream",
     "text": [
      "QRS_acc: 0.8646\n",
      "Scoring complete.\n",
      "QRS_acc: 0.853\n",
      "Scoring complete.\n",
      "ECG-SEQ-LAB - INFO - \n",
      "                Train epoch_80:\n",
      "                --------------------\n",
      "                train/epoch_loss:        0.5134702697396278\n",
      "train/qrs_score:         0.8646\n",
      "\n",
      "                test/qrs_score:          0.853\n",
      "                ---------------------------------\n",
      "\n"
     ]
    },
    {
     "name": "stderr",
     "output_type": "stream",
     "text": [
      "2021-02-08 02:18:05,707 (INFO) train.py:268] \n",
      "                Train epoch_80:\n",
      "                --------------------\n",
      "                train/epoch_loss:        0.5134702697396278\n",
      "train/qrs_score:         0.8646\n",
      "\n",
      "                test/qrs_score:          0.853\n",
      "                ---------------------------------\n",
      "\n"
     ]
    },
    {
     "name": "stdout",
     "output_type": "stream",
     "text": [
      "ECG-SEQ-LAB - INFO - Created checkpoint directory\n"
     ]
    },
    {
     "name": "stderr",
     "output_type": "stream",
     "text": [
      "2021-02-08 02:18:05,713 (INFO) train.py:275] Created checkpoint directory\n"
     ]
    },
    {
     "name": "stdout",
     "output_type": "stream",
     "text": [
      "ECG-SEQ-LAB - INFO - Checkpoint 80 saved!\n"
     ]
    },
    {
     "name": "stderr",
     "output_type": "stream",
     "text": [
      "2021-02-08 02:18:05,935 (INFO) train.py:283] Checkpoint 80 saved!\n",
      "Epoch 80/300: 100%|████████████████████████| 1600/1600 [00:56<00:00, 28.17it/s, loss (batch)=0.0808]\n",
      "Epoch 81/300: 100%|█████████████████████████████████████████████| 1600/1600 [00:39<00:00, 28.11it/s]"
     ]
    },
    {
     "name": "stdout",
     "output_type": "stream",
     "text": [
      "QRS_acc: 0.8686\n",
      "Scoring complete.\n"
     ]
    },
    {
     "name": "stderr",
     "output_type": "stream",
     "text": [
      "\r",
      "Epoch 81/300: 100%|█████████████████████████████████████████████| 1600/1600 [00:50<00:00, 28.11it/s]"
     ]
    },
    {
     "name": "stdout",
     "output_type": "stream",
     "text": [
      "QRS_acc: 0.847\n",
      "Scoring complete.\n",
      "ECG-SEQ-LAB - INFO - \n",
      "                Train epoch_81:\n",
      "                --------------------\n",
      "                train/epoch_loss:        0.5102374479174614\n",
      "train/qrs_score:         0.8686\n",
      "\n",
      "                test/qrs_score:          0.847\n",
      "                ---------------------------------\n",
      "\n"
     ]
    },
    {
     "name": "stderr",
     "output_type": "stream",
     "text": [
      "2021-02-08 02:18:59,611 (INFO) train.py:268] \n",
      "                Train epoch_81:\n",
      "                --------------------\n",
      "                train/epoch_loss:        0.5102374479174614\n",
      "train/qrs_score:         0.8686\n",
      "\n",
      "                test/qrs_score:          0.847\n",
      "                ---------------------------------\n",
      "\n"
     ]
    },
    {
     "name": "stdout",
     "output_type": "stream",
     "text": [
      "ECG-SEQ-LAB - INFO - Created checkpoint directory\n"
     ]
    },
    {
     "name": "stderr",
     "output_type": "stream",
     "text": [
      "2021-02-08 02:18:59,618 (INFO) train.py:275] Created checkpoint directory\n"
     ]
    },
    {
     "name": "stdout",
     "output_type": "stream",
     "text": [
      "ECG-SEQ-LAB - INFO - Checkpoint 81 saved!\n"
     ]
    },
    {
     "name": "stderr",
     "output_type": "stream",
     "text": [
      "2021-02-08 02:18:59,796 (INFO) train.py:283] Checkpoint 81 saved!\n",
      "Epoch 81/300: 100%|█████████████████████████████████████████████| 1600/1600 [00:53<00:00, 29.71it/s]\n",
      "Epoch 82/300: 100%|█████████████████████████████████████████████| 1600/1600 [00:36<00:00, 28.73it/s]"
     ]
    },
    {
     "name": "stdout",
     "output_type": "stream",
     "text": [
      "QRS_acc: 0.8469\n",
      "Scoring complete.\n"
     ]
    },
    {
     "name": "stderr",
     "output_type": "stream",
     "text": [
      "\r",
      "Epoch 82/300: 100%|█████████████████████████████████████████████| 1600/1600 [00:50<00:00, 28.73it/s]"
     ]
    },
    {
     "name": "stdout",
     "output_type": "stream",
     "text": [
      "QRS_acc: 0.8422\n",
      "Scoring complete.\n",
      "ECG-SEQ-LAB - INFO - \n",
      "                Train epoch_82:\n",
      "                --------------------\n",
      "                train/epoch_loss:        0.5125179886817932\n",
      "train/qrs_score:         0.8469\n",
      "\n",
      "                test/qrs_score:          0.8422\n",
      "                ---------------------------------\n",
      "\n"
     ]
    },
    {
     "name": "stderr",
     "output_type": "stream",
     "text": [
      "2021-02-08 02:19:52,129 (INFO) train.py:268] \n",
      "                Train epoch_82:\n",
      "                --------------------\n",
      "                train/epoch_loss:        0.5125179886817932\n",
      "train/qrs_score:         0.8469\n",
      "\n",
      "                test/qrs_score:          0.8422\n",
      "                ---------------------------------\n",
      "\n"
     ]
    },
    {
     "name": "stdout",
     "output_type": "stream",
     "text": [
      "ECG-SEQ-LAB - INFO - Created checkpoint directory\n"
     ]
    },
    {
     "name": "stderr",
     "output_type": "stream",
     "text": [
      "2021-02-08 02:19:52,138 (INFO) train.py:275] Created checkpoint directory\n"
     ]
    },
    {
     "name": "stdout",
     "output_type": "stream",
     "text": [
      "ECG-SEQ-LAB - INFO - Checkpoint 82 saved!\n"
     ]
    },
    {
     "name": "stderr",
     "output_type": "stream",
     "text": [
      "2021-02-08 02:19:52,356 (INFO) train.py:283] Checkpoint 82 saved!\n",
      "Epoch 82/300: 100%|█████████████████████████████████████████████| 1600/1600 [00:52<00:00, 30.44it/s]\n",
      "Epoch 83/300:  80%|████████████████████     | 1280/1600 [00:36<00:07, 45.54it/s, loss (batch)=0.072]"
     ]
    },
    {
     "name": "stdout",
     "output_type": "stream",
     "text": [
      "ECG-SEQ-LAB - INFO - Train step_580: loss : 0.07199684530496597\n"
     ]
    },
    {
     "name": "stderr",
     "output_type": "stream",
     "text": [
      "2021-02-08 02:20:28,823 (INFO) train.py:225] Train step_580: loss : 0.07199684530496597\n",
      "Epoch 83/300: 100%|█████████████████████████| 1600/1600 [00:36<00:00, 50.20it/s, loss (batch)=0.072]"
     ]
    },
    {
     "name": "stdout",
     "output_type": "stream",
     "text": [
      "QRS_acc: 0.8745\n",
      "Scoring complete.\n"
     ]
    },
    {
     "name": "stderr",
     "output_type": "stream",
     "text": [
      "\r",
      "Epoch 83/300: 100%|█████████████████████████| 1600/1600 [00:50<00:00, 50.20it/s, loss (batch)=0.072]"
     ]
    },
    {
     "name": "stdout",
     "output_type": "stream",
     "text": [
      "QRS_acc: 0.8555\n",
      "Scoring complete.\n",
      "ECG-SEQ-LAB - INFO - \n",
      "                Train epoch_83:\n",
      "                --------------------\n",
      "                train/epoch_loss:        0.5147618651390076\n",
      "train/qrs_score:         0.8745\n",
      "\n",
      "                test/qrs_score:          0.8555\n",
      "                ---------------------------------\n",
      "\n"
     ]
    },
    {
     "name": "stderr",
     "output_type": "stream",
     "text": [
      "2021-02-08 02:20:43,710 (INFO) train.py:268] \n",
      "                Train epoch_83:\n",
      "                --------------------\n",
      "                train/epoch_loss:        0.5147618651390076\n",
      "train/qrs_score:         0.8745\n",
      "\n",
      "                test/qrs_score:          0.8555\n",
      "                ---------------------------------\n",
      "\n"
     ]
    },
    {
     "name": "stdout",
     "output_type": "stream",
     "text": [
      "ECG-SEQ-LAB - INFO - Created checkpoint directory\n"
     ]
    },
    {
     "name": "stderr",
     "output_type": "stream",
     "text": [
      "2021-02-08 02:20:43,721 (INFO) train.py:275] Created checkpoint directory\n"
     ]
    },
    {
     "name": "stdout",
     "output_type": "stream",
     "text": [
      "ECG-SEQ-LAB - INFO - Checkpoint 83 saved!\n"
     ]
    },
    {
     "name": "stderr",
     "output_type": "stream",
     "text": [
      "2021-02-08 02:20:43,910 (INFO) train.py:283] Checkpoint 83 saved!\n",
      "Epoch 83/300: 100%|█████████████████████████| 1600/1600 [00:51<00:00, 31.03it/s, loss (batch)=0.072]\n",
      "Epoch 84/300: 100%|█████████████████████████████████████████████| 1600/1600 [00:50<00:00, 24.98it/s]"
     ]
    },
    {
     "name": "stdout",
     "output_type": "stream",
     "text": [
      "QRS_acc: 0.8647\n",
      "Scoring complete.\n",
      "QRS_acc: 0.8438\n",
      "Scoring complete.\n",
      "ECG-SEQ-LAB - INFO - \n",
      "                Train epoch_84:\n",
      "                --------------------\n",
      "                train/epoch_loss:        0.5051716715097427\n",
      "train/qrs_score:         0.8647\n",
      "\n",
      "                test/qrs_score:          0.8438\n",
      "                ---------------------------------\n",
      "\n"
     ]
    },
    {
     "name": "stderr",
     "output_type": "stream",
     "text": [
      "2021-02-08 02:22:02,000 (INFO) train.py:268] \n",
      "                Train epoch_84:\n",
      "                --------------------\n",
      "                train/epoch_loss:        0.5051716715097427\n",
      "train/qrs_score:         0.8647\n",
      "\n",
      "                test/qrs_score:          0.8438\n",
      "                ---------------------------------\n",
      "\n"
     ]
    },
    {
     "name": "stdout",
     "output_type": "stream",
     "text": [
      "ECG-SEQ-LAB - INFO - Created checkpoint directory\n"
     ]
    },
    {
     "name": "stderr",
     "output_type": "stream",
     "text": [
      "2021-02-08 02:22:02,017 (INFO) train.py:275] Created checkpoint directory\n"
     ]
    },
    {
     "name": "stdout",
     "output_type": "stream",
     "text": [
      "ECG-SEQ-LAB - INFO - Checkpoint 84 saved!\n"
     ]
    },
    {
     "name": "stderr",
     "output_type": "stream",
     "text": [
      "2021-02-08 02:22:02,457 (INFO) train.py:283] Checkpoint 84 saved!\n",
      "Epoch 84/300: 100%|█████████████████████████████████████████████| 1600/1600 [01:18<00:00, 20.36it/s]\n",
      "Epoch 85/300: 100%|█████████████████████████████████████████████| 1600/1600 [00:51<00:00, 24.18it/s]"
     ]
    },
    {
     "name": "stdout",
     "output_type": "stream",
     "text": [
      "QRS_acc: 0.8749\n",
      "Scoring complete.\n",
      "QRS_acc: 0.8462\n",
      "Scoring complete.\n",
      "ECG-SEQ-LAB - INFO - \n",
      "                Train epoch_85:\n",
      "                --------------------\n",
      "                train/epoch_loss:        0.501586064696312\n",
      "train/qrs_score:         0.8749\n",
      "\n",
      "                test/qrs_score:          0.8462\n",
      "                ---------------------------------\n",
      "\n"
     ]
    },
    {
     "name": "stderr",
     "output_type": "stream",
     "text": [
      "2021-02-08 02:23:10,332 (INFO) train.py:268] \n",
      "                Train epoch_85:\n",
      "                --------------------\n",
      "                train/epoch_loss:        0.501586064696312\n",
      "train/qrs_score:         0.8749\n",
      "\n",
      "                test/qrs_score:          0.8462\n",
      "                ---------------------------------\n",
      "\n"
     ]
    },
    {
     "name": "stdout",
     "output_type": "stream",
     "text": [
      "ECG-SEQ-LAB - INFO - Created checkpoint directory\n"
     ]
    },
    {
     "name": "stderr",
     "output_type": "stream",
     "text": [
      "2021-02-08 02:23:10,345 (INFO) train.py:275] Created checkpoint directory\n"
     ]
    },
    {
     "name": "stdout",
     "output_type": "stream",
     "text": [
      "ECG-SEQ-LAB - INFO - Checkpoint 85 saved!\n"
     ]
    },
    {
     "name": "stderr",
     "output_type": "stream",
     "text": [
      "2021-02-08 02:23:10,576 (INFO) train.py:283] Checkpoint 85 saved!\n",
      "Epoch 85/300: 100%|█████████████████████████████████████████████| 1600/1600 [01:08<00:00, 23.50it/s]\n",
      "Epoch 86/300:  64%|███████████████▎        | 1024/1600 [00:33<00:13, 41.18it/s, loss (batch)=0.0686]"
     ]
    },
    {
     "name": "stdout",
     "output_type": "stream",
     "text": [
      "ECG-SEQ-LAB - INFO - Train step_600: loss : 0.06860535591840744\n"
     ]
    },
    {
     "name": "stderr",
     "output_type": "stream",
     "text": [
      "2021-02-08 02:23:43,704 (INFO) train.py:225] Train step_600: loss : 0.06860535591840744\n",
      "Epoch 86/300: 100%|████████████████████████| 1600/1600 [00:50<00:00, 28.79it/s, loss (batch)=0.0686]"
     ]
    },
    {
     "name": "stdout",
     "output_type": "stream",
     "text": [
      "QRS_acc: 0.8714\n",
      "Scoring complete.\n",
      "QRS_acc: 0.852\n",
      "Scoring complete.\n",
      "ECG-SEQ-LAB - INFO - \n",
      "                Train epoch_86:\n",
      "                --------------------\n",
      "                train/epoch_loss:        0.49182865768671036\n",
      "train/qrs_score:         0.8714\n",
      "\n",
      "                test/qrs_score:          0.852\n",
      "                ---------------------------------\n",
      "\n"
     ]
    },
    {
     "name": "stderr",
     "output_type": "stream",
     "text": [
      "2021-02-08 02:24:05,003 (INFO) train.py:268] \n",
      "                Train epoch_86:\n",
      "                --------------------\n",
      "                train/epoch_loss:        0.49182865768671036\n",
      "train/qrs_score:         0.8714\n",
      "\n",
      "                test/qrs_score:          0.852\n",
      "                ---------------------------------\n",
      "\n"
     ]
    },
    {
     "name": "stdout",
     "output_type": "stream",
     "text": [
      "ECG-SEQ-LAB - INFO - Created checkpoint directory\n"
     ]
    },
    {
     "name": "stderr",
     "output_type": "stream",
     "text": [
      "2021-02-08 02:24:05,007 (INFO) train.py:275] Created checkpoint directory\n"
     ]
    },
    {
     "name": "stdout",
     "output_type": "stream",
     "text": [
      "ECG-SEQ-LAB - INFO - Checkpoint 86 saved!\n"
     ]
    },
    {
     "name": "stderr",
     "output_type": "stream",
     "text": [
      "2021-02-08 02:24:05,198 (INFO) train.py:283] Checkpoint 86 saved!\n",
      "Epoch 86/300: 100%|████████████████████████| 1600/1600 [00:54<00:00, 29.29it/s, loss (batch)=0.0686]\n",
      "Epoch 87/300: 100%|█████████████████████████████████████████████| 1600/1600 [00:36<00:00, 28.83it/s]"
     ]
    },
    {
     "name": "stdout",
     "output_type": "stream",
     "text": [
      "QRS_acc: 0.8753\n",
      "Scoring complete.\n"
     ]
    },
    {
     "name": "stderr",
     "output_type": "stream",
     "text": [
      "\r",
      "Epoch 87/300: 100%|█████████████████████████████████████████████| 1600/1600 [00:50<00:00, 28.83it/s]"
     ]
    },
    {
     "name": "stdout",
     "output_type": "stream",
     "text": [
      "QRS_acc: 0.8445\n",
      "Scoring complete.\n",
      "ECG-SEQ-LAB - INFO - \n",
      "                Train epoch_87:\n",
      "                --------------------\n",
      "                train/epoch_loss:        0.49407342076301575\n",
      "train/qrs_score:         0.8753\n",
      "\n",
      "                test/qrs_score:          0.8445\n",
      "                ---------------------------------\n",
      "\n"
     ]
    },
    {
     "name": "stderr",
     "output_type": "stream",
     "text": [
      "2021-02-08 02:24:57,553 (INFO) train.py:268] \n",
      "                Train epoch_87:\n",
      "                --------------------\n",
      "                train/epoch_loss:        0.49407342076301575\n",
      "train/qrs_score:         0.8753\n",
      "\n",
      "                test/qrs_score:          0.8445\n",
      "                ---------------------------------\n",
      "\n"
     ]
    },
    {
     "name": "stdout",
     "output_type": "stream",
     "text": [
      "ECG-SEQ-LAB - INFO - Created checkpoint directory\n"
     ]
    },
    {
     "name": "stderr",
     "output_type": "stream",
     "text": [
      "2021-02-08 02:24:57,563 (INFO) train.py:275] Created checkpoint directory\n"
     ]
    },
    {
     "name": "stdout",
     "output_type": "stream",
     "text": [
      "ECG-SEQ-LAB - INFO - Checkpoint 87 saved!\n"
     ]
    },
    {
     "name": "stderr",
     "output_type": "stream",
     "text": [
      "2021-02-08 02:24:57,772 (INFO) train.py:283] Checkpoint 87 saved!\n",
      "Epoch 87/300: 100%|█████████████████████████████████████████████| 1600/1600 [00:52<00:00, 30.44it/s]\n",
      "Epoch 88/300: 100%|█████████████████████████████████████████████| 1600/1600 [00:37<00:00, 28.62it/s]"
     ]
    },
    {
     "name": "stdout",
     "output_type": "stream",
     "text": [
      "QRS_acc: 0.8706\n",
      "Scoring complete.\n"
     ]
    },
    {
     "name": "stderr",
     "output_type": "stream",
     "text": [
      "\r",
      "Epoch 88/300: 100%|█████████████████████████████████████████████| 1600/1600 [00:50<00:00, 28.62it/s]"
     ]
    },
    {
     "name": "stdout",
     "output_type": "stream",
     "text": [
      "QRS_acc: 0.8425\n",
      "Scoring complete.\n",
      "ECG-SEQ-LAB - INFO - \n",
      "                Train epoch_88:\n",
      "                --------------------\n",
      "                train/epoch_loss:        0.48789168149232864\n",
      "train/qrs_score:         0.8706\n",
      "\n",
      "                test/qrs_score:          0.8425\n",
      "                ---------------------------------\n",
      "\n"
     ]
    },
    {
     "name": "stderr",
     "output_type": "stream",
     "text": [
      "2021-02-08 02:25:49,405 (INFO) train.py:268] \n",
      "                Train epoch_88:\n",
      "                --------------------\n",
      "                train/epoch_loss:        0.48789168149232864\n",
      "train/qrs_score:         0.8706\n",
      "\n",
      "                test/qrs_score:          0.8425\n",
      "                ---------------------------------\n",
      "\n"
     ]
    },
    {
     "name": "stdout",
     "output_type": "stream",
     "text": [
      "ECG-SEQ-LAB - INFO - Created checkpoint directory\n"
     ]
    },
    {
     "name": "stderr",
     "output_type": "stream",
     "text": [
      "2021-02-08 02:25:49,411 (INFO) train.py:275] Created checkpoint directory\n"
     ]
    },
    {
     "name": "stdout",
     "output_type": "stream",
     "text": [
      "ECG-SEQ-LAB - INFO - Checkpoint 88 saved!\n"
     ]
    },
    {
     "name": "stderr",
     "output_type": "stream",
     "text": [
      "2021-02-08 02:25:49,606 (INFO) train.py:283] Checkpoint 88 saved!\n",
      "Epoch 88/300: 100%|█████████████████████████████████████████████| 1600/1600 [00:51<00:00, 30.87it/s]\n",
      "Epoch 89/300:  48%|████████████             | 768/1600 [00:26<00:20, 41.16it/s, loss (batch)=0.0726]"
     ]
    },
    {
     "name": "stdout",
     "output_type": "stream",
     "text": [
      "ECG-SEQ-LAB - INFO - Train step_620: loss : 0.07255001366138458\n"
     ]
    },
    {
     "name": "stderr",
     "output_type": "stream",
     "text": [
      "2021-02-08 02:26:15,997 (INFO) train.py:225] Train step_620: loss : 0.07255001366138458\n",
      "Epoch 89/300: 100%|████████████████████████| 1600/1600 [00:36<00:00, 29.19it/s, loss (batch)=0.0726]"
     ]
    },
    {
     "name": "stdout",
     "output_type": "stream",
     "text": [
      "QRS_acc: 0.8806\n",
      "Scoring complete.\n"
     ]
    },
    {
     "name": "stderr",
     "output_type": "stream",
     "text": [
      "\r",
      "Epoch 89/300: 100%|████████████████████████| 1600/1600 [00:50<00:00, 29.19it/s, loss (batch)=0.0726]"
     ]
    },
    {
     "name": "stdout",
     "output_type": "stream",
     "text": [
      "QRS_acc: 0.8495\n",
      "Scoring complete.\n",
      "ECG-SEQ-LAB - INFO - \n",
      "                Train epoch_89:\n",
      "                --------------------\n",
      "                train/epoch_loss:        0.4931688532233238\n",
      "train/qrs_score:         0.8806\n",
      "\n",
      "                test/qrs_score:          0.8495\n",
      "                ---------------------------------\n",
      "\n"
     ]
    },
    {
     "name": "stderr",
     "output_type": "stream",
     "text": [
      "2021-02-08 02:26:42,312 (INFO) train.py:268] \n",
      "                Train epoch_89:\n",
      "                --------------------\n",
      "                train/epoch_loss:        0.4931688532233238\n",
      "train/qrs_score:         0.8806\n",
      "\n",
      "                test/qrs_score:          0.8495\n",
      "                ---------------------------------\n",
      "\n"
     ]
    },
    {
     "name": "stdout",
     "output_type": "stream",
     "text": [
      "ECG-SEQ-LAB - INFO - Created checkpoint directory\n"
     ]
    },
    {
     "name": "stderr",
     "output_type": "stream",
     "text": [
      "2021-02-08 02:26:42,322 (INFO) train.py:275] Created checkpoint directory\n"
     ]
    },
    {
     "name": "stdout",
     "output_type": "stream",
     "text": [
      "ECG-SEQ-LAB - INFO - Checkpoint 89 saved!\n"
     ]
    },
    {
     "name": "stderr",
     "output_type": "stream",
     "text": [
      "2021-02-08 02:26:42,506 (INFO) train.py:283] Checkpoint 89 saved!\n",
      "Epoch 89/300: 100%|████████████████████████| 1600/1600 [00:52<00:00, 30.25it/s, loss (batch)=0.0726]\n",
      "Epoch 90/300: 100%|█████████████████████████████████████████████| 1600/1600 [00:38<00:00, 28.83it/s]"
     ]
    },
    {
     "name": "stdout",
     "output_type": "stream",
     "text": [
      "QRS_acc: 0.8604\n",
      "Scoring complete.\n"
     ]
    },
    {
     "name": "stderr",
     "output_type": "stream",
     "text": [
      "\r",
      "Epoch 90/300: 100%|█████████████████████████████████████████████| 1600/1600 [00:50<00:00, 28.83it/s]"
     ]
    },
    {
     "name": "stdout",
     "output_type": "stream",
     "text": [
      "QRS_acc: 0.8455\n",
      "Scoring complete.\n",
      "ECG-SEQ-LAB - INFO - \n",
      "                Train epoch_90:\n",
      "                --------------------\n",
      "                train/epoch_loss:        0.49738799780607224\n",
      "train/qrs_score:         0.8604\n",
      "\n",
      "                test/qrs_score:          0.8455\n",
      "                ---------------------------------\n",
      "\n"
     ]
    },
    {
     "name": "stderr",
     "output_type": "stream",
     "text": [
      "2021-02-08 02:27:36,243 (INFO) train.py:268] \n",
      "                Train epoch_90:\n",
      "                --------------------\n",
      "                train/epoch_loss:        0.49738799780607224\n",
      "train/qrs_score:         0.8604\n",
      "\n",
      "                test/qrs_score:          0.8455\n",
      "                ---------------------------------\n",
      "\n"
     ]
    },
    {
     "name": "stdout",
     "output_type": "stream",
     "text": [
      "ECG-SEQ-LAB - INFO - Created checkpoint directory\n"
     ]
    },
    {
     "name": "stderr",
     "output_type": "stream",
     "text": [
      "2021-02-08 02:27:36,260 (INFO) train.py:275] Created checkpoint directory\n"
     ]
    },
    {
     "name": "stdout",
     "output_type": "stream",
     "text": [
      "ECG-SEQ-LAB - INFO - Checkpoint 90 saved!\n"
     ]
    },
    {
     "name": "stderr",
     "output_type": "stream",
     "text": [
      "2021-02-08 02:27:36,396 (INFO) train.py:283] Checkpoint 90 saved!\n",
      "Epoch 90/300: 100%|█████████████████████████████████████████████| 1600/1600 [00:53<00:00, 29.69it/s]\n",
      "Epoch 91/300: 100%|█████████████████████████████████████████████| 1600/1600 [00:36<00:00, 28.85it/s]"
     ]
    },
    {
     "name": "stdout",
     "output_type": "stream",
     "text": [
      "QRS_acc: 0.8734\n",
      "Scoring complete.\n"
     ]
    },
    {
     "name": "stderr",
     "output_type": "stream",
     "text": [
      "\r",
      "Epoch 91/300: 100%|█████████████████████████████████████████████| 1600/1600 [00:50<00:00, 28.85it/s]"
     ]
    },
    {
     "name": "stdout",
     "output_type": "stream",
     "text": [
      "QRS_acc: 0.842\n",
      "Scoring complete.\n",
      "ECG-SEQ-LAB - INFO - \n",
      "                Train epoch_91:\n",
      "                --------------------\n",
      "                train/epoch_loss:        0.49194086343050003\n",
      "train/qrs_score:         0.8734\n",
      "\n",
      "                test/qrs_score:          0.842\n",
      "                ---------------------------------\n",
      "\n"
     ]
    },
    {
     "name": "stderr",
     "output_type": "stream",
     "text": [
      "2021-02-08 02:28:28,899 (INFO) train.py:268] \n",
      "                Train epoch_91:\n",
      "                --------------------\n",
      "                train/epoch_loss:        0.49194086343050003\n",
      "train/qrs_score:         0.8734\n",
      "\n",
      "                test/qrs_score:          0.842\n",
      "                ---------------------------------\n",
      "\n"
     ]
    },
    {
     "name": "stdout",
     "output_type": "stream",
     "text": [
      "ECG-SEQ-LAB - INFO - Created checkpoint directory\n"
     ]
    },
    {
     "name": "stderr",
     "output_type": "stream",
     "text": [
      "2021-02-08 02:28:28,912 (INFO) train.py:275] Created checkpoint directory\n"
     ]
    },
    {
     "name": "stdout",
     "output_type": "stream",
     "text": [
      "ECG-SEQ-LAB - INFO - Checkpoint 91 saved!\n"
     ]
    },
    {
     "name": "stderr",
     "output_type": "stream",
     "text": [
      "2021-02-08 02:28:29,105 (INFO) train.py:283] Checkpoint 91 saved!\n",
      "Epoch 91/300: 100%|█████████████████████████████████████████████| 1600/1600 [00:52<00:00, 30.36it/s]\n",
      "Epoch 92/300:  32%|████████                 | 512/1600 [00:21<00:29, 36.63it/s, loss (batch)=0.0635]"
     ]
    },
    {
     "name": "stdout",
     "output_type": "stream",
     "text": [
      "ECG-SEQ-LAB - INFO - Train step_640: loss : 0.06354306638240814\n"
     ]
    },
    {
     "name": "stderr",
     "output_type": "stream",
     "text": [
      "2021-02-08 02:28:50,834 (INFO) train.py:225] Train step_640: loss : 0.06354306638240814\n",
      "Epoch 92/300: 100%|████████████████████████| 1600/1600 [00:36<00:00, 29.41it/s, loss (batch)=0.0635]"
     ]
    },
    {
     "name": "stdout",
     "output_type": "stream",
     "text": [
      "QRS_acc: 0.8776\n",
      "Scoring complete.\n"
     ]
    },
    {
     "name": "stderr",
     "output_type": "stream",
     "text": [
      "\r",
      "Epoch 92/300: 100%|████████████████████████| 1600/1600 [00:50<00:00, 29.41it/s, loss (batch)=0.0635]"
     ]
    },
    {
     "name": "stdout",
     "output_type": "stream",
     "text": [
      "QRS_acc: 0.8462\n",
      "Scoring complete.\n",
      "ECG-SEQ-LAB - INFO - \n",
      "                Train epoch_92:\n",
      "                --------------------\n",
      "                train/epoch_loss:        0.4779283478856087\n",
      "train/qrs_score:         0.8776\n",
      "\n",
      "                test/qrs_score:          0.8462\n",
      "                ---------------------------------\n",
      "\n"
     ]
    },
    {
     "name": "stderr",
     "output_type": "stream",
     "text": [
      "2021-02-08 02:29:21,702 (INFO) train.py:268] \n",
      "                Train epoch_92:\n",
      "                --------------------\n",
      "                train/epoch_loss:        0.4779283478856087\n",
      "train/qrs_score:         0.8776\n",
      "\n",
      "                test/qrs_score:          0.8462\n",
      "                ---------------------------------\n",
      "\n"
     ]
    },
    {
     "name": "stdout",
     "output_type": "stream",
     "text": [
      "ECG-SEQ-LAB - INFO - Created checkpoint directory\n"
     ]
    },
    {
     "name": "stderr",
     "output_type": "stream",
     "text": [
      "2021-02-08 02:29:21,711 (INFO) train.py:275] Created checkpoint directory\n"
     ]
    },
    {
     "name": "stdout",
     "output_type": "stream",
     "text": [
      "ECG-SEQ-LAB - INFO - Checkpoint 92 saved!\n"
     ]
    },
    {
     "name": "stderr",
     "output_type": "stream",
     "text": [
      "2021-02-08 02:29:21,899 (INFO) train.py:283] Checkpoint 92 saved!\n",
      "Epoch 92/300: 100%|████████████████████████| 1600/1600 [00:52<00:00, 30.31it/s, loss (batch)=0.0635]\n",
      "Epoch 93/300: 100%|█████████████████████████████████████████████| 1600/1600 [00:50<00:00, 28.04it/s]"
     ]
    },
    {
     "name": "stdout",
     "output_type": "stream",
     "text": [
      "QRS_acc: 0.8839\n",
      "Scoring complete.\n",
      "QRS_acc: 0.8395\n",
      "Scoring complete.\n",
      "ECG-SEQ-LAB - INFO - \n",
      "                Train epoch_93:\n",
      "                --------------------\n",
      "                train/epoch_loss:        0.4864138402044773\n",
      "train/qrs_score:         0.8839\n",
      "\n",
      "                test/qrs_score:          0.8395\n",
      "                ---------------------------------\n",
      "\n"
     ]
    },
    {
     "name": "stderr",
     "output_type": "stream",
     "text": [
      "2021-02-08 02:30:46,706 (INFO) train.py:268] \n",
      "                Train epoch_93:\n",
      "                --------------------\n",
      "                train/epoch_loss:        0.4864138402044773\n",
      "train/qrs_score:         0.8839\n",
      "\n",
      "                test/qrs_score:          0.8395\n",
      "                ---------------------------------\n",
      "\n"
     ]
    },
    {
     "name": "stdout",
     "output_type": "stream",
     "text": [
      "ECG-SEQ-LAB - INFO - Created checkpoint directory\n"
     ]
    },
    {
     "name": "stderr",
     "output_type": "stream",
     "text": [
      "2021-02-08 02:30:46,725 (INFO) train.py:275] Created checkpoint directory\n"
     ]
    },
    {
     "name": "stdout",
     "output_type": "stream",
     "text": [
      "ECG-SEQ-LAB - INFO - Checkpoint 93 saved!\n"
     ]
    },
    {
     "name": "stderr",
     "output_type": "stream",
     "text": [
      "2021-02-08 02:30:47,524 (INFO) train.py:283] Checkpoint 93 saved!\n",
      "Epoch 93/300: 100%|█████████████████████████████████████████████| 1600/1600 [01:25<00:00, 18.68it/s]\n",
      "Epoch 94/300: 100%|█████████████████████████████████████████████| 1600/1600 [01:00<00:00, 25.24it/s]"
     ]
    },
    {
     "name": "stdout",
     "output_type": "stream",
     "text": [
      "QRS_acc: 0.8766\n",
      "Scoring complete.\n",
      "QRS_acc: 0.8445\n",
      "Scoring complete.\n",
      "ECG-SEQ-LAB - INFO - \n",
      "                Train epoch_94:\n",
      "                --------------------\n",
      "                train/epoch_loss:        0.477381594479084\n",
      "train/qrs_score:         0.8766\n",
      "\n",
      "                test/qrs_score:          0.8445\n",
      "                ---------------------------------\n",
      "\n"
     ]
    },
    {
     "name": "stderr",
     "output_type": "stream",
     "text": [
      "2021-02-08 02:32:12,605 (INFO) train.py:268] \n",
      "                Train epoch_94:\n",
      "                --------------------\n",
      "                train/epoch_loss:        0.477381594479084\n",
      "train/qrs_score:         0.8766\n",
      "\n",
      "                test/qrs_score:          0.8445\n",
      "                ---------------------------------\n",
      "\n"
     ]
    },
    {
     "name": "stdout",
     "output_type": "stream",
     "text": [
      "ECG-SEQ-LAB - INFO - Created checkpoint directory\n"
     ]
    },
    {
     "name": "stderr",
     "output_type": "stream",
     "text": [
      "2021-02-08 02:32:12,702 (INFO) train.py:275] Created checkpoint directory\n"
     ]
    },
    {
     "name": "stdout",
     "output_type": "stream",
     "text": [
      "ECG-SEQ-LAB - INFO - Checkpoint 94 saved!\n"
     ]
    },
    {
     "name": "stderr",
     "output_type": "stream",
     "text": [
      "2021-02-08 02:32:13,422 (INFO) train.py:283] Checkpoint 94 saved!\n",
      "Epoch 94/300: 100%|█████████████████████████████████████████████| 1600/1600 [01:25<00:00, 18.63it/s]\n",
      "Epoch 95/300:  16%|████                     | 256/1600 [00:21<01:05, 20.37it/s, loss (batch)=0.0711]"
     ]
    },
    {
     "name": "stdout",
     "output_type": "stream",
     "text": [
      "ECG-SEQ-LAB - INFO - Train step_660: loss : 0.07110271602869034\n"
     ]
    },
    {
     "name": "stderr",
     "output_type": "stream",
     "text": [
      "2021-02-08 02:32:34,796 (INFO) train.py:225] Train step_660: loss : 0.07110271602869034\n",
      "Epoch 95/300: 100%|████████████████████████| 1600/1600 [01:00<00:00, 27.04it/s, loss (batch)=0.0711]"
     ]
    },
    {
     "name": "stdout",
     "output_type": "stream",
     "text": [
      "QRS_acc: 0.8893\n",
      "Scoring complete.\n",
      "QRS_acc: 0.8508\n",
      "Scoring complete.\n",
      "ECG-SEQ-LAB - INFO - \n",
      "                Train epoch_95:\n",
      "                --------------------\n",
      "                train/epoch_loss:        0.47607506811618805\n",
      "train/qrs_score:         0.8893\n",
      "\n",
      "                test/qrs_score:          0.8508\n",
      "                ---------------------------------\n",
      "\n"
     ]
    },
    {
     "name": "stderr",
     "output_type": "stream",
     "text": [
      "2021-02-08 02:33:50,812 (INFO) train.py:268] \n",
      "                Train epoch_95:\n",
      "                --------------------\n",
      "                train/epoch_loss:        0.47607506811618805\n",
      "train/qrs_score:         0.8893\n",
      "\n",
      "                test/qrs_score:          0.8508\n",
      "                ---------------------------------\n",
      "\n"
     ]
    },
    {
     "name": "stdout",
     "output_type": "stream",
     "text": [
      "ECG-SEQ-LAB - INFO - Created checkpoint directory\n"
     ]
    },
    {
     "name": "stderr",
     "output_type": "stream",
     "text": [
      "2021-02-08 02:33:50,959 (INFO) train.py:275] Created checkpoint directory\n"
     ]
    },
    {
     "name": "stdout",
     "output_type": "stream",
     "text": [
      "ECG-SEQ-LAB - INFO - Checkpoint 95 saved!\n"
     ]
    },
    {
     "name": "stderr",
     "output_type": "stream",
     "text": [
      "2021-02-08 02:33:52,115 (INFO) train.py:283] Checkpoint 95 saved!\n",
      "Epoch 95/300: 100%|████████████████████████| 1600/1600 [01:38<00:00, 16.21it/s, loss (batch)=0.0711]\n",
      "Epoch 96/300: 100%|█████████████████████████████████████████████| 1600/1600 [00:53<00:00, 23.66it/s]"
     ]
    },
    {
     "name": "stdout",
     "output_type": "stream",
     "text": [
      "QRS_acc: 0.8873\n",
      "Scoring complete.\n"
     ]
    },
    {
     "name": "stderr",
     "output_type": "stream",
     "text": [
      "\r",
      "Epoch 96/300: 100%|█████████████████████████████████████████████| 1600/1600 [01:10<00:00, 23.66it/s]"
     ]
    },
    {
     "name": "stdout",
     "output_type": "stream",
     "text": [
      "QRS_acc: 0.8455\n",
      "Scoring complete.\n",
      "ECG-SEQ-LAB - INFO - \n",
      "                Train epoch_96:\n",
      "                --------------------\n",
      "                train/epoch_loss:        0.4860842302441597\n",
      "train/qrs_score:         0.8873\n",
      "\n",
      "                test/qrs_score:          0.8455\n",
      "                ---------------------------------\n",
      "\n"
     ]
    },
    {
     "name": "stderr",
     "output_type": "stream",
     "text": [
      "2021-02-08 02:35:05,602 (INFO) train.py:268] \n",
      "                Train epoch_96:\n",
      "                --------------------\n",
      "                train/epoch_loss:        0.4860842302441597\n",
      "train/qrs_score:         0.8873\n",
      "\n",
      "                test/qrs_score:          0.8455\n",
      "                ---------------------------------\n",
      "\n"
     ]
    },
    {
     "name": "stdout",
     "output_type": "stream",
     "text": [
      "ECG-SEQ-LAB - INFO - Created checkpoint directory\n"
     ]
    },
    {
     "name": "stderr",
     "output_type": "stream",
     "text": [
      "2021-02-08 02:35:05,614 (INFO) train.py:275] Created checkpoint directory\n"
     ]
    },
    {
     "name": "stdout",
     "output_type": "stream",
     "text": [
      "ECG-SEQ-LAB - INFO - Checkpoint 96 saved!\n"
     ]
    },
    {
     "name": "stderr",
     "output_type": "stream",
     "text": [
      "2021-02-08 02:35:05,818 (INFO) train.py:283] Checkpoint 96 saved!\n",
      "Epoch 96/300: 100%|█████████████████████████████████████████████| 1600/1600 [01:13<00:00, 21.72it/s]\n",
      "Epoch 97/300: 100%|█████████████████████████████████████████████| 1600/1600 [00:50<00:00, 28.35it/s]"
     ]
    },
    {
     "name": "stdout",
     "output_type": "stream",
     "text": [
      "QRS_acc: 0.8824\n",
      "Scoring complete.\n",
      "QRS_acc: 0.8445\n",
      "Scoring complete.\n",
      "ECG-SEQ-LAB - INFO - \n",
      "                Train epoch_97:\n",
      "                --------------------\n",
      "                train/epoch_loss:        0.4832078441977501\n",
      "train/qrs_score:         0.8824\n",
      "\n",
      "                test/qrs_score:          0.8445\n",
      "                ---------------------------------\n",
      "\n"
     ]
    },
    {
     "name": "stderr",
     "output_type": "stream",
     "text": [
      "2021-02-08 02:36:34,694 (INFO) train.py:268] \n",
      "                Train epoch_97:\n",
      "                --------------------\n",
      "                train/epoch_loss:        0.4832078441977501\n",
      "train/qrs_score:         0.8824\n",
      "\n",
      "                test/qrs_score:          0.8445\n",
      "                ---------------------------------\n",
      "\n"
     ]
    },
    {
     "name": "stdout",
     "output_type": "stream",
     "text": [
      "ECG-SEQ-LAB - INFO - Created checkpoint directory\n"
     ]
    },
    {
     "name": "stderr",
     "output_type": "stream",
     "text": [
      "2021-02-08 02:36:34,841 (INFO) train.py:275] Created checkpoint directory\n"
     ]
    },
    {
     "name": "stdout",
     "output_type": "stream",
     "text": [
      "ECG-SEQ-LAB - INFO - Checkpoint 97 saved!\n"
     ]
    },
    {
     "name": "stderr",
     "output_type": "stream",
     "text": [
      "2021-02-08 02:36:37,383 (INFO) train.py:283] Checkpoint 97 saved!\n",
      "Epoch 97/300: 100%|█████████████████████████████████████████████| 1600/1600 [01:31<00:00, 17.47it/s]\n",
      "Epoch 98/300:   0%|                                   | 0/1600 [01:16<?, ?it/s, loss (batch)=0.0712]"
     ]
    },
    {
     "name": "stdout",
     "output_type": "stream",
     "text": [
      "ECG-SEQ-LAB - INFO - Train step_680: loss : 0.07124998420476913\n"
     ]
    },
    {
     "name": "stderr",
     "output_type": "stream",
     "text": [
      "2021-02-08 02:37:54,423 (INFO) train.py:225] Train step_680: loss : 0.07124998420476913\n",
      "Epoch 98/300: 100%|████████████████████████| 1600/1600 [02:00<00:00, 15.03it/s, loss (batch)=0.0712]"
     ]
    },
    {
     "name": "stdout",
     "output_type": "stream",
     "text": [
      "QRS_acc: 0.8899\n",
      "Scoring complete.\n",
      "QRS_acc: 0.8475\n",
      "Scoring complete.\n",
      "ECG-SEQ-LAB - INFO - \n",
      "                Train epoch_98:\n",
      "                --------------------\n",
      "                train/epoch_loss:        0.48715266585350037\n",
      "train/qrs_score:         0.8899\n",
      "\n",
      "                test/qrs_score:          0.8475\n",
      "                ---------------------------------\n",
      "\n"
     ]
    },
    {
     "name": "stderr",
     "output_type": "stream",
     "text": [
      "2021-02-08 02:40:03,707 (INFO) train.py:268] \n",
      "                Train epoch_98:\n",
      "                --------------------\n",
      "                train/epoch_loss:        0.48715266585350037\n",
      "train/qrs_score:         0.8899\n",
      "\n",
      "                test/qrs_score:          0.8475\n",
      "                ---------------------------------\n",
      "\n"
     ]
    },
    {
     "name": "stdout",
     "output_type": "stream",
     "text": [
      "ECG-SEQ-LAB - INFO - Created checkpoint directory\n"
     ]
    },
    {
     "name": "stderr",
     "output_type": "stream",
     "text": [
      "2021-02-08 02:40:03,805 (INFO) train.py:275] Created checkpoint directory\n"
     ]
    },
    {
     "name": "stdout",
     "output_type": "stream",
     "text": [
      "ECG-SEQ-LAB - INFO - Checkpoint 98 saved!\n"
     ]
    },
    {
     "name": "stderr",
     "output_type": "stream",
     "text": [
      "2021-02-08 02:40:05,974 (INFO) train.py:283] Checkpoint 98 saved!\n",
      "Epoch 98/300: 100%|████████████████████████| 1600/1600 [03:28<00:00,  7.67it/s, loss (batch)=0.0712]\n",
      "Epoch 99/300: 100%|█████████████████████████████████████████████| 1600/1600 [02:20<00:00, 13.38it/s]"
     ]
    },
    {
     "name": "stdout",
     "output_type": "stream",
     "text": [
      "QRS_acc: 0.8896\n",
      "Scoring complete.\n",
      "QRS_acc: 0.849\n",
      "Scoring complete.\n",
      "ECG-SEQ-LAB - INFO - \n",
      "                Train epoch_99:\n",
      "                --------------------\n",
      "                train/epoch_loss:        0.48453430086374283\n",
      "train/qrs_score:         0.8896\n",
      "\n",
      "                test/qrs_score:          0.849\n",
      "                ---------------------------------\n",
      "\n"
     ]
    },
    {
     "name": "stderr",
     "output_type": "stream",
     "text": [
      "2021-02-08 02:42:50,421 (INFO) train.py:268] \n",
      "                Train epoch_99:\n",
      "                --------------------\n",
      "                train/epoch_loss:        0.48453430086374283\n",
      "train/qrs_score:         0.8896\n",
      "\n",
      "                test/qrs_score:          0.849\n",
      "                ---------------------------------\n",
      "\n"
     ]
    },
    {
     "name": "stdout",
     "output_type": "stream",
     "text": [
      "ECG-SEQ-LAB - INFO - Created checkpoint directory\n"
     ]
    },
    {
     "name": "stderr",
     "output_type": "stream",
     "text": [
      "2021-02-08 02:42:50,434 (INFO) train.py:275] Created checkpoint directory\n"
     ]
    },
    {
     "name": "stdout",
     "output_type": "stream",
     "text": [
      "ECG-SEQ-LAB - INFO - Checkpoint 99 saved!\n"
     ]
    },
    {
     "name": "stderr",
     "output_type": "stream",
     "text": [
      "2021-02-08 02:42:50,630 (INFO) train.py:283] Checkpoint 99 saved!\n",
      "Epoch 99/300: 100%|█████████████████████████████████████████████| 1600/1600 [02:44<00:00,  9.72it/s]\n",
      "Epoch 100/300:  96%|██████████████████████ | 1536/1600 [00:37<00:01, 47.33it/s, loss (batch)=0.0694]"
     ]
    },
    {
     "name": "stdout",
     "output_type": "stream",
     "text": [
      "ECG-SEQ-LAB - INFO - Train step_700: loss : 0.06938561797142029\n"
     ]
    },
    {
     "name": "stderr",
     "output_type": "stream",
     "text": [
      "2021-02-08 02:43:28,497 (INFO) train.py:225] Train step_700: loss : 0.06938561797142029\n",
      "Epoch 100/300: 100%|███████████████████████| 1600/1600 [00:50<00:00, 25.29it/s, loss (batch)=0.0694]"
     ]
    },
    {
     "name": "stdout",
     "output_type": "stream",
     "text": [
      "QRS_acc: 0.8877\n",
      "Scoring complete.\n",
      "QRS_acc: 0.8455\n",
      "Scoring complete.\n",
      "ECG-SEQ-LAB - INFO - \n",
      "                Train epoch_100:\n",
      "                --------------------\n",
      "                train/epoch_loss:        0.4816313162446022\n",
      "train/qrs_score:         0.8877\n",
      "\n",
      "                test/qrs_score:          0.8455\n",
      "                ---------------------------------\n",
      "\n"
     ]
    },
    {
     "name": "stderr",
     "output_type": "stream",
     "text": [
      "2021-02-08 02:43:50,150 (INFO) train.py:268] \n",
      "                Train epoch_100:\n",
      "                --------------------\n",
      "                train/epoch_loss:        0.4816313162446022\n",
      "train/qrs_score:         0.8877\n",
      "\n",
      "                test/qrs_score:          0.8455\n",
      "                ---------------------------------\n",
      "\n"
     ]
    },
    {
     "name": "stdout",
     "output_type": "stream",
     "text": [
      "ECG-SEQ-LAB - INFO - Created checkpoint directory\n"
     ]
    },
    {
     "name": "stderr",
     "output_type": "stream",
     "text": [
      "2021-02-08 02:43:50,174 (INFO) train.py:275] Created checkpoint directory\n"
     ]
    },
    {
     "name": "stdout",
     "output_type": "stream",
     "text": [
      "ECG-SEQ-LAB - INFO - Checkpoint 100 saved!\n"
     ]
    },
    {
     "name": "stderr",
     "output_type": "stream",
     "text": [
      "2021-02-08 02:43:50,745 (INFO) train.py:283] Checkpoint 100 saved!\n",
      "Epoch 100/300: 100%|███████████████████████| 1600/1600 [01:00<00:00, 26.60it/s, loss (batch)=0.0694]\n",
      "Epoch 101/300: 100%|████████████████████████████████████████████| 1600/1600 [01:00<00:00, 25.50it/s]"
     ]
    },
    {
     "name": "stdout",
     "output_type": "stream",
     "text": [
      "QRS_acc: 0.898\n",
      "Scoring complete.\n",
      "QRS_acc: 0.8602\n",
      "Scoring complete.\n",
      "ECG-SEQ-LAB - INFO - \n",
      "                Train epoch_101:\n",
      "                --------------------\n",
      "                train/epoch_loss:        0.4806453064084053\n",
      "train/qrs_score:         0.898\n",
      "\n",
      "                test/qrs_score:          0.8602\n",
      "                ---------------------------------\n",
      "\n"
     ]
    },
    {
     "name": "stderr",
     "output_type": "stream",
     "text": [
      "2021-02-08 02:45:14,707 (INFO) train.py:268] \n",
      "                Train epoch_101:\n",
      "                --------------------\n",
      "                train/epoch_loss:        0.4806453064084053\n",
      "train/qrs_score:         0.898\n",
      "\n",
      "                test/qrs_score:          0.8602\n",
      "                ---------------------------------\n",
      "\n"
     ]
    },
    {
     "name": "stdout",
     "output_type": "stream",
     "text": [
      "ECG-SEQ-LAB - INFO - Created checkpoint directory\n"
     ]
    },
    {
     "name": "stderr",
     "output_type": "stream",
     "text": [
      "2021-02-08 02:45:15,051 (INFO) train.py:275] Created checkpoint directory\n"
     ]
    },
    {
     "name": "stdout",
     "output_type": "stream",
     "text": [
      "ECG-SEQ-LAB - INFO - Checkpoint 101 saved!\n"
     ]
    },
    {
     "name": "stderr",
     "output_type": "stream",
     "text": [
      "2021-02-08 02:45:16,412 (INFO) train.py:283] Checkpoint 101 saved!\n",
      "Epoch 101/300: 100%|████████████████████████████████████████████| 1600/1600 [01:25<00:00, 18.68it/s]\n",
      "Epoch 102/300: 100%|████████████████████████████████████████████| 1600/1600 [01:03<00:00, 19.73it/s]"
     ]
    },
    {
     "name": "stdout",
     "output_type": "stream",
     "text": [
      "QRS_acc: 0.8812\n",
      "Scoring complete.\n"
     ]
    },
    {
     "name": "stderr",
     "output_type": "stream",
     "text": [
      "\r",
      "Epoch 102/300: 100%|████████████████████████████████████████████| 1600/1600 [01:20<00:00, 19.73it/s]"
     ]
    },
    {
     "name": "stdout",
     "output_type": "stream",
     "text": [
      "QRS_acc: 0.8475\n",
      "Scoring complete.\n",
      "ECG-SEQ-LAB - INFO - \n",
      "                Train epoch_102:\n",
      "                --------------------\n",
      "                train/epoch_loss:        0.48977624624967575\n",
      "train/qrs_score:         0.8812\n",
      "\n",
      "                test/qrs_score:          0.8475\n",
      "                ---------------------------------\n",
      "\n"
     ]
    },
    {
     "name": "stderr",
     "output_type": "stream",
     "text": [
      "2021-02-08 02:46:45,205 (INFO) train.py:268] \n",
      "                Train epoch_102:\n",
      "                --------------------\n",
      "                train/epoch_loss:        0.48977624624967575\n",
      "train/qrs_score:         0.8812\n",
      "\n",
      "                test/qrs_score:          0.8475\n",
      "                ---------------------------------\n",
      "\n"
     ]
    },
    {
     "name": "stdout",
     "output_type": "stream",
     "text": [
      "ECG-SEQ-LAB - INFO - Created checkpoint directory\n"
     ]
    },
    {
     "name": "stderr",
     "output_type": "stream",
     "text": [
      "2021-02-08 02:46:45,311 (INFO) train.py:275] Created checkpoint directory\n"
     ]
    },
    {
     "name": "stdout",
     "output_type": "stream",
     "text": [
      "ECG-SEQ-LAB - INFO - Checkpoint 102 saved!\n"
     ]
    },
    {
     "name": "stderr",
     "output_type": "stream",
     "text": [
      "2021-02-08 02:46:45,925 (INFO) train.py:283] Checkpoint 102 saved!\n",
      "Epoch 102/300: 100%|████████████████████████████████████████████| 1600/1600 [01:29<00:00, 17.88it/s]\n",
      "Epoch 103/300:  80%|██████████████████▍    | 1280/1600 [00:38<00:07, 41.52it/s, loss (batch)=0.0667]"
     ]
    },
    {
     "name": "stdout",
     "output_type": "stream",
     "text": [
      "ECG-SEQ-LAB - INFO - Train step_720: loss : 0.06671902537345886\n"
     ]
    },
    {
     "name": "stderr",
     "output_type": "stream",
     "text": [
      "2021-02-08 02:47:24,446 (INFO) train.py:225] Train step_720: loss : 0.06671902537345886\n",
      "Epoch 103/300: 100%|███████████████████████| 1600/1600 [00:50<00:00, 46.87it/s, loss (batch)=0.0667]"
     ]
    },
    {
     "name": "stdout",
     "output_type": "stream",
     "text": [
      "QRS_acc: 0.8735\n",
      "Scoring complete.\n",
      "QRS_acc: 0.8402\n",
      "Scoring complete.\n",
      "ECG-SEQ-LAB - INFO - \n",
      "                Train epoch_103:\n",
      "                --------------------\n",
      "                train/epoch_loss:        0.47342051565647125\n",
      "train/qrs_score:         0.8735\n",
      "\n",
      "                test/qrs_score:          0.8402\n",
      "                ---------------------------------\n",
      "\n"
     ]
    },
    {
     "name": "stderr",
     "output_type": "stream",
     "text": [
      "2021-02-08 02:48:27,612 (INFO) train.py:268] \n",
      "                Train epoch_103:\n",
      "                --------------------\n",
      "                train/epoch_loss:        0.47342051565647125\n",
      "train/qrs_score:         0.8735\n",
      "\n",
      "                test/qrs_score:          0.8402\n",
      "                ---------------------------------\n",
      "\n"
     ]
    },
    {
     "name": "stdout",
     "output_type": "stream",
     "text": [
      "ECG-SEQ-LAB - INFO - Created checkpoint directory\n"
     ]
    },
    {
     "name": "stderr",
     "output_type": "stream",
     "text": [
      "2021-02-08 02:48:27,844 (INFO) train.py:275] Created checkpoint directory\n"
     ]
    },
    {
     "name": "stdout",
     "output_type": "stream",
     "text": [
      "ECG-SEQ-LAB - INFO - Checkpoint 103 saved!\n"
     ]
    },
    {
     "name": "stderr",
     "output_type": "stream",
     "text": [
      "2021-02-08 02:48:28,220 (INFO) train.py:283] Checkpoint 103 saved!\n",
      "Epoch 103/300: 100%|███████████████████████| 1600/1600 [01:42<00:00, 15.62it/s, loss (batch)=0.0667]\n",
      "Epoch 104/300: 100%|████████████████████████████████████████████| 1600/1600 [00:54<00:00, 23.51it/s]"
     ]
    },
    {
     "name": "stdout",
     "output_type": "stream",
     "text": [
      "QRS_acc: 0.9012\n",
      "Scoring complete.\n",
      "QRS_acc: 0.8582\n",
      "Scoring complete.\n",
      "ECG-SEQ-LAB - INFO - \n",
      "                Train epoch_104:\n",
      "                --------------------\n",
      "                train/epoch_loss:        0.46535469591617584\n",
      "train/qrs_score:         0.9012\n",
      "\n",
      "                test/qrs_score:          0.8582\n",
      "                ---------------------------------\n",
      "\n"
     ]
    },
    {
     "name": "stderr",
     "output_type": "stream",
     "text": [
      "2021-02-08 02:49:38,007 (INFO) train.py:268] \n",
      "                Train epoch_104:\n",
      "                --------------------\n",
      "                train/epoch_loss:        0.46535469591617584\n",
      "train/qrs_score:         0.9012\n",
      "\n",
      "                test/qrs_score:          0.8582\n",
      "                ---------------------------------\n",
      "\n"
     ]
    },
    {
     "name": "stdout",
     "output_type": "stream",
     "text": [
      "ECG-SEQ-LAB - INFO - Created checkpoint directory\n"
     ]
    },
    {
     "name": "stderr",
     "output_type": "stream",
     "text": [
      "2021-02-08 02:49:38,023 (INFO) train.py:275] Created checkpoint directory\n"
     ]
    },
    {
     "name": "stdout",
     "output_type": "stream",
     "text": [
      "ECG-SEQ-LAB - INFO - Checkpoint 104 saved!\n"
     ]
    },
    {
     "name": "stderr",
     "output_type": "stream",
     "text": [
      "2021-02-08 02:49:38,240 (INFO) train.py:283] Checkpoint 104 saved!\n",
      "Epoch 104/300: 100%|████████████████████████████████████████████| 1600/1600 [01:09<00:00, 22.90it/s]\n",
      "Epoch 105/300: 100%|████████████████████████████████████████████| 1600/1600 [00:37<00:00, 28.73it/s]"
     ]
    },
    {
     "name": "stdout",
     "output_type": "stream",
     "text": [
      "QRS_acc: 0.8948\n",
      "Scoring complete.\n"
     ]
    },
    {
     "name": "stderr",
     "output_type": "stream",
     "text": [
      "\r",
      "Epoch 105/300: 100%|████████████████████████████████████████████| 1600/1600 [00:50<00:00, 28.73it/s]"
     ]
    },
    {
     "name": "stdout",
     "output_type": "stream",
     "text": [
      "QRS_acc: 0.8505\n",
      "Scoring complete.\n",
      "ECG-SEQ-LAB - INFO - \n",
      "                Train epoch_105:\n",
      "                --------------------\n",
      "                train/epoch_loss:        0.471793070435524\n",
      "train/qrs_score:         0.8948\n",
      "\n",
      "                test/qrs_score:          0.8505\n",
      "                ---------------------------------\n",
      "\n"
     ]
    },
    {
     "name": "stderr",
     "output_type": "stream",
     "text": [
      "2021-02-08 02:50:29,707 (INFO) train.py:268] \n",
      "                Train epoch_105:\n",
      "                --------------------\n",
      "                train/epoch_loss:        0.471793070435524\n",
      "train/qrs_score:         0.8948\n",
      "\n",
      "                test/qrs_score:          0.8505\n",
      "                ---------------------------------\n",
      "\n"
     ]
    },
    {
     "name": "stdout",
     "output_type": "stream",
     "text": [
      "ECG-SEQ-LAB - INFO - Created checkpoint directory\n"
     ]
    },
    {
     "name": "stderr",
     "output_type": "stream",
     "text": [
      "2021-02-08 02:50:29,712 (INFO) train.py:275] Created checkpoint directory\n"
     ]
    },
    {
     "name": "stdout",
     "output_type": "stream",
     "text": [
      "ECG-SEQ-LAB - INFO - Checkpoint 105 saved!\n"
     ]
    },
    {
     "name": "stderr",
     "output_type": "stream",
     "text": [
      "2021-02-08 02:50:29,821 (INFO) train.py:283] Checkpoint 105 saved!\n",
      "Epoch 105/300: 100%|████████████████████████████████████████████| 1600/1600 [00:51<00:00, 31.02it/s]\n",
      "Epoch 106/300:  64%|██████████████▋        | 1024/1600 [00:31<00:13, 43.34it/s, loss (batch)=0.0648]"
     ]
    },
    {
     "name": "stdout",
     "output_type": "stream",
     "text": [
      "ECG-SEQ-LAB - INFO - Train step_740: loss : 0.06481285393238068\n"
     ]
    },
    {
     "name": "stderr",
     "output_type": "stream",
     "text": [
      "2021-02-08 02:51:01,260 (INFO) train.py:225] Train step_740: loss : 0.06481285393238068\n",
      "Epoch 106/300: 100%|███████████████████████| 1600/1600 [00:36<00:00, 29.55it/s, loss (batch)=0.0648]"
     ]
    },
    {
     "name": "stdout",
     "output_type": "stream",
     "text": [
      "QRS_acc: 0.8982\n",
      "Scoring complete.\n"
     ]
    },
    {
     "name": "stderr",
     "output_type": "stream",
     "text": [
      "\r",
      "Epoch 106/300: 100%|███████████████████████| 1600/1600 [00:50<00:00, 29.55it/s, loss (batch)=0.0648]"
     ]
    },
    {
     "name": "stdout",
     "output_type": "stream",
     "text": [
      "QRS_acc: 0.867\n",
      "Scoring complete.\n",
      "ECG-SEQ-LAB - INFO - \n",
      "                Train epoch_106:\n",
      "                --------------------\n",
      "                train/epoch_loss:        0.48619600385427475\n",
      "train/qrs_score:         0.8982\n",
      "\n",
      "                test/qrs_score:          0.867\n",
      "                ---------------------------------\n",
      "\n"
     ]
    },
    {
     "name": "stderr",
     "output_type": "stream",
     "text": [
      "2021-02-08 02:51:30,812 (INFO) train.py:268] \n",
      "                Train epoch_106:\n",
      "                --------------------\n",
      "                train/epoch_loss:        0.48619600385427475\n",
      "train/qrs_score:         0.8982\n",
      "\n",
      "                test/qrs_score:          0.867\n",
      "                ---------------------------------\n",
      "\n"
     ]
    },
    {
     "name": "stdout",
     "output_type": "stream",
     "text": [
      "ECG-SEQ-LAB - INFO - Created checkpoint directory\n"
     ]
    },
    {
     "name": "stderr",
     "output_type": "stream",
     "text": [
      "2021-02-08 02:51:30,889 (INFO) train.py:275] Created checkpoint directory\n"
     ]
    },
    {
     "name": "stdout",
     "output_type": "stream",
     "text": [
      "ECG-SEQ-LAB - INFO - Checkpoint 106 saved!\n"
     ]
    },
    {
     "name": "stderr",
     "output_type": "stream",
     "text": [
      "2021-02-08 02:51:31,740 (INFO) train.py:283] Checkpoint 106 saved!\n",
      "Epoch 106/300: 100%|███████████████████████| 1600/1600 [01:01<00:00, 25.84it/s, loss (batch)=0.0648]\n",
      "Epoch 107/300: 100%|████████████████████████████████████████████| 1600/1600 [01:20<00:00, 21.42it/s]"
     ]
    },
    {
     "name": "stdout",
     "output_type": "stream",
     "text": [
      "QRS_acc: 0.8944\n",
      "Scoring complete.\n",
      "QRS_acc: 0.8568\n",
      "Scoring complete.\n",
      "ECG-SEQ-LAB - INFO - \n",
      "                Train epoch_107:\n",
      "                --------------------\n",
      "                train/epoch_loss:        0.4736729636788368\n",
      "train/qrs_score:         0.8944\n",
      "\n",
      "                test/qrs_score:          0.8568\n",
      "                ---------------------------------\n",
      "\n"
     ]
    },
    {
     "name": "stderr",
     "output_type": "stream",
     "text": [
      "2021-02-08 02:53:32,644 (INFO) train.py:268] \n",
      "                Train epoch_107:\n",
      "                --------------------\n",
      "                train/epoch_loss:        0.4736729636788368\n",
      "train/qrs_score:         0.8944\n",
      "\n",
      "                test/qrs_score:          0.8568\n",
      "                ---------------------------------\n",
      "\n"
     ]
    },
    {
     "name": "stdout",
     "output_type": "stream",
     "text": [
      "ECG-SEQ-LAB - INFO - Created checkpoint directory\n"
     ]
    },
    {
     "name": "stderr",
     "output_type": "stream",
     "text": [
      "2021-02-08 02:53:32,700 (INFO) train.py:275] Created checkpoint directory\n"
     ]
    },
    {
     "name": "stdout",
     "output_type": "stream",
     "text": [
      "ECG-SEQ-LAB - INFO - Checkpoint 107 saved!\n"
     ]
    },
    {
     "name": "stderr",
     "output_type": "stream",
     "text": [
      "2021-02-08 02:53:33,049 (INFO) train.py:283] Checkpoint 107 saved!\n",
      "Epoch 107/300: 100%|████████████████████████████████████████████| 1600/1600 [02:01<00:00, 13.16it/s]\n",
      "Epoch 108/300: 100%|████████████████████████████████████████████| 1600/1600 [01:10<00:00, 24.70it/s]"
     ]
    },
    {
     "name": "stdout",
     "output_type": "stream",
     "text": [
      "QRS_acc: 0.8929\n",
      "Scoring complete.\n",
      "QRS_acc: 0.8457\n",
      "Scoring complete.\n",
      "ECG-SEQ-LAB - INFO - \n",
      "                Train epoch_108:\n",
      "                --------------------\n",
      "                train/epoch_loss:        0.4564780965447426\n",
      "train/qrs_score:         0.8929\n",
      "\n",
      "                test/qrs_score:          0.8457\n",
      "                ---------------------------------\n",
      "\n"
     ]
    },
    {
     "name": "stderr",
     "output_type": "stream",
     "text": [
      "2021-02-08 02:55:11,146 (INFO) train.py:268] \n",
      "                Train epoch_108:\n",
      "                --------------------\n",
      "                train/epoch_loss:        0.4564780965447426\n",
      "train/qrs_score:         0.8929\n",
      "\n",
      "                test/qrs_score:          0.8457\n",
      "                ---------------------------------\n",
      "\n"
     ]
    },
    {
     "name": "stdout",
     "output_type": "stream",
     "text": [
      "ECG-SEQ-LAB - INFO - Created checkpoint directory\n"
     ]
    },
    {
     "name": "stderr",
     "output_type": "stream",
     "text": [
      "2021-02-08 02:55:11,250 (INFO) train.py:275] Created checkpoint directory\n"
     ]
    },
    {
     "name": "stdout",
     "output_type": "stream",
     "text": [
      "ECG-SEQ-LAB - INFO - Checkpoint 108 saved!\n"
     ]
    },
    {
     "name": "stderr",
     "output_type": "stream",
     "text": [
      "2021-02-08 02:55:12,253 (INFO) train.py:283] Checkpoint 108 saved!\n",
      "Epoch 108/300: 100%|████████████████████████████████████████████| 1600/1600 [01:38<00:00, 16.18it/s]\n",
      "Epoch 109/300:  48%|███████████▌            | 768/1600 [00:29<00:24, 33.37it/s, loss (batch)=0.0668]"
     ]
    },
    {
     "name": "stdout",
     "output_type": "stream",
     "text": [
      "ECG-SEQ-LAB - INFO - Train step_760: loss : 0.06675734370946884\n"
     ]
    },
    {
     "name": "stderr",
     "output_type": "stream",
     "text": [
      "2021-02-08 02:55:41,597 (INFO) train.py:225] Train step_760: loss : 0.06675734370946884\n",
      "Epoch 109/300: 100%|███████████████████████| 1600/1600 [00:50<00:00, 28.67it/s, loss (batch)=0.0668]"
     ]
    },
    {
     "name": "stdout",
     "output_type": "stream",
     "text": [
      "QRS_acc: 0.8938\n",
      "Scoring complete.\n",
      "QRS_acc: 0.8472\n",
      "Scoring complete.\n",
      "ECG-SEQ-LAB - INFO - \n",
      "                Train epoch_109:\n",
      "                --------------------\n",
      "                train/epoch_loss:        0.4709094204008579\n",
      "train/qrs_score:         0.8938\n",
      "\n",
      "                test/qrs_score:          0.8472\n",
      "                ---------------------------------\n",
      "\n"
     ]
    },
    {
     "name": "stderr",
     "output_type": "stream",
     "text": [
      "2021-02-08 02:56:11,842 (INFO) train.py:268] \n",
      "                Train epoch_109:\n",
      "                --------------------\n",
      "                train/epoch_loss:        0.4709094204008579\n",
      "train/qrs_score:         0.8938\n",
      "\n",
      "                test/qrs_score:          0.8472\n",
      "                ---------------------------------\n",
      "\n"
     ]
    },
    {
     "name": "stdout",
     "output_type": "stream",
     "text": [
      "ECG-SEQ-LAB - INFO - Created checkpoint directory\n"
     ]
    },
    {
     "name": "stderr",
     "output_type": "stream",
     "text": [
      "2021-02-08 02:56:11,851 (INFO) train.py:275] Created checkpoint directory\n"
     ]
    },
    {
     "name": "stdout",
     "output_type": "stream",
     "text": [
      "ECG-SEQ-LAB - INFO - Checkpoint 109 saved!\n"
     ]
    },
    {
     "name": "stderr",
     "output_type": "stream",
     "text": [
      "2021-02-08 02:56:12,077 (INFO) train.py:283] Checkpoint 109 saved!\n",
      "Epoch 109/300: 100%|███████████████████████| 1600/1600 [00:59<00:00, 26.75it/s, loss (batch)=0.0668]\n",
      "Epoch 110/300: 100%|████████████████████████████████████████████| 1600/1600 [00:50<00:00, 25.13it/s]"
     ]
    },
    {
     "name": "stdout",
     "output_type": "stream",
     "text": [
      "QRS_acc: 0.8984\n",
      "Scoring complete.\n",
      "QRS_acc: 0.858\n",
      "Scoring complete.\n",
      "ECG-SEQ-LAB - INFO - \n",
      "                Train epoch_110:\n",
      "                --------------------\n",
      "                train/epoch_loss:        0.4612794704735279\n",
      "train/qrs_score:         0.8984\n",
      "\n",
      "                test/qrs_score:          0.858\n",
      "                ---------------------------------\n",
      "\n"
     ]
    },
    {
     "name": "stderr",
     "output_type": "stream",
     "text": [
      "2021-02-08 02:57:06,832 (INFO) train.py:268] \n",
      "                Train epoch_110:\n",
      "                --------------------\n",
      "                train/epoch_loss:        0.4612794704735279\n",
      "train/qrs_score:         0.8984\n",
      "\n",
      "                test/qrs_score:          0.858\n",
      "                ---------------------------------\n",
      "\n"
     ]
    },
    {
     "name": "stdout",
     "output_type": "stream",
     "text": [
      "ECG-SEQ-LAB - INFO - Created checkpoint directory\n"
     ]
    },
    {
     "name": "stderr",
     "output_type": "stream",
     "text": [
      "2021-02-08 02:57:06,836 (INFO) train.py:275] Created checkpoint directory\n"
     ]
    },
    {
     "name": "stdout",
     "output_type": "stream",
     "text": [
      "ECG-SEQ-LAB - INFO - Checkpoint 110 saved!\n"
     ]
    },
    {
     "name": "stderr",
     "output_type": "stream",
     "text": [
      "2021-02-08 02:57:06,933 (INFO) train.py:283] Checkpoint 110 saved!\n",
      "Epoch 110/300: 100%|████████████████████████████████████████████| 1600/1600 [00:54<00:00, 29.17it/s]\n",
      "Epoch 111/300: 100%|████████████████████████████████████████████| 1600/1600 [00:37<00:00, 28.31it/s]"
     ]
    },
    {
     "name": "stdout",
     "output_type": "stream",
     "text": [
      "QRS_acc: 0.8967\n",
      "Scoring complete.\n"
     ]
    },
    {
     "name": "stderr",
     "output_type": "stream",
     "text": [
      "\r",
      "Epoch 111/300: 100%|████████████████████████████████████████████| 1600/1600 [00:50<00:00, 28.31it/s]"
     ]
    },
    {
     "name": "stdout",
     "output_type": "stream",
     "text": [
      "QRS_acc: 0.8515\n",
      "Scoring complete.\n",
      "ECG-SEQ-LAB - INFO - \n",
      "                Train epoch_111:\n",
      "                --------------------\n",
      "                train/epoch_loss:        0.45387977734208107\n",
      "train/qrs_score:         0.8967\n",
      "\n",
      "                test/qrs_score:          0.8515\n",
      "                ---------------------------------\n",
      "\n"
     ]
    },
    {
     "name": "stderr",
     "output_type": "stream",
     "text": [
      "2021-02-08 02:58:00,224 (INFO) train.py:268] \n",
      "                Train epoch_111:\n",
      "                --------------------\n",
      "                train/epoch_loss:        0.45387977734208107\n",
      "train/qrs_score:         0.8967\n",
      "\n",
      "                test/qrs_score:          0.8515\n",
      "                ---------------------------------\n",
      "\n"
     ]
    },
    {
     "name": "stdout",
     "output_type": "stream",
     "text": [
      "ECG-SEQ-LAB - INFO - Created checkpoint directory\n"
     ]
    },
    {
     "name": "stderr",
     "output_type": "stream",
     "text": [
      "2021-02-08 02:58:00,232 (INFO) train.py:275] Created checkpoint directory\n"
     ]
    },
    {
     "name": "stdout",
     "output_type": "stream",
     "text": [
      "ECG-SEQ-LAB - INFO - Checkpoint 111 saved!\n"
     ]
    },
    {
     "name": "stderr",
     "output_type": "stream",
     "text": [
      "2021-02-08 02:58:00,327 (INFO) train.py:283] Checkpoint 111 saved!\n",
      "Epoch 111/300: 100%|████████████████████████████████████████████| 1600/1600 [00:53<00:00, 29.97it/s]\n",
      "Epoch 112/300:  32%|███████▋                | 512/1600 [00:22<00:31, 34.58it/s, loss (batch)=0.0709]"
     ]
    },
    {
     "name": "stdout",
     "output_type": "stream",
     "text": [
      "ECG-SEQ-LAB - INFO - Train step_780: loss : 0.07087504863739014\n"
     ]
    },
    {
     "name": "stderr",
     "output_type": "stream",
     "text": [
      "2021-02-08 02:58:22,853 (INFO) train.py:225] Train step_780: loss : 0.07087504863739014\n",
      "Epoch 112/300: 100%|███████████████████████| 1600/1600 [00:50<00:00, 28.43it/s, loss (batch)=0.0709]"
     ]
    },
    {
     "name": "stdout",
     "output_type": "stream",
     "text": [
      "QRS_acc: 0.8961\n",
      "Scoring complete.\n",
      "QRS_acc: 0.8518\n",
      "Scoring complete.\n",
      "ECG-SEQ-LAB - INFO - \n",
      "                Train epoch_112:\n",
      "                --------------------\n",
      "                train/epoch_loss:        0.452843613922596\n",
      "train/qrs_score:         0.8961\n",
      "\n",
      "                test/qrs_score:          0.8518\n",
      "                ---------------------------------\n",
      "\n"
     ]
    },
    {
     "name": "stderr",
     "output_type": "stream",
     "text": [
      "2021-02-08 02:59:00,038 (INFO) train.py:268] \n",
      "                Train epoch_112:\n",
      "                --------------------\n",
      "                train/epoch_loss:        0.452843613922596\n",
      "train/qrs_score:         0.8961\n",
      "\n",
      "                test/qrs_score:          0.8518\n",
      "                ---------------------------------\n",
      "\n"
     ]
    },
    {
     "name": "stdout",
     "output_type": "stream",
     "text": [
      "ECG-SEQ-LAB - INFO - Created checkpoint directory\n"
     ]
    },
    {
     "name": "stderr",
     "output_type": "stream",
     "text": [
      "2021-02-08 02:59:00,051 (INFO) train.py:275] Created checkpoint directory\n"
     ]
    },
    {
     "name": "stdout",
     "output_type": "stream",
     "text": [
      "ECG-SEQ-LAB - INFO - Checkpoint 112 saved!\n"
     ]
    },
    {
     "name": "stderr",
     "output_type": "stream",
     "text": [
      "2021-02-08 02:59:00,728 (INFO) train.py:283] Checkpoint 112 saved!\n",
      "Epoch 112/300: 100%|███████████████████████| 1600/1600 [01:00<00:00, 26.48it/s, loss (batch)=0.0709]\n",
      "Epoch 113/300: 100%|████████████████████████████████████████████| 1600/1600 [00:50<00:00, 28.04it/s]"
     ]
    },
    {
     "name": "stdout",
     "output_type": "stream",
     "text": [
      "QRS_acc: 0.9002\n",
      "Scoring complete.\n",
      "QRS_acc: 0.8538\n",
      "Scoring complete.\n",
      "ECG-SEQ-LAB - INFO - \n",
      "                Train epoch_113:\n",
      "                --------------------\n",
      "                train/epoch_loss:        0.45313727110624313\n",
      "train/qrs_score:         0.9002\n",
      "\n",
      "                test/qrs_score:          0.8538\n",
      "                ---------------------------------\n",
      "\n"
     ]
    },
    {
     "name": "stderr",
     "output_type": "stream",
     "text": [
      "2021-02-08 03:00:26,259 (INFO) train.py:268] \n",
      "                Train epoch_113:\n",
      "                --------------------\n",
      "                train/epoch_loss:        0.45313727110624313\n",
      "train/qrs_score:         0.9002\n",
      "\n",
      "                test/qrs_score:          0.8538\n",
      "                ---------------------------------\n",
      "\n"
     ]
    },
    {
     "name": "stdout",
     "output_type": "stream",
     "text": [
      "ECG-SEQ-LAB - INFO - Created checkpoint directory\n"
     ]
    },
    {
     "name": "stderr",
     "output_type": "stream",
     "text": [
      "2021-02-08 03:00:26,435 (INFO) train.py:275] Created checkpoint directory\n"
     ]
    },
    {
     "name": "stdout",
     "output_type": "stream",
     "text": [
      "ECG-SEQ-LAB - INFO - Checkpoint 113 saved!\n"
     ]
    },
    {
     "name": "stderr",
     "output_type": "stream",
     "text": [
      "2021-02-08 03:00:27,784 (INFO) train.py:283] Checkpoint 113 saved!\n",
      "Epoch 113/300: 100%|████████████████████████████████████████████| 1600/1600 [01:27<00:00, 18.37it/s]\n",
      "Epoch 114/300: 100%|████████████████████████████████████████████| 1600/1600 [01:00<00:00, 24.59it/s]"
     ]
    },
    {
     "name": "stdout",
     "output_type": "stream",
     "text": [
      "QRS_acc: 0.901\n",
      "Scoring complete.\n",
      "QRS_acc: 0.8652\n",
      "Scoring complete.\n",
      "ECG-SEQ-LAB - INFO - \n",
      "                Train epoch_114:\n",
      "                --------------------\n",
      "                train/epoch_loss:        0.4428400471806526\n",
      "train/qrs_score:         0.901\n",
      "\n",
      "                test/qrs_score:          0.8652\n",
      "                ---------------------------------\n",
      "\n"
     ]
    },
    {
     "name": "stderr",
     "output_type": "stream",
     "text": [
      "2021-02-08 03:02:01,796 (INFO) train.py:268] \n",
      "                Train epoch_114:\n",
      "                --------------------\n",
      "                train/epoch_loss:        0.4428400471806526\n",
      "train/qrs_score:         0.901\n",
      "\n",
      "                test/qrs_score:          0.8652\n",
      "                ---------------------------------\n",
      "\n"
     ]
    },
    {
     "name": "stdout",
     "output_type": "stream",
     "text": [
      "ECG-SEQ-LAB - INFO - Created checkpoint directory\n"
     ]
    },
    {
     "name": "stderr",
     "output_type": "stream",
     "text": [
      "2021-02-08 03:02:01,842 (INFO) train.py:275] Created checkpoint directory\n"
     ]
    },
    {
     "name": "stdout",
     "output_type": "stream",
     "text": [
      "ECG-SEQ-LAB - INFO - Checkpoint 114 saved!\n"
     ]
    },
    {
     "name": "stderr",
     "output_type": "stream",
     "text": [
      "2021-02-08 03:02:02,095 (INFO) train.py:283] Checkpoint 114 saved!\n",
      "Epoch 114/300: 100%|████████████████████████████████████████████| 1600/1600 [01:34<00:00, 16.98it/s]\n",
      "Epoch 115/300:  16%|███▊                    | 256/1600 [00:18<00:53, 25.31it/s, loss (batch)=0.0622]"
     ]
    },
    {
     "name": "stdout",
     "output_type": "stream",
     "text": [
      "ECG-SEQ-LAB - INFO - Train step_800: loss : 0.06219465658068657\n"
     ]
    },
    {
     "name": "stderr",
     "output_type": "stream",
     "text": [
      "2021-02-08 03:02:21,029 (INFO) train.py:225] Train step_800: loss : 0.06219465658068657\n",
      "Epoch 115/300: 100%|███████████████████████| 1600/1600 [00:50<00:00, 27.93it/s, loss (batch)=0.0622]"
     ]
    },
    {
     "name": "stdout",
     "output_type": "stream",
     "text": [
      "QRS_acc: 0.8949\n",
      "Scoring complete.\n",
      "QRS_acc: 0.8515\n",
      "Scoring complete.\n",
      "ECG-SEQ-LAB - INFO - \n",
      "                Train epoch_115:\n",
      "                --------------------\n",
      "                train/epoch_loss:        0.4653223380446434\n",
      "train/qrs_score:         0.8949\n",
      "\n",
      "                test/qrs_score:          0.8515\n",
      "                ---------------------------------\n",
      "\n"
     ]
    },
    {
     "name": "stderr",
     "output_type": "stream",
     "text": [
      "2021-02-08 03:03:04,053 (INFO) train.py:268] \n",
      "                Train epoch_115:\n",
      "                --------------------\n",
      "                train/epoch_loss:        0.4653223380446434\n",
      "train/qrs_score:         0.8949\n",
      "\n",
      "                test/qrs_score:          0.8515\n",
      "                ---------------------------------\n",
      "\n"
     ]
    },
    {
     "name": "stdout",
     "output_type": "stream",
     "text": [
      "ECG-SEQ-LAB - INFO - Created checkpoint directory\n"
     ]
    },
    {
     "name": "stderr",
     "output_type": "stream",
     "text": [
      "2021-02-08 03:03:04,070 (INFO) train.py:275] Created checkpoint directory\n"
     ]
    },
    {
     "name": "stdout",
     "output_type": "stream",
     "text": [
      "ECG-SEQ-LAB - INFO - Checkpoint 115 saved!\n"
     ]
    },
    {
     "name": "stderr",
     "output_type": "stream",
     "text": [
      "2021-02-08 03:03:04,313 (INFO) train.py:283] Checkpoint 115 saved!\n",
      "Epoch 115/300: 100%|███████████████████████| 1600/1600 [01:02<00:00, 25.72it/s, loss (batch)=0.0622]\n",
      "Epoch 116/300: 100%|████████████████████████████████████████████| 1600/1600 [00:50<00:00, 28.09it/s]"
     ]
    },
    {
     "name": "stdout",
     "output_type": "stream",
     "text": [
      "QRS_acc: 0.897\n",
      "Scoring complete.\n",
      "QRS_acc: 0.848\n",
      "Scoring complete.\n",
      "ECG-SEQ-LAB - INFO - \n",
      "                Train epoch_116:\n",
      "                --------------------\n",
      "                train/epoch_loss:        0.4563958942890167\n",
      "train/qrs_score:         0.897\n",
      "\n",
      "                test/qrs_score:          0.848\n",
      "                ---------------------------------\n",
      "\n"
     ]
    },
    {
     "name": "stderr",
     "output_type": "stream",
     "text": [
      "2021-02-08 03:03:58,707 (INFO) train.py:268] \n",
      "                Train epoch_116:\n",
      "                --------------------\n",
      "                train/epoch_loss:        0.4563958942890167\n",
      "train/qrs_score:         0.897\n",
      "\n",
      "                test/qrs_score:          0.848\n",
      "                ---------------------------------\n",
      "\n"
     ]
    },
    {
     "name": "stdout",
     "output_type": "stream",
     "text": [
      "ECG-SEQ-LAB - INFO - Created checkpoint directory\n"
     ]
    },
    {
     "name": "stderr",
     "output_type": "stream",
     "text": [
      "2021-02-08 03:03:58,711 (INFO) train.py:275] Created checkpoint directory\n"
     ]
    },
    {
     "name": "stdout",
     "output_type": "stream",
     "text": [
      "ECG-SEQ-LAB - INFO - Checkpoint 116 saved!\n"
     ]
    },
    {
     "name": "stderr",
     "output_type": "stream",
     "text": [
      "2021-02-08 03:03:58,882 (INFO) train.py:283] Checkpoint 116 saved!\n",
      "Epoch 116/300: 100%|████████████████████████████████████████████| 1600/1600 [00:54<00:00, 29.33it/s]\n",
      "Epoch 117/300: 100%|████████████████████████████████████████████| 1600/1600 [00:37<00:00, 28.61it/s]"
     ]
    },
    {
     "name": "stdout",
     "output_type": "stream",
     "text": [
      "QRS_acc: 0.9058\n",
      "Scoring complete.\n"
     ]
    },
    {
     "name": "stderr",
     "output_type": "stream",
     "text": [
      "\r",
      "Epoch 117/300: 100%|████████████████████████████████████████████| 1600/1600 [00:50<00:00, 28.61it/s]"
     ]
    },
    {
     "name": "stdout",
     "output_type": "stream",
     "text": [
      "QRS_acc: 0.8655\n",
      "Scoring complete.\n",
      "ECG-SEQ-LAB - INFO - \n",
      "                Train epoch_117:\n",
      "                --------------------\n",
      "                train/epoch_loss:        0.4517878443002701\n",
      "train/qrs_score:         0.9058\n",
      "\n",
      "                test/qrs_score:          0.8655\n",
      "                ---------------------------------\n",
      "\n"
     ]
    },
    {
     "name": "stderr",
     "output_type": "stream",
     "text": [
      "2021-02-08 03:04:51,497 (INFO) train.py:268] \n",
      "                Train epoch_117:\n",
      "                --------------------\n",
      "                train/epoch_loss:        0.4517878443002701\n",
      "train/qrs_score:         0.9058\n",
      "\n",
      "                test/qrs_score:          0.8655\n",
      "                ---------------------------------\n",
      "\n"
     ]
    },
    {
     "name": "stdout",
     "output_type": "stream",
     "text": [
      "ECG-SEQ-LAB - INFO - Created checkpoint directory\n"
     ]
    },
    {
     "name": "stderr",
     "output_type": "stream",
     "text": [
      "2021-02-08 03:04:51,508 (INFO) train.py:275] Created checkpoint directory\n"
     ]
    },
    {
     "name": "stdout",
     "output_type": "stream",
     "text": [
      "ECG-SEQ-LAB - INFO - Checkpoint 117 saved!\n"
     ]
    },
    {
     "name": "stderr",
     "output_type": "stream",
     "text": [
      "2021-02-08 03:04:51,594 (INFO) train.py:283] Checkpoint 117 saved!\n",
      "Epoch 117/300: 100%|████████████████████████████████████████████| 1600/1600 [00:52<00:00, 30.35it/s]\n",
      "Epoch 118/300:   0%|                                   | 0/1600 [00:11<?, ?it/s, loss (batch)=0.064]"
     ]
    },
    {
     "name": "stdout",
     "output_type": "stream",
     "text": [
      "ECG-SEQ-LAB - INFO - Train step_820: loss : 0.0640227422118187\n"
     ]
    },
    {
     "name": "stderr",
     "output_type": "stream",
     "text": [
      "2021-02-08 03:05:03,337 (INFO) train.py:225] Train step_820: loss : 0.0640227422118187\n",
      "Epoch 118/300: 100%|████████████████████████| 1600/1600 [00:37<00:00, 27.55it/s, loss (batch)=0.064]"
     ]
    },
    {
     "name": "stdout",
     "output_type": "stream",
     "text": [
      "QRS_acc: 0.9009\n",
      "Scoring complete.\n"
     ]
    },
    {
     "name": "stderr",
     "output_type": "stream",
     "text": [
      "\r",
      "Epoch 118/300: 100%|████████████████████████| 1600/1600 [00:50<00:00, 27.55it/s, loss (batch)=0.064]"
     ]
    },
    {
     "name": "stdout",
     "output_type": "stream",
     "text": [
      "QRS_acc: 0.8642\n",
      "Scoring complete.\n",
      "ECG-SEQ-LAB - INFO - \n",
      "                Train epoch_118:\n",
      "                --------------------\n",
      "                train/epoch_loss:        0.4537835866212845\n",
      "train/qrs_score:         0.9009\n",
      "\n",
      "                test/qrs_score:          0.8642\n",
      "                ---------------------------------\n",
      "\n"
     ]
    },
    {
     "name": "stderr",
     "output_type": "stream",
     "text": [
      "2021-02-08 03:05:43,760 (INFO) train.py:268] \n",
      "                Train epoch_118:\n",
      "                --------------------\n",
      "                train/epoch_loss:        0.4537835866212845\n",
      "train/qrs_score:         0.9009\n",
      "\n",
      "                test/qrs_score:          0.8642\n",
      "                ---------------------------------\n",
      "\n"
     ]
    },
    {
     "name": "stdout",
     "output_type": "stream",
     "text": [
      "ECG-SEQ-LAB - INFO - Created checkpoint directory\n"
     ]
    },
    {
     "name": "stderr",
     "output_type": "stream",
     "text": [
      "2021-02-08 03:05:43,795 (INFO) train.py:275] Created checkpoint directory\n"
     ]
    },
    {
     "name": "stdout",
     "output_type": "stream",
     "text": [
      "ECG-SEQ-LAB - INFO - Checkpoint 118 saved!\n"
     ]
    },
    {
     "name": "stderr",
     "output_type": "stream",
     "text": [
      "2021-02-08 03:05:43,869 (INFO) train.py:283] Checkpoint 118 saved!\n",
      "Epoch 118/300: 100%|████████████████████████| 1600/1600 [00:52<00:00, 30.62it/s, loss (batch)=0.064]\n",
      "Epoch 119/300: 100%|████████████████████████████████████████████| 1600/1600 [00:50<00:00, 28.07it/s]"
     ]
    },
    {
     "name": "stdout",
     "output_type": "stream",
     "text": [
      "QRS_acc: 0.9071\n",
      "Scoring complete.\n",
      "QRS_acc: 0.8625\n",
      "Scoring complete.\n",
      "ECG-SEQ-LAB - INFO - \n",
      "                Train epoch_119:\n",
      "                --------------------\n",
      "                train/epoch_loss:        0.4399123415350914\n",
      "train/qrs_score:         0.9071\n",
      "\n",
      "                test/qrs_score:          0.8625\n",
      "                ---------------------------------\n",
      "\n"
     ]
    },
    {
     "name": "stderr",
     "output_type": "stream",
     "text": [
      "2021-02-08 03:07:04,117 (INFO) train.py:268] \n",
      "                Train epoch_119:\n",
      "                --------------------\n",
      "                train/epoch_loss:        0.4399123415350914\n",
      "train/qrs_score:         0.9071\n",
      "\n",
      "                test/qrs_score:          0.8625\n",
      "                ---------------------------------\n",
      "\n"
     ]
    },
    {
     "name": "stdout",
     "output_type": "stream",
     "text": [
      "ECG-SEQ-LAB - INFO - Created checkpoint directory\n"
     ]
    },
    {
     "name": "stderr",
     "output_type": "stream",
     "text": [
      "2021-02-08 03:07:04,171 (INFO) train.py:275] Created checkpoint directory\n"
     ]
    },
    {
     "name": "stdout",
     "output_type": "stream",
     "text": [
      "ECG-SEQ-LAB - INFO - Checkpoint 119 saved!\n"
     ]
    },
    {
     "name": "stderr",
     "output_type": "stream",
     "text": [
      "2021-02-08 03:07:05,526 (INFO) train.py:283] Checkpoint 119 saved!\n",
      "Epoch 119/300: 100%|████████████████████████████████████████████| 1600/1600 [01:21<00:00, 19.59it/s]\n",
      "Epoch 120/300:  96%|██████████████████████ | 1536/1600 [00:49<00:01, 34.95it/s, loss (batch)=0.0704]"
     ]
    },
    {
     "name": "stdout",
     "output_type": "stream",
     "text": [
      "ECG-SEQ-LAB - INFO - Train step_840: loss : 0.07036231458187103\n"
     ]
    },
    {
     "name": "stderr",
     "output_type": "stream",
     "text": [
      "2021-02-08 03:07:55,296 (INFO) train.py:225] Train step_840: loss : 0.07036231458187103\n",
      "Epoch 120/300: 100%|███████████████████████| 1600/1600 [01:00<00:00, 22.76it/s, loss (batch)=0.0704]"
     ]
    },
    {
     "name": "stdout",
     "output_type": "stream",
     "text": [
      "QRS_acc: 0.9026\n",
      "Scoring complete.\n",
      "QRS_acc: 0.8647\n",
      "Scoring complete.\n",
      "ECG-SEQ-LAB - INFO - \n",
      "                Train epoch_120:\n",
      "                --------------------\n",
      "                train/epoch_loss:        0.44888773560523987\n",
      "train/qrs_score:         0.9026\n",
      "\n",
      "                test/qrs_score:          0.8647\n",
      "                ---------------------------------\n",
      "\n"
     ]
    },
    {
     "name": "stderr",
     "output_type": "stream",
     "text": [
      "2021-02-08 03:08:11,904 (INFO) train.py:268] \n",
      "                Train epoch_120:\n",
      "                --------------------\n",
      "                train/epoch_loss:        0.44888773560523987\n",
      "train/qrs_score:         0.9026\n",
      "\n",
      "                test/qrs_score:          0.8647\n",
      "                ---------------------------------\n",
      "\n"
     ]
    },
    {
     "name": "stdout",
     "output_type": "stream",
     "text": [
      "ECG-SEQ-LAB - INFO - Created checkpoint directory\n"
     ]
    },
    {
     "name": "stderr",
     "output_type": "stream",
     "text": [
      "2021-02-08 03:08:11,916 (INFO) train.py:275] Created checkpoint directory\n"
     ]
    },
    {
     "name": "stdout",
     "output_type": "stream",
     "text": [
      "ECG-SEQ-LAB - INFO - Checkpoint 120 saved!\n"
     ]
    },
    {
     "name": "stderr",
     "output_type": "stream",
     "text": [
      "2021-02-08 03:08:12,103 (INFO) train.py:283] Checkpoint 120 saved!\n",
      "Epoch 120/300: 100%|███████████████████████| 1600/1600 [01:06<00:00, 24.04it/s, loss (batch)=0.0704]\n",
      "Epoch 121/300: 100%|████████████████████████████████████████████| 1600/1600 [00:37<00:00, 28.77it/s]"
     ]
    },
    {
     "name": "stdout",
     "output_type": "stream",
     "text": [
      "QRS_acc: 0.903\n",
      "Scoring complete.\n"
     ]
    },
    {
     "name": "stderr",
     "output_type": "stream",
     "text": [
      "\r",
      "Epoch 121/300: 100%|████████████████████████████████████████████| 1600/1600 [00:50<00:00, 28.77it/s]"
     ]
    },
    {
     "name": "stdout",
     "output_type": "stream",
     "text": [
      "QRS_acc: 0.8602\n",
      "Scoring complete.\n",
      "ECG-SEQ-LAB - INFO - \n",
      "                Train epoch_121:\n",
      "                --------------------\n",
      "                train/epoch_loss:        0.44530514627695084\n",
      "train/qrs_score:         0.903\n",
      "\n",
      "                test/qrs_score:          0.8602\n",
      "                ---------------------------------\n",
      "\n"
     ]
    },
    {
     "name": "stderr",
     "output_type": "stream",
     "text": [
      "2021-02-08 03:09:03,413 (INFO) train.py:268] \n",
      "                Train epoch_121:\n",
      "                --------------------\n",
      "                train/epoch_loss:        0.44530514627695084\n",
      "train/qrs_score:         0.903\n",
      "\n",
      "                test/qrs_score:          0.8602\n",
      "                ---------------------------------\n",
      "\n"
     ]
    },
    {
     "name": "stdout",
     "output_type": "stream",
     "text": [
      "ECG-SEQ-LAB - INFO - Created checkpoint directory\n"
     ]
    },
    {
     "name": "stderr",
     "output_type": "stream",
     "text": [
      "2021-02-08 03:09:03,417 (INFO) train.py:275] Created checkpoint directory\n"
     ]
    },
    {
     "name": "stdout",
     "output_type": "stream",
     "text": [
      "ECG-SEQ-LAB - INFO - Checkpoint 121 saved!\n"
     ]
    },
    {
     "name": "stderr",
     "output_type": "stream",
     "text": [
      "2021-02-08 03:09:03,528 (INFO) train.py:283] Checkpoint 121 saved!\n",
      "Epoch 121/300: 100%|████████████████████████████████████████████| 1600/1600 [00:51<00:00, 31.11it/s]\n",
      "Epoch 122/300: 100%|████████████████████████████████████████████| 1600/1600 [00:37<00:00, 28.86it/s]"
     ]
    },
    {
     "name": "stdout",
     "output_type": "stream",
     "text": [
      "QRS_acc: 0.9022\n",
      "Scoring complete.\n"
     ]
    },
    {
     "name": "stderr",
     "output_type": "stream",
     "text": [
      "\r",
      "Epoch 122/300: 100%|████████████████████████████████████████████| 1600/1600 [00:50<00:00, 28.86it/s]"
     ]
    },
    {
     "name": "stdout",
     "output_type": "stream",
     "text": [
      "QRS_acc: 0.8605\n",
      "Scoring complete.\n",
      "ECG-SEQ-LAB - INFO - \n",
      "                Train epoch_122:\n",
      "                --------------------\n",
      "                train/epoch_loss:        0.43711838498711586\n",
      "train/qrs_score:         0.9022\n",
      "\n",
      "                test/qrs_score:          0.8605\n",
      "                ---------------------------------\n",
      "\n"
     ]
    },
    {
     "name": "stderr",
     "output_type": "stream",
     "text": [
      "2021-02-08 03:09:56,023 (INFO) train.py:268] \n",
      "                Train epoch_122:\n",
      "                --------------------\n",
      "                train/epoch_loss:        0.43711838498711586\n",
      "train/qrs_score:         0.9022\n",
      "\n",
      "                test/qrs_score:          0.8605\n",
      "                ---------------------------------\n",
      "\n"
     ]
    },
    {
     "name": "stdout",
     "output_type": "stream",
     "text": [
      "ECG-SEQ-LAB - INFO - Created checkpoint directory\n"
     ]
    },
    {
     "name": "stderr",
     "output_type": "stream",
     "text": [
      "2021-02-08 03:09:56,034 (INFO) train.py:275] Created checkpoint directory\n"
     ]
    },
    {
     "name": "stdout",
     "output_type": "stream",
     "text": [
      "ECG-SEQ-LAB - INFO - Checkpoint 122 saved!\n"
     ]
    },
    {
     "name": "stderr",
     "output_type": "stream",
     "text": [
      "2021-02-08 03:09:56,152 (INFO) train.py:283] Checkpoint 122 saved!\n",
      "Epoch 122/300: 100%|████████████████████████████████████████████| 1600/1600 [00:52<00:00, 30.41it/s]\n",
      "Epoch 123/300:  80%|██████████████████▍    | 1280/1600 [00:39<00:07, 43.29it/s, loss (batch)=0.0634]"
     ]
    },
    {
     "name": "stdout",
     "output_type": "stream",
     "text": [
      "ECG-SEQ-LAB - INFO - Train step_860: loss : 0.06341982632875443\n"
     ]
    },
    {
     "name": "stderr",
     "output_type": "stream",
     "text": [
      "2021-02-08 03:10:35,296 (INFO) train.py:225] Train step_860: loss : 0.06341982632875443\n",
      "Epoch 123/300: 100%|███████████████████████| 1600/1600 [00:50<00:00, 44.58it/s, loss (batch)=0.0634]"
     ]
    },
    {
     "name": "stdout",
     "output_type": "stream",
     "text": [
      "QRS_acc: 0.9129\n",
      "Scoring complete.\n",
      "QRS_acc: 0.861\n",
      "Scoring complete.\n",
      "ECG-SEQ-LAB - INFO - \n",
      "                Train epoch_123:\n",
      "                --------------------\n",
      "                train/epoch_loss:        0.4339367635548115\n",
      "train/qrs_score:         0.9129\n",
      "\n",
      "                test/qrs_score:          0.861\n",
      "                ---------------------------------\n",
      "\n"
     ]
    },
    {
     "name": "stderr",
     "output_type": "stream",
     "text": [
      "2021-02-08 03:10:50,259 (INFO) train.py:268] \n",
      "                Train epoch_123:\n",
      "                --------------------\n",
      "                train/epoch_loss:        0.4339367635548115\n",
      "train/qrs_score:         0.9129\n",
      "\n",
      "                test/qrs_score:          0.861\n",
      "                ---------------------------------\n",
      "\n"
     ]
    },
    {
     "name": "stdout",
     "output_type": "stream",
     "text": [
      "ECG-SEQ-LAB - INFO - Created checkpoint directory\n"
     ]
    },
    {
     "name": "stderr",
     "output_type": "stream",
     "text": [
      "2021-02-08 03:10:50,298 (INFO) train.py:275] Created checkpoint directory\n"
     ]
    },
    {
     "name": "stdout",
     "output_type": "stream",
     "text": [
      "ECG-SEQ-LAB - INFO - Checkpoint 123 saved!\n"
     ]
    },
    {
     "name": "stderr",
     "output_type": "stream",
     "text": [
      "2021-02-08 03:10:50,394 (INFO) train.py:283] Checkpoint 123 saved!\n",
      "Epoch 123/300: 100%|███████████████████████| 1600/1600 [00:54<00:00, 29.50it/s, loss (batch)=0.0634]\n",
      "Epoch 124/300: 100%|████████████████████████████████████████████| 1600/1600 [00:36<00:00, 28.93it/s]"
     ]
    },
    {
     "name": "stdout",
     "output_type": "stream",
     "text": [
      "QRS_acc: 0.9129\n",
      "Scoring complete.\n"
     ]
    },
    {
     "name": "stderr",
     "output_type": "stream",
     "text": [
      "\r",
      "Epoch 124/300: 100%|████████████████████████████████████████████| 1600/1600 [00:50<00:00, 28.93it/s]"
     ]
    },
    {
     "name": "stdout",
     "output_type": "stream",
     "text": [
      "QRS_acc: 0.8612\n",
      "Scoring complete.\n",
      "ECG-SEQ-LAB - INFO - \n",
      "                Train epoch_124:\n",
      "                --------------------\n",
      "                train/epoch_loss:        0.44015931710600853\n",
      "train/qrs_score:         0.9129\n",
      "\n",
      "                test/qrs_score:          0.8612\n",
      "                ---------------------------------\n",
      "\n"
     ]
    },
    {
     "name": "stderr",
     "output_type": "stream",
     "text": [
      "2021-02-08 03:11:42,698 (INFO) train.py:268] \n",
      "                Train epoch_124:\n",
      "                --------------------\n",
      "                train/epoch_loss:        0.44015931710600853\n",
      "train/qrs_score:         0.9129\n",
      "\n",
      "                test/qrs_score:          0.8612\n",
      "                ---------------------------------\n",
      "\n"
     ]
    },
    {
     "name": "stdout",
     "output_type": "stream",
     "text": [
      "ECG-SEQ-LAB - INFO - Created checkpoint directory\n"
     ]
    },
    {
     "name": "stderr",
     "output_type": "stream",
     "text": [
      "2021-02-08 03:11:42,706 (INFO) train.py:275] Created checkpoint directory\n"
     ]
    },
    {
     "name": "stdout",
     "output_type": "stream",
     "text": [
      "ECG-SEQ-LAB - INFO - Checkpoint 124 saved!\n"
     ]
    },
    {
     "name": "stderr",
     "output_type": "stream",
     "text": [
      "2021-02-08 03:11:42,906 (INFO) train.py:283] Checkpoint 124 saved!\n",
      "Epoch 124/300: 100%|████████████████████████████████████████████| 1600/1600 [00:52<00:00, 30.47it/s]\n",
      "Epoch 125/300: 100%|████████████████████████████████████████████| 1600/1600 [00:37<00:00, 28.83it/s]"
     ]
    },
    {
     "name": "stdout",
     "output_type": "stream",
     "text": [
      "QRS_acc: 0.9076\n",
      "Scoring complete.\n"
     ]
    },
    {
     "name": "stderr",
     "output_type": "stream",
     "text": [
      "\r",
      "Epoch 125/300: 100%|████████████████████████████████████████████| 1600/1600 [00:50<00:00, 28.83it/s]"
     ]
    },
    {
     "name": "stdout",
     "output_type": "stream",
     "text": [
      "QRS_acc: 0.862\n",
      "Scoring complete.\n",
      "ECG-SEQ-LAB - INFO - \n",
      "                Train epoch_125:\n",
      "                --------------------\n",
      "                train/epoch_loss:        0.44134122505784035\n",
      "train/qrs_score:         0.9076\n",
      "\n",
      "                test/qrs_score:          0.862\n",
      "                ---------------------------------\n",
      "\n"
     ]
    },
    {
     "name": "stderr",
     "output_type": "stream",
     "text": [
      "2021-02-08 03:12:36,512 (INFO) train.py:268] \n",
      "                Train epoch_125:\n",
      "                --------------------\n",
      "                train/epoch_loss:        0.44134122505784035\n",
      "train/qrs_score:         0.9076\n",
      "\n",
      "                test/qrs_score:          0.862\n",
      "                ---------------------------------\n",
      "\n"
     ]
    },
    {
     "name": "stdout",
     "output_type": "stream",
     "text": [
      "ECG-SEQ-LAB - INFO - Created checkpoint directory\n"
     ]
    },
    {
     "name": "stderr",
     "output_type": "stream",
     "text": [
      "2021-02-08 03:12:36,517 (INFO) train.py:275] Created checkpoint directory\n"
     ]
    },
    {
     "name": "stdout",
     "output_type": "stream",
     "text": [
      "ECG-SEQ-LAB - INFO - Checkpoint 125 saved!\n"
     ]
    },
    {
     "name": "stderr",
     "output_type": "stream",
     "text": [
      "2021-02-08 03:12:36,702 (INFO) train.py:283] Checkpoint 125 saved!\n",
      "Epoch 125/300: 100%|████████████████████████████████████████████| 1600/1600 [00:53<00:00, 29.75it/s]\n",
      "Epoch 126/300:  64%|██████████████▋        | 1024/1600 [00:31<00:13, 43.08it/s, loss (batch)=0.0619]"
     ]
    },
    {
     "name": "stdout",
     "output_type": "stream",
     "text": [
      "ECG-SEQ-LAB - INFO - Train step_880: loss : 0.061865732073783875\n"
     ]
    },
    {
     "name": "stderr",
     "output_type": "stream",
     "text": [
      "2021-02-08 03:13:08,347 (INFO) train.py:225] Train step_880: loss : 0.061865732073783875\n",
      "Epoch 126/300: 100%|███████████████████████| 1600/1600 [00:37<00:00, 29.46it/s, loss (batch)=0.0619]"
     ]
    },
    {
     "name": "stdout",
     "output_type": "stream",
     "text": [
      "QRS_acc: 0.9064\n",
      "Scoring complete.\n"
     ]
    },
    {
     "name": "stderr",
     "output_type": "stream",
     "text": [
      "\r",
      "Epoch 126/300: 100%|███████████████████████| 1600/1600 [00:50<00:00, 29.46it/s, loss (batch)=0.0619]"
     ]
    },
    {
     "name": "stdout",
     "output_type": "stream",
     "text": [
      "QRS_acc: 0.86\n",
      "Scoring complete.\n",
      "ECG-SEQ-LAB - INFO - \n",
      "                Train epoch_126:\n",
      "                --------------------\n",
      "                train/epoch_loss:        0.42905955761671066\n",
      "train/qrs_score:         0.9064\n",
      "\n",
      "                test/qrs_score:          0.86\n",
      "                ---------------------------------\n",
      "\n"
     ]
    },
    {
     "name": "stderr",
     "output_type": "stream",
     "text": [
      "2021-02-08 03:13:30,458 (INFO) train.py:268] \n",
      "                Train epoch_126:\n",
      "                --------------------\n",
      "                train/epoch_loss:        0.42905955761671066\n",
      "train/qrs_score:         0.9064\n",
      "\n",
      "                test/qrs_score:          0.86\n",
      "                ---------------------------------\n",
      "\n"
     ]
    },
    {
     "name": "stdout",
     "output_type": "stream",
     "text": [
      "ECG-SEQ-LAB - INFO - Created checkpoint directory\n"
     ]
    },
    {
     "name": "stderr",
     "output_type": "stream",
     "text": [
      "2021-02-08 03:13:30,668 (INFO) train.py:275] Created checkpoint directory\n"
     ]
    },
    {
     "name": "stdout",
     "output_type": "stream",
     "text": [
      "ECG-SEQ-LAB - INFO - Checkpoint 126 saved!\n"
     ]
    },
    {
     "name": "stderr",
     "output_type": "stream",
     "text": [
      "2021-02-08 03:13:30,894 (INFO) train.py:283] Checkpoint 126 saved!\n",
      "Epoch 126/300: 100%|███████████████████████| 1600/1600 [00:54<00:00, 29.52it/s, loss (batch)=0.0619]\n",
      "Epoch 127/300: 100%|████████████████████████████████████████████| 1600/1600 [00:36<00:00, 28.32it/s]"
     ]
    },
    {
     "name": "stdout",
     "output_type": "stream",
     "text": [
      "QRS_acc: 0.9113\n",
      "Scoring complete.\n"
     ]
    },
    {
     "name": "stderr",
     "output_type": "stream",
     "text": [
      "\r",
      "Epoch 127/300: 100%|████████████████████████████████████████████| 1600/1600 [00:50<00:00, 28.32it/s]"
     ]
    },
    {
     "name": "stdout",
     "output_type": "stream",
     "text": [
      "QRS_acc: 0.873\n",
      "Scoring complete.\n",
      "ECG-SEQ-LAB - INFO - \n",
      "                Train epoch_127:\n",
      "                --------------------\n",
      "                train/epoch_loss:        0.4385666064918041\n",
      "train/qrs_score:         0.9113\n",
      "\n",
      "                test/qrs_score:          0.873\n",
      "                ---------------------------------\n",
      "\n"
     ]
    },
    {
     "name": "stderr",
     "output_type": "stream",
     "text": [
      "2021-02-08 03:14:22,523 (INFO) train.py:268] \n",
      "                Train epoch_127:\n",
      "                --------------------\n",
      "                train/epoch_loss:        0.4385666064918041\n",
      "train/qrs_score:         0.9113\n",
      "\n",
      "                test/qrs_score:          0.873\n",
      "                ---------------------------------\n",
      "\n"
     ]
    },
    {
     "name": "stdout",
     "output_type": "stream",
     "text": [
      "ECG-SEQ-LAB - INFO - Created checkpoint directory\n"
     ]
    },
    {
     "name": "stderr",
     "output_type": "stream",
     "text": [
      "2021-02-08 03:14:22,528 (INFO) train.py:275] Created checkpoint directory\n"
     ]
    },
    {
     "name": "stdout",
     "output_type": "stream",
     "text": [
      "ECG-SEQ-LAB - INFO - Checkpoint 127 saved!\n"
     ]
    },
    {
     "name": "stderr",
     "output_type": "stream",
     "text": [
      "2021-02-08 03:14:22,636 (INFO) train.py:283] Checkpoint 127 saved!\n",
      "Epoch 127/300: 100%|████████████████████████████████████████████| 1600/1600 [00:51<00:00, 30.98it/s]\n",
      "Epoch 128/300: 100%|████████████████████████████████████████████| 1600/1600 [00:38<00:00, 28.04it/s]"
     ]
    },
    {
     "name": "stdout",
     "output_type": "stream",
     "text": [
      "QRS_acc: 0.9076\n",
      "Scoring complete.\n"
     ]
    },
    {
     "name": "stderr",
     "output_type": "stream",
     "text": [
      "\r",
      "Epoch 128/300: 100%|████████████████████████████████████████████| 1600/1600 [00:50<00:00, 28.04it/s]"
     ]
    },
    {
     "name": "stdout",
     "output_type": "stream",
     "text": [
      "QRS_acc: 0.86\n",
      "Scoring complete.\n",
      "ECG-SEQ-LAB - INFO - \n",
      "                Train epoch_128:\n",
      "                --------------------\n",
      "                train/epoch_loss:        0.4335196912288666\n",
      "train/qrs_score:         0.9076\n",
      "\n",
      "                test/qrs_score:          0.86\n",
      "                ---------------------------------\n",
      "\n"
     ]
    },
    {
     "name": "stderr",
     "output_type": "stream",
     "text": [
      "2021-02-08 03:15:19,836 (INFO) train.py:268] \n",
      "                Train epoch_128:\n",
      "                --------------------\n",
      "                train/epoch_loss:        0.4335196912288666\n",
      "train/qrs_score:         0.9076\n",
      "\n",
      "                test/qrs_score:          0.86\n",
      "                ---------------------------------\n",
      "\n"
     ]
    },
    {
     "name": "stdout",
     "output_type": "stream",
     "text": [
      "ECG-SEQ-LAB - INFO - Created checkpoint directory\n"
     ]
    },
    {
     "name": "stderr",
     "output_type": "stream",
     "text": [
      "2021-02-08 03:15:19,854 (INFO) train.py:275] Created checkpoint directory\n"
     ]
    },
    {
     "name": "stdout",
     "output_type": "stream",
     "text": [
      "ECG-SEQ-LAB - INFO - Checkpoint 128 saved!\n"
     ]
    },
    {
     "name": "stderr",
     "output_type": "stream",
     "text": [
      "2021-02-08 03:15:20,249 (INFO) train.py:283] Checkpoint 128 saved!\n",
      "Epoch 128/300: 100%|████████████████████████████████████████████| 1600/1600 [00:57<00:00, 27.77it/s]\n",
      "Epoch 129/300:  48%|███████████▌            | 768/1600 [00:26<00:19, 41.83it/s, loss (batch)=0.0656]"
     ]
    },
    {
     "name": "stdout",
     "output_type": "stream",
     "text": [
      "ECG-SEQ-LAB - INFO - Train step_900: loss : 0.06561379879713058\n"
     ]
    },
    {
     "name": "stderr",
     "output_type": "stream",
     "text": [
      "2021-02-08 03:15:46,396 (INFO) train.py:225] Train step_900: loss : 0.06561379879713058\n",
      "Epoch 129/300: 100%|███████████████████████| 1600/1600 [00:36<00:00, 29.68it/s, loss (batch)=0.0656]"
     ]
    },
    {
     "name": "stdout",
     "output_type": "stream",
     "text": [
      "QRS_acc: 0.9139\n",
      "Scoring complete.\n"
     ]
    },
    {
     "name": "stderr",
     "output_type": "stream",
     "text": [
      "\r",
      "Epoch 129/300: 100%|███████████████████████| 1600/1600 [00:50<00:00, 29.68it/s, loss (batch)=0.0656]"
     ]
    },
    {
     "name": "stdout",
     "output_type": "stream",
     "text": [
      "QRS_acc: 0.878\n",
      "Scoring complete.\n",
      "ECG-SEQ-LAB - INFO - \n",
      "                Train epoch_129:\n",
      "                --------------------\n",
      "                train/epoch_loss:        0.43358538672327995\n",
      "train/qrs_score:         0.9139\n",
      "\n",
      "                test/qrs_score:          0.878\n",
      "                ---------------------------------\n",
      "\n"
     ]
    },
    {
     "name": "stderr",
     "output_type": "stream",
     "text": [
      "2021-02-08 03:16:11,899 (INFO) train.py:268] \n",
      "                Train epoch_129:\n",
      "                --------------------\n",
      "                train/epoch_loss:        0.43358538672327995\n",
      "train/qrs_score:         0.9139\n",
      "\n",
      "                test/qrs_score:          0.878\n",
      "                ---------------------------------\n",
      "\n"
     ]
    },
    {
     "name": "stdout",
     "output_type": "stream",
     "text": [
      "ECG-SEQ-LAB - INFO - Created checkpoint directory\n"
     ]
    },
    {
     "name": "stderr",
     "output_type": "stream",
     "text": [
      "2021-02-08 03:16:11,904 (INFO) train.py:275] Created checkpoint directory\n"
     ]
    },
    {
     "name": "stdout",
     "output_type": "stream",
     "text": [
      "ECG-SEQ-LAB - INFO - Checkpoint 129 saved!\n"
     ]
    },
    {
     "name": "stderr",
     "output_type": "stream",
     "text": [
      "2021-02-08 03:16:12,014 (INFO) train.py:283] Checkpoint 129 saved!\n",
      "Epoch 129/300: 100%|███████████████████████| 1600/1600 [00:51<00:00, 30.91it/s, loss (batch)=0.0656]\n",
      "Epoch 130/300: 100%|████████████████████████████████████████████| 1600/1600 [00:36<00:00, 28.56it/s]"
     ]
    },
    {
     "name": "stdout",
     "output_type": "stream",
     "text": [
      "QRS_acc: 0.9142\n",
      "Scoring complete.\n"
     ]
    },
    {
     "name": "stderr",
     "output_type": "stream",
     "text": [
      "\r",
      "Epoch 130/300: 100%|████████████████████████████████████████████| 1600/1600 [00:50<00:00, 28.56it/s]"
     ]
    },
    {
     "name": "stdout",
     "output_type": "stream",
     "text": [
      "QRS_acc: 0.8662\n",
      "Scoring complete.\n",
      "ECG-SEQ-LAB - INFO - \n",
      "                Train epoch_130:\n",
      "                --------------------\n",
      "                train/epoch_loss:        0.4227140322327614\n",
      "train/qrs_score:         0.9142\n",
      "\n",
      "                test/qrs_score:          0.8662\n",
      "                ---------------------------------\n",
      "\n"
     ]
    },
    {
     "name": "stderr",
     "output_type": "stream",
     "text": [
      "2021-02-08 03:17:04,328 (INFO) train.py:268] \n",
      "                Train epoch_130:\n",
      "                --------------------\n",
      "                train/epoch_loss:        0.4227140322327614\n",
      "train/qrs_score:         0.9142\n",
      "\n",
      "                test/qrs_score:          0.8662\n",
      "                ---------------------------------\n",
      "\n"
     ]
    },
    {
     "name": "stdout",
     "output_type": "stream",
     "text": [
      "ECG-SEQ-LAB - INFO - Created checkpoint directory\n"
     ]
    },
    {
     "name": "stderr",
     "output_type": "stream",
     "text": [
      "2021-02-08 03:17:04,336 (INFO) train.py:275] Created checkpoint directory\n"
     ]
    },
    {
     "name": "stdout",
     "output_type": "stream",
     "text": [
      "ECG-SEQ-LAB - INFO - Checkpoint 130 saved!\n"
     ]
    },
    {
     "name": "stderr",
     "output_type": "stream",
     "text": [
      "2021-02-08 03:17:04,474 (INFO) train.py:283] Checkpoint 130 saved!\n",
      "Epoch 130/300: 100%|████████████████████████████████████████████| 1600/1600 [00:52<00:00, 30.50it/s]\n",
      "Epoch 131/300: 100%|████████████████████████████████████████████| 1600/1600 [00:40<00:00, 29.02it/s]"
     ]
    },
    {
     "name": "stdout",
     "output_type": "stream",
     "text": [
      "QRS_acc: 0.9106\n",
      "Scoring complete.\n",
      "QRS_acc: 0.8565\n",
      "Scoring complete.\n",
      "ECG-SEQ-LAB - INFO - \n",
      "                Train epoch_131:\n",
      "                --------------------\n",
      "                train/epoch_loss:        0.4325089156627655\n",
      "train/qrs_score:         0.9106\n",
      "\n",
      "                test/qrs_score:          0.8565\n",
      "                ---------------------------------\n",
      "\n"
     ]
    },
    {
     "name": "stderr",
     "output_type": "stream",
     "text": [
      "2021-02-08 03:18:02,256 (INFO) train.py:268] \n",
      "                Train epoch_131:\n",
      "                --------------------\n",
      "                train/epoch_loss:        0.4325089156627655\n",
      "train/qrs_score:         0.9106\n",
      "\n",
      "                test/qrs_score:          0.8565\n",
      "                ---------------------------------\n",
      "\n"
     ]
    },
    {
     "name": "stdout",
     "output_type": "stream",
     "text": [
      "ECG-SEQ-LAB - INFO - Created checkpoint directory\n"
     ]
    },
    {
     "name": "stderr",
     "output_type": "stream",
     "text": [
      "2021-02-08 03:18:02,327 (INFO) train.py:275] Created checkpoint directory\n"
     ]
    },
    {
     "name": "stdout",
     "output_type": "stream",
     "text": [
      "ECG-SEQ-LAB - INFO - Checkpoint 131 saved!\n"
     ]
    },
    {
     "name": "stderr",
     "output_type": "stream",
     "text": [
      "2021-02-08 03:18:02,647 (INFO) train.py:283] Checkpoint 131 saved!\n",
      "Epoch 131/300: 100%|████████████████████████████████████████████| 1600/1600 [00:58<00:00, 27.51it/s]\n",
      "Epoch 132/300:  32%|███████▋                | 512/1600 [00:23<00:35, 30.86it/s, loss (batch)=0.0613]"
     ]
    },
    {
     "name": "stdout",
     "output_type": "stream",
     "text": [
      "ECG-SEQ-LAB - INFO - Train step_920: loss : 0.06126121059060097\n"
     ]
    },
    {
     "name": "stderr",
     "output_type": "stream",
     "text": [
      "2021-02-08 03:18:26,039 (INFO) train.py:225] Train step_920: loss : 0.06126121059060097\n",
      "Epoch 132/300: 100%|███████████████████████| 1600/1600 [00:50<00:00, 27.71it/s, loss (batch)=0.0613]"
     ]
    },
    {
     "name": "stdout",
     "output_type": "stream",
     "text": [
      "QRS_acc: 0.9167\n",
      "Scoring complete.\n",
      "QRS_acc: 0.8735\n",
      "Scoring complete.\n",
      "ECG-SEQ-LAB - INFO - \n",
      "                Train epoch_132:\n",
      "                --------------------\n",
      "                train/epoch_loss:        0.4245901145040989\n",
      "train/qrs_score:         0.9167\n",
      "\n",
      "                test/qrs_score:          0.8735\n",
      "                ---------------------------------\n",
      "\n"
     ]
    },
    {
     "name": "stderr",
     "output_type": "stream",
     "text": [
      "2021-02-08 03:18:57,821 (INFO) train.py:268] \n",
      "                Train epoch_132:\n",
      "                --------------------\n",
      "                train/epoch_loss:        0.4245901145040989\n",
      "train/qrs_score:         0.9167\n",
      "\n",
      "                test/qrs_score:          0.8735\n",
      "                ---------------------------------\n",
      "\n"
     ]
    },
    {
     "name": "stdout",
     "output_type": "stream",
     "text": [
      "ECG-SEQ-LAB - INFO - Created checkpoint directory\n"
     ]
    },
    {
     "name": "stderr",
     "output_type": "stream",
     "text": [
      "2021-02-08 03:18:57,829 (INFO) train.py:275] Created checkpoint directory\n"
     ]
    },
    {
     "name": "stdout",
     "output_type": "stream",
     "text": [
      "ECG-SEQ-LAB - INFO - Checkpoint 132 saved!\n"
     ]
    },
    {
     "name": "stderr",
     "output_type": "stream",
     "text": [
      "2021-02-08 03:18:58,026 (INFO) train.py:283] Checkpoint 132 saved!\n",
      "Epoch 132/300: 100%|███████████████████████| 1600/1600 [00:55<00:00, 28.89it/s, loss (batch)=0.0613]\n",
      "Epoch 133/300: 100%|████████████████████████████████████████████| 1600/1600 [00:38<00:00, 28.11it/s]"
     ]
    },
    {
     "name": "stdout",
     "output_type": "stream",
     "text": [
      "QRS_acc: 0.9133\n",
      "Scoring complete.\n"
     ]
    },
    {
     "name": "stderr",
     "output_type": "stream",
     "text": [
      "\r",
      "Epoch 133/300: 100%|████████████████████████████████████████████| 1600/1600 [00:50<00:00, 28.11it/s]"
     ]
    },
    {
     "name": "stdout",
     "output_type": "stream",
     "text": [
      "QRS_acc: 0.8622\n",
      "Scoring complete.\n",
      "ECG-SEQ-LAB - INFO - \n",
      "                Train epoch_133:\n",
      "                --------------------\n",
      "                train/epoch_loss:        0.4271341562271118\n",
      "train/qrs_score:         0.9133\n",
      "\n",
      "                test/qrs_score:          0.8622\n",
      "                ---------------------------------\n",
      "\n"
     ]
    },
    {
     "name": "stderr",
     "output_type": "stream",
     "text": [
      "2021-02-08 03:19:51,728 (INFO) train.py:268] \n",
      "                Train epoch_133:\n",
      "                --------------------\n",
      "                train/epoch_loss:        0.4271341562271118\n",
      "train/qrs_score:         0.9133\n",
      "\n",
      "                test/qrs_score:          0.8622\n",
      "                ---------------------------------\n",
      "\n"
     ]
    },
    {
     "name": "stdout",
     "output_type": "stream",
     "text": [
      "ECG-SEQ-LAB - INFO - Created checkpoint directory\n"
     ]
    },
    {
     "name": "stderr",
     "output_type": "stream",
     "text": [
      "2021-02-08 03:19:51,941 (INFO) train.py:275] Created checkpoint directory\n"
     ]
    },
    {
     "name": "stdout",
     "output_type": "stream",
     "text": [
      "ECG-SEQ-LAB - INFO - Checkpoint 133 saved!\n"
     ]
    },
    {
     "name": "stderr",
     "output_type": "stream",
     "text": [
      "2021-02-08 03:19:52,064 (INFO) train.py:283] Checkpoint 133 saved!\n",
      "Epoch 133/300: 100%|████████████████████████████████████████████| 1600/1600 [00:54<00:00, 29.61it/s]\n",
      "Epoch 134/300: 100%|████████████████████████████████████████████| 1600/1600 [00:37<00:00, 28.63it/s]"
     ]
    },
    {
     "name": "stdout",
     "output_type": "stream",
     "text": [
      "QRS_acc: 0.9187\n",
      "Scoring complete.\n"
     ]
    },
    {
     "name": "stderr",
     "output_type": "stream",
     "text": [
      "\r",
      "Epoch 134/300: 100%|████████████████████████████████████████████| 1600/1600 [00:50<00:00, 28.63it/s]"
     ]
    },
    {
     "name": "stdout",
     "output_type": "stream",
     "text": [
      "QRS_acc: 0.8825\n",
      "Scoring complete.\n",
      "ECG-SEQ-LAB - INFO - \n",
      "                Train epoch_134:\n",
      "                --------------------\n",
      "                train/epoch_loss:        0.4232083782553673\n",
      "train/qrs_score:         0.9187\n",
      "\n",
      "                test/qrs_score:          0.8825\n",
      "                ---------------------------------\n",
      "\n"
     ]
    },
    {
     "name": "stderr",
     "output_type": "stream",
     "text": [
      "2021-02-08 03:20:45,100 (INFO) train.py:268] \n",
      "                Train epoch_134:\n",
      "                --------------------\n",
      "                train/epoch_loss:        0.4232083782553673\n",
      "train/qrs_score:         0.9187\n",
      "\n",
      "                test/qrs_score:          0.8825\n",
      "                ---------------------------------\n",
      "\n"
     ]
    },
    {
     "name": "stdout",
     "output_type": "stream",
     "text": [
      "ECG-SEQ-LAB - INFO - Created checkpoint directory\n"
     ]
    },
    {
     "name": "stderr",
     "output_type": "stream",
     "text": [
      "2021-02-08 03:20:45,114 (INFO) train.py:275] Created checkpoint directory\n"
     ]
    },
    {
     "name": "stdout",
     "output_type": "stream",
     "text": [
      "ECG-SEQ-LAB - INFO - Checkpoint 134 saved!\n"
     ]
    },
    {
     "name": "stderr",
     "output_type": "stream",
     "text": [
      "2021-02-08 03:20:45,253 (INFO) train.py:283] Checkpoint 134 saved!\n",
      "Epoch 134/300: 100%|████████████████████████████████████████████| 1600/1600 [00:53<00:00, 30.08it/s]\n",
      "Epoch 135/300:  16%|███▊                    | 256/1600 [00:16<00:41, 32.64it/s, loss (batch)=0.0589]"
     ]
    },
    {
     "name": "stdout",
     "output_type": "stream",
     "text": [
      "ECG-SEQ-LAB - INFO - Train step_940: loss : 0.05893222615122795\n"
     ]
    },
    {
     "name": "stderr",
     "output_type": "stream",
     "text": [
      "2021-02-08 03:21:01,996 (INFO) train.py:225] Train step_940: loss : 0.05893222615122795\n",
      "Epoch 135/300: 100%|███████████████████████| 1600/1600 [00:50<00:00, 28.62it/s, loss (batch)=0.0589]"
     ]
    },
    {
     "name": "stdout",
     "output_type": "stream",
     "text": [
      "QRS_acc: 0.9214\n",
      "Scoring complete.\n",
      "QRS_acc: 0.8765\n",
      "Scoring complete.\n",
      "ECG-SEQ-LAB - INFO - \n",
      "                Train epoch_135:\n",
      "                --------------------\n",
      "                train/epoch_loss:        0.4287268966436386\n",
      "train/qrs_score:         0.9214\n",
      "\n",
      "                test/qrs_score:          0.8765\n",
      "                ---------------------------------\n",
      "\n"
     ]
    },
    {
     "name": "stderr",
     "output_type": "stream",
     "text": [
      "2021-02-08 03:22:03,895 (INFO) train.py:268] \n",
      "                Train epoch_135:\n",
      "                --------------------\n",
      "                train/epoch_loss:        0.4287268966436386\n",
      "train/qrs_score:         0.9214\n",
      "\n",
      "                test/qrs_score:          0.8765\n",
      "                ---------------------------------\n",
      "\n"
     ]
    },
    {
     "name": "stdout",
     "output_type": "stream",
     "text": [
      "ECG-SEQ-LAB - INFO - Created checkpoint directory\n"
     ]
    },
    {
     "name": "stderr",
     "output_type": "stream",
     "text": [
      "2021-02-08 03:22:03,906 (INFO) train.py:275] Created checkpoint directory\n"
     ]
    },
    {
     "name": "stdout",
     "output_type": "stream",
     "text": [
      "ECG-SEQ-LAB - INFO - Checkpoint 135 saved!\n"
     ]
    },
    {
     "name": "stderr",
     "output_type": "stream",
     "text": [
      "2021-02-08 03:22:04,116 (INFO) train.py:283] Checkpoint 135 saved!\n",
      "Epoch 135/300: 100%|███████████████████████| 1600/1600 [01:18<00:00, 20.29it/s, loss (batch)=0.0589]\n",
      "Epoch 136/300: 100%|████████████████████████████████████████████| 1600/1600 [01:00<00:00, 24.75it/s]"
     ]
    },
    {
     "name": "stdout",
     "output_type": "stream",
     "text": [
      "QRS_acc: 0.9149\n",
      "Scoring complete.\n",
      "QRS_acc: 0.877\n",
      "Scoring complete.\n",
      "ECG-SEQ-LAB - INFO - \n",
      "                Train epoch_136:\n",
      "                --------------------\n",
      "                train/epoch_loss:        0.4324113354086876\n",
      "train/qrs_score:         0.9149\n",
      "\n",
      "                test/qrs_score:          0.877\n",
      "                ---------------------------------\n",
      "\n"
     ]
    },
    {
     "name": "stderr",
     "output_type": "stream",
     "text": [
      "2021-02-08 03:23:09,658 (INFO) train.py:268] \n",
      "                Train epoch_136:\n",
      "                --------------------\n",
      "                train/epoch_loss:        0.4324113354086876\n",
      "train/qrs_score:         0.9149\n",
      "\n",
      "                test/qrs_score:          0.877\n",
      "                ---------------------------------\n",
      "\n"
     ]
    },
    {
     "name": "stdout",
     "output_type": "stream",
     "text": [
      "ECG-SEQ-LAB - INFO - Created checkpoint directory\n"
     ]
    },
    {
     "name": "stderr",
     "output_type": "stream",
     "text": [
      "2021-02-08 03:23:09,702 (INFO) train.py:275] Created checkpoint directory\n"
     ]
    },
    {
     "name": "stdout",
     "output_type": "stream",
     "text": [
      "ECG-SEQ-LAB - INFO - Checkpoint 136 saved!\n"
     ]
    },
    {
     "name": "stderr",
     "output_type": "stream",
     "text": [
      "2021-02-08 03:23:09,895 (INFO) train.py:283] Checkpoint 136 saved!\n",
      "Epoch 136/300: 100%|████████████████████████████████████████████| 1600/1600 [01:05<00:00, 24.33it/s]\n",
      "Epoch 137/300: 100%|████████████████████████████████████████████| 1600/1600 [00:36<00:00, 29.35it/s]"
     ]
    },
    {
     "name": "stdout",
     "output_type": "stream",
     "text": [
      "QRS_acc: 0.9166\n",
      "Scoring complete.\n"
     ]
    },
    {
     "name": "stderr",
     "output_type": "stream",
     "text": [
      "\r",
      "Epoch 137/300: 100%|████████████████████████████████████████████| 1600/1600 [00:50<00:00, 29.35it/s]"
     ]
    },
    {
     "name": "stdout",
     "output_type": "stream",
     "text": [
      "QRS_acc: 0.8748\n",
      "Scoring complete.\n",
      "ECG-SEQ-LAB - INFO - \n",
      "                Train epoch_137:\n",
      "                --------------------\n",
      "                train/epoch_loss:        0.4141627103090286\n",
      "train/qrs_score:         0.9166\n",
      "\n",
      "                test/qrs_score:          0.8748\n",
      "                ---------------------------------\n",
      "\n"
     ]
    },
    {
     "name": "stderr",
     "output_type": "stream",
     "text": [
      "2021-02-08 03:24:01,999 (INFO) train.py:268] \n",
      "                Train epoch_137:\n",
      "                --------------------\n",
      "                train/epoch_loss:        0.4141627103090286\n",
      "train/qrs_score:         0.9166\n",
      "\n",
      "                test/qrs_score:          0.8748\n",
      "                ---------------------------------\n",
      "\n"
     ]
    },
    {
     "name": "stdout",
     "output_type": "stream",
     "text": [
      "ECG-SEQ-LAB - INFO - Created checkpoint directory\n"
     ]
    },
    {
     "name": "stderr",
     "output_type": "stream",
     "text": [
      "2021-02-08 03:24:02,002 (INFO) train.py:275] Created checkpoint directory\n"
     ]
    },
    {
     "name": "stdout",
     "output_type": "stream",
     "text": [
      "ECG-SEQ-LAB - INFO - Checkpoint 137 saved!\n"
     ]
    },
    {
     "name": "stderr",
     "output_type": "stream",
     "text": [
      "2021-02-08 03:24:02,195 (INFO) train.py:283] Checkpoint 137 saved!\n",
      "Epoch 137/300: 100%|████████████████████████████████████████████| 1600/1600 [00:52<00:00, 30.59it/s]\n",
      "Epoch 138/300:   0%|                                   | 0/1600 [00:12<?, ?it/s, loss (batch)=0.061]"
     ]
    },
    {
     "name": "stdout",
     "output_type": "stream",
     "text": [
      "ECG-SEQ-LAB - INFO - Train step_960: loss : 0.060959603637456894\n"
     ]
    },
    {
     "name": "stderr",
     "output_type": "stream",
     "text": [
      "2021-02-08 03:24:14,217 (INFO) train.py:225] Train step_960: loss : 0.060959603637456894\n",
      "Epoch 138/300: 100%|████████████████████████| 1600/1600 [00:37<00:00, 28.18it/s, loss (batch)=0.061]"
     ]
    },
    {
     "name": "stdout",
     "output_type": "stream",
     "text": [
      "QRS_acc: 0.9134\n",
      "Scoring complete.\n"
     ]
    },
    {
     "name": "stderr",
     "output_type": "stream",
     "text": [
      "\r",
      "Epoch 138/300: 100%|████████████████████████| 1600/1600 [00:50<00:00, 28.18it/s, loss (batch)=0.061]"
     ]
    },
    {
     "name": "stdout",
     "output_type": "stream",
     "text": [
      "QRS_acc: 0.8672\n",
      "Scoring complete.\n",
      "ECG-SEQ-LAB - INFO - \n",
      "                Train epoch_138:\n",
      "                --------------------\n",
      "                train/epoch_loss:        0.4273111894726753\n",
      "train/qrs_score:         0.9134\n",
      "\n",
      "                test/qrs_score:          0.8672\n",
      "                ---------------------------------\n",
      "\n"
     ]
    },
    {
     "name": "stderr",
     "output_type": "stream",
     "text": [
      "2021-02-08 03:24:55,797 (INFO) train.py:268] \n",
      "                Train epoch_138:\n",
      "                --------------------\n",
      "                train/epoch_loss:        0.4273111894726753\n",
      "train/qrs_score:         0.9134\n",
      "\n",
      "                test/qrs_score:          0.8672\n",
      "                ---------------------------------\n",
      "\n"
     ]
    },
    {
     "name": "stdout",
     "output_type": "stream",
     "text": [
      "ECG-SEQ-LAB - INFO - Created checkpoint directory\n"
     ]
    },
    {
     "name": "stderr",
     "output_type": "stream",
     "text": [
      "2021-02-08 03:24:55,807 (INFO) train.py:275] Created checkpoint directory\n"
     ]
    },
    {
     "name": "stdout",
     "output_type": "stream",
     "text": [
      "ECG-SEQ-LAB - INFO - Checkpoint 138 saved!\n"
     ]
    },
    {
     "name": "stderr",
     "output_type": "stream",
     "text": [
      "2021-02-08 03:24:56,007 (INFO) train.py:283] Checkpoint 138 saved!\n",
      "Epoch 138/300: 100%|████████████████████████| 1600/1600 [00:53<00:00, 29.74it/s, loss (batch)=0.061]\n",
      "Epoch 139/300: 100%|████████████████████████████████████████████| 1600/1600 [00:37<00:00, 28.39it/s]"
     ]
    },
    {
     "name": "stdout",
     "output_type": "stream",
     "text": [
      "QRS_acc: 0.9241\n",
      "Scoring complete.\n"
     ]
    },
    {
     "name": "stderr",
     "output_type": "stream",
     "text": [
      "\r",
      "Epoch 139/300: 100%|████████████████████████████████████████████| 1600/1600 [00:50<00:00, 28.39it/s]"
     ]
    },
    {
     "name": "stdout",
     "output_type": "stream",
     "text": [
      "QRS_acc: 0.8808\n",
      "Scoring complete.\n",
      "ECG-SEQ-LAB - INFO - \n",
      "                Train epoch_139:\n",
      "                --------------------\n",
      "                train/epoch_loss:        0.42705973982810974\n",
      "train/qrs_score:         0.9241\n",
      "\n",
      "                test/qrs_score:          0.8808\n",
      "                ---------------------------------\n",
      "\n"
     ]
    },
    {
     "name": "stderr",
     "output_type": "stream",
     "text": [
      "2021-02-08 03:25:48,493 (INFO) train.py:268] \n",
      "                Train epoch_139:\n",
      "                --------------------\n",
      "                train/epoch_loss:        0.42705973982810974\n",
      "train/qrs_score:         0.9241\n",
      "\n",
      "                test/qrs_score:          0.8808\n",
      "                ---------------------------------\n",
      "\n"
     ]
    },
    {
     "name": "stdout",
     "output_type": "stream",
     "text": [
      "ECG-SEQ-LAB - INFO - Created checkpoint directory\n"
     ]
    },
    {
     "name": "stderr",
     "output_type": "stream",
     "text": [
      "2021-02-08 03:25:48,497 (INFO) train.py:275] Created checkpoint directory\n"
     ]
    },
    {
     "name": "stdout",
     "output_type": "stream",
     "text": [
      "ECG-SEQ-LAB - INFO - Checkpoint 139 saved!\n"
     ]
    },
    {
     "name": "stderr",
     "output_type": "stream",
     "text": [
      "2021-02-08 03:25:48,691 (INFO) train.py:283] Checkpoint 139 saved!\n",
      "Epoch 139/300: 100%|████████████████████████████████████████████| 1600/1600 [00:52<00:00, 30.37it/s]\n",
      "Epoch 140/300:  96%|██████████████████████ | 1536/1600 [00:37<00:01, 46.79it/s, loss (batch)=0.0574]"
     ]
    },
    {
     "name": "stdout",
     "output_type": "stream",
     "text": [
      "ECG-SEQ-LAB - INFO - Train step_980: loss : 0.05735405161976814\n"
     ]
    },
    {
     "name": "stderr",
     "output_type": "stream",
     "text": [
      "2021-02-08 03:26:26,613 (INFO) train.py:225] Train step_980: loss : 0.05735405161976814\n",
      "Epoch 140/300: 100%|███████████████████████| 1600/1600 [00:37<00:00, 25.74it/s, loss (batch)=0.0574]"
     ]
    },
    {
     "name": "stdout",
     "output_type": "stream",
     "text": [
      "QRS_acc: 0.9246\n",
      "Scoring complete.\n"
     ]
    },
    {
     "name": "stderr",
     "output_type": "stream",
     "text": [
      "\r",
      "Epoch 140/300: 100%|███████████████████████| 1600/1600 [00:50<00:00, 25.74it/s, loss (batch)=0.0574]"
     ]
    },
    {
     "name": "stdout",
     "output_type": "stream",
     "text": [
      "QRS_acc: 0.8752\n",
      "Scoring complete.\n",
      "ECG-SEQ-LAB - INFO - \n",
      "                Train epoch_140:\n",
      "                --------------------\n",
      "                train/epoch_loss:        0.4155725762248039\n",
      "train/qrs_score:         0.9246\n",
      "\n",
      "                test/qrs_score:          0.8752\n",
      "                ---------------------------------\n",
      "\n"
     ]
    },
    {
     "name": "stderr",
     "output_type": "stream",
     "text": [
      "2021-02-08 03:26:42,441 (INFO) train.py:268] \n",
      "                Train epoch_140:\n",
      "                --------------------\n",
      "                train/epoch_loss:        0.4155725762248039\n",
      "train/qrs_score:         0.9246\n",
      "\n",
      "                test/qrs_score:          0.8752\n",
      "                ---------------------------------\n",
      "\n"
     ]
    },
    {
     "name": "stdout",
     "output_type": "stream",
     "text": [
      "ECG-SEQ-LAB - INFO - Created checkpoint directory\n"
     ]
    },
    {
     "name": "stderr",
     "output_type": "stream",
     "text": [
      "2021-02-08 03:26:42,458 (INFO) train.py:275] Created checkpoint directory\n"
     ]
    },
    {
     "name": "stdout",
     "output_type": "stream",
     "text": [
      "ECG-SEQ-LAB - INFO - Checkpoint 140 saved!\n"
     ]
    },
    {
     "name": "stderr",
     "output_type": "stream",
     "text": [
      "2021-02-08 03:26:42,687 (INFO) train.py:283] Checkpoint 140 saved!\n",
      "Epoch 140/300: 100%|███████████████████████| 1600/1600 [00:53<00:00, 29.63it/s, loss (batch)=0.0574]\n",
      "Epoch 141/300: 100%|████████████████████████████████████████████| 1600/1600 [00:37<00:00, 28.50it/s]"
     ]
    },
    {
     "name": "stdout",
     "output_type": "stream",
     "text": [
      "QRS_acc: 0.9206\n",
      "Scoring complete.\n"
     ]
    },
    {
     "name": "stderr",
     "output_type": "stream",
     "text": [
      "\r",
      "Epoch 141/300: 100%|████████████████████████████████████████████| 1600/1600 [00:50<00:00, 28.50it/s]"
     ]
    },
    {
     "name": "stdout",
     "output_type": "stream",
     "text": [
      "QRS_acc: 0.8745\n",
      "Scoring complete.\n",
      "ECG-SEQ-LAB - INFO - \n",
      "                Train epoch_141:\n",
      "                --------------------\n",
      "                train/epoch_loss:        0.4127884656190872\n",
      "train/qrs_score:         0.9206\n",
      "\n",
      "                test/qrs_score:          0.8745\n",
      "                ---------------------------------\n",
      "\n"
     ]
    },
    {
     "name": "stderr",
     "output_type": "stream",
     "text": [
      "2021-02-08 03:27:34,002 (INFO) train.py:268] \n",
      "                Train epoch_141:\n",
      "                --------------------\n",
      "                train/epoch_loss:        0.4127884656190872\n",
      "train/qrs_score:         0.9206\n",
      "\n",
      "                test/qrs_score:          0.8745\n",
      "                ---------------------------------\n",
      "\n"
     ]
    },
    {
     "name": "stdout",
     "output_type": "stream",
     "text": [
      "ECG-SEQ-LAB - INFO - Created checkpoint directory\n"
     ]
    },
    {
     "name": "stderr",
     "output_type": "stream",
     "text": [
      "2021-02-08 03:27:34,009 (INFO) train.py:275] Created checkpoint directory\n"
     ]
    },
    {
     "name": "stdout",
     "output_type": "stream",
     "text": [
      "ECG-SEQ-LAB - INFO - Checkpoint 141 saved!\n"
     ]
    },
    {
     "name": "stderr",
     "output_type": "stream",
     "text": [
      "2021-02-08 03:27:34,342 (INFO) train.py:283] Checkpoint 141 saved!\n",
      "Epoch 141/300: 100%|████████████████████████████████████████████| 1600/1600 [00:51<00:00, 30.92it/s]\n",
      "Epoch 142/300: 100%|████████████████████████████████████████████| 1600/1600 [00:36<00:00, 28.81it/s]"
     ]
    },
    {
     "name": "stdout",
     "output_type": "stream",
     "text": [
      "QRS_acc: 0.9166\n",
      "Scoring complete.\n"
     ]
    },
    {
     "name": "stderr",
     "output_type": "stream",
     "text": [
      "\r",
      "Epoch 142/300: 100%|████████████████████████████████████████████| 1600/1600 [00:50<00:00, 28.81it/s]"
     ]
    },
    {
     "name": "stdout",
     "output_type": "stream",
     "text": [
      "QRS_acc: 0.877\n",
      "Scoring complete.\n",
      "ECG-SEQ-LAB - INFO - \n",
      "                Train epoch_142:\n",
      "                --------------------\n",
      "                train/epoch_loss:        0.4168831706047058\n",
      "train/qrs_score:         0.9166\n",
      "\n",
      "                test/qrs_score:          0.877\n",
      "                ---------------------------------\n",
      "\n"
     ]
    },
    {
     "name": "stderr",
     "output_type": "stream",
     "text": [
      "2021-02-08 03:28:27,205 (INFO) train.py:268] \n",
      "                Train epoch_142:\n",
      "                --------------------\n",
      "                train/epoch_loss:        0.4168831706047058\n",
      "train/qrs_score:         0.9166\n",
      "\n",
      "                test/qrs_score:          0.877\n",
      "                ---------------------------------\n",
      "\n"
     ]
    },
    {
     "name": "stdout",
     "output_type": "stream",
     "text": [
      "ECG-SEQ-LAB - INFO - Created checkpoint directory\n"
     ]
    },
    {
     "name": "stderr",
     "output_type": "stream",
     "text": [
      "2021-02-08 03:28:27,214 (INFO) train.py:275] Created checkpoint directory\n"
     ]
    },
    {
     "name": "stdout",
     "output_type": "stream",
     "text": [
      "ECG-SEQ-LAB - INFO - Checkpoint 142 saved!\n"
     ]
    },
    {
     "name": "stderr",
     "output_type": "stream",
     "text": [
      "2021-02-08 03:28:27,429 (INFO) train.py:283] Checkpoint 142 saved!\n",
      "Epoch 142/300: 100%|████████████████████████████████████████████| 1600/1600 [00:52<00:00, 30.19it/s]\n",
      "Epoch 143/300:  80%|██████████████████▍    | 1280/1600 [00:36<00:06, 45.72it/s, loss (batch)=0.0588]"
     ]
    },
    {
     "name": "stdout",
     "output_type": "stream",
     "text": [
      "ECG-SEQ-LAB - INFO - Train step_1000: loss : 0.05879663676023483\n"
     ]
    },
    {
     "name": "stderr",
     "output_type": "stream",
     "text": [
      "2021-02-08 03:29:03,716 (INFO) train.py:225] Train step_1000: loss : 0.05879663676023483\n",
      "Epoch 143/300: 100%|███████████████████████| 1600/1600 [00:36<00:00, 50.11it/s, loss (batch)=0.0588]"
     ]
    },
    {
     "name": "stdout",
     "output_type": "stream",
     "text": [
      "QRS_acc: 0.9228\n",
      "Scoring complete.\n"
     ]
    },
    {
     "name": "stderr",
     "output_type": "stream",
     "text": [
      "\r",
      "Epoch 143/300: 100%|███████████████████████| 1600/1600 [00:50<00:00, 50.11it/s, loss (batch)=0.0588]"
     ]
    },
    {
     "name": "stdout",
     "output_type": "stream",
     "text": [
      "QRS_acc: 0.86\n",
      "Scoring complete.\n",
      "ECG-SEQ-LAB - INFO - \n",
      "                Train epoch_143:\n",
      "                --------------------\n",
      "                train/epoch_loss:        0.41305219009518623\n",
      "train/qrs_score:         0.9228\n",
      "\n",
      "                test/qrs_score:          0.86\n",
      "                ---------------------------------\n",
      "\n"
     ]
    },
    {
     "name": "stderr",
     "output_type": "stream",
     "text": [
      "2021-02-08 03:29:18,794 (INFO) train.py:268] \n",
      "                Train epoch_143:\n",
      "                --------------------\n",
      "                train/epoch_loss:        0.41305219009518623\n",
      "train/qrs_score:         0.9228\n",
      "\n",
      "                test/qrs_score:          0.86\n",
      "                ---------------------------------\n",
      "\n"
     ]
    },
    {
     "name": "stdout",
     "output_type": "stream",
     "text": [
      "ECG-SEQ-LAB - INFO - Created checkpoint directory\n"
     ]
    },
    {
     "name": "stderr",
     "output_type": "stream",
     "text": [
      "2021-02-08 03:29:18,801 (INFO) train.py:275] Created checkpoint directory\n"
     ]
    },
    {
     "name": "stdout",
     "output_type": "stream",
     "text": [
      "ECG-SEQ-LAB - INFO - Checkpoint 143 saved!\n"
     ]
    },
    {
     "name": "stderr",
     "output_type": "stream",
     "text": [
      "2021-02-08 03:29:18,923 (INFO) train.py:283] Checkpoint 143 saved!\n",
      "Epoch 143/300: 100%|███████████████████████| 1600/1600 [00:51<00:00, 31.07it/s, loss (batch)=0.0588]\n",
      "Epoch 144/300: 100%|████████████████████████████████████████████| 1600/1600 [00:37<00:00, 28.42it/s]"
     ]
    },
    {
     "name": "stdout",
     "output_type": "stream",
     "text": [
      "QRS_acc: 0.9229\n",
      "Scoring complete.\n"
     ]
    },
    {
     "name": "stderr",
     "output_type": "stream",
     "text": [
      "\r",
      "Epoch 144/300: 100%|████████████████████████████████████████████| 1600/1600 [00:50<00:00, 28.42it/s]"
     ]
    },
    {
     "name": "stdout",
     "output_type": "stream",
     "text": [
      "QRS_acc: 0.8738\n",
      "Scoring complete.\n",
      "ECG-SEQ-LAB - INFO - \n",
      "                Train epoch_144:\n",
      "                --------------------\n",
      "                train/epoch_loss:        0.41618862003088\n",
      "train/qrs_score:         0.9229\n",
      "\n",
      "                test/qrs_score:          0.8738\n",
      "                ---------------------------------\n",
      "\n"
     ]
    },
    {
     "name": "stderr",
     "output_type": "stream",
     "text": [
      "2021-02-08 03:30:13,917 (INFO) train.py:268] \n",
      "                Train epoch_144:\n",
      "                --------------------\n",
      "                train/epoch_loss:        0.41618862003088\n",
      "train/qrs_score:         0.9229\n",
      "\n",
      "                test/qrs_score:          0.8738\n",
      "                ---------------------------------\n",
      "\n"
     ]
    },
    {
     "name": "stdout",
     "output_type": "stream",
     "text": [
      "ECG-SEQ-LAB - INFO - Created checkpoint directory\n"
     ]
    },
    {
     "name": "stderr",
     "output_type": "stream",
     "text": [
      "2021-02-08 03:30:13,927 (INFO) train.py:275] Created checkpoint directory\n"
     ]
    },
    {
     "name": "stdout",
     "output_type": "stream",
     "text": [
      "ECG-SEQ-LAB - INFO - Checkpoint 144 saved!\n"
     ]
    },
    {
     "name": "stderr",
     "output_type": "stream",
     "text": [
      "2021-02-08 03:30:14,125 (INFO) train.py:283] Checkpoint 144 saved!\n",
      "Epoch 144/300: 100%|████████████████████████████████████████████| 1600/1600 [00:55<00:00, 28.99it/s]\n",
      "Epoch 145/300: 100%|████████████████████████████████████████████| 1600/1600 [00:50<00:00, 28.26it/s]"
     ]
    },
    {
     "name": "stdout",
     "output_type": "stream",
     "text": [
      "QRS_acc: 0.9264\n",
      "Scoring complete.\n",
      "QRS_acc: 0.8798\n",
      "Scoring complete.\n",
      "ECG-SEQ-LAB - INFO - \n",
      "                Train epoch_145:\n",
      "                --------------------\n",
      "                train/epoch_loss:        0.41582172363996506\n",
      "train/qrs_score:         0.9264\n",
      "\n",
      "                test/qrs_score:          0.8798\n",
      "                ---------------------------------\n",
      "\n"
     ]
    },
    {
     "name": "stderr",
     "output_type": "stream",
     "text": [
      "2021-02-08 03:31:08,761 (INFO) train.py:268] \n",
      "                Train epoch_145:\n",
      "                --------------------\n",
      "                train/epoch_loss:        0.41582172363996506\n",
      "train/qrs_score:         0.9264\n",
      "\n",
      "                test/qrs_score:          0.8798\n",
      "                ---------------------------------\n",
      "\n"
     ]
    },
    {
     "name": "stdout",
     "output_type": "stream",
     "text": [
      "ECG-SEQ-LAB - INFO - Created checkpoint directory\n"
     ]
    },
    {
     "name": "stderr",
     "output_type": "stream",
     "text": [
      "2021-02-08 03:31:08,796 (INFO) train.py:275] Created checkpoint directory\n"
     ]
    },
    {
     "name": "stdout",
     "output_type": "stream",
     "text": [
      "ECG-SEQ-LAB - INFO - Checkpoint 145 saved!\n"
     ]
    },
    {
     "name": "stderr",
     "output_type": "stream",
     "text": [
      "2021-02-08 03:31:09,004 (INFO) train.py:283] Checkpoint 145 saved!\n",
      "Epoch 145/300: 100%|████████████████████████████████████████████| 1600/1600 [00:54<00:00, 29.16it/s]\n",
      "Epoch 146/300:  64%|██████████████▋        | 1024/1600 [00:32<00:13, 42.18it/s, loss (batch)=0.0588]"
     ]
    },
    {
     "name": "stdout",
     "output_type": "stream",
     "text": [
      "ECG-SEQ-LAB - INFO - Train step_1020: loss : 0.05879649519920349\n"
     ]
    },
    {
     "name": "stderr",
     "output_type": "stream",
     "text": [
      "2021-02-08 03:31:41,096 (INFO) train.py:225] Train step_1020: loss : 0.05879649519920349\n",
      "Epoch 146/300: 100%|███████████████████████| 1600/1600 [00:37<00:00, 29.36it/s, loss (batch)=0.0588]"
     ]
    },
    {
     "name": "stdout",
     "output_type": "stream",
     "text": [
      "QRS_acc: 0.9231\n",
      "Scoring complete.\n"
     ]
    },
    {
     "name": "stderr",
     "output_type": "stream",
     "text": [
      "\r",
      "Epoch 146/300: 100%|███████████████████████| 1600/1600 [00:50<00:00, 29.36it/s, loss (batch)=0.0588]"
     ]
    },
    {
     "name": "stdout",
     "output_type": "stream",
     "text": [
      "QRS_acc: 0.877\n",
      "Scoring complete.\n",
      "ECG-SEQ-LAB - INFO - \n",
      "                Train epoch_146:\n",
      "                --------------------\n",
      "                train/epoch_loss:        0.41436299681663513\n",
      "train/qrs_score:         0.9231\n",
      "\n",
      "                test/qrs_score:          0.877\n",
      "                ---------------------------------\n",
      "\n"
     ]
    },
    {
     "name": "stderr",
     "output_type": "stream",
     "text": [
      "2021-02-08 03:32:01,827 (INFO) train.py:268] \n",
      "                Train epoch_146:\n",
      "                --------------------\n",
      "                train/epoch_loss:        0.41436299681663513\n",
      "train/qrs_score:         0.9231\n",
      "\n",
      "                test/qrs_score:          0.877\n",
      "                ---------------------------------\n",
      "\n"
     ]
    },
    {
     "name": "stdout",
     "output_type": "stream",
     "text": [
      "ECG-SEQ-LAB - INFO - Created checkpoint directory\n"
     ]
    },
    {
     "name": "stderr",
     "output_type": "stream",
     "text": [
      "2021-02-08 03:32:01,837 (INFO) train.py:275] Created checkpoint directory\n"
     ]
    },
    {
     "name": "stdout",
     "output_type": "stream",
     "text": [
      "ECG-SEQ-LAB - INFO - Checkpoint 146 saved!\n"
     ]
    },
    {
     "name": "stderr",
     "output_type": "stream",
     "text": [
      "2021-02-08 03:32:02,037 (INFO) train.py:283] Checkpoint 146 saved!\n",
      "Epoch 146/300: 100%|███████████████████████| 1600/1600 [00:53<00:00, 30.17it/s, loss (batch)=0.0588]\n",
      "Epoch 147/300: 100%|████████████████████████████████████████████| 1600/1600 [00:37<00:00, 28.49it/s]"
     ]
    },
    {
     "name": "stdout",
     "output_type": "stream",
     "text": [
      "QRS_acc: 0.9222\n",
      "Scoring complete.\n"
     ]
    },
    {
     "name": "stderr",
     "output_type": "stream",
     "text": [
      "\r",
      "Epoch 147/300: 100%|████████████████████████████████████████████| 1600/1600 [00:50<00:00, 28.49it/s]"
     ]
    },
    {
     "name": "stdout",
     "output_type": "stream",
     "text": [
      "QRS_acc: 0.877\n",
      "Scoring complete.\n",
      "ECG-SEQ-LAB - INFO - \n",
      "                Train epoch_147:\n",
      "                --------------------\n",
      "                train/epoch_loss:        0.4181291051208973\n",
      "train/qrs_score:         0.9222\n",
      "\n",
      "                test/qrs_score:          0.877\n",
      "                ---------------------------------\n",
      "\n"
     ]
    },
    {
     "name": "stderr",
     "output_type": "stream",
     "text": [
      "2021-02-08 03:32:56,517 (INFO) train.py:268] \n",
      "                Train epoch_147:\n",
      "                --------------------\n",
      "                train/epoch_loss:        0.4181291051208973\n",
      "train/qrs_score:         0.9222\n",
      "\n",
      "                test/qrs_score:          0.877\n",
      "                ---------------------------------\n",
      "\n"
     ]
    },
    {
     "name": "stdout",
     "output_type": "stream",
     "text": [
      "ECG-SEQ-LAB - INFO - Created checkpoint directory\n"
     ]
    },
    {
     "name": "stderr",
     "output_type": "stream",
     "text": [
      "2021-02-08 03:32:56,521 (INFO) train.py:275] Created checkpoint directory\n"
     ]
    },
    {
     "name": "stdout",
     "output_type": "stream",
     "text": [
      "ECG-SEQ-LAB - INFO - Checkpoint 147 saved!\n"
     ]
    },
    {
     "name": "stderr",
     "output_type": "stream",
     "text": [
      "2021-02-08 03:32:56,716 (INFO) train.py:283] Checkpoint 147 saved!\n",
      "Epoch 147/300: 100%|████████████████████████████████████████████| 1600/1600 [00:54<00:00, 29.26it/s]\n",
      "Epoch 148/300: 100%|████████████████████████████████████████████| 1600/1600 [00:38<00:00, 28.25it/s]"
     ]
    },
    {
     "name": "stdout",
     "output_type": "stream",
     "text": [
      "QRS_acc: 0.917\n",
      "Scoring complete.\n"
     ]
    },
    {
     "name": "stderr",
     "output_type": "stream",
     "text": [
      "\r",
      "Epoch 148/300: 100%|████████████████████████████████████████████| 1600/1600 [00:50<00:00, 28.25it/s]"
     ]
    },
    {
     "name": "stdout",
     "output_type": "stream",
     "text": [
      "QRS_acc: 0.87\n",
      "Scoring complete.\n",
      "ECG-SEQ-LAB - INFO - \n",
      "                Train epoch_148:\n",
      "                --------------------\n",
      "                train/epoch_loss:        0.4076197035610676\n",
      "train/qrs_score:         0.917\n",
      "\n",
      "                test/qrs_score:          0.87\n",
      "                ---------------------------------\n",
      "\n"
     ]
    },
    {
     "name": "stderr",
     "output_type": "stream",
     "text": [
      "2021-02-08 03:33:50,996 (INFO) train.py:268] \n",
      "                Train epoch_148:\n",
      "                --------------------\n",
      "                train/epoch_loss:        0.4076197035610676\n",
      "train/qrs_score:         0.917\n",
      "\n",
      "                test/qrs_score:          0.87\n",
      "                ---------------------------------\n",
      "\n"
     ]
    },
    {
     "name": "stdout",
     "output_type": "stream",
     "text": [
      "ECG-SEQ-LAB - INFO - Created checkpoint directory\n"
     ]
    },
    {
     "name": "stderr",
     "output_type": "stream",
     "text": [
      "2021-02-08 03:33:51,007 (INFO) train.py:275] Created checkpoint directory\n"
     ]
    },
    {
     "name": "stdout",
     "output_type": "stream",
     "text": [
      "ECG-SEQ-LAB - INFO - Checkpoint 148 saved!\n"
     ]
    },
    {
     "name": "stderr",
     "output_type": "stream",
     "text": [
      "2021-02-08 03:33:51,211 (INFO) train.py:283] Checkpoint 148 saved!\n",
      "Epoch 148/300: 100%|████████████████████████████████████████████| 1600/1600 [00:54<00:00, 29.36it/s]\n",
      "Epoch 149/300:  48%|███████████▌            | 768/1600 [00:26<00:20, 41.21it/s, loss (batch)=0.0575]"
     ]
    },
    {
     "name": "stdout",
     "output_type": "stream",
     "text": [
      "ECG-SEQ-LAB - INFO - Train step_1040: loss : 0.057548638433218\n"
     ]
    },
    {
     "name": "stderr",
     "output_type": "stream",
     "text": [
      "2021-02-08 03:34:17,596 (INFO) train.py:225] Train step_1040: loss : 0.057548638433218\n",
      "Epoch 149/300: 100%|███████████████████████| 1600/1600 [00:36<00:00, 29.24it/s, loss (batch)=0.0575]"
     ]
    },
    {
     "name": "stdout",
     "output_type": "stream",
     "text": [
      "QRS_acc: 0.9285\n",
      "Scoring complete.\n"
     ]
    },
    {
     "name": "stderr",
     "output_type": "stream",
     "text": [
      "\r",
      "Epoch 149/300: 100%|███████████████████████| 1600/1600 [00:50<00:00, 29.24it/s, loss (batch)=0.0575]"
     ]
    },
    {
     "name": "stdout",
     "output_type": "stream",
     "text": [
      "QRS_acc: 0.8785\n",
      "Scoring complete.\n",
      "ECG-SEQ-LAB - INFO - \n",
      "                Train epoch_149:\n",
      "                --------------------\n",
      "                train/epoch_loss:        0.40671153366565704\n",
      "train/qrs_score:         0.9285\n",
      "\n",
      "                test/qrs_score:          0.8785\n",
      "                ---------------------------------\n",
      "\n"
     ]
    },
    {
     "name": "stderr",
     "output_type": "stream",
     "text": [
      "2021-02-08 03:34:42,001 (INFO) train.py:268] \n",
      "                Train epoch_149:\n",
      "                --------------------\n",
      "                train/epoch_loss:        0.40671153366565704\n",
      "train/qrs_score:         0.9285\n",
      "\n",
      "                test/qrs_score:          0.8785\n",
      "                ---------------------------------\n",
      "\n"
     ]
    },
    {
     "name": "stdout",
     "output_type": "stream",
     "text": [
      "ECG-SEQ-LAB - INFO - Created checkpoint directory\n"
     ]
    },
    {
     "name": "stderr",
     "output_type": "stream",
     "text": [
      "2021-02-08 03:34:42,005 (INFO) train.py:275] Created checkpoint directory\n"
     ]
    },
    {
     "name": "stdout",
     "output_type": "stream",
     "text": [
      "ECG-SEQ-LAB - INFO - Checkpoint 149 saved!\n"
     ]
    },
    {
     "name": "stderr",
     "output_type": "stream",
     "text": [
      "2021-02-08 03:34:42,319 (INFO) train.py:283] Checkpoint 149 saved!\n",
      "Epoch 149/300: 100%|███████████████████████| 1600/1600 [00:51<00:00, 31.31it/s, loss (batch)=0.0575]\n",
      "Epoch 150/300: 100%|████████████████████████████████████████████| 1600/1600 [00:36<00:00, 28.63it/s]"
     ]
    },
    {
     "name": "stdout",
     "output_type": "stream",
     "text": [
      "QRS_acc: 0.9255\n",
      "Scoring complete.\n"
     ]
    },
    {
     "name": "stderr",
     "output_type": "stream",
     "text": [
      "\r",
      "Epoch 150/300: 100%|████████████████████████████████████████████| 1600/1600 [00:50<00:00, 28.63it/s]"
     ]
    },
    {
     "name": "stdout",
     "output_type": "stream",
     "text": [
      "QRS_acc: 0.8712\n",
      "Scoring complete.\n",
      "ECG-SEQ-LAB - INFO - \n",
      "                Train epoch_150:\n",
      "                --------------------\n",
      "                train/epoch_loss:        0.4184979237616062\n",
      "train/qrs_score:         0.9255\n",
      "\n",
      "                test/qrs_score:          0.8712\n",
      "                ---------------------------------\n",
      "\n"
     ]
    },
    {
     "name": "stderr",
     "output_type": "stream",
     "text": [
      "2021-02-08 03:35:34,596 (INFO) train.py:268] \n",
      "                Train epoch_150:\n",
      "                --------------------\n",
      "                train/epoch_loss:        0.4184979237616062\n",
      "train/qrs_score:         0.9255\n",
      "\n",
      "                test/qrs_score:          0.8712\n",
      "                ---------------------------------\n",
      "\n"
     ]
    },
    {
     "name": "stdout",
     "output_type": "stream",
     "text": [
      "ECG-SEQ-LAB - INFO - Created checkpoint directory\n"
     ]
    },
    {
     "name": "stderr",
     "output_type": "stream",
     "text": [
      "2021-02-08 03:35:34,606 (INFO) train.py:275] Created checkpoint directory\n"
     ]
    },
    {
     "name": "stdout",
     "output_type": "stream",
     "text": [
      "ECG-SEQ-LAB - INFO - Checkpoint 150 saved!\n"
     ]
    },
    {
     "name": "stderr",
     "output_type": "stream",
     "text": [
      "2021-02-08 03:35:34,705 (INFO) train.py:283] Checkpoint 150 saved!\n",
      "Epoch 150/300: 100%|████████████████████████████████████████████| 1600/1600 [00:52<00:00, 30.54it/s]\n",
      "Epoch 151/300: 100%|████████████████████████████████████████████| 1600/1600 [00:36<00:00, 28.15it/s]"
     ]
    },
    {
     "name": "stdout",
     "output_type": "stream",
     "text": [
      "QRS_acc: 0.927\n",
      "Scoring complete.\n"
     ]
    },
    {
     "name": "stderr",
     "output_type": "stream",
     "text": [
      "\r",
      "Epoch 151/300: 100%|████████████████████████████████████████████| 1600/1600 [00:50<00:00, 28.15it/s]"
     ]
    },
    {
     "name": "stdout",
     "output_type": "stream",
     "text": [
      "QRS_acc: 0.8702\n",
      "Scoring complete.\n",
      "ECG-SEQ-LAB - INFO - \n",
      "                Train epoch_151:\n",
      "                --------------------\n",
      "                train/epoch_loss:        0.4015417546033859\n",
      "train/qrs_score:         0.927\n",
      "\n",
      "                test/qrs_score:          0.8702\n",
      "                ---------------------------------\n",
      "\n"
     ]
    },
    {
     "name": "stderr",
     "output_type": "stream",
     "text": [
      "2021-02-08 03:36:30,555 (INFO) train.py:268] \n",
      "                Train epoch_151:\n",
      "                --------------------\n",
      "                train/epoch_loss:        0.4015417546033859\n",
      "train/qrs_score:         0.927\n",
      "\n",
      "                test/qrs_score:          0.8702\n",
      "                ---------------------------------\n",
      "\n"
     ]
    },
    {
     "name": "stdout",
     "output_type": "stream",
     "text": [
      "ECG-SEQ-LAB - INFO - Created checkpoint directory\n"
     ]
    },
    {
     "name": "stderr",
     "output_type": "stream",
     "text": [
      "2021-02-08 03:36:30,565 (INFO) train.py:275] Created checkpoint directory\n"
     ]
    },
    {
     "name": "stdout",
     "output_type": "stream",
     "text": [
      "ECG-SEQ-LAB - INFO - Checkpoint 151 saved!\n"
     ]
    },
    {
     "name": "stderr",
     "output_type": "stream",
     "text": [
      "2021-02-08 03:36:31,628 (INFO) train.py:283] Checkpoint 151 saved!\n",
      "Epoch 151/300: 100%|████████████████████████████████████████████| 1600/1600 [00:56<00:00, 28.08it/s]\n",
      "Epoch 152/300:  32%|███████▋                | 512/1600 [00:31<00:59, 18.18it/s, loss (batch)=0.0558]"
     ]
    },
    {
     "name": "stdout",
     "output_type": "stream",
     "text": [
      "ECG-SEQ-LAB - INFO - Train step_1060: loss : 0.055839426815509796\n"
     ]
    },
    {
     "name": "stderr",
     "output_type": "stream",
     "text": [
      "2021-02-08 03:37:03,496 (INFO) train.py:225] Train step_1060: loss : 0.055839426815509796\n",
      "Epoch 152/300: 100%|███████████████████████| 1600/1600 [01:00<00:00, 25.88it/s, loss (batch)=0.0558]"
     ]
    },
    {
     "name": "stdout",
     "output_type": "stream",
     "text": [
      "QRS_acc: 0.9254\n",
      "Scoring complete.\n",
      "QRS_acc: 0.8798\n",
      "Scoring complete.\n",
      "ECG-SEQ-LAB - INFO - \n",
      "                Train epoch_152:\n",
      "                --------------------\n",
      "                train/epoch_loss:        0.41384435072541237\n",
      "train/qrs_score:         0.9254\n",
      "\n",
      "                test/qrs_score:          0.8798\n",
      "                ---------------------------------\n",
      "\n"
     ]
    },
    {
     "name": "stderr",
     "output_type": "stream",
     "text": [
      "2021-02-08 03:37:41,611 (INFO) train.py:268] \n",
      "                Train epoch_152:\n",
      "                --------------------\n",
      "                train/epoch_loss:        0.41384435072541237\n",
      "train/qrs_score:         0.9254\n",
      "\n",
      "                test/qrs_score:          0.8798\n",
      "                ---------------------------------\n",
      "\n"
     ]
    },
    {
     "name": "stdout",
     "output_type": "stream",
     "text": [
      "ECG-SEQ-LAB - INFO - Created checkpoint directory\n"
     ]
    },
    {
     "name": "stderr",
     "output_type": "stream",
     "text": [
      "2021-02-08 03:37:41,622 (INFO) train.py:275] Created checkpoint directory\n"
     ]
    },
    {
     "name": "stdout",
     "output_type": "stream",
     "text": [
      "ECG-SEQ-LAB - INFO - Checkpoint 152 saved!\n"
     ]
    },
    {
     "name": "stderr",
     "output_type": "stream",
     "text": [
      "2021-02-08 03:37:41,814 (INFO) train.py:283] Checkpoint 152 saved!\n",
      "Epoch 152/300: 100%|███████████████████████| 1600/1600 [01:10<00:00, 22.82it/s, loss (batch)=0.0558]\n",
      "Epoch 153/300: 100%|████████████████████████████████████████████| 1600/1600 [00:38<00:00, 28.31it/s]"
     ]
    },
    {
     "name": "stdout",
     "output_type": "stream",
     "text": [
      "QRS_acc: 0.9256\n",
      "Scoring complete.\n"
     ]
    },
    {
     "name": "stderr",
     "output_type": "stream",
     "text": [
      "\r",
      "Epoch 153/300: 100%|████████████████████████████████████████████| 1600/1600 [00:50<00:00, 28.31it/s]"
     ]
    },
    {
     "name": "stdout",
     "output_type": "stream",
     "text": [
      "QRS_acc: 0.8748\n",
      "Scoring complete.\n",
      "ECG-SEQ-LAB - INFO - \n",
      "                Train epoch_153:\n",
      "                --------------------\n",
      "                train/epoch_loss:        0.4063420854508877\n",
      "train/qrs_score:         0.9256\n",
      "\n",
      "                test/qrs_score:          0.8748\n",
      "                ---------------------------------\n",
      "\n"
     ]
    },
    {
     "name": "stderr",
     "output_type": "stream",
     "text": [
      "2021-02-08 03:38:34,698 (INFO) train.py:268] \n",
      "                Train epoch_153:\n",
      "                --------------------\n",
      "                train/epoch_loss:        0.4063420854508877\n",
      "train/qrs_score:         0.9256\n",
      "\n",
      "                test/qrs_score:          0.8748\n",
      "                ---------------------------------\n",
      "\n"
     ]
    },
    {
     "name": "stdout",
     "output_type": "stream",
     "text": [
      "ECG-SEQ-LAB - INFO - Created checkpoint directory\n"
     ]
    },
    {
     "name": "stderr",
     "output_type": "stream",
     "text": [
      "2021-02-08 03:38:34,702 (INFO) train.py:275] Created checkpoint directory\n"
     ]
    },
    {
     "name": "stdout",
     "output_type": "stream",
     "text": [
      "ECG-SEQ-LAB - INFO - Checkpoint 153 saved!\n"
     ]
    },
    {
     "name": "stderr",
     "output_type": "stream",
     "text": [
      "2021-02-08 03:38:34,793 (INFO) train.py:283] Checkpoint 153 saved!\n",
      "Epoch 153/300: 100%|████████████████████████████████████████████| 1600/1600 [00:52<00:00, 30.20it/s]\n",
      "Epoch 154/300: 100%|████████████████████████████████████████████| 1600/1600 [00:37<00:00, 28.84it/s]"
     ]
    },
    {
     "name": "stdout",
     "output_type": "stream",
     "text": [
      "QRS_acc: 0.9244\n",
      "Scoring complete.\n"
     ]
    },
    {
     "name": "stderr",
     "output_type": "stream",
     "text": [
      "\r",
      "Epoch 154/300: 100%|████████████████████████████████████████████| 1600/1600 [00:50<00:00, 28.84it/s]"
     ]
    },
    {
     "name": "stdout",
     "output_type": "stream",
     "text": [
      "QRS_acc: 0.877\n",
      "Scoring complete.\n",
      "ECG-SEQ-LAB - INFO - \n",
      "                Train epoch_154:\n",
      "                --------------------\n",
      "                train/epoch_loss:        0.4047984816133976\n",
      "train/qrs_score:         0.9244\n",
      "\n",
      "                test/qrs_score:          0.877\n",
      "                ---------------------------------\n",
      "\n"
     ]
    },
    {
     "name": "stderr",
     "output_type": "stream",
     "text": [
      "2021-02-08 03:39:27,352 (INFO) train.py:268] \n",
      "                Train epoch_154:\n",
      "                --------------------\n",
      "                train/epoch_loss:        0.4047984816133976\n",
      "train/qrs_score:         0.9244\n",
      "\n",
      "                test/qrs_score:          0.877\n",
      "                ---------------------------------\n",
      "\n"
     ]
    },
    {
     "name": "stdout",
     "output_type": "stream",
     "text": [
      "ECG-SEQ-LAB - INFO - Created checkpoint directory\n"
     ]
    },
    {
     "name": "stderr",
     "output_type": "stream",
     "text": [
      "2021-02-08 03:39:27,381 (INFO) train.py:275] Created checkpoint directory\n"
     ]
    },
    {
     "name": "stdout",
     "output_type": "stream",
     "text": [
      "ECG-SEQ-LAB - INFO - Checkpoint 154 saved!\n"
     ]
    },
    {
     "name": "stderr",
     "output_type": "stream",
     "text": [
      "2021-02-08 03:39:27,493 (INFO) train.py:283] Checkpoint 154 saved!\n",
      "Epoch 154/300: 100%|████████████████████████████████████████████| 1600/1600 [00:52<00:00, 30.36it/s]\n",
      "Epoch 155/300:  16%|███▊                    | 256/1600 [00:16<00:40, 33.52it/s, loss (batch)=0.0586]"
     ]
    },
    {
     "name": "stdout",
     "output_type": "stream",
     "text": [
      "ECG-SEQ-LAB - INFO - Train step_1080: loss : 0.058608897030353546\n"
     ]
    },
    {
     "name": "stderr",
     "output_type": "stream",
     "text": [
      "2021-02-08 03:39:43,996 (INFO) train.py:225] Train step_1080: loss : 0.058608897030353546\n",
      "Epoch 155/300: 100%|███████████████████████| 1600/1600 [00:37<00:00, 28.75it/s, loss (batch)=0.0586]"
     ]
    },
    {
     "name": "stdout",
     "output_type": "stream",
     "text": [
      "QRS_acc: 0.9289\n",
      "Scoring complete.\n"
     ]
    },
    {
     "name": "stderr",
     "output_type": "stream",
     "text": [
      "\r",
      "Epoch 155/300: 100%|███████████████████████| 1600/1600 [00:50<00:00, 28.75it/s, loss (batch)=0.0586]"
     ]
    },
    {
     "name": "stdout",
     "output_type": "stream",
     "text": [
      "QRS_acc: 0.8762\n",
      "Scoring complete.\n",
      "ECG-SEQ-LAB - INFO - \n",
      "                Train epoch_155:\n",
      "                --------------------\n",
      "                train/epoch_loss:        0.4045387953519821\n",
      "train/qrs_score:         0.9289\n",
      "\n",
      "                test/qrs_score:          0.8762\n",
      "                ---------------------------------\n",
      "\n"
     ]
    },
    {
     "name": "stderr",
     "output_type": "stream",
     "text": [
      "2021-02-08 03:40:19,094 (INFO) train.py:268] \n",
      "                Train epoch_155:\n",
      "                --------------------\n",
      "                train/epoch_loss:        0.4045387953519821\n",
      "train/qrs_score:         0.9289\n",
      "\n",
      "                test/qrs_score:          0.8762\n",
      "                ---------------------------------\n",
      "\n"
     ]
    },
    {
     "name": "stdout",
     "output_type": "stream",
     "text": [
      "ECG-SEQ-LAB - INFO - Created checkpoint directory\n"
     ]
    },
    {
     "name": "stderr",
     "output_type": "stream",
     "text": [
      "2021-02-08 03:40:19,098 (INFO) train.py:275] Created checkpoint directory\n"
     ]
    },
    {
     "name": "stdout",
     "output_type": "stream",
     "text": [
      "ECG-SEQ-LAB - INFO - Checkpoint 155 saved!\n"
     ]
    },
    {
     "name": "stderr",
     "output_type": "stream",
     "text": [
      "2021-02-08 03:40:19,317 (INFO) train.py:283] Checkpoint 155 saved!\n",
      "Epoch 155/300: 100%|███████████████████████| 1600/1600 [00:51<00:00, 30.87it/s, loss (batch)=0.0586]\n",
      "Epoch 156/300: 100%|████████████████████████████████████████████| 1600/1600 [00:36<00:00, 28.66it/s]"
     ]
    },
    {
     "name": "stdout",
     "output_type": "stream",
     "text": [
      "QRS_acc: 0.9244\n",
      "Scoring complete.\n"
     ]
    },
    {
     "name": "stderr",
     "output_type": "stream",
     "text": [
      "\r",
      "Epoch 156/300: 100%|████████████████████████████████████████████| 1600/1600 [00:50<00:00, 28.66it/s]"
     ]
    },
    {
     "name": "stdout",
     "output_type": "stream",
     "text": [
      "QRS_acc: 0.8675\n",
      "Scoring complete.\n",
      "ECG-SEQ-LAB - INFO - \n",
      "                Train epoch_156:\n",
      "                --------------------\n",
      "                train/epoch_loss:        0.39837315678596497\n",
      "train/qrs_score:         0.9244\n",
      "\n",
      "                test/qrs_score:          0.8675\n",
      "                ---------------------------------\n",
      "\n"
     ]
    },
    {
     "name": "stderr",
     "output_type": "stream",
     "text": [
      "2021-02-08 03:41:11,298 (INFO) train.py:268] \n",
      "                Train epoch_156:\n",
      "                --------------------\n",
      "                train/epoch_loss:        0.39837315678596497\n",
      "train/qrs_score:         0.9244\n",
      "\n",
      "                test/qrs_score:          0.8675\n",
      "                ---------------------------------\n",
      "\n"
     ]
    },
    {
     "name": "stdout",
     "output_type": "stream",
     "text": [
      "ECG-SEQ-LAB - INFO - Created checkpoint directory\n"
     ]
    },
    {
     "name": "stderr",
     "output_type": "stream",
     "text": [
      "2021-02-08 03:41:11,326 (INFO) train.py:275] Created checkpoint directory\n"
     ]
    },
    {
     "name": "stdout",
     "output_type": "stream",
     "text": [
      "ECG-SEQ-LAB - INFO - Checkpoint 156 saved!\n"
     ]
    },
    {
     "name": "stderr",
     "output_type": "stream",
     "text": [
      "2021-02-08 03:41:11,449 (INFO) train.py:283] Checkpoint 156 saved!\n",
      "Epoch 156/300: 100%|████████████████████████████████████████████| 1600/1600 [00:52<00:00, 30.70it/s]\n",
      "Epoch 157/300: 100%|████████████████████████████████████████████| 1600/1600 [00:36<00:00, 28.42it/s]"
     ]
    },
    {
     "name": "stdout",
     "output_type": "stream",
     "text": [
      "QRS_acc: 0.9294\n",
      "Scoring complete.\n"
     ]
    },
    {
     "name": "stderr",
     "output_type": "stream",
     "text": [
      "\r",
      "Epoch 157/300: 100%|████████████████████████████████████████████| 1600/1600 [00:50<00:00, 28.42it/s]"
     ]
    },
    {
     "name": "stdout",
     "output_type": "stream",
     "text": [
      "QRS_acc: 0.8722\n",
      "Scoring complete.\n",
      "ECG-SEQ-LAB - INFO - \n",
      "                Train epoch_157:\n",
      "                --------------------\n",
      "                train/epoch_loss:        0.39977090805768967\n",
      "train/qrs_score:         0.9294\n",
      "\n",
      "                test/qrs_score:          0.8722\n",
      "                ---------------------------------\n",
      "\n"
     ]
    },
    {
     "name": "stderr",
     "output_type": "stream",
     "text": [
      "2021-02-08 03:42:02,956 (INFO) train.py:268] \n",
      "                Train epoch_157:\n",
      "                --------------------\n",
      "                train/epoch_loss:        0.39977090805768967\n",
      "train/qrs_score:         0.9294\n",
      "\n",
      "                test/qrs_score:          0.8722\n",
      "                ---------------------------------\n",
      "\n"
     ]
    },
    {
     "name": "stdout",
     "output_type": "stream",
     "text": [
      "ECG-SEQ-LAB - INFO - Created checkpoint directory\n"
     ]
    },
    {
     "name": "stderr",
     "output_type": "stream",
     "text": [
      "2021-02-08 03:42:02,968 (INFO) train.py:275] Created checkpoint directory\n"
     ]
    },
    {
     "name": "stdout",
     "output_type": "stream",
     "text": [
      "ECG-SEQ-LAB - INFO - Checkpoint 157 saved!\n"
     ]
    },
    {
     "name": "stderr",
     "output_type": "stream",
     "text": [
      "2021-02-08 03:42:03,212 (INFO) train.py:283] Checkpoint 157 saved!\n",
      "Epoch 157/300: 100%|████████████████████████████████████████████| 1600/1600 [00:51<00:00, 30.90it/s]\n",
      "Epoch 158/300:   0%|                                  | 0/1600 [00:12<?, ?it/s, loss (batch)=0.0645]"
     ]
    },
    {
     "name": "stdout",
     "output_type": "stream",
     "text": [
      "ECG-SEQ-LAB - INFO - Train step_1100: loss : 0.06446396559476852\n"
     ]
    },
    {
     "name": "stderr",
     "output_type": "stream",
     "text": [
      "2021-02-08 03:42:15,613 (INFO) train.py:225] Train step_1100: loss : 0.06446396559476852\n",
      "Epoch 158/300: 100%|███████████████████████| 1600/1600 [00:38<00:00, 27.63it/s, loss (batch)=0.0645]"
     ]
    },
    {
     "name": "stdout",
     "output_type": "stream",
     "text": [
      "QRS_acc: 0.9339\n",
      "Scoring complete.\n"
     ]
    },
    {
     "name": "stderr",
     "output_type": "stream",
     "text": [
      "\r",
      "Epoch 158/300: 100%|███████████████████████| 1600/1600 [00:50<00:00, 27.63it/s, loss (batch)=0.0645]"
     ]
    },
    {
     "name": "stdout",
     "output_type": "stream",
     "text": [
      "QRS_acc: 0.8858\n",
      "Scoring complete.\n",
      "ECG-SEQ-LAB - INFO - \n",
      "                Train epoch_158:\n",
      "                --------------------\n",
      "                train/epoch_loss:        0.3986412584781647\n",
      "train/qrs_score:         0.9339\n",
      "\n",
      "                test/qrs_score:          0.8858\n",
      "                ---------------------------------\n",
      "\n"
     ]
    },
    {
     "name": "stderr",
     "output_type": "stream",
     "text": [
      "2021-02-08 03:42:57,655 (INFO) train.py:268] \n",
      "                Train epoch_158:\n",
      "                --------------------\n",
      "                train/epoch_loss:        0.3986412584781647\n",
      "train/qrs_score:         0.9339\n",
      "\n",
      "                test/qrs_score:          0.8858\n",
      "                ---------------------------------\n",
      "\n"
     ]
    },
    {
     "name": "stdout",
     "output_type": "stream",
     "text": [
      "ECG-SEQ-LAB - INFO - Created checkpoint directory\n"
     ]
    },
    {
     "name": "stderr",
     "output_type": "stream",
     "text": [
      "2021-02-08 03:42:57,663 (INFO) train.py:275] Created checkpoint directory\n"
     ]
    },
    {
     "name": "stdout",
     "output_type": "stream",
     "text": [
      "ECG-SEQ-LAB - INFO - Checkpoint 158 saved!\n"
     ]
    },
    {
     "name": "stderr",
     "output_type": "stream",
     "text": [
      "2021-02-08 03:42:57,795 (INFO) train.py:283] Checkpoint 158 saved!\n",
      "Epoch 158/300: 100%|███████████████████████| 1600/1600 [00:54<00:00, 29.32it/s, loss (batch)=0.0645]\n",
      "Epoch 159/300: 100%|████████████████████████████████████████████| 1600/1600 [00:37<00:00, 28.58it/s]"
     ]
    },
    {
     "name": "stdout",
     "output_type": "stream",
     "text": [
      "QRS_acc: 0.9332\n",
      "Scoring complete.\n"
     ]
    },
    {
     "name": "stderr",
     "output_type": "stream",
     "text": [
      "\r",
      "Epoch 159/300: 100%|████████████████████████████████████████████| 1600/1600 [00:50<00:00, 28.58it/s]"
     ]
    },
    {
     "name": "stdout",
     "output_type": "stream",
     "text": [
      "QRS_acc: 0.8808\n",
      "Scoring complete.\n",
      "ECG-SEQ-LAB - INFO - \n",
      "                Train epoch_159:\n",
      "                --------------------\n",
      "                train/epoch_loss:        0.405092291533947\n",
      "train/qrs_score:         0.9332\n",
      "\n",
      "                test/qrs_score:          0.8808\n",
      "                ---------------------------------\n",
      "\n"
     ]
    },
    {
     "name": "stderr",
     "output_type": "stream",
     "text": [
      "2021-02-08 03:43:49,260 (INFO) train.py:268] \n",
      "                Train epoch_159:\n",
      "                --------------------\n",
      "                train/epoch_loss:        0.405092291533947\n",
      "train/qrs_score:         0.9332\n",
      "\n",
      "                test/qrs_score:          0.8808\n",
      "                ---------------------------------\n",
      "\n"
     ]
    },
    {
     "name": "stdout",
     "output_type": "stream",
     "text": [
      "ECG-SEQ-LAB - INFO - Created checkpoint directory\n"
     ]
    },
    {
     "name": "stderr",
     "output_type": "stream",
     "text": [
      "2021-02-08 03:43:49,297 (INFO) train.py:275] Created checkpoint directory\n"
     ]
    },
    {
     "name": "stdout",
     "output_type": "stream",
     "text": [
      "ECG-SEQ-LAB - INFO - Checkpoint 159 saved!\n"
     ]
    },
    {
     "name": "stderr",
     "output_type": "stream",
     "text": [
      "2021-02-08 03:43:49,423 (INFO) train.py:283] Checkpoint 159 saved!\n",
      "Epoch 159/300: 100%|████████████████████████████████████████████| 1600/1600 [00:51<00:00, 30.99it/s]\n",
      "Epoch 160/300:  96%|██████████████████████ | 1536/1600 [00:37<00:01, 47.28it/s, loss (batch)=0.0614]"
     ]
    },
    {
     "name": "stdout",
     "output_type": "stream",
     "text": [
      "ECG-SEQ-LAB - INFO - Train step_1120: loss : 0.061424847692251205\n"
     ]
    },
    {
     "name": "stderr",
     "output_type": "stream",
     "text": [
      "2021-02-08 03:44:27,131 (INFO) train.py:225] Train step_1120: loss : 0.061424847692251205\n",
      "Epoch 160/300: 100%|███████████████████████| 1600/1600 [00:50<00:00, 25.59it/s, loss (batch)=0.0614]"
     ]
    },
    {
     "name": "stdout",
     "output_type": "stream",
     "text": [
      "QRS_acc: 0.9359\n",
      "Scoring complete.\n",
      "QRS_acc: 0.885\n",
      "Scoring complete.\n",
      "ECG-SEQ-LAB - INFO - \n",
      "                Train epoch_160:\n",
      "                --------------------\n",
      "                train/epoch_loss:        0.4021464101970196\n",
      "train/qrs_score:         0.9359\n",
      "\n",
      "                test/qrs_score:          0.885\n",
      "                ---------------------------------\n",
      "\n"
     ]
    },
    {
     "name": "stderr",
     "output_type": "stream",
     "text": [
      "2021-02-08 03:44:44,997 (INFO) train.py:268] \n",
      "                Train epoch_160:\n",
      "                --------------------\n",
      "                train/epoch_loss:        0.4021464101970196\n",
      "train/qrs_score:         0.9359\n",
      "\n",
      "                test/qrs_score:          0.885\n",
      "                ---------------------------------\n",
      "\n"
     ]
    },
    {
     "name": "stdout",
     "output_type": "stream",
     "text": [
      "ECG-SEQ-LAB - INFO - Created checkpoint directory\n"
     ]
    },
    {
     "name": "stderr",
     "output_type": "stream",
     "text": [
      "2021-02-08 03:44:45,010 (INFO) train.py:275] Created checkpoint directory\n"
     ]
    },
    {
     "name": "stdout",
     "output_type": "stream",
     "text": [
      "ECG-SEQ-LAB - INFO - Checkpoint 160 saved!\n"
     ]
    },
    {
     "name": "stderr",
     "output_type": "stream",
     "text": [
      "2021-02-08 03:44:45,282 (INFO) train.py:283] Checkpoint 160 saved!\n",
      "Epoch 160/300: 100%|███████████████████████| 1600/1600 [00:55<00:00, 28.63it/s, loss (batch)=0.0614]\n",
      "Epoch 161/300: 100%|████████████████████████████████████████████| 1600/1600 [00:38<00:00, 28.41it/s]"
     ]
    },
    {
     "name": "stdout",
     "output_type": "stream",
     "text": [
      "QRS_acc: 0.9326\n",
      "Scoring complete.\n"
     ]
    },
    {
     "name": "stderr",
     "output_type": "stream",
     "text": [
      "\r",
      "Epoch 161/300: 100%|████████████████████████████████████████████| 1600/1600 [00:50<00:00, 28.41it/s]"
     ]
    },
    {
     "name": "stdout",
     "output_type": "stream",
     "text": [
      "QRS_acc: 0.8678\n",
      "Scoring complete.\n",
      "ECG-SEQ-LAB - INFO - \n",
      "                Train epoch_161:\n",
      "                --------------------\n",
      "                train/epoch_loss:        0.3973003402352333\n",
      "train/qrs_score:         0.9326\n",
      "\n",
      "                test/qrs_score:          0.8678\n",
      "                ---------------------------------\n",
      "\n"
     ]
    },
    {
     "name": "stderr",
     "output_type": "stream",
     "text": [
      "2021-02-08 03:45:37,923 (INFO) train.py:268] \n",
      "                Train epoch_161:\n",
      "                --------------------\n",
      "                train/epoch_loss:        0.3973003402352333\n",
      "train/qrs_score:         0.9326\n",
      "\n",
      "                test/qrs_score:          0.8678\n",
      "                ---------------------------------\n",
      "\n"
     ]
    },
    {
     "name": "stdout",
     "output_type": "stream",
     "text": [
      "ECG-SEQ-LAB - INFO - Created checkpoint directory\n"
     ]
    },
    {
     "name": "stderr",
     "output_type": "stream",
     "text": [
      "2021-02-08 03:45:37,929 (INFO) train.py:275] Created checkpoint directory\n"
     ]
    },
    {
     "name": "stdout",
     "output_type": "stream",
     "text": [
      "ECG-SEQ-LAB - INFO - Checkpoint 161 saved!\n"
     ]
    },
    {
     "name": "stderr",
     "output_type": "stream",
     "text": [
      "2021-02-08 03:45:38,010 (INFO) train.py:283] Checkpoint 161 saved!\n",
      "Epoch 161/300: 100%|████████████████████████████████████████████| 1600/1600 [00:52<00:00, 30.36it/s]\n",
      "Epoch 162/300: 100%|████████████████████████████████████████████| 1600/1600 [00:37<00:00, 28.36it/s]"
     ]
    },
    {
     "name": "stdout",
     "output_type": "stream",
     "text": [
      "QRS_acc: 0.932\n",
      "Scoring complete.\n"
     ]
    },
    {
     "name": "stderr",
     "output_type": "stream",
     "text": [
      "\r",
      "Epoch 162/300: 100%|████████████████████████████████████████████| 1600/1600 [00:50<00:00, 28.36it/s]"
     ]
    },
    {
     "name": "stdout",
     "output_type": "stream",
     "text": [
      "QRS_acc: 0.8732\n",
      "Scoring complete.\n",
      "ECG-SEQ-LAB - INFO - \n",
      "                Train epoch_162:\n",
      "                --------------------\n",
      "                train/epoch_loss:        0.4040433019399643\n",
      "train/qrs_score:         0.932\n",
      "\n",
      "                test/qrs_score:          0.8732\n",
      "                ---------------------------------\n",
      "\n"
     ]
    },
    {
     "name": "stderr",
     "output_type": "stream",
     "text": [
      "2021-02-08 03:46:31,552 (INFO) train.py:268] \n",
      "                Train epoch_162:\n",
      "                --------------------\n",
      "                train/epoch_loss:        0.4040433019399643\n",
      "train/qrs_score:         0.932\n",
      "\n",
      "                test/qrs_score:          0.8732\n",
      "                ---------------------------------\n",
      "\n"
     ]
    },
    {
     "name": "stdout",
     "output_type": "stream",
     "text": [
      "ECG-SEQ-LAB - INFO - Created checkpoint directory\n"
     ]
    },
    {
     "name": "stderr",
     "output_type": "stream",
     "text": [
      "2021-02-08 03:46:31,560 (INFO) train.py:275] Created checkpoint directory\n"
     ]
    },
    {
     "name": "stdout",
     "output_type": "stream",
     "text": [
      "ECG-SEQ-LAB - INFO - Checkpoint 162 saved!\n"
     ]
    },
    {
     "name": "stderr",
     "output_type": "stream",
     "text": [
      "2021-02-08 03:46:31,890 (INFO) train.py:283] Checkpoint 162 saved!\n",
      "Epoch 162/300: 100%|████████████████████████████████████████████| 1600/1600 [00:53<00:00, 29.69it/s]\n",
      "Epoch 163/300:  80%|██████████████████▍    | 1280/1600 [00:36<00:06, 45.81it/s, loss (batch)=0.0507]"
     ]
    },
    {
     "name": "stdout",
     "output_type": "stream",
     "text": [
      "ECG-SEQ-LAB - INFO - Train step_1140: loss : 0.050675634294748306\n"
     ]
    },
    {
     "name": "stderr",
     "output_type": "stream",
     "text": [
      "2021-02-08 03:47:08,296 (INFO) train.py:225] Train step_1140: loss : 0.050675634294748306\n",
      "Epoch 163/300: 100%|███████████████████████| 1600/1600 [00:36<00:00, 50.88it/s, loss (batch)=0.0507]"
     ]
    },
    {
     "name": "stdout",
     "output_type": "stream",
     "text": [
      "QRS_acc: 0.9363\n",
      "Scoring complete.\n"
     ]
    },
    {
     "name": "stderr",
     "output_type": "stream",
     "text": [
      "\r",
      "Epoch 163/300: 100%|███████████████████████| 1600/1600 [00:50<00:00, 50.88it/s, loss (batch)=0.0507]"
     ]
    },
    {
     "name": "stdout",
     "output_type": "stream",
     "text": [
      "QRS_acc: 0.8782\n",
      "Scoring complete.\n",
      "ECG-SEQ-LAB - INFO - \n",
      "                Train epoch_163:\n",
      "                --------------------\n",
      "                train/epoch_loss:        0.3913362957537174\n",
      "train/qrs_score:         0.9363\n",
      "\n",
      "                test/qrs_score:          0.8782\n",
      "                ---------------------------------\n",
      "\n"
     ]
    },
    {
     "name": "stderr",
     "output_type": "stream",
     "text": [
      "2021-02-08 03:47:22,959 (INFO) train.py:268] \n",
      "                Train epoch_163:\n",
      "                --------------------\n",
      "                train/epoch_loss:        0.3913362957537174\n",
      "train/qrs_score:         0.9363\n",
      "\n",
      "                test/qrs_score:          0.8782\n",
      "                ---------------------------------\n",
      "\n"
     ]
    },
    {
     "name": "stdout",
     "output_type": "stream",
     "text": [
      "ECG-SEQ-LAB - INFO - Created checkpoint directory\n"
     ]
    },
    {
     "name": "stderr",
     "output_type": "stream",
     "text": [
      "2021-02-08 03:47:22,998 (INFO) train.py:275] Created checkpoint directory\n"
     ]
    },
    {
     "name": "stdout",
     "output_type": "stream",
     "text": [
      "ECG-SEQ-LAB - INFO - Checkpoint 163 saved!\n"
     ]
    },
    {
     "name": "stderr",
     "output_type": "stream",
     "text": [
      "2021-02-08 03:47:23,212 (INFO) train.py:283] Checkpoint 163 saved!\n",
      "Epoch 163/300: 100%|███████████████████████| 1600/1600 [00:51<00:00, 31.18it/s, loss (batch)=0.0507]\n",
      "Epoch 164/300: 100%|████████████████████████████████████████████| 1600/1600 [00:50<00:00, 28.90it/s]"
     ]
    },
    {
     "name": "stdout",
     "output_type": "stream",
     "text": [
      "QRS_acc: 0.9369\n",
      "Scoring complete.\n",
      "QRS_acc: 0.8782\n",
      "Scoring complete.\n",
      "ECG-SEQ-LAB - INFO - \n",
      "                Train epoch_164:\n",
      "                --------------------\n",
      "                train/epoch_loss:        0.396150678396225\n",
      "train/qrs_score:         0.9369\n",
      "\n",
      "                test/qrs_score:          0.8782\n",
      "                ---------------------------------\n",
      "\n"
     ]
    },
    {
     "name": "stderr",
     "output_type": "stream",
     "text": [
      "2021-02-08 03:48:43,803 (INFO) train.py:268] \n",
      "                Train epoch_164:\n",
      "                --------------------\n",
      "                train/epoch_loss:        0.396150678396225\n",
      "train/qrs_score:         0.9369\n",
      "\n",
      "                test/qrs_score:          0.8782\n",
      "                ---------------------------------\n",
      "\n"
     ]
    },
    {
     "name": "stdout",
     "output_type": "stream",
     "text": [
      "ECG-SEQ-LAB - INFO - Created checkpoint directory\n"
     ]
    },
    {
     "name": "stderr",
     "output_type": "stream",
     "text": [
      "2021-02-08 03:48:44,021 (INFO) train.py:275] Created checkpoint directory\n"
     ]
    },
    {
     "name": "stdout",
     "output_type": "stream",
     "text": [
      "ECG-SEQ-LAB - INFO - Checkpoint 164 saved!\n"
     ]
    },
    {
     "name": "stderr",
     "output_type": "stream",
     "text": [
      "2021-02-08 03:48:44,936 (INFO) train.py:283] Checkpoint 164 saved!\n",
      "Epoch 164/300: 100%|████████████████████████████████████████████| 1600/1600 [01:21<00:00, 19.56it/s]\n",
      "Epoch 165/300: 100%|████████████████████████████████████████████| 1600/1600 [00:43<00:00, 26.53it/s]"
     ]
    },
    {
     "name": "stdout",
     "output_type": "stream",
     "text": [
      "QRS_acc: 0.935\n",
      "Scoring complete.\n"
     ]
    },
    {
     "name": "stderr",
     "output_type": "stream",
     "text": [
      "\r",
      "Epoch 165/300: 100%|████████████████████████████████████████████| 1600/1600 [01:00<00:00, 26.53it/s]"
     ]
    },
    {
     "name": "stdout",
     "output_type": "stream",
     "text": [
      "QRS_acc: 0.8752\n",
      "Scoring complete.\n",
      "ECG-SEQ-LAB - INFO - \n",
      "                Train epoch_165:\n",
      "                --------------------\n",
      "                train/epoch_loss:        0.3908664770424366\n",
      "train/qrs_score:         0.935\n",
      "\n",
      "                test/qrs_score:          0.8752\n",
      "                ---------------------------------\n",
      "\n"
     ]
    },
    {
     "name": "stderr",
     "output_type": "stream",
     "text": [
      "2021-02-08 03:49:46,896 (INFO) train.py:268] \n",
      "                Train epoch_165:\n",
      "                --------------------\n",
      "                train/epoch_loss:        0.3908664770424366\n",
      "train/qrs_score:         0.935\n",
      "\n",
      "                test/qrs_score:          0.8752\n",
      "                ---------------------------------\n",
      "\n"
     ]
    },
    {
     "name": "stdout",
     "output_type": "stream",
     "text": [
      "ECG-SEQ-LAB - INFO - Created checkpoint directory\n"
     ]
    },
    {
     "name": "stderr",
     "output_type": "stream",
     "text": [
      "2021-02-08 03:49:46,910 (INFO) train.py:275] Created checkpoint directory\n"
     ]
    },
    {
     "name": "stdout",
     "output_type": "stream",
     "text": [
      "ECG-SEQ-LAB - INFO - Checkpoint 165 saved!\n"
     ]
    },
    {
     "name": "stderr",
     "output_type": "stream",
     "text": [
      "2021-02-08 03:49:47,239 (INFO) train.py:283] Checkpoint 165 saved!\n",
      "Epoch 165/300: 100%|████████████████████████████████████████████| 1600/1600 [01:02<00:00, 25.70it/s]\n",
      "Epoch 166/300:  64%|██████████████▋        | 1024/1600 [00:31<00:13, 42.99it/s, loss (batch)=0.0581]"
     ]
    },
    {
     "name": "stdout",
     "output_type": "stream",
     "text": [
      "ECG-SEQ-LAB - INFO - Train step_1160: loss : 0.05812983214855194\n"
     ]
    },
    {
     "name": "stderr",
     "output_type": "stream",
     "text": [
      "2021-02-08 03:50:18,896 (INFO) train.py:225] Train step_1160: loss : 0.05812983214855194\n",
      "Epoch 166/300: 100%|███████████████████████| 1600/1600 [00:37<00:00, 29.06it/s, loss (batch)=0.0581]"
     ]
    },
    {
     "name": "stdout",
     "output_type": "stream",
     "text": [
      "QRS_acc: 0.9349\n",
      "Scoring complete.\n"
     ]
    },
    {
     "name": "stderr",
     "output_type": "stream",
     "text": [
      "\r",
      "Epoch 166/300: 100%|███████████████████████| 1600/1600 [00:50<00:00, 29.06it/s, loss (batch)=0.0581]"
     ]
    },
    {
     "name": "stdout",
     "output_type": "stream",
     "text": [
      "QRS_acc: 0.8712\n",
      "Scoring complete.\n",
      "ECG-SEQ-LAB - INFO - \n",
      "                Train epoch_166:\n",
      "                --------------------\n",
      "                train/epoch_loss:        0.39417751505970955\n",
      "train/qrs_score:         0.9349\n",
      "\n",
      "                test/qrs_score:          0.8712\n",
      "                ---------------------------------\n",
      "\n"
     ]
    },
    {
     "name": "stderr",
     "output_type": "stream",
     "text": [
      "2021-02-08 03:50:39,916 (INFO) train.py:268] \n",
      "                Train epoch_166:\n",
      "                --------------------\n",
      "                train/epoch_loss:        0.39417751505970955\n",
      "train/qrs_score:         0.9349\n",
      "\n",
      "                test/qrs_score:          0.8712\n",
      "                ---------------------------------\n",
      "\n"
     ]
    },
    {
     "name": "stdout",
     "output_type": "stream",
     "text": [
      "ECG-SEQ-LAB - INFO - Created checkpoint directory\n"
     ]
    },
    {
     "name": "stderr",
     "output_type": "stream",
     "text": [
      "2021-02-08 03:50:39,920 (INFO) train.py:275] Created checkpoint directory\n"
     ]
    },
    {
     "name": "stdout",
     "output_type": "stream",
     "text": [
      "ECG-SEQ-LAB - INFO - Checkpoint 166 saved!\n"
     ]
    },
    {
     "name": "stderr",
     "output_type": "stream",
     "text": [
      "2021-02-08 03:50:40,419 (INFO) train.py:283] Checkpoint 166 saved!\n",
      "Epoch 166/300: 100%|███████████████████████| 1600/1600 [00:53<00:00, 30.10it/s, loss (batch)=0.0581]\n",
      "Epoch 167/300: 100%|████████████████████████████████████████████| 1600/1600 [00:50<00:00, 25.95it/s]"
     ]
    },
    {
     "name": "stdout",
     "output_type": "stream",
     "text": [
      "QRS_acc: 0.9368\n",
      "Scoring complete.\n",
      "QRS_acc: 0.882\n",
      "Scoring complete.\n",
      "ECG-SEQ-LAB - INFO - \n",
      "                Train epoch_167:\n",
      "                --------------------\n",
      "                train/epoch_loss:        0.41208385676145554\n",
      "train/qrs_score:         0.9368\n",
      "\n",
      "                test/qrs_score:          0.882\n",
      "                ---------------------------------\n",
      "\n"
     ]
    },
    {
     "name": "stderr",
     "output_type": "stream",
     "text": [
      "2021-02-08 03:52:28,923 (INFO) train.py:268] \n",
      "                Train epoch_167:\n",
      "                --------------------\n",
      "                train/epoch_loss:        0.41208385676145554\n",
      "train/qrs_score:         0.9368\n",
      "\n",
      "                test/qrs_score:          0.882\n",
      "                ---------------------------------\n",
      "\n"
     ]
    },
    {
     "name": "stdout",
     "output_type": "stream",
     "text": [
      "ECG-SEQ-LAB - INFO - Created checkpoint directory\n"
     ]
    },
    {
     "name": "stderr",
     "output_type": "stream",
     "text": [
      "2021-02-08 03:52:29,023 (INFO) train.py:275] Created checkpoint directory\n"
     ]
    },
    {
     "name": "stdout",
     "output_type": "stream",
     "text": [
      "ECG-SEQ-LAB - INFO - Checkpoint 167 saved!\n"
     ]
    },
    {
     "name": "stderr",
     "output_type": "stream",
     "text": [
      "2021-02-08 03:52:30,757 (INFO) train.py:283] Checkpoint 167 saved!\n",
      "Epoch 167/300: 100%|████████████████████████████████████████████| 1600/1600 [01:50<00:00, 14.49it/s]\n",
      "Epoch 168/300: 100%|████████████████████████████████████████████| 1600/1600 [00:52<00:00, 24.22it/s]"
     ]
    },
    {
     "name": "stdout",
     "output_type": "stream",
     "text": [
      "QRS_acc: 0.9362\n",
      "Scoring complete.\n",
      "QRS_acc: 0.8795\n",
      "Scoring complete.\n",
      "ECG-SEQ-LAB - INFO - \n",
      "                Train epoch_168:\n",
      "                --------------------\n",
      "                train/epoch_loss:        0.398536317050457\n",
      "train/qrs_score:         0.9362\n",
      "\n",
      "                test/qrs_score:          0.8795\n",
      "                ---------------------------------\n",
      "\n"
     ]
    },
    {
     "name": "stderr",
     "output_type": "stream",
     "text": [
      "2021-02-08 03:53:38,523 (INFO) train.py:268] \n",
      "                Train epoch_168:\n",
      "                --------------------\n",
      "                train/epoch_loss:        0.398536317050457\n",
      "train/qrs_score:         0.9362\n",
      "\n",
      "                test/qrs_score:          0.8795\n",
      "                ---------------------------------\n",
      "\n"
     ]
    },
    {
     "name": "stdout",
     "output_type": "stream",
     "text": [
      "ECG-SEQ-LAB - INFO - Created checkpoint directory\n"
     ]
    },
    {
     "name": "stderr",
     "output_type": "stream",
     "text": [
      "2021-02-08 03:53:38,537 (INFO) train.py:275] Created checkpoint directory\n"
     ]
    },
    {
     "name": "stdout",
     "output_type": "stream",
     "text": [
      "ECG-SEQ-LAB - INFO - Checkpoint 168 saved!\n"
     ]
    },
    {
     "name": "stderr",
     "output_type": "stream",
     "text": [
      "2021-02-08 03:53:38,735 (INFO) train.py:283] Checkpoint 168 saved!\n",
      "Epoch 168/300: 100%|████████████████████████████████████████████| 1600/1600 [01:07<00:00, 23.57it/s]\n",
      "Epoch 169/300:  48%|███████████▌            | 768/1600 [00:26<00:20, 40.07it/s, loss (batch)=0.0532]"
     ]
    },
    {
     "name": "stdout",
     "output_type": "stream",
     "text": [
      "ECG-SEQ-LAB - INFO - Train step_1180: loss : 0.053208429366350174\n"
     ]
    },
    {
     "name": "stderr",
     "output_type": "stream",
     "text": [
      "2021-02-08 03:54:05,225 (INFO) train.py:225] Train step_1180: loss : 0.053208429366350174\n",
      "Epoch 169/300: 100%|███████████████████████| 1600/1600 [00:36<00:00, 29.14it/s, loss (batch)=0.0532]"
     ]
    },
    {
     "name": "stdout",
     "output_type": "stream",
     "text": [
      "QRS_acc: 0.9278\n",
      "Scoring complete.\n"
     ]
    },
    {
     "name": "stderr",
     "output_type": "stream",
     "text": [
      "\r",
      "Epoch 169/300: 100%|███████████████████████| 1600/1600 [00:50<00:00, 29.14it/s, loss (batch)=0.0532]"
     ]
    },
    {
     "name": "stdout",
     "output_type": "stream",
     "text": [
      "QRS_acc: 0.866\n",
      "Scoring complete.\n",
      "ECG-SEQ-LAB - INFO - \n",
      "                Train epoch_169:\n",
      "                --------------------\n",
      "                train/epoch_loss:        0.3987737074494362\n",
      "train/qrs_score:         0.9278\n",
      "\n",
      "                test/qrs_score:          0.866\n",
      "                ---------------------------------\n",
      "\n"
     ]
    },
    {
     "name": "stderr",
     "output_type": "stream",
     "text": [
      "2021-02-08 03:54:30,056 (INFO) train.py:268] \n",
      "                Train epoch_169:\n",
      "                --------------------\n",
      "                train/epoch_loss:        0.3987737074494362\n",
      "train/qrs_score:         0.9278\n",
      "\n",
      "                test/qrs_score:          0.866\n",
      "                ---------------------------------\n",
      "\n"
     ]
    },
    {
     "name": "stdout",
     "output_type": "stream",
     "text": [
      "ECG-SEQ-LAB - INFO - Created checkpoint directory\n"
     ]
    },
    {
     "name": "stderr",
     "output_type": "stream",
     "text": [
      "2021-02-08 03:54:30,060 (INFO) train.py:275] Created checkpoint directory\n"
     ]
    },
    {
     "name": "stdout",
     "output_type": "stream",
     "text": [
      "ECG-SEQ-LAB - INFO - Checkpoint 169 saved!\n"
     ]
    },
    {
     "name": "stderr",
     "output_type": "stream",
     "text": [
      "2021-02-08 03:54:30,216 (INFO) train.py:283] Checkpoint 169 saved!\n",
      "Epoch 169/300: 100%|███████████████████████| 1600/1600 [00:51<00:00, 31.08it/s, loss (batch)=0.0532]\n",
      "Epoch 170/300: 100%|████████████████████████████████████████████| 1600/1600 [00:37<00:00, 28.83it/s]"
     ]
    },
    {
     "name": "stdout",
     "output_type": "stream",
     "text": [
      "QRS_acc: 0.9356\n",
      "Scoring complete.\n"
     ]
    },
    {
     "name": "stderr",
     "output_type": "stream",
     "text": [
      "\r",
      "Epoch 170/300: 100%|████████████████████████████████████████████| 1600/1600 [00:50<00:00, 28.83it/s]"
     ]
    },
    {
     "name": "stdout",
     "output_type": "stream",
     "text": [
      "QRS_acc: 0.8748\n",
      "Scoring complete.\n",
      "ECG-SEQ-LAB - INFO - \n",
      "                Train epoch_170:\n",
      "                --------------------\n",
      "                train/epoch_loss:        0.39244261384010315\n",
      "train/qrs_score:         0.9356\n",
      "\n",
      "                test/qrs_score:          0.8748\n",
      "                ---------------------------------\n",
      "\n"
     ]
    },
    {
     "name": "stderr",
     "output_type": "stream",
     "text": [
      "2021-02-08 03:55:23,354 (INFO) train.py:268] \n",
      "                Train epoch_170:\n",
      "                --------------------\n",
      "                train/epoch_loss:        0.39244261384010315\n",
      "train/qrs_score:         0.9356\n",
      "\n",
      "                test/qrs_score:          0.8748\n",
      "                ---------------------------------\n",
      "\n"
     ]
    },
    {
     "name": "stdout",
     "output_type": "stream",
     "text": [
      "ECG-SEQ-LAB - INFO - Created checkpoint directory\n"
     ]
    },
    {
     "name": "stderr",
     "output_type": "stream",
     "text": [
      "2021-02-08 03:55:23,363 (INFO) train.py:275] Created checkpoint directory\n"
     ]
    },
    {
     "name": "stdout",
     "output_type": "stream",
     "text": [
      "ECG-SEQ-LAB - INFO - Checkpoint 170 saved!\n"
     ]
    },
    {
     "name": "stderr",
     "output_type": "stream",
     "text": [
      "2021-02-08 03:55:23,582 (INFO) train.py:283] Checkpoint 170 saved!\n",
      "Epoch 170/300: 100%|████████████████████████████████████████████| 1600/1600 [00:53<00:00, 29.98it/s]\n",
      "Epoch 171/300: 100%|████████████████████████████████████████████| 1600/1600 [00:36<00:00, 28.87it/s]"
     ]
    },
    {
     "name": "stdout",
     "output_type": "stream",
     "text": [
      "QRS_acc: 0.9301\n",
      "Scoring complete.\n"
     ]
    },
    {
     "name": "stderr",
     "output_type": "stream",
     "text": [
      "\r",
      "Epoch 171/300: 100%|████████████████████████████████████████████| 1600/1600 [00:50<00:00, 28.87it/s]"
     ]
    },
    {
     "name": "stdout",
     "output_type": "stream",
     "text": [
      "QRS_acc: 0.875\n",
      "Scoring complete.\n",
      "ECG-SEQ-LAB - INFO - \n",
      "                Train epoch_171:\n",
      "                --------------------\n",
      "                train/epoch_loss:        0.3796226307749748\n",
      "train/qrs_score:         0.9301\n",
      "\n",
      "                test/qrs_score:          0.875\n",
      "                ---------------------------------\n",
      "\n"
     ]
    },
    {
     "name": "stderr",
     "output_type": "stream",
     "text": [
      "2021-02-08 03:56:15,099 (INFO) train.py:268] \n",
      "                Train epoch_171:\n",
      "                --------------------\n",
      "                train/epoch_loss:        0.3796226307749748\n",
      "train/qrs_score:         0.9301\n",
      "\n",
      "                test/qrs_score:          0.875\n",
      "                ---------------------------------\n",
      "\n"
     ]
    },
    {
     "name": "stdout",
     "output_type": "stream",
     "text": [
      "ECG-SEQ-LAB - INFO - Created checkpoint directory\n"
     ]
    },
    {
     "name": "stderr",
     "output_type": "stream",
     "text": [
      "2021-02-08 03:56:15,109 (INFO) train.py:275] Created checkpoint directory\n"
     ]
    },
    {
     "name": "stdout",
     "output_type": "stream",
     "text": [
      "ECG-SEQ-LAB - INFO - Checkpoint 171 saved!\n"
     ]
    },
    {
     "name": "stderr",
     "output_type": "stream",
     "text": [
      "2021-02-08 03:56:15,245 (INFO) train.py:283] Checkpoint 171 saved!\n",
      "Epoch 171/300: 100%|████████████████████████████████████████████| 1600/1600 [00:51<00:00, 30.97it/s]\n",
      "Epoch 172/300:  32%|███████▋                | 512/1600 [00:21<00:29, 37.30it/s, loss (batch)=0.0565]"
     ]
    },
    {
     "name": "stdout",
     "output_type": "stream",
     "text": [
      "ECG-SEQ-LAB - INFO - Train step_1200: loss : 0.05650773644447327\n"
     ]
    },
    {
     "name": "stderr",
     "output_type": "stream",
     "text": [
      "2021-02-08 03:56:36,559 (INFO) train.py:225] Train step_1200: loss : 0.05650773644447327\n",
      "Epoch 172/300: 100%|███████████████████████| 1600/1600 [00:36<00:00, 29.06it/s, loss (batch)=0.0565]"
     ]
    },
    {
     "name": "stdout",
     "output_type": "stream",
     "text": [
      "QRS_acc: 0.9392\n",
      "Scoring complete.\n"
     ]
    },
    {
     "name": "stderr",
     "output_type": "stream",
     "text": [
      "\r",
      "Epoch 172/300: 100%|███████████████████████| 1600/1600 [00:50<00:00, 29.06it/s, loss (batch)=0.0565]"
     ]
    },
    {
     "name": "stdout",
     "output_type": "stream",
     "text": [
      "QRS_acc: 0.8698\n",
      "Scoring complete.\n",
      "ECG-SEQ-LAB - INFO - \n",
      "                Train epoch_172:\n",
      "                --------------------\n",
      "                train/epoch_loss:        0.38973961398005486\n",
      "train/qrs_score:         0.9392\n",
      "\n",
      "                test/qrs_score:          0.8698\n",
      "                ---------------------------------\n",
      "\n"
     ]
    },
    {
     "name": "stderr",
     "output_type": "stream",
     "text": [
      "2021-02-08 03:57:07,296 (INFO) train.py:268] \n",
      "                Train epoch_172:\n",
      "                --------------------\n",
      "                train/epoch_loss:        0.38973961398005486\n",
      "train/qrs_score:         0.9392\n",
      "\n",
      "                test/qrs_score:          0.8698\n",
      "                ---------------------------------\n",
      "\n"
     ]
    },
    {
     "name": "stdout",
     "output_type": "stream",
     "text": [
      "ECG-SEQ-LAB - INFO - Created checkpoint directory\n"
     ]
    },
    {
     "name": "stderr",
     "output_type": "stream",
     "text": [
      "2021-02-08 03:57:07,305 (INFO) train.py:275] Created checkpoint directory\n"
     ]
    },
    {
     "name": "stdout",
     "output_type": "stream",
     "text": [
      "ECG-SEQ-LAB - INFO - Checkpoint 172 saved!\n"
     ]
    },
    {
     "name": "stderr",
     "output_type": "stream",
     "text": [
      "2021-02-08 03:57:07,403 (INFO) train.py:283] Checkpoint 172 saved!\n",
      "Epoch 172/300: 100%|███████████████████████| 1600/1600 [00:52<00:00, 30.68it/s, loss (batch)=0.0565]\n",
      "Epoch 173/300: 100%|████████████████████████████████████████████| 1600/1600 [00:37<00:00, 28.37it/s]"
     ]
    },
    {
     "name": "stdout",
     "output_type": "stream",
     "text": [
      "QRS_acc: 0.934\n",
      "Scoring complete.\n"
     ]
    },
    {
     "name": "stderr",
     "output_type": "stream",
     "text": [
      "\r",
      "Epoch 173/300: 100%|████████████████████████████████████████████| 1600/1600 [00:50<00:00, 28.37it/s]"
     ]
    },
    {
     "name": "stdout",
     "output_type": "stream",
     "text": [
      "QRS_acc: 0.8655\n",
      "Scoring complete.\n",
      "ECG-SEQ-LAB - INFO - \n",
      "                Train epoch_173:\n",
      "                --------------------\n",
      "                train/epoch_loss:        0.38109738379716873\n",
      "train/qrs_score:         0.934\n",
      "\n",
      "                test/qrs_score:          0.8655\n",
      "                ---------------------------------\n",
      "\n"
     ]
    },
    {
     "name": "stderr",
     "output_type": "stream",
     "text": [
      "2021-02-08 03:58:00,120 (INFO) train.py:268] \n",
      "                Train epoch_173:\n",
      "                --------------------\n",
      "                train/epoch_loss:        0.38109738379716873\n",
      "train/qrs_score:         0.934\n",
      "\n",
      "                test/qrs_score:          0.8655\n",
      "                ---------------------------------\n",
      "\n"
     ]
    },
    {
     "name": "stdout",
     "output_type": "stream",
     "text": [
      "ECG-SEQ-LAB - INFO - Created checkpoint directory\n"
     ]
    },
    {
     "name": "stderr",
     "output_type": "stream",
     "text": [
      "2021-02-08 03:58:00,124 (INFO) train.py:275] Created checkpoint directory\n"
     ]
    },
    {
     "name": "stdout",
     "output_type": "stream",
     "text": [
      "ECG-SEQ-LAB - INFO - Checkpoint 173 saved!\n"
     ]
    },
    {
     "name": "stderr",
     "output_type": "stream",
     "text": [
      "2021-02-08 03:58:01,920 (INFO) train.py:283] Checkpoint 173 saved!\n",
      "Epoch 173/300: 100%|████████████████████████████████████████████| 1600/1600 [00:54<00:00, 29.35it/s]\n",
      "Epoch 174/300: 100%|████████████████████████████████████████████| 1600/1600 [00:37<00:00, 28.88it/s]"
     ]
    },
    {
     "name": "stdout",
     "output_type": "stream",
     "text": [
      "QRS_acc: 0.9382\n",
      "Scoring complete.\n"
     ]
    },
    {
     "name": "stderr",
     "output_type": "stream",
     "text": [
      "\r",
      "Epoch 174/300: 100%|████████████████████████████████████████████| 1600/1600 [00:50<00:00, 28.88it/s]"
     ]
    },
    {
     "name": "stdout",
     "output_type": "stream",
     "text": [
      "QRS_acc: 0.8832\n",
      "Scoring complete.\n",
      "ECG-SEQ-LAB - INFO - \n",
      "                Train epoch_174:\n",
      "                --------------------\n",
      "                train/epoch_loss:        0.38365596160292625\n",
      "train/qrs_score:         0.9382\n",
      "\n",
      "                test/qrs_score:          0.8832\n",
      "                ---------------------------------\n",
      "\n"
     ]
    },
    {
     "name": "stderr",
     "output_type": "stream",
     "text": [
      "2021-02-08 03:58:55,696 (INFO) train.py:268] \n",
      "                Train epoch_174:\n",
      "                --------------------\n",
      "                train/epoch_loss:        0.38365596160292625\n",
      "train/qrs_score:         0.9382\n",
      "\n",
      "                test/qrs_score:          0.8832\n",
      "                ---------------------------------\n",
      "\n"
     ]
    },
    {
     "name": "stdout",
     "output_type": "stream",
     "text": [
      "ECG-SEQ-LAB - INFO - Created checkpoint directory\n"
     ]
    },
    {
     "name": "stderr",
     "output_type": "stream",
     "text": [
      "2021-02-08 03:58:55,709 (INFO) train.py:275] Created checkpoint directory\n"
     ]
    },
    {
     "name": "stdout",
     "output_type": "stream",
     "text": [
      "ECG-SEQ-LAB - INFO - Checkpoint 174 saved!\n"
     ]
    },
    {
     "name": "stderr",
     "output_type": "stream",
     "text": [
      "2021-02-08 03:58:55,795 (INFO) train.py:283] Checkpoint 174 saved!\n",
      "Epoch 174/300: 100%|████████████████████████████████████████████| 1600/1600 [00:53<00:00, 29.70it/s]\n",
      "Epoch 175/300:  16%|███▊                    | 256/1600 [00:16<00:40, 33.18it/s, loss (batch)=0.0543]"
     ]
    },
    {
     "name": "stdout",
     "output_type": "stream",
     "text": [
      "ECG-SEQ-LAB - INFO - Train step_1220: loss : 0.05432999134063721\n"
     ]
    },
    {
     "name": "stderr",
     "output_type": "stream",
     "text": [
      "2021-02-08 03:59:12,496 (INFO) train.py:225] Train step_1220: loss : 0.05432999134063721\n",
      "Epoch 175/300: 100%|███████████████████████| 1600/1600 [00:36<00:00, 29.04it/s, loss (batch)=0.0543]"
     ]
    },
    {
     "name": "stdout",
     "output_type": "stream",
     "text": [
      "QRS_acc: 0.9362\n",
      "Scoring complete.\n"
     ]
    },
    {
     "name": "stderr",
     "output_type": "stream",
     "text": [
      "\r",
      "Epoch 175/300: 100%|███████████████████████| 1600/1600 [00:50<00:00, 29.04it/s, loss (batch)=0.0543]"
     ]
    },
    {
     "name": "stdout",
     "output_type": "stream",
     "text": [
      "QRS_acc: 0.8718\n",
      "Scoring complete.\n",
      "ECG-SEQ-LAB - INFO - \n",
      "                Train epoch_175:\n",
      "                --------------------\n",
      "                train/epoch_loss:        0.38556288182735443\n",
      "train/qrs_score:         0.9362\n",
      "\n",
      "                test/qrs_score:          0.8718\n",
      "                ---------------------------------\n",
      "\n"
     ]
    },
    {
     "name": "stderr",
     "output_type": "stream",
     "text": [
      "2021-02-08 03:59:51,694 (INFO) train.py:268] \n",
      "                Train epoch_175:\n",
      "                --------------------\n",
      "                train/epoch_loss:        0.38556288182735443\n",
      "train/qrs_score:         0.9362\n",
      "\n",
      "                test/qrs_score:          0.8718\n",
      "                ---------------------------------\n",
      "\n"
     ]
    },
    {
     "name": "stdout",
     "output_type": "stream",
     "text": [
      "ECG-SEQ-LAB - INFO - Created checkpoint directory\n"
     ]
    },
    {
     "name": "stderr",
     "output_type": "stream",
     "text": [
      "2021-02-08 03:59:51,700 (INFO) train.py:275] Created checkpoint directory\n"
     ]
    },
    {
     "name": "stdout",
     "output_type": "stream",
     "text": [
      "ECG-SEQ-LAB - INFO - Checkpoint 175 saved!\n"
     ]
    },
    {
     "name": "stderr",
     "output_type": "stream",
     "text": [
      "2021-02-08 03:59:52,071 (INFO) train.py:283] Checkpoint 175 saved!\n",
      "Epoch 175/300: 100%|███████████████████████| 1600/1600 [00:56<00:00, 28.43it/s, loss (batch)=0.0543]\n",
      "Epoch 176/300: 100%|████████████████████████████████████████████| 1600/1600 [00:41<00:00, 27.71it/s]"
     ]
    },
    {
     "name": "stdout",
     "output_type": "stream",
     "text": [
      "QRS_acc: 0.9393\n",
      "Scoring complete.\n",
      "QRS_acc: 0.8795\n",
      "Scoring complete.\n",
      "ECG-SEQ-LAB - INFO - \n",
      "                Train epoch_176:\n",
      "                --------------------\n",
      "                train/epoch_loss:        0.3939514197409153\n",
      "train/qrs_score:         0.9393\n",
      "\n",
      "                test/qrs_score:          0.8795\n",
      "                ---------------------------------\n",
      "\n"
     ]
    },
    {
     "name": "stderr",
     "output_type": "stream",
     "text": [
      "2021-02-08 04:00:49,134 (INFO) train.py:268] \n",
      "                Train epoch_176:\n",
      "                --------------------\n",
      "                train/epoch_loss:        0.3939514197409153\n",
      "train/qrs_score:         0.9393\n",
      "\n",
      "                test/qrs_score:          0.8795\n",
      "                ---------------------------------\n",
      "\n"
     ]
    },
    {
     "name": "stdout",
     "output_type": "stream",
     "text": [
      "ECG-SEQ-LAB - INFO - Created checkpoint directory\n"
     ]
    },
    {
     "name": "stderr",
     "output_type": "stream",
     "text": [
      "2021-02-08 04:00:49,142 (INFO) train.py:275] Created checkpoint directory\n"
     ]
    },
    {
     "name": "stdout",
     "output_type": "stream",
     "text": [
      "ECG-SEQ-LAB - INFO - Checkpoint 176 saved!\n"
     ]
    },
    {
     "name": "stderr",
     "output_type": "stream",
     "text": [
      "2021-02-08 04:00:49,355 (INFO) train.py:283] Checkpoint 176 saved!\n",
      "Epoch 176/300: 100%|████████████████████████████████████████████| 1600/1600 [00:57<00:00, 27.94it/s]\n",
      "Epoch 177/300: 100%|████████████████████████████████████████████| 1600/1600 [00:36<00:00, 29.13it/s]"
     ]
    },
    {
     "name": "stdout",
     "output_type": "stream",
     "text": [
      "QRS_acc: 0.9382\n",
      "Scoring complete.\n"
     ]
    },
    {
     "name": "stderr",
     "output_type": "stream",
     "text": [
      "\r",
      "Epoch 177/300: 100%|████████████████████████████████████████████| 1600/1600 [00:49<00:00, 29.13it/s]"
     ]
    },
    {
     "name": "stdout",
     "output_type": "stream",
     "text": [
      "QRS_acc: 0.8835\n",
      "Scoring complete.\n",
      "ECG-SEQ-LAB - INFO - \n",
      "                Train epoch_177:\n",
      "                --------------------\n",
      "                train/epoch_loss:        0.38055791705846786\n",
      "train/qrs_score:         0.9382\n",
      "\n",
      "                test/qrs_score:          0.8835\n",
      "                ---------------------------------\n",
      "\n"
     ]
    },
    {
     "name": "stderr",
     "output_type": "stream",
     "text": [
      "2021-02-08 04:01:40,515 (INFO) train.py:268] \n",
      "                Train epoch_177:\n",
      "                --------------------\n",
      "                train/epoch_loss:        0.38055791705846786\n",
      "train/qrs_score:         0.9382\n",
      "\n",
      "                test/qrs_score:          0.8835\n",
      "                ---------------------------------\n",
      "\n"
     ]
    },
    {
     "name": "stdout",
     "output_type": "stream",
     "text": [
      "ECG-SEQ-LAB - INFO - Created checkpoint directory\n"
     ]
    },
    {
     "name": "stderr",
     "output_type": "stream",
     "text": [
      "2021-02-08 04:01:40,522 (INFO) train.py:275] Created checkpoint directory\n"
     ]
    },
    {
     "name": "stdout",
     "output_type": "stream",
     "text": [
      "ECG-SEQ-LAB - INFO - Checkpoint 177 saved!\n"
     ]
    },
    {
     "name": "stderr",
     "output_type": "stream",
     "text": [
      "2021-02-08 04:01:40,701 (INFO) train.py:283] Checkpoint 177 saved!\n",
      "Epoch 177/300: 100%|████████████████████████████████████████████| 1600/1600 [00:51<00:00, 31.16it/s]\n",
      "Epoch 178/300:   0%|                                  | 0/1600 [00:11<?, ?it/s, loss (batch)=0.0579]"
     ]
    },
    {
     "name": "stdout",
     "output_type": "stream",
     "text": [
      "ECG-SEQ-LAB - INFO - Train step_1240: loss : 0.05787806957960129\n"
     ]
    },
    {
     "name": "stderr",
     "output_type": "stream",
     "text": [
      "2021-02-08 04:01:52,224 (INFO) train.py:225] Train step_1240: loss : 0.05787806957960129\n",
      "Epoch 178/300: 100%|███████████████████████| 1600/1600 [00:36<00:00, 28.11it/s, loss (batch)=0.0579]"
     ]
    },
    {
     "name": "stdout",
     "output_type": "stream",
     "text": [
      "QRS_acc: 0.9391\n",
      "Scoring complete.\n"
     ]
    },
    {
     "name": "stderr",
     "output_type": "stream",
     "text": [
      "\r",
      "Epoch 178/300: 100%|███████████████████████| 1600/1600 [00:50<00:00, 28.11it/s, loss (batch)=0.0579]"
     ]
    },
    {
     "name": "stdout",
     "output_type": "stream",
     "text": [
      "QRS_acc: 0.873\n",
      "Scoring complete.\n",
      "ECG-SEQ-LAB - INFO - \n",
      "                Train epoch_178:\n",
      "                --------------------\n",
      "                train/epoch_loss:        0.37837253883481026\n",
      "train/qrs_score:         0.9391\n",
      "\n",
      "                test/qrs_score:          0.873\n",
      "                ---------------------------------\n",
      "\n"
     ]
    },
    {
     "name": "stderr",
     "output_type": "stream",
     "text": [
      "2021-02-08 04:02:33,544 (INFO) train.py:268] \n",
      "                Train epoch_178:\n",
      "                --------------------\n",
      "                train/epoch_loss:        0.37837253883481026\n",
      "train/qrs_score:         0.9391\n",
      "\n",
      "                test/qrs_score:          0.873\n",
      "                ---------------------------------\n",
      "\n"
     ]
    },
    {
     "name": "stdout",
     "output_type": "stream",
     "text": [
      "ECG-SEQ-LAB - INFO - Created checkpoint directory\n"
     ]
    },
    {
     "name": "stderr",
     "output_type": "stream",
     "text": [
      "2021-02-08 04:02:33,553 (INFO) train.py:275] Created checkpoint directory\n"
     ]
    },
    {
     "name": "stdout",
     "output_type": "stream",
     "text": [
      "ECG-SEQ-LAB - INFO - Checkpoint 178 saved!\n"
     ]
    },
    {
     "name": "stderr",
     "output_type": "stream",
     "text": [
      "2021-02-08 04:02:33,721 (INFO) train.py:283] Checkpoint 178 saved!\n",
      "Epoch 178/300: 100%|███████████████████████| 1600/1600 [00:53<00:00, 30.18it/s, loss (batch)=0.0579]\n",
      "Epoch 179/300: 100%|████████████████████████████████████████████| 1600/1600 [00:50<00:00, 28.33it/s]"
     ]
    },
    {
     "name": "stdout",
     "output_type": "stream",
     "text": [
      "QRS_acc: 0.9419\n",
      "Scoring complete.\n",
      "QRS_acc: 0.8878\n",
      "Scoring complete.\n",
      "ECG-SEQ-LAB - INFO - \n",
      "                Train epoch_179:\n",
      "                --------------------\n",
      "                train/epoch_loss:        0.37823837250471115\n",
      "train/qrs_score:         0.9419\n",
      "\n",
      "                test/qrs_score:          0.8878\n",
      "                ---------------------------------\n",
      "\n"
     ]
    },
    {
     "name": "stderr",
     "output_type": "stream",
     "text": [
      "2021-02-08 04:03:27,915 (INFO) train.py:268] \n",
      "                Train epoch_179:\n",
      "                --------------------\n",
      "                train/epoch_loss:        0.37823837250471115\n",
      "train/qrs_score:         0.9419\n",
      "\n",
      "                test/qrs_score:          0.8878\n",
      "                ---------------------------------\n",
      "\n"
     ]
    },
    {
     "name": "stdout",
     "output_type": "stream",
     "text": [
      "ECG-SEQ-LAB - INFO - Created checkpoint directory\n"
     ]
    },
    {
     "name": "stderr",
     "output_type": "stream",
     "text": [
      "2021-02-08 04:03:27,926 (INFO) train.py:275] Created checkpoint directory\n"
     ]
    },
    {
     "name": "stdout",
     "output_type": "stream",
     "text": [
      "ECG-SEQ-LAB - INFO - Checkpoint 179 saved!\n"
     ]
    },
    {
     "name": "stderr",
     "output_type": "stream",
     "text": [
      "2021-02-08 04:03:28,346 (INFO) train.py:283] Checkpoint 179 saved!\n",
      "Epoch 179/300: 100%|████████████████████████████████████████████| 1600/1600 [00:54<00:00, 29.26it/s]\n",
      "Epoch 180/300:  96%|██████████████████████ | 1536/1600 [00:37<00:01, 47.05it/s, loss (batch)=0.0492]"
     ]
    },
    {
     "name": "stdout",
     "output_type": "stream",
     "text": [
      "ECG-SEQ-LAB - INFO - Train step_1260: loss : 0.04924280196428299\n"
     ]
    },
    {
     "name": "stderr",
     "output_type": "stream",
     "text": [
      "2021-02-08 04:04:06,096 (INFO) train.py:225] Train step_1260: loss : 0.04924280196428299\n",
      "Epoch 180/300: 100%|███████████████████████| 1600/1600 [00:37<00:00, 25.84it/s, loss (batch)=0.0492]"
     ]
    },
    {
     "name": "stdout",
     "output_type": "stream",
     "text": [
      "QRS_acc: 0.9371\n",
      "Scoring complete.\n"
     ]
    },
    {
     "name": "stderr",
     "output_type": "stream",
     "text": [
      "\r",
      "Epoch 180/300: 100%|███████████████████████| 1600/1600 [00:50<00:00, 25.84it/s, loss (batch)=0.0492]"
     ]
    },
    {
     "name": "stdout",
     "output_type": "stream",
     "text": [
      "QRS_acc: 0.8802\n",
      "Scoring complete.\n",
      "ECG-SEQ-LAB - INFO - \n",
      "                Train epoch_180:\n",
      "                --------------------\n",
      "                train/epoch_loss:        0.3784642219543457\n",
      "train/qrs_score:         0.9371\n",
      "\n",
      "                test/qrs_score:          0.8802\n",
      "                ---------------------------------\n",
      "\n"
     ]
    },
    {
     "name": "stderr",
     "output_type": "stream",
     "text": [
      "2021-02-08 04:04:22,744 (INFO) train.py:268] \n",
      "                Train epoch_180:\n",
      "                --------------------\n",
      "                train/epoch_loss:        0.3784642219543457\n",
      "train/qrs_score:         0.9371\n",
      "\n",
      "                test/qrs_score:          0.8802\n",
      "                ---------------------------------\n",
      "\n"
     ]
    },
    {
     "name": "stdout",
     "output_type": "stream",
     "text": [
      "ECG-SEQ-LAB - INFO - Created checkpoint directory\n"
     ]
    },
    {
     "name": "stderr",
     "output_type": "stream",
     "text": [
      "2021-02-08 04:04:22,752 (INFO) train.py:275] Created checkpoint directory\n"
     ]
    },
    {
     "name": "stdout",
     "output_type": "stream",
     "text": [
      "ECG-SEQ-LAB - INFO - Checkpoint 180 saved!\n"
     ]
    },
    {
     "name": "stderr",
     "output_type": "stream",
     "text": [
      "2021-02-08 04:04:22,987 (INFO) train.py:283] Checkpoint 180 saved!\n",
      "Epoch 180/300: 100%|███████████████████████| 1600/1600 [00:54<00:00, 29.31it/s, loss (batch)=0.0492]\n",
      "Epoch 181/300: 100%|████████████████████████████████████████████| 1600/1600 [00:43<00:00, 27.28it/s]"
     ]
    },
    {
     "name": "stdout",
     "output_type": "stream",
     "text": [
      "QRS_acc: 0.9351\n",
      "Scoring complete.\n",
      "QRS_acc: 0.8768\n",
      "Scoring complete.\n",
      "ECG-SEQ-LAB - INFO - \n",
      "                Train epoch_181:\n",
      "                --------------------\n",
      "                train/epoch_loss:        0.3913484439253807\n",
      "train/qrs_score:         0.9351\n",
      "\n",
      "                test/qrs_score:          0.8768\n",
      "                ---------------------------------\n",
      "\n"
     ]
    },
    {
     "name": "stderr",
     "output_type": "stream",
     "text": [
      "2021-02-08 04:05:21,095 (INFO) train.py:268] \n",
      "                Train epoch_181:\n",
      "                --------------------\n",
      "                train/epoch_loss:        0.3913484439253807\n",
      "train/qrs_score:         0.9351\n",
      "\n",
      "                test/qrs_score:          0.8768\n",
      "                ---------------------------------\n",
      "\n"
     ]
    },
    {
     "name": "stdout",
     "output_type": "stream",
     "text": [
      "ECG-SEQ-LAB - INFO - Created checkpoint directory\n"
     ]
    },
    {
     "name": "stderr",
     "output_type": "stream",
     "text": [
      "2021-02-08 04:05:21,103 (INFO) train.py:275] Created checkpoint directory\n"
     ]
    },
    {
     "name": "stdout",
     "output_type": "stream",
     "text": [
      "ECG-SEQ-LAB - INFO - Checkpoint 181 saved!\n"
     ]
    },
    {
     "name": "stderr",
     "output_type": "stream",
     "text": [
      "2021-02-08 04:05:22,011 (INFO) train.py:283] Checkpoint 181 saved!\n",
      "Epoch 181/300: 100%|████████████████████████████████████████████| 1600/1600 [00:59<00:00, 27.11it/s]\n",
      "Epoch 182/300: 100%|████████████████████████████████████████████| 1600/1600 [00:36<00:00, 28.52it/s]"
     ]
    },
    {
     "name": "stdout",
     "output_type": "stream",
     "text": [
      "QRS_acc: 0.9427\n",
      "Scoring complete.\n"
     ]
    },
    {
     "name": "stderr",
     "output_type": "stream",
     "text": [
      "\r",
      "Epoch 182/300: 100%|████████████████████████████████████████████| 1600/1600 [00:50<00:00, 28.52it/s]"
     ]
    },
    {
     "name": "stdout",
     "output_type": "stream",
     "text": [
      "QRS_acc: 0.8805\n",
      "Scoring complete.\n",
      "ECG-SEQ-LAB - INFO - \n",
      "                Train epoch_182:\n",
      "                --------------------\n",
      "                train/epoch_loss:        0.38634544238448143\n",
      "train/qrs_score:         0.9427\n",
      "\n",
      "                test/qrs_score:          0.8805\n",
      "                ---------------------------------\n",
      "\n"
     ]
    },
    {
     "name": "stderr",
     "output_type": "stream",
     "text": [
      "2021-02-08 04:07:12,136 (INFO) train.py:268] \n",
      "                Train epoch_182:\n",
      "                --------------------\n",
      "                train/epoch_loss:        0.38634544238448143\n",
      "train/qrs_score:         0.9427\n",
      "\n",
      "                test/qrs_score:          0.8805\n",
      "                ---------------------------------\n",
      "\n"
     ]
    },
    {
     "name": "stdout",
     "output_type": "stream",
     "text": [
      "ECG-SEQ-LAB - INFO - Created checkpoint directory\n"
     ]
    },
    {
     "name": "stderr",
     "output_type": "stream",
     "text": [
      "2021-02-08 04:07:12,228 (INFO) train.py:275] Created checkpoint directory\n"
     ]
    },
    {
     "name": "stdout",
     "output_type": "stream",
     "text": [
      "ECG-SEQ-LAB - INFO - Checkpoint 182 saved!\n"
     ]
    },
    {
     "name": "stderr",
     "output_type": "stream",
     "text": [
      "2021-02-08 04:07:12,983 (INFO) train.py:283] Checkpoint 182 saved!\n",
      "Epoch 182/300: 100%|████████████████████████████████████████████| 1600/1600 [01:51<00:00, 14.41it/s]\n",
      "Epoch 183/300:  80%|██████████████████▍    | 1280/1600 [00:57<00:13, 24.27it/s, loss (batch)=0.0534]"
     ]
    },
    {
     "name": "stdout",
     "output_type": "stream",
     "text": [
      "ECG-SEQ-LAB - INFO - Train step_1280: loss : 0.053406521677970886\n"
     ]
    },
    {
     "name": "stderr",
     "output_type": "stream",
     "text": [
      "2021-02-08 04:08:10,097 (INFO) train.py:225] Train step_1280: loss : 0.053406521677970886\n",
      "Epoch 183/300: 100%|███████████████████████| 1600/1600 [00:57<00:00, 33.52it/s, loss (batch)=0.0534]"
     ]
    },
    {
     "name": "stdout",
     "output_type": "stream",
     "text": [
      "QRS_acc: 0.9414\n",
      "Scoring complete.\n"
     ]
    },
    {
     "name": "stderr",
     "output_type": "stream",
     "text": [
      "\r",
      "Epoch 183/300: 100%|███████████████████████| 1600/1600 [01:10<00:00, 33.52it/s, loss (batch)=0.0534]"
     ]
    },
    {
     "name": "stdout",
     "output_type": "stream",
     "text": [
      "QRS_acc: 0.8885\n",
      "Scoring complete.\n",
      "ECG-SEQ-LAB - INFO - \n",
      "                Train epoch_183:\n",
      "                --------------------\n",
      "                train/epoch_loss:        0.3792829066514969\n",
      "train/qrs_score:         0.9414\n",
      "\n",
      "                test/qrs_score:          0.8885\n",
      "                ---------------------------------\n",
      "\n"
     ]
    },
    {
     "name": "stderr",
     "output_type": "stream",
     "text": [
      "2021-02-08 04:08:26,495 (INFO) train.py:268] \n",
      "                Train epoch_183:\n",
      "                --------------------\n",
      "                train/epoch_loss:        0.3792829066514969\n",
      "train/qrs_score:         0.9414\n",
      "\n",
      "                test/qrs_score:          0.8885\n",
      "                ---------------------------------\n",
      "\n"
     ]
    },
    {
     "name": "stdout",
     "output_type": "stream",
     "text": [
      "ECG-SEQ-LAB - INFO - Created checkpoint directory\n"
     ]
    },
    {
     "name": "stderr",
     "output_type": "stream",
     "text": [
      "2021-02-08 04:08:26,515 (INFO) train.py:275] Created checkpoint directory\n"
     ]
    },
    {
     "name": "stdout",
     "output_type": "stream",
     "text": [
      "ECG-SEQ-LAB - INFO - Checkpoint 183 saved!\n"
     ]
    },
    {
     "name": "stderr",
     "output_type": "stream",
     "text": [
      "2021-02-08 04:08:26,724 (INFO) train.py:283] Checkpoint 183 saved!\n",
      "Epoch 183/300: 100%|███████████████████████| 1600/1600 [01:13<00:00, 21.72it/s, loss (batch)=0.0534]\n",
      "Epoch 184/300: 100%|████████████████████████████████████████████| 1600/1600 [00:37<00:00, 28.48it/s]"
     ]
    },
    {
     "name": "stdout",
     "output_type": "stream",
     "text": [
      "QRS_acc: 0.9344\n",
      "Scoring complete.\n"
     ]
    },
    {
     "name": "stderr",
     "output_type": "stream",
     "text": [
      "\r",
      "Epoch 184/300: 100%|████████████████████████████████████████████| 1600/1600 [00:50<00:00, 28.48it/s]"
     ]
    },
    {
     "name": "stdout",
     "output_type": "stream",
     "text": [
      "QRS_acc: 0.8822\n",
      "Scoring complete.\n",
      "ECG-SEQ-LAB - INFO - \n",
      "                Train epoch_184:\n",
      "                --------------------\n",
      "                train/epoch_loss:        0.389974407851696\n",
      "train/qrs_score:         0.9344\n",
      "\n",
      "                test/qrs_score:          0.8822\n",
      "                ---------------------------------\n",
      "\n"
     ]
    },
    {
     "name": "stderr",
     "output_type": "stream",
     "text": [
      "2021-02-08 04:09:24,600 (INFO) train.py:268] \n",
      "                Train epoch_184:\n",
      "                --------------------\n",
      "                train/epoch_loss:        0.389974407851696\n",
      "train/qrs_score:         0.9344\n",
      "\n",
      "                test/qrs_score:          0.8822\n",
      "                ---------------------------------\n",
      "\n"
     ]
    },
    {
     "name": "stdout",
     "output_type": "stream",
     "text": [
      "ECG-SEQ-LAB - INFO - Created checkpoint directory\n"
     ]
    },
    {
     "name": "stderr",
     "output_type": "stream",
     "text": [
      "2021-02-08 04:09:24,624 (INFO) train.py:275] Created checkpoint directory\n"
     ]
    },
    {
     "name": "stdout",
     "output_type": "stream",
     "text": [
      "ECG-SEQ-LAB - INFO - Checkpoint 184 saved!\n"
     ]
    },
    {
     "name": "stderr",
     "output_type": "stream",
     "text": [
      "2021-02-08 04:09:25,842 (INFO) train.py:283] Checkpoint 184 saved!\n",
      "Epoch 184/300: 100%|████████████████████████████████████████████| 1600/1600 [00:59<00:00, 27.04it/s]\n",
      "Epoch 185/300: 100%|████████████████████████████████████████████| 1600/1600 [00:48<00:00, 24.77it/s]"
     ]
    },
    {
     "name": "stdout",
     "output_type": "stream",
     "text": [
      "QRS_acc: 0.943\n",
      "Scoring complete.\n"
     ]
    },
    {
     "name": "stderr",
     "output_type": "stream",
     "text": [
      "\r",
      "Epoch 185/300: 100%|████████████████████████████████████████████| 1600/1600 [01:00<00:00, 24.77it/s]"
     ]
    },
    {
     "name": "stdout",
     "output_type": "stream",
     "text": [
      "QRS_acc: 0.8805\n",
      "Scoring complete.\n",
      "ECG-SEQ-LAB - INFO - \n",
      "                Train epoch_185:\n",
      "                --------------------\n",
      "                train/epoch_loss:        0.38444996252655983\n",
      "train/qrs_score:         0.943\n",
      "\n",
      "                test/qrs_score:          0.8805\n",
      "                ---------------------------------\n",
      "\n"
     ]
    },
    {
     "name": "stderr",
     "output_type": "stream",
     "text": [
      "2021-02-08 04:10:29,394 (INFO) train.py:268] \n",
      "                Train epoch_185:\n",
      "                --------------------\n",
      "                train/epoch_loss:        0.38444996252655983\n",
      "train/qrs_score:         0.943\n",
      "\n",
      "                test/qrs_score:          0.8805\n",
      "                ---------------------------------\n",
      "\n"
     ]
    },
    {
     "name": "stdout",
     "output_type": "stream",
     "text": [
      "ECG-SEQ-LAB - INFO - Created checkpoint directory\n"
     ]
    },
    {
     "name": "stderr",
     "output_type": "stream",
     "text": [
      "2021-02-08 04:10:29,406 (INFO) train.py:275] Created checkpoint directory\n"
     ]
    },
    {
     "name": "stdout",
     "output_type": "stream",
     "text": [
      "ECG-SEQ-LAB - INFO - Checkpoint 185 saved!\n"
     ]
    },
    {
     "name": "stderr",
     "output_type": "stream",
     "text": [
      "2021-02-08 04:10:29,608 (INFO) train.py:283] Checkpoint 185 saved!\n",
      "Epoch 185/300: 100%|████████████████████████████████████████████| 1600/1600 [01:03<00:00, 25.12it/s]\n",
      "Epoch 186/300:  64%|██████████████▋        | 1024/1600 [00:34<00:14, 38.78it/s, loss (batch)=0.0527]"
     ]
    },
    {
     "name": "stdout",
     "output_type": "stream",
     "text": [
      "ECG-SEQ-LAB - INFO - Train step_1300: loss : 0.05265058949589729\n"
     ]
    },
    {
     "name": "stderr",
     "output_type": "stream",
     "text": [
      "2021-02-08 04:11:04,096 (INFO) train.py:225] Train step_1300: loss : 0.05265058949589729\n",
      "Epoch 186/300: 100%|███████████████████████| 1600/1600 [00:50<00:00, 28.89it/s, loss (batch)=0.0527]"
     ]
    },
    {
     "name": "stdout",
     "output_type": "stream",
     "text": [
      "QRS_acc: 0.9418\n",
      "Scoring complete.\n",
      "QRS_acc: 0.8768\n",
      "Scoring complete.\n",
      "ECG-SEQ-LAB - INFO - \n",
      "                Train epoch_186:\n",
      "                --------------------\n",
      "                train/epoch_loss:        0.37385449185967445\n",
      "train/qrs_score:         0.9418\n",
      "\n",
      "                test/qrs_score:          0.8768\n",
      "                ---------------------------------\n",
      "\n"
     ]
    },
    {
     "name": "stderr",
     "output_type": "stream",
     "text": [
      "2021-02-08 04:11:26,144 (INFO) train.py:268] \n",
      "                Train epoch_186:\n",
      "                --------------------\n",
      "                train/epoch_loss:        0.37385449185967445\n",
      "train/qrs_score:         0.9418\n",
      "\n",
      "                test/qrs_score:          0.8768\n",
      "                ---------------------------------\n",
      "\n"
     ]
    },
    {
     "name": "stdout",
     "output_type": "stream",
     "text": [
      "ECG-SEQ-LAB - INFO - Created checkpoint directory\n"
     ]
    },
    {
     "name": "stderr",
     "output_type": "stream",
     "text": [
      "2021-02-08 04:11:26,148 (INFO) train.py:275] Created checkpoint directory\n"
     ]
    },
    {
     "name": "stdout",
     "output_type": "stream",
     "text": [
      "ECG-SEQ-LAB - INFO - Checkpoint 186 saved!\n"
     ]
    },
    {
     "name": "stderr",
     "output_type": "stream",
     "text": [
      "2021-02-08 04:11:26,401 (INFO) train.py:283] Checkpoint 186 saved!\n",
      "Epoch 186/300: 100%|███████████████████████| 1600/1600 [00:56<00:00, 28.17it/s, loss (batch)=0.0527]\n",
      "Epoch 187/300: 100%|████████████████████████████████████████████| 1600/1600 [00:37<00:00, 28.77it/s]"
     ]
    },
    {
     "name": "stdout",
     "output_type": "stream",
     "text": [
      "QRS_acc: 0.9395\n",
      "Scoring complete.\n"
     ]
    },
    {
     "name": "stderr",
     "output_type": "stream",
     "text": [
      "\r",
      "Epoch 187/300: 100%|████████████████████████████████████████████| 1600/1600 [00:50<00:00, 28.77it/s]"
     ]
    },
    {
     "name": "stdout",
     "output_type": "stream",
     "text": [
      "QRS_acc: 0.881\n",
      "Scoring complete.\n",
      "ECG-SEQ-LAB - INFO - \n",
      "                Train epoch_187:\n",
      "                --------------------\n",
      "                train/epoch_loss:        0.3745463229715824\n",
      "train/qrs_score:         0.9395\n",
      "\n",
      "                test/qrs_score:          0.881\n",
      "                ---------------------------------\n",
      "\n"
     ]
    },
    {
     "name": "stderr",
     "output_type": "stream",
     "text": [
      "2021-02-08 04:12:18,654 (INFO) train.py:268] \n",
      "                Train epoch_187:\n",
      "                --------------------\n",
      "                train/epoch_loss:        0.3745463229715824\n",
      "train/qrs_score:         0.9395\n",
      "\n",
      "                test/qrs_score:          0.881\n",
      "                ---------------------------------\n",
      "\n"
     ]
    },
    {
     "name": "stdout",
     "output_type": "stream",
     "text": [
      "ECG-SEQ-LAB - INFO - Created checkpoint directory\n"
     ]
    },
    {
     "name": "stderr",
     "output_type": "stream",
     "text": [
      "2021-02-08 04:12:18,662 (INFO) train.py:275] Created checkpoint directory\n"
     ]
    },
    {
     "name": "stdout",
     "output_type": "stream",
     "text": [
      "ECG-SEQ-LAB - INFO - Checkpoint 187 saved!\n"
     ]
    },
    {
     "name": "stderr",
     "output_type": "stream",
     "text": [
      "2021-02-08 04:12:18,883 (INFO) train.py:283] Checkpoint 187 saved!\n",
      "Epoch 187/300: 100%|████████████████████████████████████████████| 1600/1600 [00:52<00:00, 30.49it/s]\n",
      "Epoch 188/300: 100%|████████████████████████████████████████████| 1600/1600 [00:37<00:00, 28.80it/s]"
     ]
    },
    {
     "name": "stdout",
     "output_type": "stream",
     "text": [
      "QRS_acc: 0.9375\n",
      "Scoring complete.\n"
     ]
    },
    {
     "name": "stderr",
     "output_type": "stream",
     "text": [
      "\r",
      "Epoch 188/300: 100%|████████████████████████████████████████████| 1600/1600 [00:50<00:00, 28.80it/s]"
     ]
    },
    {
     "name": "stdout",
     "output_type": "stream",
     "text": [
      "QRS_acc: 0.8738\n",
      "Scoring complete.\n",
      "ECG-SEQ-LAB - INFO - \n",
      "                Train epoch_188:\n",
      "                --------------------\n",
      "                train/epoch_loss:        0.3763796389102936\n",
      "train/qrs_score:         0.9375\n",
      "\n",
      "                test/qrs_score:          0.8738\n",
      "                ---------------------------------\n",
      "\n"
     ]
    },
    {
     "name": "stderr",
     "output_type": "stream",
     "text": [
      "2021-02-08 04:13:10,206 (INFO) train.py:268] \n",
      "                Train epoch_188:\n",
      "                --------------------\n",
      "                train/epoch_loss:        0.3763796389102936\n",
      "train/qrs_score:         0.9375\n",
      "\n",
      "                test/qrs_score:          0.8738\n",
      "                ---------------------------------\n",
      "\n"
     ]
    },
    {
     "name": "stdout",
     "output_type": "stream",
     "text": [
      "ECG-SEQ-LAB - INFO - Created checkpoint directory\n"
     ]
    },
    {
     "name": "stderr",
     "output_type": "stream",
     "text": [
      "2021-02-08 04:13:10,228 (INFO) train.py:275] Created checkpoint directory\n"
     ]
    },
    {
     "name": "stdout",
     "output_type": "stream",
     "text": [
      "ECG-SEQ-LAB - INFO - Checkpoint 188 saved!\n"
     ]
    },
    {
     "name": "stderr",
     "output_type": "stream",
     "text": [
      "2021-02-08 04:13:10,429 (INFO) train.py:283] Checkpoint 188 saved!\n",
      "Epoch 188/300: 100%|████████████████████████████████████████████| 1600/1600 [00:51<00:00, 31.04it/s]\n",
      "Epoch 189/300:  48%|███████████▌            | 768/1600 [00:26<00:19, 41.86it/s, loss (batch)=0.0568]"
     ]
    },
    {
     "name": "stdout",
     "output_type": "stream",
     "text": [
      "ECG-SEQ-LAB - INFO - Train step_1320: loss : 0.05681625381112099\n"
     ]
    },
    {
     "name": "stderr",
     "output_type": "stream",
     "text": [
      "2021-02-08 04:13:36,596 (INFO) train.py:225] Train step_1320: loss : 0.05681625381112099\n",
      "Epoch 189/300: 100%|███████████████████████| 1600/1600 [00:36<00:00, 29.64it/s, loss (batch)=0.0568]"
     ]
    },
    {
     "name": "stdout",
     "output_type": "stream",
     "text": [
      "QRS_acc: 0.9474\n",
      "Scoring complete.\n"
     ]
    },
    {
     "name": "stderr",
     "output_type": "stream",
     "text": [
      "\r",
      "Epoch 189/300: 100%|███████████████████████| 1600/1600 [00:50<00:00, 29.64it/s, loss (batch)=0.0568]"
     ]
    },
    {
     "name": "stdout",
     "output_type": "stream",
     "text": [
      "QRS_acc: 0.8908\n",
      "Scoring complete.\n",
      "ECG-SEQ-LAB - INFO - \n",
      "                Train epoch_189:\n",
      "                --------------------\n",
      "                train/epoch_loss:        0.3670105077326298\n",
      "train/qrs_score:         0.9474\n",
      "\n",
      "                test/qrs_score:          0.8908\n",
      "                ---------------------------------\n",
      "\n"
     ]
    },
    {
     "name": "stderr",
     "output_type": "stream",
     "text": [
      "2021-02-08 04:14:04,240 (INFO) train.py:268] \n",
      "                Train epoch_189:\n",
      "                --------------------\n",
      "                train/epoch_loss:        0.3670105077326298\n",
      "train/qrs_score:         0.9474\n",
      "\n",
      "                test/qrs_score:          0.8908\n",
      "                ---------------------------------\n",
      "\n"
     ]
    },
    {
     "name": "stdout",
     "output_type": "stream",
     "text": [
      "ECG-SEQ-LAB - INFO - Created checkpoint directory\n"
     ]
    },
    {
     "name": "stderr",
     "output_type": "stream",
     "text": [
      "2021-02-08 04:14:04,300 (INFO) train.py:275] Created checkpoint directory\n"
     ]
    },
    {
     "name": "stdout",
     "output_type": "stream",
     "text": [
      "ECG-SEQ-LAB - INFO - Checkpoint 189 saved!\n"
     ]
    },
    {
     "name": "stderr",
     "output_type": "stream",
     "text": [
      "2021-02-08 04:14:05,015 (INFO) train.py:283] Checkpoint 189 saved!\n",
      "Epoch 189/300: 100%|███████████████████████| 1600/1600 [00:54<00:00, 29.31it/s, loss (batch)=0.0568]\n",
      "Epoch 190/300: 100%|████████████████████████████████████████████| 1600/1600 [00:43<00:00, 26.93it/s]"
     ]
    },
    {
     "name": "stdout",
     "output_type": "stream",
     "text": [
      "QRS_acc: 0.9398\n",
      "Scoring complete.\n"
     ]
    },
    {
     "name": "stderr",
     "output_type": "stream",
     "text": [
      "\r",
      "Epoch 190/300: 100%|████████████████████████████████████████████| 1600/1600 [01:00<00:00, 26.93it/s]"
     ]
    },
    {
     "name": "stdout",
     "output_type": "stream",
     "text": [
      "QRS_acc: 0.8835\n",
      "Scoring complete.\n",
      "ECG-SEQ-LAB - INFO - \n",
      "                Train epoch_190:\n",
      "                --------------------\n",
      "                train/epoch_loss:        0.3736899234354496\n",
      "train/qrs_score:         0.9398\n",
      "\n",
      "                test/qrs_score:          0.8835\n",
      "                ---------------------------------\n",
      "\n"
     ]
    },
    {
     "name": "stderr",
     "output_type": "stream",
     "text": [
      "2021-02-08 04:15:07,699 (INFO) train.py:268] \n",
      "                Train epoch_190:\n",
      "                --------------------\n",
      "                train/epoch_loss:        0.3736899234354496\n",
      "train/qrs_score:         0.9398\n",
      "\n",
      "                test/qrs_score:          0.8835\n",
      "                ---------------------------------\n",
      "\n"
     ]
    },
    {
     "name": "stdout",
     "output_type": "stream",
     "text": [
      "ECG-SEQ-LAB - INFO - Created checkpoint directory\n"
     ]
    },
    {
     "name": "stderr",
     "output_type": "stream",
     "text": [
      "2021-02-08 04:15:07,712 (INFO) train.py:275] Created checkpoint directory\n"
     ]
    },
    {
     "name": "stdout",
     "output_type": "stream",
     "text": [
      "ECG-SEQ-LAB - INFO - Checkpoint 190 saved!\n"
     ]
    },
    {
     "name": "stderr",
     "output_type": "stream",
     "text": [
      "2021-02-08 04:15:07,957 (INFO) train.py:283] Checkpoint 190 saved!\n",
      "Epoch 190/300: 100%|████████████████████████████████████████████| 1600/1600 [01:02<00:00, 25.42it/s]\n",
      "Epoch 191/300: 100%|████████████████████████████████████████████| 1600/1600 [00:40<00:00, 28.18it/s]"
     ]
    },
    {
     "name": "stdout",
     "output_type": "stream",
     "text": [
      "QRS_acc: 0.9422\n",
      "Scoring complete.\n",
      "QRS_acc: 0.8832\n",
      "Scoring complete.\n",
      "ECG-SEQ-LAB - INFO - \n",
      "                Train epoch_191:\n",
      "                --------------------\n",
      "                train/epoch_loss:        0.37136682868003845\n",
      "train/qrs_score:         0.9422\n",
      "\n",
      "                test/qrs_score:          0.8832\n",
      "                ---------------------------------\n",
      "\n"
     ]
    },
    {
     "name": "stderr",
     "output_type": "stream",
     "text": [
      "2021-02-08 04:16:02,906 (INFO) train.py:268] \n",
      "                Train epoch_191:\n",
      "                --------------------\n",
      "                train/epoch_loss:        0.37136682868003845\n",
      "train/qrs_score:         0.9422\n",
      "\n",
      "                test/qrs_score:          0.8832\n",
      "                ---------------------------------\n",
      "\n"
     ]
    },
    {
     "name": "stdout",
     "output_type": "stream",
     "text": [
      "ECG-SEQ-LAB - INFO - Created checkpoint directory\n"
     ]
    },
    {
     "name": "stderr",
     "output_type": "stream",
     "text": [
      "2021-02-08 04:16:02,913 (INFO) train.py:275] Created checkpoint directory\n"
     ]
    },
    {
     "name": "stdout",
     "output_type": "stream",
     "text": [
      "ECG-SEQ-LAB - INFO - Checkpoint 191 saved!\n"
     ]
    },
    {
     "name": "stderr",
     "output_type": "stream",
     "text": [
      "2021-02-08 04:16:03,013 (INFO) train.py:283] Checkpoint 191 saved!\n",
      "Epoch 191/300: 100%|████████████████████████████████████████████| 1600/1600 [00:55<00:00, 29.06it/s]\n",
      "Epoch 192/300:  32%|███████▋                | 512/1600 [00:21<00:29, 36.84it/s, loss (batch)=0.0474]"
     ]
    },
    {
     "name": "stdout",
     "output_type": "stream",
     "text": [
      "ECG-SEQ-LAB - INFO - Train step_1340: loss : 0.04744388163089752\n"
     ]
    },
    {
     "name": "stderr",
     "output_type": "stream",
     "text": [
      "2021-02-08 04:16:24,696 (INFO) train.py:225] Train step_1340: loss : 0.04744388163089752\n",
      "Epoch 192/300: 100%|███████████████████████| 1600/1600 [00:37<00:00, 29.13it/s, loss (batch)=0.0474]"
     ]
    },
    {
     "name": "stdout",
     "output_type": "stream",
     "text": [
      "QRS_acc: 0.9459\n",
      "Scoring complete.\n"
     ]
    },
    {
     "name": "stderr",
     "output_type": "stream",
     "text": [
      "\r",
      "Epoch 192/300: 100%|███████████████████████| 1600/1600 [00:50<00:00, 29.13it/s, loss (batch)=0.0474]"
     ]
    },
    {
     "name": "stdout",
     "output_type": "stream",
     "text": [
      "QRS_acc: 0.8898\n",
      "Scoring complete.\n",
      "ECG-SEQ-LAB - INFO - \n",
      "                Train epoch_192:\n",
      "                --------------------\n",
      "                train/epoch_loss:        0.3679695501923561\n",
      "train/qrs_score:         0.9459\n",
      "\n",
      "                test/qrs_score:          0.8898\n",
      "                ---------------------------------\n",
      "\n"
     ]
    },
    {
     "name": "stderr",
     "output_type": "stream",
     "text": [
      "2021-02-08 04:16:55,831 (INFO) train.py:268] \n",
      "                Train epoch_192:\n",
      "                --------------------\n",
      "                train/epoch_loss:        0.3679695501923561\n",
      "train/qrs_score:         0.9459\n",
      "\n",
      "                test/qrs_score:          0.8898\n",
      "                ---------------------------------\n",
      "\n"
     ]
    },
    {
     "name": "stdout",
     "output_type": "stream",
     "text": [
      "ECG-SEQ-LAB - INFO - Created checkpoint directory\n"
     ]
    },
    {
     "name": "stderr",
     "output_type": "stream",
     "text": [
      "2021-02-08 04:16:55,840 (INFO) train.py:275] Created checkpoint directory\n"
     ]
    },
    {
     "name": "stdout",
     "output_type": "stream",
     "text": [
      "ECG-SEQ-LAB - INFO - Checkpoint 192 saved!\n"
     ]
    },
    {
     "name": "stderr",
     "output_type": "stream",
     "text": [
      "2021-02-08 04:16:56,081 (INFO) train.py:283] Checkpoint 192 saved!\n",
      "Epoch 192/300: 100%|███████████████████████| 1600/1600 [00:53<00:00, 30.15it/s, loss (batch)=0.0474]\n",
      "Epoch 193/300: 100%|████████████████████████████████████████████| 1600/1600 [00:37<00:00, 26.05it/s]"
     ]
    },
    {
     "name": "stdout",
     "output_type": "stream",
     "text": [
      "QRS_acc: 0.9393\n",
      "Scoring complete.\n"
     ]
    },
    {
     "name": "stderr",
     "output_type": "stream",
     "text": [
      "\r",
      "Epoch 193/300: 100%|████████████████████████████████████████████| 1600/1600 [00:50<00:00, 26.05it/s]"
     ]
    },
    {
     "name": "stdout",
     "output_type": "stream",
     "text": [
      "QRS_acc: 0.8778\n",
      "Scoring complete.\n",
      "ECG-SEQ-LAB - INFO - \n",
      "                Train epoch_193:\n",
      "                --------------------\n",
      "                train/epoch_loss:        0.3686886578798294\n",
      "train/qrs_score:         0.9393\n",
      "\n",
      "                test/qrs_score:          0.8778\n",
      "                ---------------------------------\n",
      "\n"
     ]
    },
    {
     "name": "stderr",
     "output_type": "stream",
     "text": [
      "2021-02-08 04:17:49,750 (INFO) train.py:268] \n",
      "                Train epoch_193:\n",
      "                --------------------\n",
      "                train/epoch_loss:        0.3686886578798294\n",
      "train/qrs_score:         0.9393\n",
      "\n",
      "                test/qrs_score:          0.8778\n",
      "                ---------------------------------\n",
      "\n"
     ]
    },
    {
     "name": "stdout",
     "output_type": "stream",
     "text": [
      "ECG-SEQ-LAB - INFO - Created checkpoint directory\n"
     ]
    },
    {
     "name": "stderr",
     "output_type": "stream",
     "text": [
      "2021-02-08 04:17:49,901 (INFO) train.py:275] Created checkpoint directory\n"
     ]
    },
    {
     "name": "stdout",
     "output_type": "stream",
     "text": [
      "ECG-SEQ-LAB - INFO - Checkpoint 193 saved!\n"
     ]
    },
    {
     "name": "stderr",
     "output_type": "stream",
     "text": [
      "2021-02-08 04:17:50,435 (INFO) train.py:283] Checkpoint 193 saved!\n",
      "Epoch 193/300: 100%|████████████████████████████████████████████| 1600/1600 [00:54<00:00, 29.33it/s]\n",
      "Epoch 194/300: 100%|████████████████████████████████████████████| 1600/1600 [00:37<00:00, 28.73it/s]"
     ]
    },
    {
     "name": "stdout",
     "output_type": "stream",
     "text": [
      "QRS_acc: 0.9497\n",
      "Scoring complete.\n"
     ]
    },
    {
     "name": "stderr",
     "output_type": "stream",
     "text": [
      "\r",
      "Epoch 194/300: 100%|████████████████████████████████████████████| 1600/1600 [00:50<00:00, 28.73it/s]"
     ]
    },
    {
     "name": "stdout",
     "output_type": "stream",
     "text": [
      "QRS_acc: 0.8848\n",
      "Scoring complete.\n",
      "ECG-SEQ-LAB - INFO - \n",
      "                Train epoch_194:\n",
      "                --------------------\n",
      "                train/epoch_loss:        0.36490170657634735\n",
      "train/qrs_score:         0.9497\n",
      "\n",
      "                test/qrs_score:          0.8848\n",
      "                ---------------------------------\n",
      "\n"
     ]
    },
    {
     "name": "stderr",
     "output_type": "stream",
     "text": [
      "2021-02-08 04:18:42,857 (INFO) train.py:268] \n",
      "                Train epoch_194:\n",
      "                --------------------\n",
      "                train/epoch_loss:        0.36490170657634735\n",
      "train/qrs_score:         0.9497\n",
      "\n",
      "                test/qrs_score:          0.8848\n",
      "                ---------------------------------\n",
      "\n"
     ]
    },
    {
     "name": "stdout",
     "output_type": "stream",
     "text": [
      "ECG-SEQ-LAB - INFO - Created checkpoint directory\n"
     ]
    },
    {
     "name": "stderr",
     "output_type": "stream",
     "text": [
      "2021-02-08 04:18:42,903 (INFO) train.py:275] Created checkpoint directory\n"
     ]
    },
    {
     "name": "stdout",
     "output_type": "stream",
     "text": [
      "ECG-SEQ-LAB - INFO - Checkpoint 194 saved!\n"
     ]
    },
    {
     "name": "stderr",
     "output_type": "stream",
     "text": [
      "2021-02-08 04:18:43,193 (INFO) train.py:283] Checkpoint 194 saved!\n",
      "Epoch 194/300: 100%|████████████████████████████████████████████| 1600/1600 [00:52<00:00, 30.41it/s]\n",
      "Epoch 195/300:  16%|███▊                    | 256/1600 [00:21<01:05, 20.41it/s, loss (batch)=0.0512]"
     ]
    },
    {
     "name": "stdout",
     "output_type": "stream",
     "text": [
      "ECG-SEQ-LAB - INFO - Train step_1360: loss : 0.05117106810212135\n"
     ]
    },
    {
     "name": "stderr",
     "output_type": "stream",
     "text": [
      "2021-02-08 04:19:04,645 (INFO) train.py:225] Train step_1360: loss : 0.05117106810212135\n",
      "Epoch 195/300: 100%|███████████████████████| 1600/1600 [00:42<00:00, 26.89it/s, loss (batch)=0.0512]"
     ]
    },
    {
     "name": "stdout",
     "output_type": "stream",
     "text": [
      "QRS_acc: 0.9471\n",
      "Scoring complete.\n",
      "QRS_acc: 0.8802\n",
      "Scoring complete.\n",
      "ECG-SEQ-LAB - INFO - \n",
      "                Train epoch_195:\n",
      "                --------------------\n",
      "                train/epoch_loss:        0.36912595480680466\n",
      "train/qrs_score:         0.9471\n",
      "\n",
      "                test/qrs_score:          0.8802\n",
      "                ---------------------------------\n",
      "\n"
     ]
    },
    {
     "name": "stderr",
     "output_type": "stream",
     "text": [
      "2021-02-08 04:19:40,160 (INFO) train.py:268] \n",
      "                Train epoch_195:\n",
      "                --------------------\n",
      "                train/epoch_loss:        0.36912595480680466\n",
      "train/qrs_score:         0.9471\n",
      "\n",
      "                test/qrs_score:          0.8802\n",
      "                ---------------------------------\n",
      "\n"
     ]
    },
    {
     "name": "stdout",
     "output_type": "stream",
     "text": [
      "ECG-SEQ-LAB - INFO - Created checkpoint directory\n"
     ]
    },
    {
     "name": "stderr",
     "output_type": "stream",
     "text": [
      "2021-02-08 04:19:40,195 (INFO) train.py:275] Created checkpoint directory\n"
     ]
    },
    {
     "name": "stdout",
     "output_type": "stream",
     "text": [
      "ECG-SEQ-LAB - INFO - Checkpoint 195 saved!\n"
     ]
    },
    {
     "name": "stderr",
     "output_type": "stream",
     "text": [
      "2021-02-08 04:19:40,395 (INFO) train.py:283] Checkpoint 195 saved!\n",
      "Epoch 195/300: 100%|███████████████████████| 1600/1600 [00:57<00:00, 28.01it/s, loss (batch)=0.0512]\n",
      "Epoch 196/300: 100%|████████████████████████████████████████████| 1600/1600 [00:36<00:00, 28.91it/s]"
     ]
    },
    {
     "name": "stdout",
     "output_type": "stream",
     "text": [
      "QRS_acc: 0.9473\n",
      "Scoring complete.\n"
     ]
    },
    {
     "name": "stderr",
     "output_type": "stream",
     "text": [
      "\r",
      "Epoch 196/300: 100%|████████████████████████████████████████████| 1600/1600 [00:50<00:00, 28.91it/s]"
     ]
    },
    {
     "name": "stdout",
     "output_type": "stream",
     "text": [
      "QRS_acc: 0.8848\n",
      "Scoring complete.\n",
      "ECG-SEQ-LAB - INFO - \n",
      "                Train epoch_196:\n",
      "                --------------------\n",
      "                train/epoch_loss:        0.3606068789958954\n",
      "train/qrs_score:         0.9473\n",
      "\n",
      "                test/qrs_score:          0.8848\n",
      "                ---------------------------------\n",
      "\n"
     ]
    },
    {
     "name": "stderr",
     "output_type": "stream",
     "text": [
      "2021-02-08 04:20:32,306 (INFO) train.py:268] \n",
      "                Train epoch_196:\n",
      "                --------------------\n",
      "                train/epoch_loss:        0.3606068789958954\n",
      "train/qrs_score:         0.9473\n",
      "\n",
      "                test/qrs_score:          0.8848\n",
      "                ---------------------------------\n",
      "\n"
     ]
    },
    {
     "name": "stdout",
     "output_type": "stream",
     "text": [
      "ECG-SEQ-LAB - INFO - Created checkpoint directory\n"
     ]
    },
    {
     "name": "stderr",
     "output_type": "stream",
     "text": [
      "2021-02-08 04:20:32,315 (INFO) train.py:275] Created checkpoint directory\n"
     ]
    },
    {
     "name": "stdout",
     "output_type": "stream",
     "text": [
      "ECG-SEQ-LAB - INFO - Checkpoint 196 saved!\n"
     ]
    },
    {
     "name": "stderr",
     "output_type": "stream",
     "text": [
      "2021-02-08 04:20:32,502 (INFO) train.py:283] Checkpoint 196 saved!\n",
      "Epoch 196/300: 100%|████████████████████████████████████████████| 1600/1600 [00:52<00:00, 30.71it/s]\n",
      "Epoch 197/300: 100%|████████████████████████████████████████████| 1600/1600 [00:36<00:00, 28.94it/s]"
     ]
    },
    {
     "name": "stdout",
     "output_type": "stream",
     "text": [
      "QRS_acc: 0.9476\n",
      "Scoring complete.\n"
     ]
    },
    {
     "name": "stderr",
     "output_type": "stream",
     "text": [
      "\r",
      "Epoch 197/300: 100%|████████████████████████████████████████████| 1600/1600 [00:50<00:00, 28.94it/s]"
     ]
    },
    {
     "name": "stdout",
     "output_type": "stream",
     "text": [
      "QRS_acc: 0.887\n",
      "Scoring complete.\n",
      "ECG-SEQ-LAB - INFO - \n",
      "                Train epoch_197:\n",
      "                --------------------\n",
      "                train/epoch_loss:        0.3646579720079899\n",
      "train/qrs_score:         0.9476\n",
      "\n",
      "                test/qrs_score:          0.887\n",
      "                ---------------------------------\n",
      "\n"
     ]
    },
    {
     "name": "stderr",
     "output_type": "stream",
     "text": [
      "2021-02-08 04:21:30,309 (INFO) train.py:268] \n",
      "                Train epoch_197:\n",
      "                --------------------\n",
      "                train/epoch_loss:        0.3646579720079899\n",
      "train/qrs_score:         0.9476\n",
      "\n",
      "                test/qrs_score:          0.887\n",
      "                ---------------------------------\n",
      "\n"
     ]
    },
    {
     "name": "stdout",
     "output_type": "stream",
     "text": [
      "ECG-SEQ-LAB - INFO - Created checkpoint directory\n"
     ]
    },
    {
     "name": "stderr",
     "output_type": "stream",
     "text": [
      "2021-02-08 04:21:30,368 (INFO) train.py:275] Created checkpoint directory\n"
     ]
    },
    {
     "name": "stdout",
     "output_type": "stream",
     "text": [
      "ECG-SEQ-LAB - INFO - Checkpoint 197 saved!\n"
     ]
    },
    {
     "name": "stderr",
     "output_type": "stream",
     "text": [
      "2021-02-08 04:21:30,785 (INFO) train.py:283] Checkpoint 197 saved!\n",
      "Epoch 197/300: 100%|████████████████████████████████████████████| 1600/1600 [00:58<00:00, 27.43it/s]\n",
      "Epoch 198/300:   0%|                                  | 0/1600 [00:23<?, ?it/s, loss (batch)=0.0486]"
     ]
    },
    {
     "name": "stdout",
     "output_type": "stream",
     "text": [
      "ECG-SEQ-LAB - INFO - Train step_1380: loss : 0.048578400164842606\n"
     ]
    },
    {
     "name": "stderr",
     "output_type": "stream",
     "text": [
      "2021-02-08 04:21:54,597 (INFO) train.py:225] Train step_1380: loss : 0.048578400164842606\n",
      "Epoch 198/300: 100%|███████████████████████| 1600/1600 [01:00<00:00, 24.44it/s, loss (batch)=0.0486]"
     ]
    },
    {
     "name": "stdout",
     "output_type": "stream",
     "text": [
      "QRS_acc: 0.9451\n",
      "Scoring complete.\n",
      "QRS_acc: 0.8832\n",
      "Scoring complete.\n",
      "ECG-SEQ-LAB - INFO - \n",
      "                Train epoch_198:\n",
      "                --------------------\n",
      "                train/epoch_loss:        0.3648967780172825\n",
      "train/qrs_score:         0.9451\n",
      "\n",
      "                test/qrs_score:          0.8832\n",
      "                ---------------------------------\n",
      "\n"
     ]
    },
    {
     "name": "stderr",
     "output_type": "stream",
     "text": [
      "2021-02-08 04:22:42,051 (INFO) train.py:268] \n",
      "                Train epoch_198:\n",
      "                --------------------\n",
      "                train/epoch_loss:        0.3648967780172825\n",
      "train/qrs_score:         0.9451\n",
      "\n",
      "                test/qrs_score:          0.8832\n",
      "                ---------------------------------\n",
      "\n"
     ]
    },
    {
     "name": "stdout",
     "output_type": "stream",
     "text": [
      "ECG-SEQ-LAB - INFO - Created checkpoint directory\n"
     ]
    },
    {
     "name": "stderr",
     "output_type": "stream",
     "text": [
      "2021-02-08 04:22:42,064 (INFO) train.py:275] Created checkpoint directory\n"
     ]
    },
    {
     "name": "stdout",
     "output_type": "stream",
     "text": [
      "ECG-SEQ-LAB - INFO - Checkpoint 198 saved!\n"
     ]
    },
    {
     "name": "stderr",
     "output_type": "stream",
     "text": [
      "2021-02-08 04:22:42,287 (INFO) train.py:283] Checkpoint 198 saved!\n",
      "Epoch 198/300: 100%|███████████████████████| 1600/1600 [01:11<00:00, 22.39it/s, loss (batch)=0.0486]\n",
      "Epoch 199/300: 100%|████████████████████████████████████████████| 1600/1600 [00:37<00:00, 28.49it/s]"
     ]
    },
    {
     "name": "stdout",
     "output_type": "stream",
     "text": [
      "QRS_acc: 0.9443\n",
      "Scoring complete.\n"
     ]
    },
    {
     "name": "stderr",
     "output_type": "stream",
     "text": [
      "\r",
      "Epoch 199/300: 100%|████████████████████████████████████████████| 1600/1600 [00:50<00:00, 28.49it/s]"
     ]
    },
    {
     "name": "stdout",
     "output_type": "stream",
     "text": [
      "QRS_acc: 0.885\n",
      "Scoring complete.\n",
      "ECG-SEQ-LAB - INFO - \n",
      "                Train epoch_199:\n",
      "                --------------------\n",
      "                train/epoch_loss:        0.3674655221402645\n",
      "train/qrs_score:         0.9443\n",
      "\n",
      "                test/qrs_score:          0.885\n",
      "                ---------------------------------\n",
      "\n"
     ]
    },
    {
     "name": "stderr",
     "output_type": "stream",
     "text": [
      "2021-02-08 04:23:35,759 (INFO) train.py:268] \n",
      "                Train epoch_199:\n",
      "                --------------------\n",
      "                train/epoch_loss:        0.3674655221402645\n",
      "train/qrs_score:         0.9443\n",
      "\n",
      "                test/qrs_score:          0.885\n",
      "                ---------------------------------\n",
      "\n"
     ]
    },
    {
     "name": "stdout",
     "output_type": "stream",
     "text": [
      "ECG-SEQ-LAB - INFO - Created checkpoint directory\n"
     ]
    },
    {
     "name": "stderr",
     "output_type": "stream",
     "text": [
      "2021-02-08 04:23:35,795 (INFO) train.py:275] Created checkpoint directory\n"
     ]
    },
    {
     "name": "stdout",
     "output_type": "stream",
     "text": [
      "ECG-SEQ-LAB - INFO - Checkpoint 199 saved!\n"
     ]
    },
    {
     "name": "stderr",
     "output_type": "stream",
     "text": [
      "2021-02-08 04:23:36,074 (INFO) train.py:283] Checkpoint 199 saved!\n",
      "Epoch 199/300: 100%|████████████████████████████████████████████| 1600/1600 [00:53<00:00, 29.75it/s]\n",
      "Epoch 200/300:  96%|██████████████████████ | 1536/1600 [00:40<00:01, 44.47it/s, loss (batch)=0.0584]"
     ]
    },
    {
     "name": "stdout",
     "output_type": "stream",
     "text": [
      "ECG-SEQ-LAB - INFO - Train step_1400: loss : 0.058398790657520294\n"
     ]
    },
    {
     "name": "stderr",
     "output_type": "stream",
     "text": [
      "2021-02-08 04:24:16,596 (INFO) train.py:225] Train step_1400: loss : 0.058398790657520294\n",
      "Epoch 200/300: 100%|███████████████████████| 1600/1600 [00:40<00:00, 21.99it/s, loss (batch)=0.0584]"
     ]
    },
    {
     "name": "stdout",
     "output_type": "stream",
     "text": [
      "QRS_acc: 0.9474\n",
      "Scoring complete.\n",
      "QRS_acc: 0.8845\n",
      "Scoring complete.\n",
      "ECG-SEQ-LAB - INFO - \n",
      "                Train epoch_200:\n",
      "                --------------------\n",
      "                train/epoch_loss:        0.36883772909641266\n",
      "train/qrs_score:         0.9474\n",
      "\n",
      "                test/qrs_score:          0.8845\n",
      "                ---------------------------------\n",
      "\n"
     ]
    },
    {
     "name": "stderr",
     "output_type": "stream",
     "text": [
      "2021-02-08 04:24:34,628 (INFO) train.py:268] \n",
      "                Train epoch_200:\n",
      "                --------------------\n",
      "                train/epoch_loss:        0.36883772909641266\n",
      "train/qrs_score:         0.9474\n",
      "\n",
      "                test/qrs_score:          0.8845\n",
      "                ---------------------------------\n",
      "\n"
     ]
    },
    {
     "name": "stdout",
     "output_type": "stream",
     "text": [
      "ECG-SEQ-LAB - INFO - Created checkpoint directory\n"
     ]
    },
    {
     "name": "stderr",
     "output_type": "stream",
     "text": [
      "2021-02-08 04:24:34,638 (INFO) train.py:275] Created checkpoint directory\n"
     ]
    },
    {
     "name": "stdout",
     "output_type": "stream",
     "text": [
      "ECG-SEQ-LAB - INFO - Checkpoint 200 saved!\n"
     ]
    },
    {
     "name": "stderr",
     "output_type": "stream",
     "text": [
      "2021-02-08 04:24:34,709 (INFO) train.py:283] Checkpoint 200 saved!\n",
      "Epoch 200/300: 100%|███████████████████████| 1600/1600 [00:58<00:00, 27.29it/s, loss (batch)=0.0584]\n",
      "Epoch 201/300: 100%|████████████████████████████████████████████| 1600/1600 [00:36<00:00, 28.92it/s]"
     ]
    },
    {
     "name": "stdout",
     "output_type": "stream",
     "text": [
      "QRS_acc: 0.9479\n",
      "Scoring complete.\n"
     ]
    },
    {
     "name": "stderr",
     "output_type": "stream",
     "text": [
      "\r",
      "Epoch 201/300: 100%|████████████████████████████████████████████| 1600/1600 [00:50<00:00, 28.92it/s]"
     ]
    },
    {
     "name": "stdout",
     "output_type": "stream",
     "text": [
      "QRS_acc: 0.8792\n",
      "Scoring complete.\n",
      "ECG-SEQ-LAB - INFO - \n",
      "                Train epoch_201:\n",
      "                --------------------\n",
      "                train/epoch_loss:        0.36408794671297073\n",
      "train/qrs_score:         0.9479\n",
      "\n",
      "                test/qrs_score:          0.8792\n",
      "                ---------------------------------\n",
      "\n"
     ]
    },
    {
     "name": "stderr",
     "output_type": "stream",
     "text": [
      "2021-02-08 04:25:26,012 (INFO) train.py:268] \n",
      "                Train epoch_201:\n",
      "                --------------------\n",
      "                train/epoch_loss:        0.36408794671297073\n",
      "train/qrs_score:         0.9479\n",
      "\n",
      "                test/qrs_score:          0.8792\n",
      "                ---------------------------------\n",
      "\n"
     ]
    },
    {
     "name": "stdout",
     "output_type": "stream",
     "text": [
      "ECG-SEQ-LAB - INFO - Created checkpoint directory\n"
     ]
    },
    {
     "name": "stderr",
     "output_type": "stream",
     "text": [
      "2021-02-08 04:25:26,016 (INFO) train.py:275] Created checkpoint directory\n"
     ]
    },
    {
     "name": "stdout",
     "output_type": "stream",
     "text": [
      "ECG-SEQ-LAB - INFO - Checkpoint 201 saved!\n"
     ]
    },
    {
     "name": "stderr",
     "output_type": "stream",
     "text": [
      "2021-02-08 04:25:26,095 (INFO) train.py:283] Checkpoint 201 saved!\n",
      "Epoch 201/300: 100%|████████████████████████████████████████████| 1600/1600 [00:51<00:00, 31.14it/s]\n",
      "Epoch 202/300: 100%|████████████████████████████████████████████| 1600/1600 [00:37<00:00, 28.70it/s]"
     ]
    },
    {
     "name": "stdout",
     "output_type": "stream",
     "text": [
      "QRS_acc: 0.9459\n",
      "Scoring complete.\n"
     ]
    },
    {
     "name": "stderr",
     "output_type": "stream",
     "text": [
      "\r",
      "Epoch 202/300: 100%|████████████████████████████████████████████| 1600/1600 [00:50<00:00, 28.70it/s]"
     ]
    },
    {
     "name": "stdout",
     "output_type": "stream",
     "text": [
      "QRS_acc: 0.879\n",
      "Scoring complete.\n",
      "ECG-SEQ-LAB - INFO - \n",
      "                Train epoch_202:\n",
      "                --------------------\n",
      "                train/epoch_loss:        0.3815808705985546\n",
      "train/qrs_score:         0.9459\n",
      "\n",
      "                test/qrs_score:          0.879\n",
      "                ---------------------------------\n",
      "\n"
     ]
    },
    {
     "name": "stderr",
     "output_type": "stream",
     "text": [
      "2021-02-08 04:26:18,618 (INFO) train.py:268] \n",
      "                Train epoch_202:\n",
      "                --------------------\n",
      "                train/epoch_loss:        0.3815808705985546\n",
      "train/qrs_score:         0.9459\n",
      "\n",
      "                test/qrs_score:          0.879\n",
      "                ---------------------------------\n",
      "\n"
     ]
    },
    {
     "name": "stdout",
     "output_type": "stream",
     "text": [
      "ECG-SEQ-LAB - INFO - Created checkpoint directory\n"
     ]
    },
    {
     "name": "stderr",
     "output_type": "stream",
     "text": [
      "2021-02-08 04:26:18,625 (INFO) train.py:275] Created checkpoint directory\n"
     ]
    },
    {
     "name": "stdout",
     "output_type": "stream",
     "text": [
      "ECG-SEQ-LAB - INFO - Checkpoint 202 saved!\n"
     ]
    },
    {
     "name": "stderr",
     "output_type": "stream",
     "text": [
      "2021-02-08 04:26:18,819 (INFO) train.py:283] Checkpoint 202 saved!\n",
      "Epoch 202/300: 100%|████████████████████████████████████████████| 1600/1600 [00:52<00:00, 30.35it/s]\n",
      "Epoch 203/300:  80%|██████████████████▍    | 1280/1600 [00:36<00:06, 45.98it/s, loss (batch)=0.0526]"
     ]
    },
    {
     "name": "stdout",
     "output_type": "stream",
     "text": [
      "ECG-SEQ-LAB - INFO - Train step_1420: loss : 0.05257565900683403\n"
     ]
    },
    {
     "name": "stderr",
     "output_type": "stream",
     "text": [
      "2021-02-08 04:26:55,794 (INFO) train.py:225] Train step_1420: loss : 0.05257565900683403\n",
      "Epoch 203/300: 100%|███████████████████████| 1600/1600 [00:50<00:00, 49.59it/s, loss (batch)=0.0526]"
     ]
    },
    {
     "name": "stdout",
     "output_type": "stream",
     "text": [
      "QRS_acc: 0.9481\n",
      "Scoring complete.\n",
      "QRS_acc: 0.876\n",
      "Scoring complete.\n",
      "ECG-SEQ-LAB - INFO - \n",
      "                Train epoch_203:\n",
      "                --------------------\n",
      "                train/epoch_loss:        0.3638722226023674\n",
      "train/qrs_score:         0.9481\n",
      "\n",
      "                test/qrs_score:          0.876\n",
      "                ---------------------------------\n",
      "\n"
     ]
    },
    {
     "name": "stderr",
     "output_type": "stream",
     "text": [
      "2021-02-08 04:27:53,722 (INFO) train.py:268] \n",
      "                Train epoch_203:\n",
      "                --------------------\n",
      "                train/epoch_loss:        0.3638722226023674\n",
      "train/qrs_score:         0.9481\n",
      "\n",
      "                test/qrs_score:          0.876\n",
      "                ---------------------------------\n",
      "\n"
     ]
    },
    {
     "name": "stdout",
     "output_type": "stream",
     "text": [
      "ECG-SEQ-LAB - INFO - Created checkpoint directory\n"
     ]
    },
    {
     "name": "stderr",
     "output_type": "stream",
     "text": [
      "2021-02-08 04:27:53,737 (INFO) train.py:275] Created checkpoint directory\n"
     ]
    },
    {
     "name": "stdout",
     "output_type": "stream",
     "text": [
      "ECG-SEQ-LAB - INFO - Checkpoint 203 saved!\n"
     ]
    },
    {
     "name": "stderr",
     "output_type": "stream",
     "text": [
      "2021-02-08 04:27:53,903 (INFO) train.py:283] Checkpoint 203 saved!\n",
      "Epoch 203/300: 100%|███████████████████████| 1600/1600 [01:35<00:00, 16.83it/s, loss (batch)=0.0526]\n",
      "Epoch 204/300: 100%|████████████████████████████████████████████| 1600/1600 [00:36<00:00, 29.71it/s]"
     ]
    },
    {
     "name": "stdout",
     "output_type": "stream",
     "text": [
      "QRS_acc: 0.9472\n",
      "Scoring complete.\n"
     ]
    },
    {
     "name": "stderr",
     "output_type": "stream",
     "text": [
      "\r",
      "Epoch 204/300: 100%|████████████████████████████████████████████| 1600/1600 [00:50<00:00, 29.71it/s]"
     ]
    },
    {
     "name": "stdout",
     "output_type": "stream",
     "text": [
      "QRS_acc: 0.8665\n",
      "Scoring complete.\n",
      "ECG-SEQ-LAB - INFO - \n",
      "                Train epoch_204:\n",
      "                --------------------\n",
      "                train/epoch_loss:        0.3644283786416054\n",
      "train/qrs_score:         0.9472\n",
      "\n",
      "                test/qrs_score:          0.8665\n",
      "                ---------------------------------\n",
      "\n"
     ]
    },
    {
     "name": "stderr",
     "output_type": "stream",
     "text": [
      "2021-02-08 04:28:45,901 (INFO) train.py:268] \n",
      "                Train epoch_204:\n",
      "                --------------------\n",
      "                train/epoch_loss:        0.3644283786416054\n",
      "train/qrs_score:         0.9472\n",
      "\n",
      "                test/qrs_score:          0.8665\n",
      "                ---------------------------------\n",
      "\n"
     ]
    },
    {
     "name": "stdout",
     "output_type": "stream",
     "text": [
      "ECG-SEQ-LAB - INFO - Created checkpoint directory\n"
     ]
    },
    {
     "name": "stderr",
     "output_type": "stream",
     "text": [
      "2021-02-08 04:28:45,905 (INFO) train.py:275] Created checkpoint directory\n"
     ]
    },
    {
     "name": "stdout",
     "output_type": "stream",
     "text": [
      "ECG-SEQ-LAB - INFO - Checkpoint 204 saved!\n"
     ]
    },
    {
     "name": "stderr",
     "output_type": "stream",
     "text": [
      "2021-02-08 04:28:46,111 (INFO) train.py:283] Checkpoint 204 saved!\n",
      "Epoch 204/300: 100%|████████████████████████████████████████████| 1600/1600 [00:52<00:00, 30.65it/s]\n",
      "Epoch 205/300: 100%|████████████████████████████████████████████| 1600/1600 [00:37<00:00, 28.89it/s]"
     ]
    },
    {
     "name": "stdout",
     "output_type": "stream",
     "text": [
      "QRS_acc: 0.9467\n",
      "Scoring complete.\n"
     ]
    },
    {
     "name": "stderr",
     "output_type": "stream",
     "text": [
      "\r",
      "Epoch 205/300: 100%|████████████████████████████████████████████| 1600/1600 [00:50<00:00, 28.89it/s]"
     ]
    },
    {
     "name": "stdout",
     "output_type": "stream",
     "text": [
      "QRS_acc: 0.878\n",
      "Scoring complete.\n",
      "ECG-SEQ-LAB - INFO - \n",
      "                Train epoch_205:\n",
      "                --------------------\n",
      "                train/epoch_loss:        0.3675985559821129\n",
      "train/qrs_score:         0.9467\n",
      "\n",
      "                test/qrs_score:          0.878\n",
      "                ---------------------------------\n",
      "\n"
     ]
    },
    {
     "name": "stderr",
     "output_type": "stream",
     "text": [
      "2021-02-08 04:29:40,743 (INFO) train.py:268] \n",
      "                Train epoch_205:\n",
      "                --------------------\n",
      "                train/epoch_loss:        0.3675985559821129\n",
      "train/qrs_score:         0.9467\n",
      "\n",
      "                test/qrs_score:          0.878\n",
      "                ---------------------------------\n",
      "\n"
     ]
    },
    {
     "name": "stdout",
     "output_type": "stream",
     "text": [
      "ECG-SEQ-LAB - INFO - Created checkpoint directory\n"
     ]
    },
    {
     "name": "stderr",
     "output_type": "stream",
     "text": [
      "2021-02-08 04:29:40,751 (INFO) train.py:275] Created checkpoint directory\n"
     ]
    },
    {
     "name": "stdout",
     "output_type": "stream",
     "text": [
      "ECG-SEQ-LAB - INFO - Checkpoint 205 saved!\n"
     ]
    },
    {
     "name": "stderr",
     "output_type": "stream",
     "text": [
      "2021-02-08 04:29:40,980 (INFO) train.py:283] Checkpoint 205 saved!\n",
      "Epoch 205/300: 100%|████████████████████████████████████████████| 1600/1600 [00:54<00:00, 29.16it/s]\n",
      "Epoch 206/300:  64%|██████████████▋        | 1024/1600 [00:37<00:18, 31.85it/s, loss (batch)=0.0503]"
     ]
    },
    {
     "name": "stdout",
     "output_type": "stream",
     "text": [
      "ECG-SEQ-LAB - INFO - Train step_1440: loss : 0.0503225214779377\n"
     ]
    },
    {
     "name": "stderr",
     "output_type": "stream",
     "text": [
      "2021-02-08 04:30:18,722 (INFO) train.py:225] Train step_1440: loss : 0.0503225214779377\n",
      "Epoch 206/300: 100%|███████████████████████| 1600/1600 [00:43<00:00, 27.26it/s, loss (batch)=0.0503]"
     ]
    },
    {
     "name": "stdout",
     "output_type": "stream",
     "text": [
      "QRS_acc: 0.9506\n",
      "Scoring complete.\n",
      "QRS_acc: 0.8865\n",
      "Scoring complete.\n",
      "ECG-SEQ-LAB - INFO - \n",
      "                Train epoch_206:\n",
      "                --------------------\n",
      "                train/epoch_loss:        0.35244134068489075\n",
      "train/qrs_score:         0.9506\n",
      "\n",
      "                test/qrs_score:          0.8865\n",
      "                ---------------------------------\n",
      "\n"
     ]
    },
    {
     "name": "stderr",
     "output_type": "stream",
     "text": [
      "2021-02-08 04:30:40,342 (INFO) train.py:268] \n",
      "                Train epoch_206:\n",
      "                --------------------\n",
      "                train/epoch_loss:        0.35244134068489075\n",
      "train/qrs_score:         0.9506\n",
      "\n",
      "                test/qrs_score:          0.8865\n",
      "                ---------------------------------\n",
      "\n"
     ]
    },
    {
     "name": "stdout",
     "output_type": "stream",
     "text": [
      "ECG-SEQ-LAB - INFO - Created checkpoint directory\n"
     ]
    },
    {
     "name": "stderr",
     "output_type": "stream",
     "text": [
      "2021-02-08 04:30:40,354 (INFO) train.py:275] Created checkpoint directory\n"
     ]
    },
    {
     "name": "stdout",
     "output_type": "stream",
     "text": [
      "ECG-SEQ-LAB - INFO - Checkpoint 206 saved!\n"
     ]
    },
    {
     "name": "stderr",
     "output_type": "stream",
     "text": [
      "2021-02-08 04:30:40,585 (INFO) train.py:283] Checkpoint 206 saved!\n",
      "Epoch 206/300: 100%|███████████████████████| 1600/1600 [00:59<00:00, 26.84it/s, loss (batch)=0.0503]\n",
      "Epoch 207/300: 100%|████████████████████████████████████████████| 1600/1600 [00:37<00:00, 28.43it/s]"
     ]
    },
    {
     "name": "stdout",
     "output_type": "stream",
     "text": [
      "QRS_acc: 0.9398\n",
      "Scoring complete.\n"
     ]
    },
    {
     "name": "stderr",
     "output_type": "stream",
     "text": [
      "\r",
      "Epoch 207/300: 100%|████████████████████████████████████████████| 1600/1600 [00:50<00:00, 28.43it/s]"
     ]
    },
    {
     "name": "stdout",
     "output_type": "stream",
     "text": [
      "QRS_acc: 0.8738\n",
      "Scoring complete.\n",
      "ECG-SEQ-LAB - INFO - \n",
      "                Train epoch_207:\n",
      "                --------------------\n",
      "                train/epoch_loss:        0.3605295233428478\n",
      "train/qrs_score:         0.9398\n",
      "\n",
      "                test/qrs_score:          0.8738\n",
      "                ---------------------------------\n",
      "\n"
     ]
    },
    {
     "name": "stderr",
     "output_type": "stream",
     "text": [
      "2021-02-08 04:31:33,214 (INFO) train.py:268] \n",
      "                Train epoch_207:\n",
      "                --------------------\n",
      "                train/epoch_loss:        0.3605295233428478\n",
      "train/qrs_score:         0.9398\n",
      "\n",
      "                test/qrs_score:          0.8738\n",
      "                ---------------------------------\n",
      "\n"
     ]
    },
    {
     "name": "stdout",
     "output_type": "stream",
     "text": [
      "ECG-SEQ-LAB - INFO - Created checkpoint directory\n"
     ]
    },
    {
     "name": "stderr",
     "output_type": "stream",
     "text": [
      "2021-02-08 04:31:33,223 (INFO) train.py:275] Created checkpoint directory\n"
     ]
    },
    {
     "name": "stdout",
     "output_type": "stream",
     "text": [
      "ECG-SEQ-LAB - INFO - Checkpoint 207 saved!\n"
     ]
    },
    {
     "name": "stderr",
     "output_type": "stream",
     "text": [
      "2021-02-08 04:31:33,319 (INFO) train.py:283] Checkpoint 207 saved!\n",
      "Epoch 207/300: 100%|████████████████████████████████████████████| 1600/1600 [00:52<00:00, 30.34it/s]\n",
      "Epoch 208/300: 100%|████████████████████████████████████████████| 1600/1600 [00:37<00:00, 28.25it/s]"
     ]
    },
    {
     "name": "stdout",
     "output_type": "stream",
     "text": [
      "QRS_acc: 0.9498\n",
      "Scoring complete.\n"
     ]
    },
    {
     "name": "stderr",
     "output_type": "stream",
     "text": [
      "\r",
      "Epoch 208/300: 100%|████████████████████████████████████████████| 1600/1600 [00:50<00:00, 28.25it/s]"
     ]
    },
    {
     "name": "stdout",
     "output_type": "stream",
     "text": [
      "QRS_acc: 0.8765\n",
      "Scoring complete.\n",
      "ECG-SEQ-LAB - INFO - \n",
      "                Train epoch_208:\n",
      "                --------------------\n",
      "                train/epoch_loss:        0.3618827387690544\n",
      "train/qrs_score:         0.9498\n",
      "\n",
      "                test/qrs_score:          0.8765\n",
      "                ---------------------------------\n",
      "\n"
     ]
    },
    {
     "name": "stderr",
     "output_type": "stream",
     "text": [
      "2021-02-08 04:32:25,594 (INFO) train.py:268] \n",
      "                Train epoch_208:\n",
      "                --------------------\n",
      "                train/epoch_loss:        0.3618827387690544\n",
      "train/qrs_score:         0.9498\n",
      "\n",
      "                test/qrs_score:          0.8765\n",
      "                ---------------------------------\n",
      "\n"
     ]
    },
    {
     "name": "stdout",
     "output_type": "stream",
     "text": [
      "ECG-SEQ-LAB - INFO - Created checkpoint directory\n"
     ]
    },
    {
     "name": "stderr",
     "output_type": "stream",
     "text": [
      "2021-02-08 04:32:25,599 (INFO) train.py:275] Created checkpoint directory\n"
     ]
    },
    {
     "name": "stdout",
     "output_type": "stream",
     "text": [
      "ECG-SEQ-LAB - INFO - Checkpoint 208 saved!\n"
     ]
    },
    {
     "name": "stderr",
     "output_type": "stream",
     "text": [
      "2021-02-08 04:32:25,694 (INFO) train.py:283] Checkpoint 208 saved!\n",
      "Epoch 208/300: 100%|████████████████████████████████████████████| 1600/1600 [00:52<00:00, 30.55it/s]\n",
      "Epoch 209/300:  48%|███████████▌            | 768/1600 [00:27<00:22, 37.56it/s, loss (batch)=0.0498]"
     ]
    },
    {
     "name": "stdout",
     "output_type": "stream",
     "text": [
      "ECG-SEQ-LAB - INFO - Train step_1460: loss : 0.04975797235965729\n"
     ]
    },
    {
     "name": "stderr",
     "output_type": "stream",
     "text": [
      "2021-02-08 04:32:53,696 (INFO) train.py:225] Train step_1460: loss : 0.04975797235965729\n",
      "Epoch 209/300: 100%|███████████████████████| 1600/1600 [00:50<00:00, 29.14it/s, loss (batch)=0.0498]"
     ]
    },
    {
     "name": "stdout",
     "output_type": "stream",
     "text": [
      "QRS_acc: 0.9488\n",
      "Scoring complete.\n",
      "QRS_acc: 0.8848\n",
      "Scoring complete.\n",
      "ECG-SEQ-LAB - INFO - \n",
      "                Train epoch_209:\n",
      "                --------------------\n",
      "                train/epoch_loss:        0.36026183143258095\n",
      "train/qrs_score:         0.9488\n",
      "\n",
      "                test/qrs_score:          0.8848\n",
      "                ---------------------------------\n",
      "\n"
     ]
    },
    {
     "name": "stderr",
     "output_type": "stream",
     "text": [
      "2021-02-08 04:33:35,732 (INFO) train.py:268] \n",
      "                Train epoch_209:\n",
      "                --------------------\n",
      "                train/epoch_loss:        0.36026183143258095\n",
      "train/qrs_score:         0.9488\n",
      "\n",
      "                test/qrs_score:          0.8848\n",
      "                ---------------------------------\n",
      "\n"
     ]
    },
    {
     "name": "stdout",
     "output_type": "stream",
     "text": [
      "ECG-SEQ-LAB - INFO - Created checkpoint directory\n"
     ]
    },
    {
     "name": "stderr",
     "output_type": "stream",
     "text": [
      "2021-02-08 04:33:35,795 (INFO) train.py:275] Created checkpoint directory\n"
     ]
    },
    {
     "name": "stdout",
     "output_type": "stream",
     "text": [
      "ECG-SEQ-LAB - INFO - Checkpoint 209 saved!\n"
     ]
    },
    {
     "name": "stderr",
     "output_type": "stream",
     "text": [
      "2021-02-08 04:33:36,023 (INFO) train.py:283] Checkpoint 209 saved!\n",
      "Epoch 209/300: 100%|███████████████████████| 1600/1600 [01:10<00:00, 22.75it/s, loss (batch)=0.0498]\n",
      "Epoch 210/300: 100%|████████████████████████████████████████████| 1600/1600 [00:37<00:00, 28.32it/s]"
     ]
    },
    {
     "name": "stdout",
     "output_type": "stream",
     "text": [
      "QRS_acc: 0.9458\n",
      "Scoring complete.\n"
     ]
    },
    {
     "name": "stderr",
     "output_type": "stream",
     "text": [
      "\r",
      "Epoch 210/300: 100%|████████████████████████████████████████████| 1600/1600 [00:50<00:00, 28.32it/s]"
     ]
    },
    {
     "name": "stdout",
     "output_type": "stream",
     "text": [
      "QRS_acc: 0.885\n",
      "Scoring complete.\n",
      "ECG-SEQ-LAB - INFO - \n",
      "                Train epoch_210:\n",
      "                --------------------\n",
      "                train/epoch_loss:        0.35449448600411415\n",
      "train/qrs_score:         0.9458\n",
      "\n",
      "                test/qrs_score:          0.885\n",
      "                ---------------------------------\n",
      "\n"
     ]
    },
    {
     "name": "stderr",
     "output_type": "stream",
     "text": [
      "2021-02-08 04:34:28,630 (INFO) train.py:268] \n",
      "                Train epoch_210:\n",
      "                --------------------\n",
      "                train/epoch_loss:        0.35449448600411415\n",
      "train/qrs_score:         0.9458\n",
      "\n",
      "                test/qrs_score:          0.885\n",
      "                ---------------------------------\n",
      "\n"
     ]
    },
    {
     "name": "stdout",
     "output_type": "stream",
     "text": [
      "ECG-SEQ-LAB - INFO - Created checkpoint directory\n"
     ]
    },
    {
     "name": "stderr",
     "output_type": "stream",
     "text": [
      "2021-02-08 04:34:28,633 (INFO) train.py:275] Created checkpoint directory\n"
     ]
    },
    {
     "name": "stdout",
     "output_type": "stream",
     "text": [
      "ECG-SEQ-LAB - INFO - Checkpoint 210 saved!\n"
     ]
    },
    {
     "name": "stderr",
     "output_type": "stream",
     "text": [
      "2021-02-08 04:34:28,858 (INFO) train.py:283] Checkpoint 210 saved!\n",
      "Epoch 210/300: 100%|████████████████████████████████████████████| 1600/1600 [00:52<00:00, 30.28it/s]\n",
      "Epoch 211/300: 100%|████████████████████████████████████████████| 1600/1600 [00:36<00:00, 28.43it/s]"
     ]
    },
    {
     "name": "stdout",
     "output_type": "stream",
     "text": [
      "QRS_acc: 0.9463\n",
      "Scoring complete.\n"
     ]
    },
    {
     "name": "stderr",
     "output_type": "stream",
     "text": [
      "\r",
      "Epoch 211/300: 100%|████████████████████████████████████████████| 1600/1600 [00:50<00:00, 28.43it/s]"
     ]
    },
    {
     "name": "stdout",
     "output_type": "stream",
     "text": [
      "QRS_acc: 0.8778\n",
      "Scoring complete.\n",
      "ECG-SEQ-LAB - INFO - \n",
      "                Train epoch_211:\n",
      "                --------------------\n",
      "                train/epoch_loss:        0.3519132323563099\n",
      "train/qrs_score:         0.9463\n",
      "\n",
      "                test/qrs_score:          0.8778\n",
      "                ---------------------------------\n",
      "\n"
     ]
    },
    {
     "name": "stderr",
     "output_type": "stream",
     "text": [
      "2021-02-08 04:35:23,812 (INFO) train.py:268] \n",
      "                Train epoch_211:\n",
      "                --------------------\n",
      "                train/epoch_loss:        0.3519132323563099\n",
      "train/qrs_score:         0.9463\n",
      "\n",
      "                test/qrs_score:          0.8778\n",
      "                ---------------------------------\n",
      "\n"
     ]
    },
    {
     "name": "stdout",
     "output_type": "stream",
     "text": [
      "ECG-SEQ-LAB - INFO - Created checkpoint directory\n"
     ]
    },
    {
     "name": "stderr",
     "output_type": "stream",
     "text": [
      "2021-02-08 04:35:23,827 (INFO) train.py:275] Created checkpoint directory\n"
     ]
    },
    {
     "name": "stdout",
     "output_type": "stream",
     "text": [
      "ECG-SEQ-LAB - INFO - Checkpoint 211 saved!\n"
     ]
    },
    {
     "name": "stderr",
     "output_type": "stream",
     "text": [
      "2021-02-08 04:35:24,094 (INFO) train.py:283] Checkpoint 211 saved!\n",
      "Epoch 211/300: 100%|████████████████████████████████████████████| 1600/1600 [00:55<00:00, 28.97it/s]\n",
      "Epoch 212/300:  32%|███████▋                | 512/1600 [00:26<00:43, 25.11it/s, loss (batch)=0.0473]"
     ]
    },
    {
     "name": "stdout",
     "output_type": "stream",
     "text": [
      "ECG-SEQ-LAB - INFO - Train step_1480: loss : 0.04732338339090347\n"
     ]
    },
    {
     "name": "stderr",
     "output_type": "stream",
     "text": [
      "2021-02-08 04:35:50,356 (INFO) train.py:225] Train step_1480: loss : 0.04732338339090347\n",
      "Epoch 212/300: 100%|███████████████████████| 1600/1600 [00:41<00:00, 27.40it/s, loss (batch)=0.0473]"
     ]
    },
    {
     "name": "stdout",
     "output_type": "stream",
     "text": [
      "QRS_acc: 0.9481\n",
      "Scoring complete.\n"
     ]
    },
    {
     "name": "stderr",
     "output_type": "stream",
     "text": [
      "\r",
      "Epoch 212/300: 100%|███████████████████████| 1600/1600 [01:00<00:00, 27.40it/s, loss (batch)=0.0473]"
     ]
    },
    {
     "name": "stdout",
     "output_type": "stream",
     "text": [
      "QRS_acc: 0.8788\n",
      "Scoring complete.\n",
      "ECG-SEQ-LAB - INFO - \n",
      "                Train epoch_212:\n",
      "                --------------------\n",
      "                train/epoch_loss:        0.35135649517178535\n",
      "train/qrs_score:         0.9481\n",
      "\n",
      "                test/qrs_score:          0.8788\n",
      "                ---------------------------------\n",
      "\n"
     ]
    },
    {
     "name": "stderr",
     "output_type": "stream",
     "text": [
      "2021-02-08 04:36:33,511 (INFO) train.py:268] \n",
      "                Train epoch_212:\n",
      "                --------------------\n",
      "                train/epoch_loss:        0.35135649517178535\n",
      "train/qrs_score:         0.9481\n",
      "\n",
      "                test/qrs_score:          0.8788\n",
      "                ---------------------------------\n",
      "\n"
     ]
    },
    {
     "name": "stdout",
     "output_type": "stream",
     "text": [
      "ECG-SEQ-LAB - INFO - Created checkpoint directory\n"
     ]
    },
    {
     "name": "stderr",
     "output_type": "stream",
     "text": [
      "2021-02-08 04:36:33,596 (INFO) train.py:275] Created checkpoint directory\n"
     ]
    },
    {
     "name": "stdout",
     "output_type": "stream",
     "text": [
      "ECG-SEQ-LAB - INFO - Checkpoint 212 saved!\n"
     ]
    },
    {
     "name": "stderr",
     "output_type": "stream",
     "text": [
      "2021-02-08 04:36:34,725 (INFO) train.py:283] Checkpoint 212 saved!\n",
      "Epoch 212/300: 100%|███████████████████████| 1600/1600 [01:10<00:00, 22.65it/s, loss (batch)=0.0473]\n",
      "Epoch 213/300: 100%|████████████████████████████████████████████| 1600/1600 [01:30<00:00, 18.78it/s]"
     ]
    },
    {
     "name": "stdout",
     "output_type": "stream",
     "text": [
      "QRS_acc: 0.9479\n",
      "Scoring complete.\n",
      "QRS_acc: 0.8912\n",
      "Scoring complete.\n",
      "ECG-SEQ-LAB - INFO - \n",
      "                Train epoch_213:\n",
      "                --------------------\n",
      "                train/epoch_loss:        0.3588082268834114\n",
      "train/qrs_score:         0.9479\n",
      "\n",
      "                test/qrs_score:          0.8912\n",
      "                ---------------------------------\n",
      "\n"
     ]
    },
    {
     "name": "stderr",
     "output_type": "stream",
     "text": [
      "2021-02-08 04:38:51,797 (INFO) train.py:268] \n",
      "                Train epoch_213:\n",
      "                --------------------\n",
      "                train/epoch_loss:        0.3588082268834114\n",
      "train/qrs_score:         0.9479\n",
      "\n",
      "                test/qrs_score:          0.8912\n",
      "                ---------------------------------\n",
      "\n"
     ]
    },
    {
     "name": "stdout",
     "output_type": "stream",
     "text": [
      "ECG-SEQ-LAB - INFO - Created checkpoint directory\n"
     ]
    },
    {
     "name": "stderr",
     "output_type": "stream",
     "text": [
      "2021-02-08 04:38:51,823 (INFO) train.py:275] Created checkpoint directory\n"
     ]
    },
    {
     "name": "stdout",
     "output_type": "stream",
     "text": [
      "ECG-SEQ-LAB - INFO - Checkpoint 213 saved!\n"
     ]
    },
    {
     "name": "stderr",
     "output_type": "stream",
     "text": [
      "2021-02-08 04:38:52,137 (INFO) train.py:283] Checkpoint 213 saved!\n",
      "Epoch 213/300: 100%|████████████████████████████████████████████| 1600/1600 [02:17<00:00, 11.64it/s]\n",
      "Epoch 214/300: 100%|████████████████████████████████████████████| 1600/1600 [00:38<00:00, 28.19it/s]"
     ]
    },
    {
     "name": "stdout",
     "output_type": "stream",
     "text": [
      "QRS_acc: 0.9502\n",
      "Scoring complete.\n"
     ]
    },
    {
     "name": "stderr",
     "output_type": "stream",
     "text": [
      "\r",
      "Epoch 214/300: 100%|████████████████████████████████████████████| 1600/1600 [00:50<00:00, 28.19it/s]"
     ]
    },
    {
     "name": "stdout",
     "output_type": "stream",
     "text": [
      "QRS_acc: 0.8922\n",
      "Scoring complete.\n",
      "ECG-SEQ-LAB - INFO - \n",
      "                Train epoch_214:\n",
      "                --------------------\n",
      "                train/epoch_loss:        0.35185346007347107\n",
      "train/qrs_score:         0.9502\n",
      "\n",
      "                test/qrs_score:          0.8922\n",
      "                ---------------------------------\n",
      "\n"
     ]
    },
    {
     "name": "stderr",
     "output_type": "stream",
     "text": [
      "2021-02-08 04:39:45,700 (INFO) train.py:268] \n",
      "                Train epoch_214:\n",
      "                --------------------\n",
      "                train/epoch_loss:        0.35185346007347107\n",
      "train/qrs_score:         0.9502\n",
      "\n",
      "                test/qrs_score:          0.8922\n",
      "                ---------------------------------\n",
      "\n"
     ]
    },
    {
     "name": "stdout",
     "output_type": "stream",
     "text": [
      "ECG-SEQ-LAB - INFO - Created checkpoint directory\n"
     ]
    },
    {
     "name": "stderr",
     "output_type": "stream",
     "text": [
      "2021-02-08 04:39:45,705 (INFO) train.py:275] Created checkpoint directory\n"
     ]
    },
    {
     "name": "stdout",
     "output_type": "stream",
     "text": [
      "ECG-SEQ-LAB - INFO - Checkpoint 214 saved!\n"
     ]
    },
    {
     "name": "stderr",
     "output_type": "stream",
     "text": [
      "2021-02-08 04:39:45,904 (INFO) train.py:283] Checkpoint 214 saved!\n",
      "Epoch 214/300: 100%|████████████████████████████████████████████| 1600/1600 [00:53<00:00, 29.77it/s]\n",
      "Epoch 215/300:  16%|███▊                    | 256/1600 [00:16<00:39, 34.11it/s, loss (batch)=0.0491]"
     ]
    },
    {
     "name": "stdout",
     "output_type": "stream",
     "text": [
      "ECG-SEQ-LAB - INFO - Train step_1500: loss : 0.04907248541712761\n"
     ]
    },
    {
     "name": "stderr",
     "output_type": "stream",
     "text": [
      "2021-02-08 04:40:02,406 (INFO) train.py:225] Train step_1500: loss : 0.04907248541712761\n",
      "Epoch 215/300: 100%|███████████████████████| 1600/1600 [00:36<00:00, 29.12it/s, loss (batch)=0.0491]"
     ]
    },
    {
     "name": "stdout",
     "output_type": "stream",
     "text": [
      "QRS_acc: 0.9465\n",
      "Scoring complete.\n"
     ]
    },
    {
     "name": "stderr",
     "output_type": "stream",
     "text": [
      "\r",
      "Epoch 215/300: 100%|███████████████████████| 1600/1600 [00:50<00:00, 29.12it/s, loss (batch)=0.0491]"
     ]
    },
    {
     "name": "stdout",
     "output_type": "stream",
     "text": [
      "QRS_acc: 0.8945\n",
      "Scoring complete.\n",
      "ECG-SEQ-LAB - INFO - \n",
      "                Train epoch_215:\n",
      "                --------------------\n",
      "                train/epoch_loss:        0.35727474465966225\n",
      "train/qrs_score:         0.9465\n",
      "\n",
      "                test/qrs_score:          0.8945\n",
      "                ---------------------------------\n",
      "\n"
     ]
    },
    {
     "name": "stderr",
     "output_type": "stream",
     "text": [
      "2021-02-08 04:40:37,306 (INFO) train.py:268] \n",
      "                Train epoch_215:\n",
      "                --------------------\n",
      "                train/epoch_loss:        0.35727474465966225\n",
      "train/qrs_score:         0.9465\n",
      "\n",
      "                test/qrs_score:          0.8945\n",
      "                ---------------------------------\n",
      "\n"
     ]
    },
    {
     "name": "stdout",
     "output_type": "stream",
     "text": [
      "ECG-SEQ-LAB - INFO - Created checkpoint directory\n"
     ]
    },
    {
     "name": "stderr",
     "output_type": "stream",
     "text": [
      "2021-02-08 04:40:37,314 (INFO) train.py:275] Created checkpoint directory\n"
     ]
    },
    {
     "name": "stdout",
     "output_type": "stream",
     "text": [
      "ECG-SEQ-LAB - INFO - Checkpoint 215 saved!\n"
     ]
    },
    {
     "name": "stderr",
     "output_type": "stream",
     "text": [
      "2021-02-08 04:40:37,432 (INFO) train.py:283] Checkpoint 215 saved!\n",
      "Epoch 215/300: 100%|███████████████████████| 1600/1600 [00:51<00:00, 31.05it/s, loss (batch)=0.0491]\n",
      "Epoch 216/300: 100%|████████████████████████████████████████████| 1600/1600 [00:37<00:00, 28.88it/s]"
     ]
    },
    {
     "name": "stdout",
     "output_type": "stream",
     "text": [
      "QRS_acc: 0.9436\n",
      "Scoring complete.\n"
     ]
    },
    {
     "name": "stderr",
     "output_type": "stream",
     "text": [
      "\r",
      "Epoch 216/300: 100%|████████████████████████████████████████████| 1600/1600 [00:50<00:00, 28.88it/s]"
     ]
    },
    {
     "name": "stdout",
     "output_type": "stream",
     "text": [
      "QRS_acc: 0.8782\n",
      "Scoring complete.\n",
      "ECG-SEQ-LAB - INFO - \n",
      "                Train epoch_216:\n",
      "                --------------------\n",
      "                train/epoch_loss:        0.3532136343419552\n",
      "train/qrs_score:         0.9436\n",
      "\n",
      "                test/qrs_score:          0.8782\n",
      "                ---------------------------------\n",
      "\n"
     ]
    },
    {
     "name": "stderr",
     "output_type": "stream",
     "text": [
      "2021-02-08 04:41:29,822 (INFO) train.py:268] \n",
      "                Train epoch_216:\n",
      "                --------------------\n",
      "                train/epoch_loss:        0.3532136343419552\n",
      "train/qrs_score:         0.9436\n",
      "\n",
      "                test/qrs_score:          0.8782\n",
      "                ---------------------------------\n",
      "\n"
     ]
    },
    {
     "name": "stdout",
     "output_type": "stream",
     "text": [
      "ECG-SEQ-LAB - INFO - Created checkpoint directory\n"
     ]
    },
    {
     "name": "stderr",
     "output_type": "stream",
     "text": [
      "2021-02-08 04:41:29,828 (INFO) train.py:275] Created checkpoint directory\n"
     ]
    },
    {
     "name": "stdout",
     "output_type": "stream",
     "text": [
      "ECG-SEQ-LAB - INFO - Checkpoint 216 saved!\n"
     ]
    },
    {
     "name": "stderr",
     "output_type": "stream",
     "text": [
      "2021-02-08 04:41:30,021 (INFO) train.py:283] Checkpoint 216 saved!\n",
      "Epoch 216/300: 100%|████████████████████████████████████████████| 1600/1600 [00:52<00:00, 30.42it/s]\n",
      "Epoch 217/300: 100%|████████████████████████████████████████████| 1600/1600 [00:37<00:00, 28.31it/s]"
     ]
    },
    {
     "name": "stdout",
     "output_type": "stream",
     "text": [
      "QRS_acc: 0.9494\n",
      "Scoring complete.\n"
     ]
    },
    {
     "name": "stderr",
     "output_type": "stream",
     "text": [
      "\r",
      "Epoch 217/300: 100%|████████████████████████████████████████████| 1600/1600 [00:50<00:00, 28.31it/s]"
     ]
    },
    {
     "name": "stdout",
     "output_type": "stream",
     "text": [
      "QRS_acc: 0.8825\n",
      "Scoring complete.\n",
      "ECG-SEQ-LAB - INFO - \n",
      "                Train epoch_217:\n",
      "                --------------------\n",
      "                train/epoch_loss:        0.3552681729197502\n",
      "train/qrs_score:         0.9494\n",
      "\n",
      "                test/qrs_score:          0.8825\n",
      "                ---------------------------------\n",
      "\n"
     ]
    },
    {
     "name": "stderr",
     "output_type": "stream",
     "text": [
      "2021-02-08 04:42:24,715 (INFO) train.py:268] \n",
      "                Train epoch_217:\n",
      "                --------------------\n",
      "                train/epoch_loss:        0.3552681729197502\n",
      "train/qrs_score:         0.9494\n",
      "\n",
      "                test/qrs_score:          0.8825\n",
      "                ---------------------------------\n",
      "\n"
     ]
    },
    {
     "name": "stdout",
     "output_type": "stream",
     "text": [
      "ECG-SEQ-LAB - INFO - Created checkpoint directory\n"
     ]
    },
    {
     "name": "stderr",
     "output_type": "stream",
     "text": [
      "2021-02-08 04:42:24,726 (INFO) train.py:275] Created checkpoint directory\n"
     ]
    },
    {
     "name": "stdout",
     "output_type": "stream",
     "text": [
      "ECG-SEQ-LAB - INFO - Checkpoint 217 saved!\n"
     ]
    },
    {
     "name": "stderr",
     "output_type": "stream",
     "text": [
      "2021-02-08 04:42:24,984 (INFO) train.py:283] Checkpoint 217 saved!\n",
      "Epoch 217/300: 100%|████████████████████████████████████████████| 1600/1600 [00:54<00:00, 29.11it/s]\n",
      "Epoch 218/300:   0%|                                  | 0/1600 [00:11<?, ?it/s, loss (batch)=0.0512]"
     ]
    },
    {
     "name": "stdout",
     "output_type": "stream",
     "text": [
      "ECG-SEQ-LAB - INFO - Train step_1520: loss : 0.05124647542834282\n"
     ]
    },
    {
     "name": "stderr",
     "output_type": "stream",
     "text": [
      "2021-02-08 04:42:36,897 (INFO) train.py:225] Train step_1520: loss : 0.05124647542834282\n",
      "Epoch 218/300: 100%|███████████████████████| 1600/1600 [00:37<00:00, 27.90it/s, loss (batch)=0.0512]"
     ]
    },
    {
     "name": "stdout",
     "output_type": "stream",
     "text": [
      "QRS_acc: 0.9519\n",
      "Scoring complete.\n"
     ]
    },
    {
     "name": "stderr",
     "output_type": "stream",
     "text": [
      "\r",
      "Epoch 218/300: 100%|███████████████████████| 1600/1600 [00:50<00:00, 27.90it/s, loss (batch)=0.0512]"
     ]
    },
    {
     "name": "stdout",
     "output_type": "stream",
     "text": [
      "QRS_acc: 0.8845\n",
      "Scoring complete.\n",
      "ECG-SEQ-LAB - INFO - \n",
      "                Train epoch_218:\n",
      "                --------------------\n",
      "                train/epoch_loss:        0.3582991808652878\n",
      "train/qrs_score:         0.9519\n",
      "\n",
      "                test/qrs_score:          0.8845\n",
      "                ---------------------------------\n",
      "\n"
     ]
    },
    {
     "name": "stderr",
     "output_type": "stream",
     "text": [
      "2021-02-08 04:43:18,097 (INFO) train.py:268] \n",
      "                Train epoch_218:\n",
      "                --------------------\n",
      "                train/epoch_loss:        0.3582991808652878\n",
      "train/qrs_score:         0.9519\n",
      "\n",
      "                test/qrs_score:          0.8845\n",
      "                ---------------------------------\n",
      "\n"
     ]
    },
    {
     "name": "stdout",
     "output_type": "stream",
     "text": [
      "ECG-SEQ-LAB - INFO - Created checkpoint directory\n"
     ]
    },
    {
     "name": "stderr",
     "output_type": "stream",
     "text": [
      "2021-02-08 04:43:18,102 (INFO) train.py:275] Created checkpoint directory\n"
     ]
    },
    {
     "name": "stdout",
     "output_type": "stream",
     "text": [
      "ECG-SEQ-LAB - INFO - Checkpoint 218 saved!\n"
     ]
    },
    {
     "name": "stderr",
     "output_type": "stream",
     "text": [
      "2021-02-08 04:43:18,263 (INFO) train.py:283] Checkpoint 218 saved!\n",
      "Epoch 218/300: 100%|███████████████████████| 1600/1600 [00:53<00:00, 30.03it/s, loss (batch)=0.0512]\n",
      "Epoch 219/300: 100%|████████████████████████████████████████████| 1600/1600 [00:50<00:00, 28.03it/s]"
     ]
    },
    {
     "name": "stdout",
     "output_type": "stream",
     "text": [
      "QRS_acc: 0.9516\n",
      "Scoring complete.\n",
      "QRS_acc: 0.8853\n",
      "Scoring complete.\n",
      "ECG-SEQ-LAB - INFO - \n",
      "                Train epoch_219:\n",
      "                --------------------\n",
      "                train/epoch_loss:        0.3358660563826561\n",
      "train/qrs_score:         0.9516\n",
      "\n",
      "                test/qrs_score:          0.8853\n",
      "                ---------------------------------\n",
      "\n"
     ]
    },
    {
     "name": "stderr",
     "output_type": "stream",
     "text": [
      "2021-02-08 04:44:12,742 (INFO) train.py:268] \n",
      "                Train epoch_219:\n",
      "                --------------------\n",
      "                train/epoch_loss:        0.3358660563826561\n",
      "train/qrs_score:         0.9516\n",
      "\n",
      "                test/qrs_score:          0.8853\n",
      "                ---------------------------------\n",
      "\n"
     ]
    },
    {
     "name": "stdout",
     "output_type": "stream",
     "text": [
      "ECG-SEQ-LAB - INFO - Created checkpoint directory\n"
     ]
    },
    {
     "name": "stderr",
     "output_type": "stream",
     "text": [
      "2021-02-08 04:44:12,751 (INFO) train.py:275] Created checkpoint directory\n"
     ]
    },
    {
     "name": "stdout",
     "output_type": "stream",
     "text": [
      "ECG-SEQ-LAB - INFO - Checkpoint 219 saved!\n"
     ]
    },
    {
     "name": "stderr",
     "output_type": "stream",
     "text": [
      "2021-02-08 04:44:12,856 (INFO) train.py:283] Checkpoint 219 saved!\n",
      "Epoch 219/300: 100%|████████████████████████████████████████████| 1600/1600 [00:54<00:00, 29.31it/s]\n",
      "Epoch 220/300:  96%|██████████████████████ | 1536/1600 [00:37<00:01, 47.15it/s, loss (batch)=0.0408]"
     ]
    },
    {
     "name": "stdout",
     "output_type": "stream",
     "text": [
      "ECG-SEQ-LAB - INFO - Train step_1540: loss : 0.040801361203193665\n"
     ]
    },
    {
     "name": "stderr",
     "output_type": "stream",
     "text": [
      "2021-02-08 04:44:50,455 (INFO) train.py:225] Train step_1540: loss : 0.040801361203193665\n",
      "Epoch 220/300: 100%|███████████████████████| 1600/1600 [00:50<00:00, 25.71it/s, loss (batch)=0.0408]"
     ]
    },
    {
     "name": "stdout",
     "output_type": "stream",
     "text": [
      "QRS_acc: 0.9525\n",
      "Scoring complete.\n",
      "QRS_acc: 0.889\n",
      "Scoring complete.\n",
      "ECG-SEQ-LAB - INFO - \n",
      "                Train epoch_220:\n",
      "                --------------------\n",
      "                train/epoch_loss:        0.3402406573295593\n",
      "train/qrs_score:         0.9525\n",
      "\n",
      "                test/qrs_score:          0.889\n",
      "                ---------------------------------\n",
      "\n"
     ]
    },
    {
     "name": "stderr",
     "output_type": "stream",
     "text": [
      "2021-02-08 04:45:09,705 (INFO) train.py:268] \n",
      "                Train epoch_220:\n",
      "                --------------------\n",
      "                train/epoch_loss:        0.3402406573295593\n",
      "train/qrs_score:         0.9525\n",
      "\n",
      "                test/qrs_score:          0.889\n",
      "                ---------------------------------\n",
      "\n"
     ]
    },
    {
     "name": "stdout",
     "output_type": "stream",
     "text": [
      "ECG-SEQ-LAB - INFO - Created checkpoint directory\n"
     ]
    },
    {
     "name": "stderr",
     "output_type": "stream",
     "text": [
      "2021-02-08 04:45:09,711 (INFO) train.py:275] Created checkpoint directory\n"
     ]
    },
    {
     "name": "stdout",
     "output_type": "stream",
     "text": [
      "ECG-SEQ-LAB - INFO - Checkpoint 220 saved!\n"
     ]
    },
    {
     "name": "stderr",
     "output_type": "stream",
     "text": [
      "2021-02-08 04:45:09,919 (INFO) train.py:283] Checkpoint 220 saved!\n",
      "Epoch 220/300: 100%|███████████████████████| 1600/1600 [00:57<00:00, 28.04it/s, loss (batch)=0.0408]\n",
      "Epoch 221/300: 100%|████████████████████████████████████████████| 1600/1600 [00:36<00:00, 29.07it/s]"
     ]
    },
    {
     "name": "stdout",
     "output_type": "stream",
     "text": [
      "QRS_acc: 0.9515\n",
      "Scoring complete.\n"
     ]
    },
    {
     "name": "stderr",
     "output_type": "stream",
     "text": [
      "\r",
      "Epoch 221/300: 100%|████████████████████████████████████████████| 1600/1600 [00:50<00:00, 29.07it/s]"
     ]
    },
    {
     "name": "stdout",
     "output_type": "stream",
     "text": [
      "QRS_acc: 0.8762\n",
      "Scoring complete.\n",
      "ECG-SEQ-LAB - INFO - \n",
      "                Train epoch_221:\n",
      "                --------------------\n",
      "                train/epoch_loss:        0.34685930237174034\n",
      "train/qrs_score:         0.9515\n",
      "\n",
      "                test/qrs_score:          0.8762\n",
      "                ---------------------------------\n",
      "\n"
     ]
    },
    {
     "name": "stderr",
     "output_type": "stream",
     "text": [
      "2021-02-08 04:46:01,527 (INFO) train.py:268] \n",
      "                Train epoch_221:\n",
      "                --------------------\n",
      "                train/epoch_loss:        0.34685930237174034\n",
      "train/qrs_score:         0.9515\n",
      "\n",
      "                test/qrs_score:          0.8762\n",
      "                ---------------------------------\n",
      "\n"
     ]
    },
    {
     "name": "stdout",
     "output_type": "stream",
     "text": [
      "ECG-SEQ-LAB - INFO - Created checkpoint directory\n"
     ]
    },
    {
     "name": "stderr",
     "output_type": "stream",
     "text": [
      "2021-02-08 04:46:01,535 (INFO) train.py:275] Created checkpoint directory\n"
     ]
    },
    {
     "name": "stdout",
     "output_type": "stream",
     "text": [
      "ECG-SEQ-LAB - INFO - Checkpoint 221 saved!\n"
     ]
    },
    {
     "name": "stderr",
     "output_type": "stream",
     "text": [
      "2021-02-08 04:46:01,657 (INFO) train.py:283] Checkpoint 221 saved!\n",
      "Epoch 221/300: 100%|████████████████████████████████████████████| 1600/1600 [00:51<00:00, 30.93it/s]\n",
      "Epoch 222/300: 100%|████████████████████████████████████████████| 1600/1600 [00:36<00:00, 28.75it/s]"
     ]
    },
    {
     "name": "stdout",
     "output_type": "stream",
     "text": [
      "QRS_acc: 0.9529\n",
      "Scoring complete.\n"
     ]
    },
    {
     "name": "stderr",
     "output_type": "stream",
     "text": [
      "\r",
      "Epoch 222/300: 100%|████████████████████████████████████████████| 1600/1600 [00:50<00:00, 28.75it/s]"
     ]
    },
    {
     "name": "stdout",
     "output_type": "stream",
     "text": [
      "QRS_acc: 0.8808\n",
      "Scoring complete.\n",
      "ECG-SEQ-LAB - INFO - \n",
      "                Train epoch_222:\n",
      "                --------------------\n",
      "                train/epoch_loss:        0.3528086878359318\n",
      "train/qrs_score:         0.9529\n",
      "\n",
      "                test/qrs_score:          0.8808\n",
      "                ---------------------------------\n",
      "\n"
     ]
    },
    {
     "name": "stderr",
     "output_type": "stream",
     "text": [
      "2021-02-08 04:46:53,221 (INFO) train.py:268] \n",
      "                Train epoch_222:\n",
      "                --------------------\n",
      "                train/epoch_loss:        0.3528086878359318\n",
      "train/qrs_score:         0.9529\n",
      "\n",
      "                test/qrs_score:          0.8808\n",
      "                ---------------------------------\n",
      "\n"
     ]
    },
    {
     "name": "stdout",
     "output_type": "stream",
     "text": [
      "ECG-SEQ-LAB - INFO - Created checkpoint directory\n"
     ]
    },
    {
     "name": "stderr",
     "output_type": "stream",
     "text": [
      "2021-02-08 04:46:53,230 (INFO) train.py:275] Created checkpoint directory\n"
     ]
    },
    {
     "name": "stdout",
     "output_type": "stream",
     "text": [
      "ECG-SEQ-LAB - INFO - Checkpoint 222 saved!\n"
     ]
    },
    {
     "name": "stderr",
     "output_type": "stream",
     "text": [
      "2021-02-08 04:46:53,331 (INFO) train.py:283] Checkpoint 222 saved!\n",
      "Epoch 222/300: 100%|████████████████████████████████████████████| 1600/1600 [00:51<00:00, 30.96it/s]\n",
      "Epoch 223/300:  80%|██████████████████▍    | 1280/1600 [00:36<00:07, 44.51it/s, loss (batch)=0.0483]"
     ]
    },
    {
     "name": "stdout",
     "output_type": "stream",
     "text": [
      "ECG-SEQ-LAB - INFO - Train step_1560: loss : 0.04832896217703819\n"
     ]
    },
    {
     "name": "stderr",
     "output_type": "stream",
     "text": [
      "2021-02-08 04:47:30,297 (INFO) train.py:225] Train step_1560: loss : 0.04832896217703819\n",
      "Epoch 223/300: 100%|███████████████████████| 1600/1600 [00:37<00:00, 48.93it/s, loss (batch)=0.0483]"
     ]
    },
    {
     "name": "stdout",
     "output_type": "stream",
     "text": [
      "QRS_acc: 0.954\n",
      "Scoring complete.\n"
     ]
    },
    {
     "name": "stderr",
     "output_type": "stream",
     "text": [
      "\r",
      "Epoch 223/300: 100%|███████████████████████| 1600/1600 [00:50<00:00, 48.93it/s, loss (batch)=0.0483]"
     ]
    },
    {
     "name": "stdout",
     "output_type": "stream",
     "text": [
      "QRS_acc: 0.8855\n",
      "Scoring complete.\n",
      "ECG-SEQ-LAB - INFO - \n",
      "                Train epoch_223:\n",
      "                --------------------\n",
      "                train/epoch_loss:        0.3469981700181961\n",
      "train/qrs_score:         0.954\n",
      "\n",
      "                test/qrs_score:          0.8855\n",
      "                ---------------------------------\n",
      "\n"
     ]
    },
    {
     "name": "stderr",
     "output_type": "stream",
     "text": [
      "2021-02-08 04:47:48,897 (INFO) train.py:268] \n",
      "                Train epoch_223:\n",
      "                --------------------\n",
      "                train/epoch_loss:        0.3469981700181961\n",
      "train/qrs_score:         0.954\n",
      "\n",
      "                test/qrs_score:          0.8855\n",
      "                ---------------------------------\n",
      "\n"
     ]
    },
    {
     "name": "stdout",
     "output_type": "stream",
     "text": [
      "ECG-SEQ-LAB - INFO - Created checkpoint directory\n"
     ]
    },
    {
     "name": "stderr",
     "output_type": "stream",
     "text": [
      "2021-02-08 04:47:48,909 (INFO) train.py:275] Created checkpoint directory\n"
     ]
    },
    {
     "name": "stdout",
     "output_type": "stream",
     "text": [
      "ECG-SEQ-LAB - INFO - Checkpoint 223 saved!\n"
     ]
    },
    {
     "name": "stderr",
     "output_type": "stream",
     "text": [
      "2021-02-08 04:47:49,269 (INFO) train.py:283] Checkpoint 223 saved!\n",
      "Epoch 223/300: 100%|███████████████████████| 1600/1600 [00:55<00:00, 28.58it/s, loss (batch)=0.0483]\n",
      "Epoch 224/300: 100%|████████████████████████████████████████████| 1600/1600 [00:37<00:00, 28.62it/s]"
     ]
    },
    {
     "name": "stdout",
     "output_type": "stream",
     "text": [
      "QRS_acc: 0.9529\n",
      "Scoring complete.\n"
     ]
    },
    {
     "name": "stderr",
     "output_type": "stream",
     "text": [
      "\r",
      "Epoch 224/300: 100%|████████████████████████████████████████████| 1600/1600 [00:50<00:00, 28.62it/s]"
     ]
    },
    {
     "name": "stdout",
     "output_type": "stream",
     "text": [
      "QRS_acc: 0.897\n",
      "Scoring complete.\n",
      "ECG-SEQ-LAB - INFO - \n",
      "                Train epoch_224:\n",
      "                --------------------\n",
      "                train/epoch_loss:        0.34490305557847023\n",
      "train/qrs_score:         0.9529\n",
      "\n",
      "                test/qrs_score:          0.897\n",
      "                ---------------------------------\n",
      "\n"
     ]
    },
    {
     "name": "stderr",
     "output_type": "stream",
     "text": [
      "2021-02-08 04:48:41,344 (INFO) train.py:268] \n",
      "                Train epoch_224:\n",
      "                --------------------\n",
      "                train/epoch_loss:        0.34490305557847023\n",
      "train/qrs_score:         0.9529\n",
      "\n",
      "                test/qrs_score:          0.897\n",
      "                ---------------------------------\n",
      "\n"
     ]
    },
    {
     "name": "stdout",
     "output_type": "stream",
     "text": [
      "ECG-SEQ-LAB - INFO - Created checkpoint directory\n"
     ]
    },
    {
     "name": "stderr",
     "output_type": "stream",
     "text": [
      "2021-02-08 04:48:41,362 (INFO) train.py:275] Created checkpoint directory\n"
     ]
    },
    {
     "name": "stdout",
     "output_type": "stream",
     "text": [
      "ECG-SEQ-LAB - INFO - Checkpoint 224 saved!\n"
     ]
    },
    {
     "name": "stderr",
     "output_type": "stream",
     "text": [
      "2021-02-08 04:48:41,593 (INFO) train.py:283] Checkpoint 224 saved!\n",
      "Epoch 224/300: 100%|████████████████████████████████████████████| 1600/1600 [00:52<00:00, 30.60it/s]\n",
      "Epoch 225/300: 100%|████████████████████████████████████████████| 1600/1600 [00:50<00:00, 28.36it/s]"
     ]
    },
    {
     "name": "stdout",
     "output_type": "stream",
     "text": [
      "QRS_acc: 0.9566\n",
      "Scoring complete.\n",
      "QRS_acc: 0.8945\n",
      "Scoring complete.\n",
      "ECG-SEQ-LAB - INFO - \n",
      "                Train epoch_225:\n",
      "                --------------------\n",
      "                train/epoch_loss:        0.33154505491256714\n",
      "train/qrs_score:         0.9566\n",
      "\n",
      "                test/qrs_score:          0.8945\n",
      "                ---------------------------------\n",
      "\n"
     ]
    },
    {
     "name": "stderr",
     "output_type": "stream",
     "text": [
      "2021-02-08 04:49:36,211 (INFO) train.py:268] \n",
      "                Train epoch_225:\n",
      "                --------------------\n",
      "                train/epoch_loss:        0.33154505491256714\n",
      "train/qrs_score:         0.9566\n",
      "\n",
      "                test/qrs_score:          0.8945\n",
      "                ---------------------------------\n",
      "\n"
     ]
    },
    {
     "name": "stdout",
     "output_type": "stream",
     "text": [
      "ECG-SEQ-LAB - INFO - Created checkpoint directory\n"
     ]
    },
    {
     "name": "stderr",
     "output_type": "stream",
     "text": [
      "2021-02-08 04:49:36,220 (INFO) train.py:275] Created checkpoint directory\n"
     ]
    },
    {
     "name": "stdout",
     "output_type": "stream",
     "text": [
      "ECG-SEQ-LAB - INFO - Checkpoint 225 saved!\n"
     ]
    },
    {
     "name": "stderr",
     "output_type": "stream",
     "text": [
      "2021-02-08 04:49:36,425 (INFO) train.py:283] Checkpoint 225 saved!\n",
      "Epoch 225/300: 100%|████████████████████████████████████████████| 1600/1600 [00:54<00:00, 29.18it/s]\n",
      "Epoch 226/300:  64%|██████████████▋        | 1024/1600 [00:31<00:13, 44.11it/s, loss (batch)=0.0493]"
     ]
    },
    {
     "name": "stdout",
     "output_type": "stream",
     "text": [
      "ECG-SEQ-LAB - INFO - Train step_1580: loss : 0.04928189143538475\n"
     ]
    },
    {
     "name": "stderr",
     "output_type": "stream",
     "text": [
      "2021-02-08 04:50:07,596 (INFO) train.py:225] Train step_1580: loss : 0.04928189143538475\n",
      "Epoch 226/300: 100%|███████████████████████| 1600/1600 [00:36<00:00, 29.45it/s, loss (batch)=0.0493]"
     ]
    },
    {
     "name": "stdout",
     "output_type": "stream",
     "text": [
      "QRS_acc: 0.9516\n",
      "Scoring complete.\n"
     ]
    },
    {
     "name": "stderr",
     "output_type": "stream",
     "text": [
      "\r",
      "Epoch 226/300: 100%|███████████████████████| 1600/1600 [00:50<00:00, 29.45it/s, loss (batch)=0.0493]"
     ]
    },
    {
     "name": "stdout",
     "output_type": "stream",
     "text": [
      "QRS_acc: 0.8865\n",
      "Scoring complete.\n",
      "ECG-SEQ-LAB - INFO - \n",
      "                Train epoch_226:\n",
      "                --------------------\n",
      "                train/epoch_loss:        0.34714704751968384\n",
      "train/qrs_score:         0.9516\n",
      "\n",
      "                test/qrs_score:          0.8865\n",
      "                ---------------------------------\n",
      "\n"
     ]
    },
    {
     "name": "stderr",
     "output_type": "stream",
     "text": [
      "2021-02-08 04:50:29,907 (INFO) train.py:268] \n",
      "                Train epoch_226:\n",
      "                --------------------\n",
      "                train/epoch_loss:        0.34714704751968384\n",
      "train/qrs_score:         0.9516\n",
      "\n",
      "                test/qrs_score:          0.8865\n",
      "                ---------------------------------\n",
      "\n"
     ]
    },
    {
     "name": "stdout",
     "output_type": "stream",
     "text": [
      "ECG-SEQ-LAB - INFO - Created checkpoint directory\n"
     ]
    },
    {
     "name": "stderr",
     "output_type": "stream",
     "text": [
      "2021-02-08 04:50:29,913 (INFO) train.py:275] Created checkpoint directory\n"
     ]
    },
    {
     "name": "stdout",
     "output_type": "stream",
     "text": [
      "ECG-SEQ-LAB - INFO - Checkpoint 226 saved!\n"
     ]
    },
    {
     "name": "stderr",
     "output_type": "stream",
     "text": [
      "2021-02-08 04:50:30,094 (INFO) train.py:283] Checkpoint 226 saved!\n",
      "Epoch 226/300: 100%|███████████████████████| 1600/1600 [00:53<00:00, 29.81it/s, loss (batch)=0.0493]\n",
      "Epoch 227/300: 100%|████████████████████████████████████████████| 1600/1600 [00:37<00:00, 28.57it/s]"
     ]
    },
    {
     "name": "stdout",
     "output_type": "stream",
     "text": [
      "QRS_acc: 0.9547\n",
      "Scoring complete.\n"
     ]
    },
    {
     "name": "stderr",
     "output_type": "stream",
     "text": [
      "\r",
      "Epoch 227/300: 100%|████████████████████████████████████████████| 1600/1600 [00:50<00:00, 28.57it/s]"
     ]
    },
    {
     "name": "stdout",
     "output_type": "stream",
     "text": [
      "QRS_acc: 0.891\n",
      "Scoring complete.\n",
      "ECG-SEQ-LAB - INFO - \n",
      "                Train epoch_227:\n",
      "                --------------------\n",
      "                train/epoch_loss:        0.3452250212430954\n",
      "train/qrs_score:         0.9547\n",
      "\n",
      "                test/qrs_score:          0.891\n",
      "                ---------------------------------\n",
      "\n"
     ]
    },
    {
     "name": "stderr",
     "output_type": "stream",
     "text": [
      "2021-02-08 04:51:28,334 (INFO) train.py:268] \n",
      "                Train epoch_227:\n",
      "                --------------------\n",
      "                train/epoch_loss:        0.3452250212430954\n",
      "train/qrs_score:         0.9547\n",
      "\n",
      "                test/qrs_score:          0.891\n",
      "                ---------------------------------\n",
      "\n"
     ]
    },
    {
     "name": "stdout",
     "output_type": "stream",
     "text": [
      "ECG-SEQ-LAB - INFO - Created checkpoint directory\n"
     ]
    },
    {
     "name": "stderr",
     "output_type": "stream",
     "text": [
      "2021-02-08 04:51:28,408 (INFO) train.py:275] Created checkpoint directory\n"
     ]
    },
    {
     "name": "stdout",
     "output_type": "stream",
     "text": [
      "ECG-SEQ-LAB - INFO - Checkpoint 227 saved!\n"
     ]
    },
    {
     "name": "stderr",
     "output_type": "stream",
     "text": [
      "2021-02-08 04:51:29,655 (INFO) train.py:283] Checkpoint 227 saved!\n",
      "Epoch 227/300: 100%|████████████████████████████████████████████| 1600/1600 [00:59<00:00, 26.84it/s]\n",
      "Epoch 228/300: 100%|████████████████████████████████████████████| 1600/1600 [01:20<00:00, 20.74it/s]"
     ]
    },
    {
     "name": "stdout",
     "output_type": "stream",
     "text": [
      "QRS_acc: 0.954\n",
      "Scoring complete.\n",
      "QRS_acc: 0.8978\n",
      "Scoring complete.\n",
      "ECG-SEQ-LAB - INFO - \n",
      "                Train epoch_228:\n",
      "                --------------------\n",
      "                train/epoch_loss:        0.340599425137043\n",
      "train/qrs_score:         0.954\n",
      "\n",
      "                test/qrs_score:          0.8978\n",
      "                ---------------------------------\n",
      "\n"
     ]
    },
    {
     "name": "stderr",
     "output_type": "stream",
     "text": [
      "2021-02-08 04:53:14,331 (INFO) train.py:268] \n",
      "                Train epoch_228:\n",
      "                --------------------\n",
      "                train/epoch_loss:        0.340599425137043\n",
      "train/qrs_score:         0.954\n",
      "\n",
      "                test/qrs_score:          0.8978\n",
      "                ---------------------------------\n",
      "\n"
     ]
    },
    {
     "name": "stdout",
     "output_type": "stream",
     "text": [
      "ECG-SEQ-LAB - INFO - Created checkpoint directory\n"
     ]
    },
    {
     "name": "stderr",
     "output_type": "stream",
     "text": [
      "2021-02-08 04:53:14,368 (INFO) train.py:275] Created checkpoint directory\n"
     ]
    },
    {
     "name": "stdout",
     "output_type": "stream",
     "text": [
      "ECG-SEQ-LAB - INFO - Checkpoint 228 saved!\n"
     ]
    },
    {
     "name": "stderr",
     "output_type": "stream",
     "text": [
      "2021-02-08 04:53:14,618 (INFO) train.py:283] Checkpoint 228 saved!\n",
      "Epoch 228/300: 100%|████████████████████████████████████████████| 1600/1600 [01:44<00:00, 15.25it/s]\n",
      "Epoch 229/300:  48%|███████████▌            | 768/1600 [00:26<00:20, 40.44it/s, loss (batch)=0.0485]"
     ]
    },
    {
     "name": "stdout",
     "output_type": "stream",
     "text": [
      "ECG-SEQ-LAB - INFO - Train step_1600: loss : 0.048500906676054\n"
     ]
    },
    {
     "name": "stderr",
     "output_type": "stream",
     "text": [
      "2021-02-08 04:53:40,996 (INFO) train.py:225] Train step_1600: loss : 0.048500906676054\n",
      "Epoch 229/300: 100%|███████████████████████| 1600/1600 [00:37<00:00, 29.29it/s, loss (batch)=0.0485]"
     ]
    },
    {
     "name": "stdout",
     "output_type": "stream",
     "text": [
      "QRS_acc: 0.9468\n",
      "Scoring complete.\n"
     ]
    },
    {
     "name": "stderr",
     "output_type": "stream",
     "text": [
      "\r",
      "Epoch 229/300: 100%|███████████████████████| 1600/1600 [00:50<00:00, 29.29it/s, loss (batch)=0.0485]"
     ]
    },
    {
     "name": "stdout",
     "output_type": "stream",
     "text": [
      "QRS_acc: 0.8725\n",
      "Scoring complete.\n",
      "ECG-SEQ-LAB - INFO - \n",
      "                Train epoch_229:\n",
      "                --------------------\n",
      "                train/epoch_loss:        0.3435955382883549\n",
      "train/qrs_score:         0.9468\n",
      "\n",
      "                test/qrs_score:          0.8725\n",
      "                ---------------------------------\n",
      "\n"
     ]
    },
    {
     "name": "stderr",
     "output_type": "stream",
     "text": [
      "2021-02-08 04:54:06,557 (INFO) train.py:268] \n",
      "                Train epoch_229:\n",
      "                --------------------\n",
      "                train/epoch_loss:        0.3435955382883549\n",
      "train/qrs_score:         0.9468\n",
      "\n",
      "                test/qrs_score:          0.8725\n",
      "                ---------------------------------\n",
      "\n"
     ]
    },
    {
     "name": "stdout",
     "output_type": "stream",
     "text": [
      "ECG-SEQ-LAB - INFO - Created checkpoint directory\n"
     ]
    },
    {
     "name": "stderr",
     "output_type": "stream",
     "text": [
      "2021-02-08 04:54:06,561 (INFO) train.py:275] Created checkpoint directory\n"
     ]
    },
    {
     "name": "stdout",
     "output_type": "stream",
     "text": [
      "ECG-SEQ-LAB - INFO - Checkpoint 229 saved!\n"
     ]
    },
    {
     "name": "stderr",
     "output_type": "stream",
     "text": [
      "2021-02-08 04:54:06,777 (INFO) train.py:283] Checkpoint 229 saved!\n",
      "Epoch 229/300: 100%|███████████████████████| 1600/1600 [00:52<00:00, 30.68it/s, loss (batch)=0.0485]\n",
      "Epoch 230/300: 100%|████████████████████████████████████████████| 1600/1600 [00:39<00:00, 27.66it/s]"
     ]
    },
    {
     "name": "stdout",
     "output_type": "stream",
     "text": [
      "QRS_acc: 0.9544\n",
      "Scoring complete.\n"
     ]
    },
    {
     "name": "stderr",
     "output_type": "stream",
     "text": [
      "\r",
      "Epoch 230/300: 100%|████████████████████████████████████████████| 1600/1600 [00:50<00:00, 27.66it/s]"
     ]
    },
    {
     "name": "stdout",
     "output_type": "stream",
     "text": [
      "QRS_acc: 0.8988\n",
      "Scoring complete.\n",
      "ECG-SEQ-LAB - INFO - \n",
      "                Train epoch_230:\n",
      "                --------------------\n",
      "                train/epoch_loss:        0.34047849476337433\n",
      "train/qrs_score:         0.9544\n",
      "\n",
      "                test/qrs_score:          0.8988\n",
      "                ---------------------------------\n",
      "\n"
     ]
    },
    {
     "name": "stderr",
     "output_type": "stream",
     "text": [
      "2021-02-08 04:55:01,855 (INFO) train.py:268] \n",
      "                Train epoch_230:\n",
      "                --------------------\n",
      "                train/epoch_loss:        0.34047849476337433\n",
      "train/qrs_score:         0.9544\n",
      "\n",
      "                test/qrs_score:          0.8988\n",
      "                ---------------------------------\n",
      "\n"
     ]
    },
    {
     "name": "stdout",
     "output_type": "stream",
     "text": [
      "ECG-SEQ-LAB - INFO - Created checkpoint directory\n"
     ]
    },
    {
     "name": "stderr",
     "output_type": "stream",
     "text": [
      "2021-02-08 04:55:01,864 (INFO) train.py:275] Created checkpoint directory\n"
     ]
    },
    {
     "name": "stdout",
     "output_type": "stream",
     "text": [
      "ECG-SEQ-LAB - INFO - Checkpoint 230 saved!\n"
     ]
    },
    {
     "name": "stderr",
     "output_type": "stream",
     "text": [
      "2021-02-08 04:55:02,089 (INFO) train.py:283] Checkpoint 230 saved!\n",
      "Epoch 230/300: 100%|████████████████████████████████████████████| 1600/1600 [00:55<00:00, 28.93it/s]\n",
      "Epoch 231/300: 100%|████████████████████████████████████████████| 1600/1600 [00:37<00:00, 28.67it/s]"
     ]
    },
    {
     "name": "stdout",
     "output_type": "stream",
     "text": [
      "QRS_acc: 0.952\n",
      "Scoring complete.\n"
     ]
    },
    {
     "name": "stderr",
     "output_type": "stream",
     "text": [
      "\r",
      "Epoch 231/300: 100%|████████████████████████████████████████████| 1600/1600 [00:50<00:00, 28.67it/s]"
     ]
    },
    {
     "name": "stdout",
     "output_type": "stream",
     "text": [
      "QRS_acc: 0.888\n",
      "Scoring complete.\n",
      "ECG-SEQ-LAB - INFO - \n",
      "                Train epoch_231:\n",
      "                --------------------\n",
      "                train/epoch_loss:        0.3389006294310093\n",
      "train/qrs_score:         0.952\n",
      "\n",
      "                test/qrs_score:          0.888\n",
      "                ---------------------------------\n",
      "\n"
     ]
    },
    {
     "name": "stderr",
     "output_type": "stream",
     "text": [
      "2021-02-08 04:55:53,657 (INFO) train.py:268] \n",
      "                Train epoch_231:\n",
      "                --------------------\n",
      "                train/epoch_loss:        0.3389006294310093\n",
      "train/qrs_score:         0.952\n",
      "\n",
      "                test/qrs_score:          0.888\n",
      "                ---------------------------------\n",
      "\n"
     ]
    },
    {
     "name": "stdout",
     "output_type": "stream",
     "text": [
      "ECG-SEQ-LAB - INFO - Created checkpoint directory\n"
     ]
    },
    {
     "name": "stderr",
     "output_type": "stream",
     "text": [
      "2021-02-08 04:55:53,694 (INFO) train.py:275] Created checkpoint directory\n"
     ]
    },
    {
     "name": "stdout",
     "output_type": "stream",
     "text": [
      "ECG-SEQ-LAB - INFO - Checkpoint 231 saved!\n"
     ]
    },
    {
     "name": "stderr",
     "output_type": "stream",
     "text": [
      "2021-02-08 04:55:53,882 (INFO) train.py:283] Checkpoint 231 saved!\n",
      "Epoch 231/300: 100%|████████████████████████████████████████████| 1600/1600 [00:51<00:00, 30.89it/s]\n",
      "Epoch 232/300:  32%|███████▋                | 512/1600 [00:21<00:28, 38.57it/s, loss (batch)=0.0493]"
     ]
    },
    {
     "name": "stdout",
     "output_type": "stream",
     "text": [
      "ECG-SEQ-LAB - INFO - Train step_1620: loss : 0.04927689954638481\n"
     ]
    },
    {
     "name": "stderr",
     "output_type": "stream",
     "text": [
      "2021-02-08 04:56:15,042 (INFO) train.py:225] Train step_1620: loss : 0.04927689954638481\n",
      "Epoch 232/300: 100%|███████████████████████| 1600/1600 [00:36<00:00, 29.37it/s, loss (batch)=0.0493]"
     ]
    },
    {
     "name": "stdout",
     "output_type": "stream",
     "text": [
      "QRS_acc: 0.9501\n",
      "Scoring complete.\n"
     ]
    },
    {
     "name": "stderr",
     "output_type": "stream",
     "text": [
      "\r",
      "Epoch 232/300: 100%|███████████████████████| 1600/1600 [00:50<00:00, 29.37it/s, loss (batch)=0.0493]"
     ]
    },
    {
     "name": "stdout",
     "output_type": "stream",
     "text": [
      "QRS_acc: 0.8843\n",
      "Scoring complete.\n",
      "ECG-SEQ-LAB - INFO - \n",
      "                Train epoch_232:\n",
      "                --------------------\n",
      "                train/epoch_loss:        0.3404039703309536\n",
      "train/qrs_score:         0.9501\n",
      "\n",
      "                test/qrs_score:          0.8843\n",
      "                ---------------------------------\n",
      "\n"
     ]
    },
    {
     "name": "stderr",
     "output_type": "stream",
     "text": [
      "2021-02-08 04:56:47,417 (INFO) train.py:268] \n",
      "                Train epoch_232:\n",
      "                --------------------\n",
      "                train/epoch_loss:        0.3404039703309536\n",
      "train/qrs_score:         0.9501\n",
      "\n",
      "                test/qrs_score:          0.8843\n",
      "                ---------------------------------\n",
      "\n"
     ]
    },
    {
     "name": "stdout",
     "output_type": "stream",
     "text": [
      "ECG-SEQ-LAB - INFO - Created checkpoint directory\n"
     ]
    },
    {
     "name": "stderr",
     "output_type": "stream",
     "text": [
      "2021-02-08 04:56:47,443 (INFO) train.py:275] Created checkpoint directory\n"
     ]
    },
    {
     "name": "stdout",
     "output_type": "stream",
     "text": [
      "ECG-SEQ-LAB - INFO - Checkpoint 232 saved!\n"
     ]
    },
    {
     "name": "stderr",
     "output_type": "stream",
     "text": [
      "2021-02-08 04:56:47,650 (INFO) train.py:283] Checkpoint 232 saved!\n",
      "Epoch 232/300: 100%|███████████████████████| 1600/1600 [00:53<00:00, 29.75it/s, loss (batch)=0.0493]\n",
      "Epoch 233/300: 100%|████████████████████████████████████████████| 1600/1600 [00:41<00:00, 26.89it/s]"
     ]
    },
    {
     "name": "stdout",
     "output_type": "stream",
     "text": [
      "QRS_acc: 0.9528\n",
      "Scoring complete.\n",
      "QRS_acc: 0.893\n",
      "Scoring complete.\n",
      "ECG-SEQ-LAB - INFO - \n",
      "                Train epoch_233:\n",
      "                --------------------\n",
      "                train/epoch_loss:        0.34046638384461403\n",
      "train/qrs_score:         0.9528\n",
      "\n",
      "                test/qrs_score:          0.893\n",
      "                ---------------------------------\n",
      "\n"
     ]
    },
    {
     "name": "stderr",
     "output_type": "stream",
     "text": [
      "2021-02-08 04:57:43,295 (INFO) train.py:268] \n",
      "                Train epoch_233:\n",
      "                --------------------\n",
      "                train/epoch_loss:        0.34046638384461403\n",
      "train/qrs_score:         0.9528\n",
      "\n",
      "                test/qrs_score:          0.893\n",
      "                ---------------------------------\n",
      "\n"
     ]
    },
    {
     "name": "stdout",
     "output_type": "stream",
     "text": [
      "ECG-SEQ-LAB - INFO - Created checkpoint directory\n"
     ]
    },
    {
     "name": "stderr",
     "output_type": "stream",
     "text": [
      "2021-02-08 04:57:43,300 (INFO) train.py:275] Created checkpoint directory\n"
     ]
    },
    {
     "name": "stdout",
     "output_type": "stream",
     "text": [
      "ECG-SEQ-LAB - INFO - Checkpoint 233 saved!\n"
     ]
    },
    {
     "name": "stderr",
     "output_type": "stream",
     "text": [
      "2021-02-08 04:57:43,507 (INFO) train.py:283] Checkpoint 233 saved!\n",
      "Epoch 233/300: 100%|████████████████████████████████████████████| 1600/1600 [00:55<00:00, 28.65it/s]\n",
      "Epoch 234/300: 100%|████████████████████████████████████████████| 1600/1600 [00:36<00:00, 28.71it/s]"
     ]
    },
    {
     "name": "stdout",
     "output_type": "stream",
     "text": [
      "QRS_acc: 0.946\n",
      "Scoring complete.\n"
     ]
    },
    {
     "name": "stderr",
     "output_type": "stream",
     "text": [
      "\r",
      "Epoch 234/300: 100%|████████████████████████████████████████████| 1600/1600 [00:50<00:00, 28.71it/s]"
     ]
    },
    {
     "name": "stdout",
     "output_type": "stream",
     "text": [
      "QRS_acc: 0.8768\n",
      "Scoring complete.\n",
      "ECG-SEQ-LAB - INFO - \n",
      "                Train epoch_234:\n",
      "                --------------------\n",
      "                train/epoch_loss:        0.3326754719018936\n",
      "train/qrs_score:         0.946\n",
      "\n",
      "                test/qrs_score:          0.8768\n",
      "                ---------------------------------\n",
      "\n"
     ]
    },
    {
     "name": "stderr",
     "output_type": "stream",
     "text": [
      "2021-02-08 04:58:35,933 (INFO) train.py:268] \n",
      "                Train epoch_234:\n",
      "                --------------------\n",
      "                train/epoch_loss:        0.3326754719018936\n",
      "train/qrs_score:         0.946\n",
      "\n",
      "                test/qrs_score:          0.8768\n",
      "                ---------------------------------\n",
      "\n"
     ]
    },
    {
     "name": "stdout",
     "output_type": "stream",
     "text": [
      "ECG-SEQ-LAB - INFO - Created checkpoint directory\n"
     ]
    },
    {
     "name": "stderr",
     "output_type": "stream",
     "text": [
      "2021-02-08 04:58:35,945 (INFO) train.py:275] Created checkpoint directory\n"
     ]
    },
    {
     "name": "stdout",
     "output_type": "stream",
     "text": [
      "ECG-SEQ-LAB - INFO - Checkpoint 234 saved!\n"
     ]
    },
    {
     "name": "stderr",
     "output_type": "stream",
     "text": [
      "2021-02-08 04:58:36,175 (INFO) train.py:283] Checkpoint 234 saved!\n",
      "Epoch 234/300: 100%|████████████████████████████████████████████| 1600/1600 [00:52<00:00, 30.38it/s]\n",
      "Epoch 235/300:  16%|███▊                    | 256/1600 [00:16<00:41, 32.74it/s, loss (batch)=0.0479]"
     ]
    },
    {
     "name": "stdout",
     "output_type": "stream",
     "text": [
      "ECG-SEQ-LAB - INFO - Train step_1640: loss : 0.04794548079371452\n"
     ]
    },
    {
     "name": "stderr",
     "output_type": "stream",
     "text": [
      "2021-02-08 04:58:52,897 (INFO) train.py:225] Train step_1640: loss : 0.04794548079371452\n",
      "Epoch 235/300: 100%|███████████████████████| 1600/1600 [00:37<00:00, 28.69it/s, loss (batch)=0.0479]"
     ]
    },
    {
     "name": "stdout",
     "output_type": "stream",
     "text": [
      "QRS_acc: 0.9532\n",
      "Scoring complete.\n"
     ]
    },
    {
     "name": "stderr",
     "output_type": "stream",
     "text": [
      "\r",
      "Epoch 235/300: 100%|███████████████████████| 1600/1600 [00:50<00:00, 28.69it/s, loss (batch)=0.0479]"
     ]
    },
    {
     "name": "stdout",
     "output_type": "stream",
     "text": [
      "QRS_acc: 0.8878\n",
      "Scoring complete.\n",
      "ECG-SEQ-LAB - INFO - \n",
      "                Train epoch_235:\n",
      "                --------------------\n",
      "                train/epoch_loss:        0.33636118471622467\n",
      "train/qrs_score:         0.9532\n",
      "\n",
      "                test/qrs_score:          0.8878\n",
      "                ---------------------------------\n",
      "\n"
     ]
    },
    {
     "name": "stderr",
     "output_type": "stream",
     "text": [
      "2021-02-08 04:59:28,522 (INFO) train.py:268] \n",
      "                Train epoch_235:\n",
      "                --------------------\n",
      "                train/epoch_loss:        0.33636118471622467\n",
      "train/qrs_score:         0.9532\n",
      "\n",
      "                test/qrs_score:          0.8878\n",
      "                ---------------------------------\n",
      "\n"
     ]
    },
    {
     "name": "stdout",
     "output_type": "stream",
     "text": [
      "ECG-SEQ-LAB - INFO - Created checkpoint directory\n"
     ]
    },
    {
     "name": "stderr",
     "output_type": "stream",
     "text": [
      "2021-02-08 04:59:28,528 (INFO) train.py:275] Created checkpoint directory\n"
     ]
    },
    {
     "name": "stdout",
     "output_type": "stream",
     "text": [
      "ECG-SEQ-LAB - INFO - Checkpoint 235 saved!\n"
     ]
    },
    {
     "name": "stderr",
     "output_type": "stream",
     "text": [
      "2021-02-08 04:59:28,779 (INFO) train.py:283] Checkpoint 235 saved!\n",
      "Epoch 235/300: 100%|███████████████████████| 1600/1600 [00:52<00:00, 30.42it/s, loss (batch)=0.0479]\n",
      "Epoch 236/300: 100%|████████████████████████████████████████████| 1600/1600 [00:50<00:00, 27.84it/s]"
     ]
    },
    {
     "name": "stdout",
     "output_type": "stream",
     "text": [
      "QRS_acc: 0.956\n",
      "Scoring complete.\n",
      "QRS_acc: 0.8815\n",
      "Scoring complete.\n",
      "ECG-SEQ-LAB - INFO - \n",
      "                Train epoch_236:\n",
      "                --------------------\n",
      "                train/epoch_loss:        0.34134525060653687\n",
      "train/qrs_score:         0.956\n",
      "\n",
      "                test/qrs_score:          0.8815\n",
      "                ---------------------------------\n",
      "\n"
     ]
    },
    {
     "name": "stderr",
     "output_type": "stream",
     "text": [
      "2021-02-08 05:00:24,557 (INFO) train.py:268] \n",
      "                Train epoch_236:\n",
      "                --------------------\n",
      "                train/epoch_loss:        0.34134525060653687\n",
      "train/qrs_score:         0.956\n",
      "\n",
      "                test/qrs_score:          0.8815\n",
      "                ---------------------------------\n",
      "\n"
     ]
    },
    {
     "name": "stdout",
     "output_type": "stream",
     "text": [
      "ECG-SEQ-LAB - INFO - Created checkpoint directory\n"
     ]
    },
    {
     "name": "stderr",
     "output_type": "stream",
     "text": [
      "2021-02-08 05:00:24,564 (INFO) train.py:275] Created checkpoint directory\n"
     ]
    },
    {
     "name": "stdout",
     "output_type": "stream",
     "text": [
      "ECG-SEQ-LAB - INFO - Checkpoint 236 saved!\n"
     ]
    },
    {
     "name": "stderr",
     "output_type": "stream",
     "text": [
      "2021-02-08 05:00:24,793 (INFO) train.py:283] Checkpoint 236 saved!\n",
      "Epoch 236/300: 100%|████████████████████████████████████████████| 1600/1600 [00:56<00:00, 28.57it/s]\n",
      "Epoch 237/300: 100%|████████████████████████████████████████████| 1600/1600 [00:37<00:00, 28.57it/s]"
     ]
    },
    {
     "name": "stdout",
     "output_type": "stream",
     "text": [
      "QRS_acc: 0.9572\n",
      "Scoring complete.\n"
     ]
    },
    {
     "name": "stderr",
     "output_type": "stream",
     "text": [
      "\r",
      "Epoch 237/300: 100%|████████████████████████████████████████████| 1600/1600 [00:50<00:00, 28.57it/s]"
     ]
    },
    {
     "name": "stdout",
     "output_type": "stream",
     "text": [
      "QRS_acc: 0.881\n",
      "Scoring complete.\n",
      "ECG-SEQ-LAB - INFO - \n",
      "                Train epoch_237:\n",
      "                --------------------\n",
      "                train/epoch_loss:        0.3348275013267994\n",
      "train/qrs_score:         0.9572\n",
      "\n",
      "                test/qrs_score:          0.881\n",
      "                ---------------------------------\n",
      "\n"
     ]
    },
    {
     "name": "stderr",
     "output_type": "stream",
     "text": [
      "2021-02-08 05:01:16,326 (INFO) train.py:268] \n",
      "                Train epoch_237:\n",
      "                --------------------\n",
      "                train/epoch_loss:        0.3348275013267994\n",
      "train/qrs_score:         0.9572\n",
      "\n",
      "                test/qrs_score:          0.881\n",
      "                ---------------------------------\n",
      "\n"
     ]
    },
    {
     "name": "stdout",
     "output_type": "stream",
     "text": [
      "ECG-SEQ-LAB - INFO - Created checkpoint directory\n"
     ]
    },
    {
     "name": "stderr",
     "output_type": "stream",
     "text": [
      "2021-02-08 05:01:16,332 (INFO) train.py:275] Created checkpoint directory\n"
     ]
    },
    {
     "name": "stdout",
     "output_type": "stream",
     "text": [
      "ECG-SEQ-LAB - INFO - Checkpoint 237 saved!\n"
     ]
    },
    {
     "name": "stderr",
     "output_type": "stream",
     "text": [
      "2021-02-08 05:01:16,440 (INFO) train.py:283] Checkpoint 237 saved!\n",
      "Epoch 237/300: 100%|████████████████████████████████████████████| 1600/1600 [00:51<00:00, 30.98it/s]\n",
      "Epoch 238/300:   0%|                                  | 0/1600 [00:11<?, ?it/s, loss (batch)=0.0444]"
     ]
    },
    {
     "name": "stdout",
     "output_type": "stream",
     "text": [
      "ECG-SEQ-LAB - INFO - Train step_1660: loss : 0.04436073452234268\n"
     ]
    },
    {
     "name": "stderr",
     "output_type": "stream",
     "text": [
      "2021-02-08 05:01:27,715 (INFO) train.py:225] Train step_1660: loss : 0.04436073452234268\n",
      "Epoch 238/300: 100%|███████████████████████| 1600/1600 [00:36<00:00, 27.83it/s, loss (batch)=0.0444]"
     ]
    },
    {
     "name": "stdout",
     "output_type": "stream",
     "text": [
      "QRS_acc: 0.9536\n",
      "Scoring complete.\n"
     ]
    },
    {
     "name": "stderr",
     "output_type": "stream",
     "text": [
      "\r",
      "Epoch 238/300: 100%|███████████████████████| 1600/1600 [00:50<00:00, 27.83it/s, loss (batch)=0.0444]"
     ]
    },
    {
     "name": "stdout",
     "output_type": "stream",
     "text": [
      "QRS_acc: 0.8775\n",
      "Scoring complete.\n",
      "ECG-SEQ-LAB - INFO - \n",
      "                Train epoch_238:\n",
      "                --------------------\n",
      "                train/epoch_loss:        0.33265595883131027\n",
      "train/qrs_score:         0.9536\n",
      "\n",
      "                test/qrs_score:          0.8775\n",
      "                ---------------------------------\n",
      "\n"
     ]
    },
    {
     "name": "stderr",
     "output_type": "stream",
     "text": [
      "2021-02-08 05:02:10,328 (INFO) train.py:268] \n",
      "                Train epoch_238:\n",
      "                --------------------\n",
      "                train/epoch_loss:        0.33265595883131027\n",
      "train/qrs_score:         0.9536\n",
      "\n",
      "                test/qrs_score:          0.8775\n",
      "                ---------------------------------\n",
      "\n"
     ]
    },
    {
     "name": "stdout",
     "output_type": "stream",
     "text": [
      "ECG-SEQ-LAB - INFO - Created checkpoint directory\n"
     ]
    },
    {
     "name": "stderr",
     "output_type": "stream",
     "text": [
      "2021-02-08 05:02:10,343 (INFO) train.py:275] Created checkpoint directory\n"
     ]
    },
    {
     "name": "stdout",
     "output_type": "stream",
     "text": [
      "ECG-SEQ-LAB - INFO - Checkpoint 238 saved!\n"
     ]
    },
    {
     "name": "stderr",
     "output_type": "stream",
     "text": [
      "2021-02-08 05:02:10,575 (INFO) train.py:283] Checkpoint 238 saved!\n",
      "Epoch 238/300: 100%|███████████████████████| 1600/1600 [00:54<00:00, 29.56it/s, loss (batch)=0.0444]\n",
      "Epoch 239/300: 100%|████████████████████████████████████████████| 1600/1600 [00:37<00:00, 28.48it/s]"
     ]
    },
    {
     "name": "stdout",
     "output_type": "stream",
     "text": [
      "QRS_acc: 0.9546\n",
      "Scoring complete.\n"
     ]
    },
    {
     "name": "stderr",
     "output_type": "stream",
     "text": [
      "\r",
      "Epoch 239/300: 100%|████████████████████████████████████████████| 1600/1600 [00:50<00:00, 28.48it/s]"
     ]
    },
    {
     "name": "stdout",
     "output_type": "stream",
     "text": [
      "QRS_acc: 0.889\n",
      "Scoring complete.\n",
      "ECG-SEQ-LAB - INFO - \n",
      "                Train epoch_239:\n",
      "                --------------------\n",
      "                train/epoch_loss:        0.33986179903149605\n",
      "train/qrs_score:         0.9546\n",
      "\n",
      "                test/qrs_score:          0.889\n",
      "                ---------------------------------\n",
      "\n"
     ]
    },
    {
     "name": "stderr",
     "output_type": "stream",
     "text": [
      "2021-02-08 05:03:04,729 (INFO) train.py:268] \n",
      "                Train epoch_239:\n",
      "                --------------------\n",
      "                train/epoch_loss:        0.33986179903149605\n",
      "train/qrs_score:         0.9546\n",
      "\n",
      "                test/qrs_score:          0.889\n",
      "                ---------------------------------\n",
      "\n"
     ]
    },
    {
     "name": "stdout",
     "output_type": "stream",
     "text": [
      "ECG-SEQ-LAB - INFO - Created checkpoint directory\n"
     ]
    },
    {
     "name": "stderr",
     "output_type": "stream",
     "text": [
      "2021-02-08 05:03:04,743 (INFO) train.py:275] Created checkpoint directory\n"
     ]
    },
    {
     "name": "stdout",
     "output_type": "stream",
     "text": [
      "ECG-SEQ-LAB - INFO - Checkpoint 239 saved!\n"
     ]
    },
    {
     "name": "stderr",
     "output_type": "stream",
     "text": [
      "2021-02-08 05:03:04,983 (INFO) train.py:283] Checkpoint 239 saved!\n",
      "Epoch 239/300: 100%|████████████████████████████████████████████| 1600/1600 [00:54<00:00, 29.41it/s]\n",
      "Epoch 240/300:  96%|██████████████████████ | 1536/1600 [00:45<00:01, 38.52it/s, loss (batch)=0.0478]"
     ]
    },
    {
     "name": "stdout",
     "output_type": "stream",
     "text": [
      "ECG-SEQ-LAB - INFO - Train step_1680: loss : 0.04776932671666145\n"
     ]
    },
    {
     "name": "stderr",
     "output_type": "stream",
     "text": [
      "2021-02-08 05:03:50,033 (INFO) train.py:225] Train step_1680: loss : 0.04776932671666145\n",
      "Epoch 240/300: 100%|███████████████████████| 1600/1600 [01:00<00:00, 21.00it/s, loss (batch)=0.0478]"
     ]
    },
    {
     "name": "stdout",
     "output_type": "stream",
     "text": [
      "QRS_acc: 0.955\n",
      "Scoring complete.\n",
      "QRS_acc: 0.8862\n",
      "Scoring complete.\n",
      "ECG-SEQ-LAB - INFO - \n",
      "                Train epoch_240:\n",
      "                --------------------\n",
      "                train/epoch_loss:        0.3314392752945423\n",
      "train/qrs_score:         0.955\n",
      "\n",
      "                test/qrs_score:          0.8862\n",
      "                ---------------------------------\n",
      "\n"
     ]
    },
    {
     "name": "stderr",
     "output_type": "stream",
     "text": [
      "2021-02-08 05:04:11,859 (INFO) train.py:268] \n",
      "                Train epoch_240:\n",
      "                --------------------\n",
      "                train/epoch_loss:        0.3314392752945423\n",
      "train/qrs_score:         0.955\n",
      "\n",
      "                test/qrs_score:          0.8862\n",
      "                ---------------------------------\n",
      "\n"
     ]
    },
    {
     "name": "stdout",
     "output_type": "stream",
     "text": [
      "ECG-SEQ-LAB - INFO - Created checkpoint directory\n"
     ]
    },
    {
     "name": "stderr",
     "output_type": "stream",
     "text": [
      "2021-02-08 05:04:11,896 (INFO) train.py:275] Created checkpoint directory\n"
     ]
    },
    {
     "name": "stdout",
     "output_type": "stream",
     "text": [
      "ECG-SEQ-LAB - INFO - Checkpoint 240 saved!\n"
     ]
    },
    {
     "name": "stderr",
     "output_type": "stream",
     "text": [
      "2021-02-08 05:04:11,980 (INFO) train.py:283] Checkpoint 240 saved!\n",
      "Epoch 240/300: 100%|███████████████████████| 1600/1600 [01:07<00:00, 23.88it/s, loss (batch)=0.0478]\n",
      "Epoch 241/300: 100%|████████████████████████████████████████████| 1600/1600 [00:37<00:00, 28.44it/s]"
     ]
    },
    {
     "name": "stdout",
     "output_type": "stream",
     "text": [
      "QRS_acc: 0.9542\n",
      "Scoring complete.\n"
     ]
    },
    {
     "name": "stderr",
     "output_type": "stream",
     "text": [
      "\r",
      "Epoch 241/300: 100%|████████████████████████████████████████████| 1600/1600 [00:50<00:00, 28.44it/s]"
     ]
    },
    {
     "name": "stdout",
     "output_type": "stream",
     "text": [
      "QRS_acc: 0.8812\n",
      "Scoring complete.\n",
      "ECG-SEQ-LAB - INFO - \n",
      "                Train epoch_241:\n",
      "                --------------------\n",
      "                train/epoch_loss:        0.3330233618617058\n",
      "train/qrs_score:         0.9542\n",
      "\n",
      "                test/qrs_score:          0.8812\n",
      "                ---------------------------------\n",
      "\n"
     ]
    },
    {
     "name": "stderr",
     "output_type": "stream",
     "text": [
      "2021-02-08 05:05:03,300 (INFO) train.py:268] \n",
      "                Train epoch_241:\n",
      "                --------------------\n",
      "                train/epoch_loss:        0.3330233618617058\n",
      "train/qrs_score:         0.9542\n",
      "\n",
      "                test/qrs_score:          0.8812\n",
      "                ---------------------------------\n",
      "\n"
     ]
    },
    {
     "name": "stdout",
     "output_type": "stream",
     "text": [
      "ECG-SEQ-LAB - INFO - Created checkpoint directory\n"
     ]
    },
    {
     "name": "stderr",
     "output_type": "stream",
     "text": [
      "2021-02-08 05:05:03,303 (INFO) train.py:275] Created checkpoint directory\n"
     ]
    },
    {
     "name": "stdout",
     "output_type": "stream",
     "text": [
      "ECG-SEQ-LAB - INFO - Checkpoint 241 saved!\n"
     ]
    },
    {
     "name": "stderr",
     "output_type": "stream",
     "text": [
      "2021-02-08 05:05:03,394 (INFO) train.py:283] Checkpoint 241 saved!\n",
      "Epoch 241/300: 100%|████████████████████████████████████████████| 1600/1600 [00:51<00:00, 31.13it/s]\n",
      "Epoch 242/300: 100%|████████████████████████████████████████████| 1600/1600 [00:50<00:00, 28.56it/s]"
     ]
    },
    {
     "name": "stdout",
     "output_type": "stream",
     "text": [
      "QRS_acc: 0.9581\n",
      "Scoring complete.\n",
      "QRS_acc: 0.8732\n",
      "Scoring complete.\n",
      "ECG-SEQ-LAB - INFO - \n",
      "                Train epoch_242:\n",
      "                --------------------\n",
      "                train/epoch_loss:        0.3294380307197571\n",
      "train/qrs_score:         0.9581\n",
      "\n",
      "                test/qrs_score:          0.8732\n",
      "                ---------------------------------\n",
      "\n"
     ]
    },
    {
     "name": "stderr",
     "output_type": "stream",
     "text": [
      "2021-02-08 05:06:00,699 (INFO) train.py:268] \n",
      "                Train epoch_242:\n",
      "                --------------------\n",
      "                train/epoch_loss:        0.3294380307197571\n",
      "train/qrs_score:         0.9581\n",
      "\n",
      "                test/qrs_score:          0.8732\n",
      "                ---------------------------------\n",
      "\n"
     ]
    },
    {
     "name": "stdout",
     "output_type": "stream",
     "text": [
      "ECG-SEQ-LAB - INFO - Created checkpoint directory\n"
     ]
    },
    {
     "name": "stderr",
     "output_type": "stream",
     "text": [
      "2021-02-08 05:06:00,709 (INFO) train.py:275] Created checkpoint directory\n"
     ]
    },
    {
     "name": "stdout",
     "output_type": "stream",
     "text": [
      "ECG-SEQ-LAB - INFO - Checkpoint 242 saved!\n"
     ]
    },
    {
     "name": "stderr",
     "output_type": "stream",
     "text": [
      "2021-02-08 05:06:00,900 (INFO) train.py:283] Checkpoint 242 saved!\n",
      "Epoch 242/300: 100%|████████████████████████████████████████████| 1600/1600 [00:57<00:00, 27.82it/s]\n",
      "Epoch 243/300:  80%|██████████████████▍    | 1280/1600 [00:43<00:09, 35.50it/s, loss (batch)=0.0491]"
     ]
    },
    {
     "name": "stdout",
     "output_type": "stream",
     "text": [
      "ECG-SEQ-LAB - INFO - Train step_1700: loss : 0.04905762895941734\n"
     ]
    },
    {
     "name": "stderr",
     "output_type": "stream",
     "text": [
      "2021-02-08 05:06:43,958 (INFO) train.py:225] Train step_1700: loss : 0.04905762895941734\n",
      "Epoch 243/300: 100%|███████████████████████| 1600/1600 [01:00<00:00, 42.66it/s, loss (batch)=0.0491]"
     ]
    },
    {
     "name": "stdout",
     "output_type": "stream",
     "text": [
      "QRS_acc: 0.9549\n",
      "Scoring complete.\n",
      "QRS_acc: 0.8888\n",
      "Scoring complete.\n",
      "ECG-SEQ-LAB - INFO - \n",
      "                Train epoch_243:\n",
      "                --------------------\n",
      "                train/epoch_loss:        0.3374575525522232\n",
      "train/qrs_score:         0.9549\n",
      "\n",
      "                test/qrs_score:          0.8888\n",
      "                ---------------------------------\n",
      "\n"
     ]
    },
    {
     "name": "stderr",
     "output_type": "stream",
     "text": [
      "2021-02-08 05:07:46,160 (INFO) train.py:268] \n",
      "                Train epoch_243:\n",
      "                --------------------\n",
      "                train/epoch_loss:        0.3374575525522232\n",
      "train/qrs_score:         0.9549\n",
      "\n",
      "                test/qrs_score:          0.8888\n",
      "                ---------------------------------\n",
      "\n"
     ]
    },
    {
     "name": "stdout",
     "output_type": "stream",
     "text": [
      "ECG-SEQ-LAB - INFO - Created checkpoint directory\n"
     ]
    },
    {
     "name": "stderr",
     "output_type": "stream",
     "text": [
      "2021-02-08 05:07:46,449 (INFO) train.py:275] Created checkpoint directory\n"
     ]
    },
    {
     "name": "stdout",
     "output_type": "stream",
     "text": [
      "ECG-SEQ-LAB - INFO - Checkpoint 243 saved!\n"
     ]
    },
    {
     "name": "stderr",
     "output_type": "stream",
     "text": [
      "2021-02-08 05:07:47,890 (INFO) train.py:283] Checkpoint 243 saved!\n",
      "Epoch 243/300: 100%|███████████████████████| 1600/1600 [01:47<00:00, 14.95it/s, loss (batch)=0.0491]\n",
      "Epoch 244/300: 100%|████████████████████████████████████████████| 1600/1600 [00:41<00:00, 27.30it/s]"
     ]
    },
    {
     "name": "stdout",
     "output_type": "stream",
     "text": [
      "QRS_acc: 0.9566\n",
      "Scoring complete.\n",
      "QRS_acc: 0.8925\n",
      "Scoring complete.\n",
      "ECG-SEQ-LAB - INFO - \n",
      "                Train epoch_244:\n",
      "                --------------------\n",
      "                train/epoch_loss:        0.33347589150071144\n",
      "train/qrs_score:         0.9566\n",
      "\n",
      "                test/qrs_score:          0.8925\n",
      "                ---------------------------------\n",
      "\n"
     ]
    },
    {
     "name": "stderr",
     "output_type": "stream",
     "text": [
      "2021-02-08 05:08:46,206 (INFO) train.py:268] \n",
      "                Train epoch_244:\n",
      "                --------------------\n",
      "                train/epoch_loss:        0.33347589150071144\n",
      "train/qrs_score:         0.9566\n",
      "\n",
      "                test/qrs_score:          0.8925\n",
      "                ---------------------------------\n",
      "\n"
     ]
    },
    {
     "name": "stdout",
     "output_type": "stream",
     "text": [
      "ECG-SEQ-LAB - INFO - Created checkpoint directory\n"
     ]
    },
    {
     "name": "stderr",
     "output_type": "stream",
     "text": [
      "2021-02-08 05:08:46,211 (INFO) train.py:275] Created checkpoint directory\n"
     ]
    },
    {
     "name": "stdout",
     "output_type": "stream",
     "text": [
      "ECG-SEQ-LAB - INFO - Checkpoint 244 saved!\n"
     ]
    },
    {
     "name": "stderr",
     "output_type": "stream",
     "text": [
      "2021-02-08 05:08:46,382 (INFO) train.py:283] Checkpoint 244 saved!\n",
      "Epoch 244/300: 100%|████████████████████████████████████████████| 1600/1600 [00:58<00:00, 27.37it/s]\n",
      "Epoch 245/300: 100%|████████████████████████████████████████████| 1600/1600 [00:36<00:00, 29.29it/s]"
     ]
    },
    {
     "name": "stdout",
     "output_type": "stream",
     "text": [
      "QRS_acc: 0.9511\n",
      "Scoring complete.\n"
     ]
    },
    {
     "name": "stderr",
     "output_type": "stream",
     "text": [
      "\r",
      "Epoch 245/300: 100%|████████████████████████████████████████████| 1600/1600 [00:50<00:00, 29.29it/s]"
     ]
    },
    {
     "name": "stdout",
     "output_type": "stream",
     "text": [
      "QRS_acc: 0.8898\n",
      "Scoring complete.\n",
      "ECG-SEQ-LAB - INFO - \n",
      "                Train epoch_245:\n",
      "                --------------------\n",
      "                train/epoch_loss:        0.3353399895131588\n",
      "train/qrs_score:         0.9511\n",
      "\n",
      "                test/qrs_score:          0.8898\n",
      "                ---------------------------------\n",
      "\n"
     ]
    },
    {
     "name": "stderr",
     "output_type": "stream",
     "text": [
      "2021-02-08 05:09:38,030 (INFO) train.py:268] \n",
      "                Train epoch_245:\n",
      "                --------------------\n",
      "                train/epoch_loss:        0.3353399895131588\n",
      "train/qrs_score:         0.9511\n",
      "\n",
      "                test/qrs_score:          0.8898\n",
      "                ---------------------------------\n",
      "\n"
     ]
    },
    {
     "name": "stdout",
     "output_type": "stream",
     "text": [
      "ECG-SEQ-LAB - INFO - Created checkpoint directory\n"
     ]
    },
    {
     "name": "stderr",
     "output_type": "stream",
     "text": [
      "2021-02-08 05:09:38,039 (INFO) train.py:275] Created checkpoint directory\n"
     ]
    },
    {
     "name": "stdout",
     "output_type": "stream",
     "text": [
      "ECG-SEQ-LAB - INFO - Checkpoint 245 saved!\n"
     ]
    },
    {
     "name": "stderr",
     "output_type": "stream",
     "text": [
      "2021-02-08 05:09:38,272 (INFO) train.py:283] Checkpoint 245 saved!\n",
      "Epoch 245/300: 100%|████████████████████████████████████████████| 1600/1600 [00:51<00:00, 30.83it/s]\n",
      "Epoch 246/300:  64%|██████████████▋        | 1024/1600 [00:35<00:15, 37.19it/s, loss (batch)=0.0463]"
     ]
    },
    {
     "name": "stdout",
     "output_type": "stream",
     "text": [
      "ECG-SEQ-LAB - INFO - Train step_1720: loss : 0.04630674794316292\n"
     ]
    },
    {
     "name": "stderr",
     "output_type": "stream",
     "text": [
      "2021-02-08 05:10:13,896 (INFO) train.py:225] Train step_1720: loss : 0.04630674794316292\n",
      "Epoch 246/300: 100%|███████████████████████| 1600/1600 [00:41<00:00, 28.01it/s, loss (batch)=0.0463]"
     ]
    },
    {
     "name": "stdout",
     "output_type": "stream",
     "text": [
      "QRS_acc: 0.9562\n",
      "Scoring complete.\n",
      "QRS_acc: 0.8915\n",
      "Scoring complete.\n",
      "ECG-SEQ-LAB - INFO - \n",
      "                Train epoch_246:\n",
      "                --------------------\n",
      "                train/epoch_loss:        0.3337317146360874\n",
      "train/qrs_score:         0.9562\n",
      "\n",
      "                test/qrs_score:          0.8915\n",
      "                ---------------------------------\n",
      "\n"
     ]
    },
    {
     "name": "stderr",
     "output_type": "stream",
     "text": [
      "2021-02-08 05:10:34,516 (INFO) train.py:268] \n",
      "                Train epoch_246:\n",
      "                --------------------\n",
      "                train/epoch_loss:        0.3337317146360874\n",
      "train/qrs_score:         0.9562\n",
      "\n",
      "                test/qrs_score:          0.8915\n",
      "                ---------------------------------\n",
      "\n"
     ]
    },
    {
     "name": "stdout",
     "output_type": "stream",
     "text": [
      "ECG-SEQ-LAB - INFO - Created checkpoint directory\n"
     ]
    },
    {
     "name": "stderr",
     "output_type": "stream",
     "text": [
      "2021-02-08 05:10:34,522 (INFO) train.py:275] Created checkpoint directory\n"
     ]
    },
    {
     "name": "stdout",
     "output_type": "stream",
     "text": [
      "ECG-SEQ-LAB - INFO - Checkpoint 246 saved!\n"
     ]
    },
    {
     "name": "stderr",
     "output_type": "stream",
     "text": [
      "2021-02-08 05:10:34,733 (INFO) train.py:283] Checkpoint 246 saved!\n",
      "Epoch 246/300: 100%|███████████████████████| 1600/1600 [00:56<00:00, 28.34it/s, loss (batch)=0.0463]\n",
      "Epoch 247/300: 100%|████████████████████████████████████████████| 1600/1600 [00:36<00:00, 28.80it/s]"
     ]
    },
    {
     "name": "stdout",
     "output_type": "stream",
     "text": [
      "QRS_acc: 0.955\n",
      "Scoring complete.\n"
     ]
    },
    {
     "name": "stderr",
     "output_type": "stream",
     "text": [
      "\r",
      "Epoch 247/300: 100%|████████████████████████████████████████████| 1600/1600 [00:50<00:00, 28.80it/s]"
     ]
    },
    {
     "name": "stdout",
     "output_type": "stream",
     "text": [
      "QRS_acc: 0.8858\n",
      "Scoring complete.\n",
      "ECG-SEQ-LAB - INFO - \n",
      "                Train epoch_247:\n",
      "                --------------------\n",
      "                train/epoch_loss:        0.33410341665148735\n",
      "train/qrs_score:         0.955\n",
      "\n",
      "                test/qrs_score:          0.8858\n",
      "                ---------------------------------\n",
      "\n"
     ]
    },
    {
     "name": "stderr",
     "output_type": "stream",
     "text": [
      "2021-02-08 05:11:29,202 (INFO) train.py:268] \n",
      "                Train epoch_247:\n",
      "                --------------------\n",
      "                train/epoch_loss:        0.33410341665148735\n",
      "train/qrs_score:         0.955\n",
      "\n",
      "                test/qrs_score:          0.8858\n",
      "                ---------------------------------\n",
      "\n"
     ]
    },
    {
     "name": "stdout",
     "output_type": "stream",
     "text": [
      "ECG-SEQ-LAB - INFO - Created checkpoint directory\n"
     ]
    },
    {
     "name": "stderr",
     "output_type": "stream",
     "text": [
      "2021-02-08 05:11:29,210 (INFO) train.py:275] Created checkpoint directory\n"
     ]
    },
    {
     "name": "stdout",
     "output_type": "stream",
     "text": [
      "ECG-SEQ-LAB - INFO - Checkpoint 247 saved!\n"
     ]
    },
    {
     "name": "stderr",
     "output_type": "stream",
     "text": [
      "2021-02-08 05:11:29,383 (INFO) train.py:283] Checkpoint 247 saved!\n",
      "Epoch 247/300: 100%|████████████████████████████████████████████| 1600/1600 [00:54<00:00, 29.28it/s]\n",
      "Epoch 248/300: 100%|████████████████████████████████████████████| 1600/1600 [00:36<00:00, 29.12it/s]"
     ]
    },
    {
     "name": "stdout",
     "output_type": "stream",
     "text": [
      "QRS_acc: 0.9567\n",
      "Scoring complete.\n"
     ]
    },
    {
     "name": "stderr",
     "output_type": "stream",
     "text": [
      "\r",
      "Epoch 248/300: 100%|████████████████████████████████████████████| 1600/1600 [00:50<00:00, 29.12it/s]"
     ]
    },
    {
     "name": "stdout",
     "output_type": "stream",
     "text": [
      "QRS_acc: 0.8943\n",
      "Scoring complete.\n",
      "ECG-SEQ-LAB - INFO - \n",
      "                Train epoch_248:\n",
      "                --------------------\n",
      "                train/epoch_loss:        0.32934462279081345\n",
      "train/qrs_score:         0.9567\n",
      "\n",
      "                test/qrs_score:          0.8943\n",
      "                ---------------------------------\n",
      "\n"
     ]
    },
    {
     "name": "stderr",
     "output_type": "stream",
     "text": [
      "2021-02-08 05:12:22,102 (INFO) train.py:268] \n",
      "                Train epoch_248:\n",
      "                --------------------\n",
      "                train/epoch_loss:        0.32934462279081345\n",
      "train/qrs_score:         0.9567\n",
      "\n",
      "                test/qrs_score:          0.8943\n",
      "                ---------------------------------\n",
      "\n"
     ]
    },
    {
     "name": "stdout",
     "output_type": "stream",
     "text": [
      "ECG-SEQ-LAB - INFO - Created checkpoint directory\n"
     ]
    },
    {
     "name": "stderr",
     "output_type": "stream",
     "text": [
      "2021-02-08 05:12:22,114 (INFO) train.py:275] Created checkpoint directory\n"
     ]
    },
    {
     "name": "stdout",
     "output_type": "stream",
     "text": [
      "ECG-SEQ-LAB - INFO - Checkpoint 248 saved!\n"
     ]
    },
    {
     "name": "stderr",
     "output_type": "stream",
     "text": [
      "2021-02-08 05:12:22,519 (INFO) train.py:283] Checkpoint 248 saved!\n",
      "Epoch 248/300: 100%|████████████████████████████████████████████| 1600/1600 [00:53<00:00, 30.11it/s]\n",
      "Epoch 249/300:  48%|███████████▌            | 768/1600 [00:27<00:21, 38.71it/s, loss (batch)=0.0437]"
     ]
    },
    {
     "name": "stdout",
     "output_type": "stream",
     "text": [
      "ECG-SEQ-LAB - INFO - Train step_1740: loss : 0.04365994408726692\n"
     ]
    },
    {
     "name": "stderr",
     "output_type": "stream",
     "text": [
      "2021-02-08 05:12:49,752 (INFO) train.py:225] Train step_1740: loss : 0.04365994408726692\n",
      "Epoch 249/300: 100%|███████████████████████| 1600/1600 [00:37<00:00, 29.06it/s, loss (batch)=0.0437]"
     ]
    },
    {
     "name": "stdout",
     "output_type": "stream",
     "text": [
      "QRS_acc: 0.9562\n",
      "Scoring complete.\n"
     ]
    },
    {
     "name": "stderr",
     "output_type": "stream",
     "text": [
      "\r",
      "Epoch 249/300: 100%|███████████████████████| 1600/1600 [00:50<00:00, 29.06it/s, loss (batch)=0.0437]"
     ]
    },
    {
     "name": "stdout",
     "output_type": "stream",
     "text": [
      "QRS_acc: 0.8958\n",
      "Scoring complete.\n",
      "ECG-SEQ-LAB - INFO - \n",
      "                Train epoch_249:\n",
      "                --------------------\n",
      "                train/epoch_loss:        0.32179345563054085\n",
      "train/qrs_score:         0.9562\n",
      "\n",
      "                test/qrs_score:          0.8958\n",
      "                ---------------------------------\n",
      "\n"
     ]
    },
    {
     "name": "stderr",
     "output_type": "stream",
     "text": [
      "2021-02-08 05:13:15,125 (INFO) train.py:268] \n",
      "                Train epoch_249:\n",
      "                --------------------\n",
      "                train/epoch_loss:        0.32179345563054085\n",
      "train/qrs_score:         0.9562\n",
      "\n",
      "                test/qrs_score:          0.8958\n",
      "                ---------------------------------\n",
      "\n"
     ]
    },
    {
     "name": "stdout",
     "output_type": "stream",
     "text": [
      "ECG-SEQ-LAB - INFO - Created checkpoint directory\n"
     ]
    },
    {
     "name": "stderr",
     "output_type": "stream",
     "text": [
      "2021-02-08 05:13:15,135 (INFO) train.py:275] Created checkpoint directory\n"
     ]
    },
    {
     "name": "stdout",
     "output_type": "stream",
     "text": [
      "ECG-SEQ-LAB - INFO - Checkpoint 249 saved!\n"
     ]
    },
    {
     "name": "stderr",
     "output_type": "stream",
     "text": [
      "2021-02-08 05:13:15,338 (INFO) train.py:283] Checkpoint 249 saved!\n",
      "Epoch 249/300: 100%|███████████████████████| 1600/1600 [00:52<00:00, 30.29it/s, loss (batch)=0.0437]\n",
      "Epoch 250/300: 100%|████████████████████████████████████████████| 1600/1600 [00:36<00:00, 29.16it/s]"
     ]
    },
    {
     "name": "stdout",
     "output_type": "stream",
     "text": [
      "QRS_acc: 0.9569\n",
      "Scoring complete.\n"
     ]
    },
    {
     "name": "stderr",
     "output_type": "stream",
     "text": [
      "\r",
      "Epoch 250/300: 100%|████████████████████████████████████████████| 1600/1600 [00:50<00:00, 29.16it/s]"
     ]
    },
    {
     "name": "stdout",
     "output_type": "stream",
     "text": [
      "QRS_acc: 0.8915\n",
      "Scoring complete.\n",
      "ECG-SEQ-LAB - INFO - \n",
      "                Train epoch_250:\n",
      "                --------------------\n",
      "                train/epoch_loss:        0.3257434815168381\n",
      "train/qrs_score:         0.9569\n",
      "\n",
      "                test/qrs_score:          0.8915\n",
      "                ---------------------------------\n",
      "\n"
     ]
    },
    {
     "name": "stderr",
     "output_type": "stream",
     "text": [
      "2021-02-08 05:14:08,854 (INFO) train.py:268] \n",
      "                Train epoch_250:\n",
      "                --------------------\n",
      "                train/epoch_loss:        0.3257434815168381\n",
      "train/qrs_score:         0.9569\n",
      "\n",
      "                test/qrs_score:          0.8915\n",
      "                ---------------------------------\n",
      "\n"
     ]
    },
    {
     "name": "stdout",
     "output_type": "stream",
     "text": [
      "ECG-SEQ-LAB - INFO - Created checkpoint directory\n"
     ]
    },
    {
     "name": "stderr",
     "output_type": "stream",
     "text": [
      "2021-02-08 05:14:08,859 (INFO) train.py:275] Created checkpoint directory\n"
     ]
    },
    {
     "name": "stdout",
     "output_type": "stream",
     "text": [
      "ECG-SEQ-LAB - INFO - Checkpoint 250 saved!\n"
     ]
    },
    {
     "name": "stderr",
     "output_type": "stream",
     "text": [
      "2021-02-08 05:14:09,069 (INFO) train.py:283] Checkpoint 250 saved!\n",
      "Epoch 250/300: 100%|████████████████████████████████████████████| 1600/1600 [00:53<00:00, 29.78it/s]\n",
      "Epoch 251/300: 100%|████████████████████████████████████████████| 1600/1600 [00:36<00:00, 28.96it/s]"
     ]
    },
    {
     "name": "stdout",
     "output_type": "stream",
     "text": [
      "QRS_acc: 0.9566\n",
      "Scoring complete.\n"
     ]
    },
    {
     "name": "stderr",
     "output_type": "stream",
     "text": [
      "\r",
      "Epoch 251/300: 100%|████████████████████████████████████████████| 1600/1600 [00:50<00:00, 28.96it/s]"
     ]
    },
    {
     "name": "stdout",
     "output_type": "stream",
     "text": [
      "QRS_acc: 0.8938\n",
      "Scoring complete.\n",
      "ECG-SEQ-LAB - INFO - \n",
      "                Train epoch_251:\n",
      "                --------------------\n",
      "                train/epoch_loss:        0.3271975740790367\n",
      "train/qrs_score:         0.9566\n",
      "\n",
      "                test/qrs_score:          0.8938\n",
      "                ---------------------------------\n",
      "\n"
     ]
    },
    {
     "name": "stderr",
     "output_type": "stream",
     "text": [
      "2021-02-08 05:15:01,609 (INFO) train.py:268] \n",
      "                Train epoch_251:\n",
      "                --------------------\n",
      "                train/epoch_loss:        0.3271975740790367\n",
      "train/qrs_score:         0.9566\n",
      "\n",
      "                test/qrs_score:          0.8938\n",
      "                ---------------------------------\n",
      "\n"
     ]
    },
    {
     "name": "stdout",
     "output_type": "stream",
     "text": [
      "ECG-SEQ-LAB - INFO - Created checkpoint directory\n"
     ]
    },
    {
     "name": "stderr",
     "output_type": "stream",
     "text": [
      "2021-02-08 05:15:01,620 (INFO) train.py:275] Created checkpoint directory\n"
     ]
    },
    {
     "name": "stdout",
     "output_type": "stream",
     "text": [
      "ECG-SEQ-LAB - INFO - Checkpoint 251 saved!\n"
     ]
    },
    {
     "name": "stderr",
     "output_type": "stream",
     "text": [
      "2021-02-08 05:15:01,832 (INFO) train.py:283] Checkpoint 251 saved!\n",
      "Epoch 251/300: 100%|████████████████████████████████████████████| 1600/1600 [00:52<00:00, 30.32it/s]\n",
      "Epoch 252/300:  32%|███████▋                | 512/1600 [00:24<00:37, 28.78it/s, loss (batch)=0.0503]"
     ]
    },
    {
     "name": "stdout",
     "output_type": "stream",
     "text": [
      "ECG-SEQ-LAB - INFO - Train step_1760: loss : 0.050272274762392044\n"
     ]
    },
    {
     "name": "stderr",
     "output_type": "stream",
     "text": [
      "2021-02-08 05:15:26,396 (INFO) train.py:225] Train step_1760: loss : 0.050272274762392044\n",
      "Epoch 252/300: 100%|███████████████████████| 1600/1600 [00:50<00:00, 28.39it/s, loss (batch)=0.0503]"
     ]
    },
    {
     "name": "stdout",
     "output_type": "stream",
     "text": [
      "QRS_acc: 0.9528\n",
      "Scoring complete.\n",
      "QRS_acc: 0.8915\n",
      "Scoring complete.\n",
      "ECG-SEQ-LAB - INFO - \n",
      "                Train epoch_252:\n",
      "                --------------------\n",
      "                train/epoch_loss:        0.3259669616818428\n",
      "train/qrs_score:         0.9528\n",
      "\n",
      "                test/qrs_score:          0.8915\n",
      "                ---------------------------------\n",
      "\n"
     ]
    },
    {
     "name": "stderr",
     "output_type": "stream",
     "text": [
      "2021-02-08 05:15:58,627 (INFO) train.py:268] \n",
      "                Train epoch_252:\n",
      "                --------------------\n",
      "                train/epoch_loss:        0.3259669616818428\n",
      "train/qrs_score:         0.9528\n",
      "\n",
      "                test/qrs_score:          0.8915\n",
      "                ---------------------------------\n",
      "\n"
     ]
    },
    {
     "name": "stdout",
     "output_type": "stream",
     "text": [
      "ECG-SEQ-LAB - INFO - Created checkpoint directory\n"
     ]
    },
    {
     "name": "stderr",
     "output_type": "stream",
     "text": [
      "2021-02-08 05:15:58,641 (INFO) train.py:275] Created checkpoint directory\n"
     ]
    },
    {
     "name": "stdout",
     "output_type": "stream",
     "text": [
      "ECG-SEQ-LAB - INFO - Checkpoint 252 saved!\n"
     ]
    },
    {
     "name": "stderr",
     "output_type": "stream",
     "text": [
      "2021-02-08 05:15:59,089 (INFO) train.py:283] Checkpoint 252 saved!\n",
      "Epoch 252/300: 100%|███████████████████████| 1600/1600 [00:57<00:00, 27.94it/s, loss (batch)=0.0503]\n",
      "Epoch 253/300: 100%|████████████████████████████████████████████| 1600/1600 [00:42<00:00, 25.81it/s]"
     ]
    },
    {
     "name": "stdout",
     "output_type": "stream",
     "text": [
      "QRS_acc: 0.9526\n",
      "Scoring complete.\n",
      "QRS_acc: 0.9042\n",
      "Scoring complete.\n",
      "ECG-SEQ-LAB - INFO - \n",
      "                Train epoch_253:\n",
      "                --------------------\n",
      "                train/epoch_loss:        0.31975624337792397\n",
      "train/qrs_score:         0.9526\n",
      "\n",
      "                test/qrs_score:          0.9042\n",
      "                ---------------------------------\n",
      "\n"
     ]
    },
    {
     "name": "stderr",
     "output_type": "stream",
     "text": [
      "2021-02-08 05:16:58,616 (INFO) train.py:268] \n",
      "                Train epoch_253:\n",
      "                --------------------\n",
      "                train/epoch_loss:        0.31975624337792397\n",
      "train/qrs_score:         0.9526\n",
      "\n",
      "                test/qrs_score:          0.9042\n",
      "                ---------------------------------\n",
      "\n"
     ]
    },
    {
     "name": "stdout",
     "output_type": "stream",
     "text": [
      "ECG-SEQ-LAB - INFO - Created checkpoint directory\n"
     ]
    },
    {
     "name": "stderr",
     "output_type": "stream",
     "text": [
      "2021-02-08 05:16:58,623 (INFO) train.py:275] Created checkpoint directory\n"
     ]
    },
    {
     "name": "stdout",
     "output_type": "stream",
     "text": [
      "ECG-SEQ-LAB - INFO - Checkpoint 253 saved!\n"
     ]
    },
    {
     "name": "stderr",
     "output_type": "stream",
     "text": [
      "2021-02-08 05:16:58,827 (INFO) train.py:283] Checkpoint 253 saved!\n",
      "Epoch 253/300: 100%|████████████████████████████████████████████| 1600/1600 [00:59<00:00, 26.79it/s]\n",
      "Epoch 254/300: 100%|████████████████████████████████████████████| 1600/1600 [00:50<00:00, 28.31it/s]"
     ]
    },
    {
     "name": "stdout",
     "output_type": "stream",
     "text": [
      "QRS_acc: 0.956\n",
      "Scoring complete.\n",
      "QRS_acc: 0.8853\n",
      "Scoring complete.\n",
      "ECG-SEQ-LAB - INFO - \n",
      "                Train epoch_254:\n",
      "                --------------------\n",
      "                train/epoch_loss:        0.3322705626487732\n",
      "train/qrs_score:         0.956\n",
      "\n",
      "                test/qrs_score:          0.8853\n",
      "                ---------------------------------\n",
      "\n"
     ]
    },
    {
     "name": "stderr",
     "output_type": "stream",
     "text": [
      "2021-02-08 05:17:54,717 (INFO) train.py:268] \n",
      "                Train epoch_254:\n",
      "                --------------------\n",
      "                train/epoch_loss:        0.3322705626487732\n",
      "train/qrs_score:         0.956\n",
      "\n",
      "                test/qrs_score:          0.8853\n",
      "                ---------------------------------\n",
      "\n"
     ]
    },
    {
     "name": "stdout",
     "output_type": "stream",
     "text": [
      "ECG-SEQ-LAB - INFO - Created checkpoint directory\n"
     ]
    },
    {
     "name": "stderr",
     "output_type": "stream",
     "text": [
      "2021-02-08 05:17:54,721 (INFO) train.py:275] Created checkpoint directory\n"
     ]
    },
    {
     "name": "stdout",
     "output_type": "stream",
     "text": [
      "ECG-SEQ-LAB - INFO - Checkpoint 254 saved!\n"
     ]
    },
    {
     "name": "stderr",
     "output_type": "stream",
     "text": [
      "2021-02-08 05:17:54,924 (INFO) train.py:283] Checkpoint 254 saved!\n",
      "Epoch 254/300: 100%|████████████████████████████████████████████| 1600/1600 [00:56<00:00, 28.52it/s]\n",
      "Epoch 255/300:  16%|███▊                    | 256/1600 [00:18<00:53, 25.15it/s, loss (batch)=0.0458]"
     ]
    },
    {
     "name": "stdout",
     "output_type": "stream",
     "text": [
      "ECG-SEQ-LAB - INFO - Train step_1780: loss : 0.04581907391548157\n"
     ]
    },
    {
     "name": "stderr",
     "output_type": "stream",
     "text": [
      "2021-02-08 05:18:13,897 (INFO) train.py:225] Train step_1780: loss : 0.04581907391548157\n",
      "Epoch 255/300: 100%|███████████████████████| 1600/1600 [00:39<00:00, 28.05it/s, loss (batch)=0.0458]"
     ]
    },
    {
     "name": "stdout",
     "output_type": "stream",
     "text": [
      "QRS_acc: 0.9614\n",
      "Scoring complete.\n"
     ]
    },
    {
     "name": "stderr",
     "output_type": "stream",
     "text": [
      "\r",
      "Epoch 255/300: 100%|███████████████████████| 1600/1600 [00:50<00:00, 28.05it/s, loss (batch)=0.0458]"
     ]
    },
    {
     "name": "stdout",
     "output_type": "stream",
     "text": [
      "QRS_acc: 0.8872\n",
      "Scoring complete.\n",
      "ECG-SEQ-LAB - INFO - \n",
      "                Train epoch_255:\n",
      "                --------------------\n",
      "                train/epoch_loss:        0.31356947869062424\n",
      "train/qrs_score:         0.9614\n",
      "\n",
      "                test/qrs_score:          0.8872\n",
      "                ---------------------------------\n",
      "\n"
     ]
    },
    {
     "name": "stderr",
     "output_type": "stream",
     "text": [
      "2021-02-08 05:18:49,231 (INFO) train.py:268] \n",
      "                Train epoch_255:\n",
      "                --------------------\n",
      "                train/epoch_loss:        0.31356947869062424\n",
      "train/qrs_score:         0.9614\n",
      "\n",
      "                test/qrs_score:          0.8872\n",
      "                ---------------------------------\n",
      "\n"
     ]
    },
    {
     "name": "stdout",
     "output_type": "stream",
     "text": [
      "ECG-SEQ-LAB - INFO - Created checkpoint directory\n"
     ]
    },
    {
     "name": "stderr",
     "output_type": "stream",
     "text": [
      "2021-02-08 05:18:49,241 (INFO) train.py:275] Created checkpoint directory\n"
     ]
    },
    {
     "name": "stdout",
     "output_type": "stream",
     "text": [
      "ECG-SEQ-LAB - INFO - Checkpoint 255 saved!\n"
     ]
    },
    {
     "name": "stderr",
     "output_type": "stream",
     "text": [
      "2021-02-08 05:18:49,479 (INFO) train.py:283] Checkpoint 255 saved!\n",
      "Epoch 255/300: 100%|███████████████████████| 1600/1600 [00:54<00:00, 29.34it/s, loss (batch)=0.0458]\n",
      "Epoch 256/300: 100%|████████████████████████████████████████████| 1600/1600 [00:37<00:00, 28.66it/s]"
     ]
    },
    {
     "name": "stdout",
     "output_type": "stream",
     "text": [
      "QRS_acc: 0.9599\n",
      "Scoring complete.\n"
     ]
    },
    {
     "name": "stderr",
     "output_type": "stream",
     "text": [
      "\r",
      "Epoch 256/300: 100%|████████████████████████████████████████████| 1600/1600 [00:50<00:00, 28.66it/s]"
     ]
    },
    {
     "name": "stdout",
     "output_type": "stream",
     "text": [
      "QRS_acc: 0.8952\n",
      "Scoring complete.\n",
      "ECG-SEQ-LAB - INFO - \n",
      "                Train epoch_256:\n",
      "                --------------------\n",
      "                train/epoch_loss:        0.320974700152874\n",
      "train/qrs_score:         0.9599\n",
      "\n",
      "                test/qrs_score:          0.8952\n",
      "                ---------------------------------\n",
      "\n"
     ]
    },
    {
     "name": "stderr",
     "output_type": "stream",
     "text": [
      "2021-02-08 05:19:41,698 (INFO) train.py:268] \n",
      "                Train epoch_256:\n",
      "                --------------------\n",
      "                train/epoch_loss:        0.320974700152874\n",
      "train/qrs_score:         0.9599\n",
      "\n",
      "                test/qrs_score:          0.8952\n",
      "                ---------------------------------\n",
      "\n"
     ]
    },
    {
     "name": "stdout",
     "output_type": "stream",
     "text": [
      "ECG-SEQ-LAB - INFO - Created checkpoint directory\n"
     ]
    },
    {
     "name": "stderr",
     "output_type": "stream",
     "text": [
      "2021-02-08 05:19:41,703 (INFO) train.py:275] Created checkpoint directory\n"
     ]
    },
    {
     "name": "stdout",
     "output_type": "stream",
     "text": [
      "ECG-SEQ-LAB - INFO - Checkpoint 256 saved!\n"
     ]
    },
    {
     "name": "stderr",
     "output_type": "stream",
     "text": [
      "2021-02-08 05:19:41,898 (INFO) train.py:283] Checkpoint 256 saved!\n",
      "Epoch 256/300: 100%|████████████████████████████████████████████| 1600/1600 [00:52<00:00, 30.53it/s]\n",
      "Epoch 257/300: 100%|████████████████████████████████████████████| 1600/1600 [00:36<00:00, 28.79it/s]"
     ]
    },
    {
     "name": "stdout",
     "output_type": "stream",
     "text": [
      "QRS_acc: 0.9578\n",
      "Scoring complete.\n"
     ]
    },
    {
     "name": "stderr",
     "output_type": "stream",
     "text": [
      "\r",
      "Epoch 257/300: 100%|████████████████████████████████████████████| 1600/1600 [00:50<00:00, 28.79it/s]"
     ]
    },
    {
     "name": "stdout",
     "output_type": "stream",
     "text": [
      "QRS_acc: 0.8888\n",
      "Scoring complete.\n",
      "ECG-SEQ-LAB - INFO - \n",
      "                Train epoch_257:\n",
      "                --------------------\n",
      "                train/epoch_loss:        0.3218757435679436\n",
      "train/qrs_score:         0.9578\n",
      "\n",
      "                test/qrs_score:          0.8888\n",
      "                ---------------------------------\n",
      "\n"
     ]
    },
    {
     "name": "stderr",
     "output_type": "stream",
     "text": [
      "2021-02-08 05:20:39,424 (INFO) train.py:268] \n",
      "                Train epoch_257:\n",
      "                --------------------\n",
      "                train/epoch_loss:        0.3218757435679436\n",
      "train/qrs_score:         0.9578\n",
      "\n",
      "                test/qrs_score:          0.8888\n",
      "                ---------------------------------\n",
      "\n"
     ]
    },
    {
     "name": "stdout",
     "output_type": "stream",
     "text": [
      "ECG-SEQ-LAB - INFO - Created checkpoint directory\n"
     ]
    },
    {
     "name": "stderr",
     "output_type": "stream",
     "text": [
      "2021-02-08 05:20:39,447 (INFO) train.py:275] Created checkpoint directory\n"
     ]
    },
    {
     "name": "stdout",
     "output_type": "stream",
     "text": [
      "ECG-SEQ-LAB - INFO - Checkpoint 257 saved!\n"
     ]
    },
    {
     "name": "stderr",
     "output_type": "stream",
     "text": [
      "2021-02-08 05:20:39,816 (INFO) train.py:283] Checkpoint 257 saved!\n",
      "Epoch 257/300: 100%|████████████████████████████████████████████| 1600/1600 [00:57<00:00, 27.62it/s]\n",
      "Epoch 258/300:   0%|                                    | 0/1600 [00:15<?, ?it/s, loss (batch)=0.05]"
     ]
    },
    {
     "name": "stdout",
     "output_type": "stream",
     "text": [
      "ECG-SEQ-LAB - INFO - Train step_1800: loss : 0.04999037832021713\n"
     ]
    },
    {
     "name": "stderr",
     "output_type": "stream",
     "text": [
      "2021-02-08 05:20:55,097 (INFO) train.py:225] Train step_1800: loss : 0.04999037832021713\n",
      "Epoch 258/300: 100%|█████████████████████████| 1600/1600 [01:00<00:00, 26.20it/s, loss (batch)=0.05]"
     ]
    },
    {
     "name": "stdout",
     "output_type": "stream",
     "text": [
      "QRS_acc: 0.9604\n",
      "Scoring complete.\n",
      "QRS_acc: 0.8928\n",
      "Scoring complete.\n",
      "ECG-SEQ-LAB - INFO - \n",
      "                Train epoch_258:\n",
      "                --------------------\n",
      "                train/epoch_loss:        0.32663945853710175\n",
      "train/qrs_score:         0.9604\n",
      "\n",
      "                test/qrs_score:          0.8928\n",
      "                ---------------------------------\n",
      "\n"
     ]
    },
    {
     "name": "stderr",
     "output_type": "stream",
     "text": [
      "2021-02-08 05:22:08,717 (INFO) train.py:268] \n",
      "                Train epoch_258:\n",
      "                --------------------\n",
      "                train/epoch_loss:        0.32663945853710175\n",
      "train/qrs_score:         0.9604\n",
      "\n",
      "                test/qrs_score:          0.8928\n",
      "                ---------------------------------\n",
      "\n"
     ]
    },
    {
     "name": "stdout",
     "output_type": "stream",
     "text": [
      "ECG-SEQ-LAB - INFO - Created checkpoint directory\n"
     ]
    },
    {
     "name": "stderr",
     "output_type": "stream",
     "text": [
      "2021-02-08 05:22:08,728 (INFO) train.py:275] Created checkpoint directory\n"
     ]
    },
    {
     "name": "stdout",
     "output_type": "stream",
     "text": [
      "ECG-SEQ-LAB - INFO - Checkpoint 258 saved!\n"
     ]
    },
    {
     "name": "stderr",
     "output_type": "stream",
     "text": [
      "2021-02-08 05:22:08,941 (INFO) train.py:283] Checkpoint 258 saved!\n",
      "Epoch 258/300: 100%|█████████████████████████| 1600/1600 [01:29<00:00, 17.95it/s, loss (batch)=0.05]\n",
      "Epoch 259/300: 100%|████████████████████████████████████████████| 1600/1600 [01:00<00:00, 24.76it/s]"
     ]
    },
    {
     "name": "stdout",
     "output_type": "stream",
     "text": [
      "QRS_acc: 0.9579\n",
      "Scoring complete.\n",
      "QRS_acc: 0.892\n",
      "Scoring complete.\n",
      "ECG-SEQ-LAB - INFO - \n",
      "                Train epoch_259:\n",
      "                --------------------\n",
      "                train/epoch_loss:        0.3191465735435486\n",
      "train/qrs_score:         0.9579\n",
      "\n",
      "                test/qrs_score:          0.892\n",
      "                ---------------------------------\n",
      "\n"
     ]
    },
    {
     "name": "stderr",
     "output_type": "stream",
     "text": [
      "2021-02-08 05:23:14,903 (INFO) train.py:268] \n",
      "                Train epoch_259:\n",
      "                --------------------\n",
      "                train/epoch_loss:        0.3191465735435486\n",
      "train/qrs_score:         0.9579\n",
      "\n",
      "                test/qrs_score:          0.892\n",
      "                ---------------------------------\n",
      "\n"
     ]
    },
    {
     "name": "stdout",
     "output_type": "stream",
     "text": [
      "ECG-SEQ-LAB - INFO - Created checkpoint directory\n"
     ]
    },
    {
     "name": "stderr",
     "output_type": "stream",
     "text": [
      "2021-02-08 05:23:14,916 (INFO) train.py:275] Created checkpoint directory\n"
     ]
    },
    {
     "name": "stdout",
     "output_type": "stream",
     "text": [
      "ECG-SEQ-LAB - INFO - Checkpoint 259 saved!\n"
     ]
    },
    {
     "name": "stderr",
     "output_type": "stream",
     "text": [
      "2021-02-08 05:23:15,114 (INFO) train.py:283] Checkpoint 259 saved!\n",
      "Epoch 259/300: 100%|████████████████████████████████████████████| 1600/1600 [01:06<00:00, 24.18it/s]\n",
      "Epoch 260/300:  96%|██████████████████████ | 1536/1600 [00:37<00:01, 46.57it/s, loss (batch)=0.0371]"
     ]
    },
    {
     "name": "stdout",
     "output_type": "stream",
     "text": [
      "ECG-SEQ-LAB - INFO - Train step_1820: loss : 0.03707435354590416\n"
     ]
    },
    {
     "name": "stderr",
     "output_type": "stream",
     "text": [
      "2021-02-08 05:23:52,896 (INFO) train.py:225] Train step_1820: loss : 0.03707435354590416\n",
      "Epoch 260/300: 100%|███████████████████████| 1600/1600 [00:37<00:00, 25.50it/s, loss (batch)=0.0371]"
     ]
    },
    {
     "name": "stdout",
     "output_type": "stream",
     "text": [
      "QRS_acc: 0.9558\n",
      "Scoring complete.\n"
     ]
    },
    {
     "name": "stderr",
     "output_type": "stream",
     "text": [
      "\r",
      "Epoch 260/300: 100%|███████████████████████| 1600/1600 [00:50<00:00, 25.50it/s, loss (batch)=0.0371]"
     ]
    },
    {
     "name": "stdout",
     "output_type": "stream",
     "text": [
      "QRS_acc: 0.8868\n",
      "Scoring complete.\n",
      "ECG-SEQ-LAB - INFO - \n",
      "                Train epoch_260:\n",
      "                --------------------\n",
      "                train/epoch_loss:        0.31659652292728424\n",
      "train/qrs_score:         0.9558\n",
      "\n",
      "                test/qrs_score:          0.8868\n",
      "                ---------------------------------\n",
      "\n"
     ]
    },
    {
     "name": "stderr",
     "output_type": "stream",
     "text": [
      "2021-02-08 05:24:07,622 (INFO) train.py:268] \n",
      "                Train epoch_260:\n",
      "                --------------------\n",
      "                train/epoch_loss:        0.31659652292728424\n",
      "train/qrs_score:         0.9558\n",
      "\n",
      "                test/qrs_score:          0.8868\n",
      "                ---------------------------------\n",
      "\n"
     ]
    },
    {
     "name": "stdout",
     "output_type": "stream",
     "text": [
      "ECG-SEQ-LAB - INFO - Created checkpoint directory\n"
     ]
    },
    {
     "name": "stderr",
     "output_type": "stream",
     "text": [
      "2021-02-08 05:24:07,626 (INFO) train.py:275] Created checkpoint directory\n"
     ]
    },
    {
     "name": "stdout",
     "output_type": "stream",
     "text": [
      "ECG-SEQ-LAB - INFO - Checkpoint 260 saved!\n"
     ]
    },
    {
     "name": "stderr",
     "output_type": "stream",
     "text": [
      "2021-02-08 05:24:07,696 (INFO) train.py:283] Checkpoint 260 saved!\n",
      "Epoch 260/300: 100%|███████████████████████| 1600/1600 [00:52<00:00, 30.43it/s, loss (batch)=0.0371]\n",
      "Epoch 261/300: 100%|████████████████████████████████████████████| 1600/1600 [00:37<00:00, 28.62it/s]"
     ]
    },
    {
     "name": "stdout",
     "output_type": "stream",
     "text": [
      "QRS_acc: 0.9598\n",
      "Scoring complete.\n"
     ]
    },
    {
     "name": "stderr",
     "output_type": "stream",
     "text": [
      "\r",
      "Epoch 261/300: 100%|████████████████████████████████████████████| 1600/1600 [00:50<00:00, 28.62it/s]"
     ]
    },
    {
     "name": "stdout",
     "output_type": "stream",
     "text": [
      "QRS_acc: 0.8812\n",
      "Scoring complete.\n",
      "ECG-SEQ-LAB - INFO - \n",
      "                Train epoch_261:\n",
      "                --------------------\n",
      "                train/epoch_loss:        0.3176378197968006\n",
      "train/qrs_score:         0.9598\n",
      "\n",
      "                test/qrs_score:          0.8812\n",
      "                ---------------------------------\n",
      "\n"
     ]
    },
    {
     "name": "stderr",
     "output_type": "stream",
     "text": [
      "2021-02-08 05:25:00,558 (INFO) train.py:268] \n",
      "                Train epoch_261:\n",
      "                --------------------\n",
      "                train/epoch_loss:        0.3176378197968006\n",
      "train/qrs_score:         0.9598\n",
      "\n",
      "                test/qrs_score:          0.8812\n",
      "                ---------------------------------\n",
      "\n"
     ]
    },
    {
     "name": "stdout",
     "output_type": "stream",
     "text": [
      "ECG-SEQ-LAB - INFO - Created checkpoint directory\n"
     ]
    },
    {
     "name": "stderr",
     "output_type": "stream",
     "text": [
      "2021-02-08 05:25:00,604 (INFO) train.py:275] Created checkpoint directory\n"
     ]
    },
    {
     "name": "stdout",
     "output_type": "stream",
     "text": [
      "ECG-SEQ-LAB - INFO - Checkpoint 261 saved!\n"
     ]
    },
    {
     "name": "stderr",
     "output_type": "stream",
     "text": [
      "2021-02-08 05:25:00,703 (INFO) train.py:283] Checkpoint 261 saved!\n",
      "Epoch 261/300: 100%|████████████████████████████████████████████| 1600/1600 [00:53<00:00, 30.18it/s]\n",
      "Epoch 262/300: 100%|████████████████████████████████████████████| 1600/1600 [00:37<00:00, 28.85it/s]"
     ]
    },
    {
     "name": "stdout",
     "output_type": "stream",
     "text": [
      "QRS_acc: 0.9593\n",
      "Scoring complete.\n"
     ]
    },
    {
     "name": "stderr",
     "output_type": "stream",
     "text": [
      "\r",
      "Epoch 262/300: 100%|████████████████████████████████████████████| 1600/1600 [00:50<00:00, 28.85it/s]"
     ]
    },
    {
     "name": "stdout",
     "output_type": "stream",
     "text": [
      "QRS_acc: 0.8958\n",
      "Scoring complete.\n",
      "ECG-SEQ-LAB - INFO - \n",
      "                Train epoch_262:\n",
      "                --------------------\n",
      "                train/epoch_loss:        0.3187422677874565\n",
      "train/qrs_score:         0.9593\n",
      "\n",
      "                test/qrs_score:          0.8958\n",
      "                ---------------------------------\n",
      "\n"
     ]
    },
    {
     "name": "stderr",
     "output_type": "stream",
     "text": [
      "2021-02-08 05:25:53,495 (INFO) train.py:268] \n",
      "                Train epoch_262:\n",
      "                --------------------\n",
      "                train/epoch_loss:        0.3187422677874565\n",
      "train/qrs_score:         0.9593\n",
      "\n",
      "                test/qrs_score:          0.8958\n",
      "                ---------------------------------\n",
      "\n"
     ]
    },
    {
     "name": "stdout",
     "output_type": "stream",
     "text": [
      "ECG-SEQ-LAB - INFO - Created checkpoint directory\n"
     ]
    },
    {
     "name": "stderr",
     "output_type": "stream",
     "text": [
      "2021-02-08 05:25:53,499 (INFO) train.py:275] Created checkpoint directory\n"
     ]
    },
    {
     "name": "stdout",
     "output_type": "stream",
     "text": [
      "ECG-SEQ-LAB - INFO - Checkpoint 262 saved!\n"
     ]
    },
    {
     "name": "stderr",
     "output_type": "stream",
     "text": [
      "2021-02-08 05:25:53,657 (INFO) train.py:283] Checkpoint 262 saved!\n",
      "Epoch 262/300: 100%|████████████████████████████████████████████| 1600/1600 [00:52<00:00, 30.22it/s]\n",
      "Epoch 263/300:  80%|███████████████████▏    | 1280/1600 [00:36<00:06, 46.49it/s, loss (batch)=0.049]"
     ]
    },
    {
     "name": "stdout",
     "output_type": "stream",
     "text": [
      "ECG-SEQ-LAB - INFO - Train step_1840: loss : 0.04902161657810211\n"
     ]
    },
    {
     "name": "stderr",
     "output_type": "stream",
     "text": [
      "2021-02-08 05:26:29,746 (INFO) train.py:225] Train step_1840: loss : 0.04902161657810211\n",
      "Epoch 263/300: 100%|████████████████████████| 1600/1600 [00:36<00:00, 49.96it/s, loss (batch)=0.049]"
     ]
    },
    {
     "name": "stdout",
     "output_type": "stream",
     "text": [
      "QRS_acc: 0.9594\n",
      "Scoring complete.\n"
     ]
    },
    {
     "name": "stderr",
     "output_type": "stream",
     "text": [
      "\r",
      "Epoch 263/300: 100%|████████████████████████| 1600/1600 [00:50<00:00, 49.96it/s, loss (batch)=0.049]"
     ]
    },
    {
     "name": "stdout",
     "output_type": "stream",
     "text": [
      "QRS_acc: 0.8922\n",
      "Scoring complete.\n",
      "ECG-SEQ-LAB - INFO - \n",
      "                Train epoch_263:\n",
      "                --------------------\n",
      "                train/epoch_loss:        0.3185199536383152\n",
      "train/qrs_score:         0.9594\n",
      "\n",
      "                test/qrs_score:          0.8922\n",
      "                ---------------------------------\n",
      "\n"
     ]
    },
    {
     "name": "stderr",
     "output_type": "stream",
     "text": [
      "2021-02-08 05:26:45,317 (INFO) train.py:268] \n",
      "                Train epoch_263:\n",
      "                --------------------\n",
      "                train/epoch_loss:        0.3185199536383152\n",
      "train/qrs_score:         0.9594\n",
      "\n",
      "                test/qrs_score:          0.8922\n",
      "                ---------------------------------\n",
      "\n"
     ]
    },
    {
     "name": "stdout",
     "output_type": "stream",
     "text": [
      "ECG-SEQ-LAB - INFO - Created checkpoint directory\n"
     ]
    },
    {
     "name": "stderr",
     "output_type": "stream",
     "text": [
      "2021-02-08 05:26:45,333 (INFO) train.py:275] Created checkpoint directory\n"
     ]
    },
    {
     "name": "stdout",
     "output_type": "stream",
     "text": [
      "ECG-SEQ-LAB - INFO - Checkpoint 263 saved!\n"
     ]
    },
    {
     "name": "stderr",
     "output_type": "stream",
     "text": [
      "2021-02-08 05:26:45,467 (INFO) train.py:283] Checkpoint 263 saved!\n",
      "Epoch 263/300: 100%|████████████████████████| 1600/1600 [00:51<00:00, 30.88it/s, loss (batch)=0.049]\n",
      "Epoch 264/300: 100%|████████████████████████████████████████████| 1600/1600 [00:37<00:00, 28.86it/s]"
     ]
    },
    {
     "name": "stdout",
     "output_type": "stream",
     "text": [
      "QRS_acc: 0.9603\n",
      "Scoring complete.\n"
     ]
    },
    {
     "name": "stderr",
     "output_type": "stream",
     "text": [
      "\r",
      "Epoch 264/300: 100%|████████████████████████████████████████████| 1600/1600 [00:50<00:00, 28.86it/s]"
     ]
    },
    {
     "name": "stdout",
     "output_type": "stream",
     "text": [
      "QRS_acc: 0.893\n",
      "Scoring complete.\n",
      "ECG-SEQ-LAB - INFO - \n",
      "                Train epoch_264:\n",
      "                --------------------\n",
      "                train/epoch_loss:        0.3253472112119198\n",
      "train/qrs_score:         0.9603\n",
      "\n",
      "                test/qrs_score:          0.893\n",
      "                ---------------------------------\n",
      "\n"
     ]
    },
    {
     "name": "stderr",
     "output_type": "stream",
     "text": [
      "2021-02-08 05:27:37,110 (INFO) train.py:268] \n",
      "                Train epoch_264:\n",
      "                --------------------\n",
      "                train/epoch_loss:        0.3253472112119198\n",
      "train/qrs_score:         0.9603\n",
      "\n",
      "                test/qrs_score:          0.893\n",
      "                ---------------------------------\n",
      "\n"
     ]
    },
    {
     "name": "stdout",
     "output_type": "stream",
     "text": [
      "ECG-SEQ-LAB - INFO - Created checkpoint directory\n"
     ]
    },
    {
     "name": "stderr",
     "output_type": "stream",
     "text": [
      "2021-02-08 05:27:37,117 (INFO) train.py:275] Created checkpoint directory\n"
     ]
    },
    {
     "name": "stdout",
     "output_type": "stream",
     "text": [
      "ECG-SEQ-LAB - INFO - Checkpoint 264 saved!\n"
     ]
    },
    {
     "name": "stderr",
     "output_type": "stream",
     "text": [
      "2021-02-08 05:27:37,305 (INFO) train.py:283] Checkpoint 264 saved!\n",
      "Epoch 264/300: 100%|████████████████████████████████████████████| 1600/1600 [00:51<00:00, 30.87it/s]\n",
      "Epoch 265/300: 100%|████████████████████████████████████████████| 1600/1600 [00:36<00:00, 29.06it/s]"
     ]
    },
    {
     "name": "stdout",
     "output_type": "stream",
     "text": [
      "QRS_acc: 0.9582\n",
      "Scoring complete.\n"
     ]
    },
    {
     "name": "stderr",
     "output_type": "stream",
     "text": [
      "\r",
      "Epoch 265/300: 100%|████████████████████████████████████████████| 1600/1600 [00:50<00:00, 29.06it/s]"
     ]
    },
    {
     "name": "stdout",
     "output_type": "stream",
     "text": [
      "QRS_acc: 0.8892\n",
      "Scoring complete.\n",
      "ECG-SEQ-LAB - INFO - \n",
      "                Train epoch_265:\n",
      "                --------------------\n",
      "                train/epoch_loss:        0.31515584141016006\n",
      "train/qrs_score:         0.9582\n",
      "\n",
      "                test/qrs_score:          0.8892\n",
      "                ---------------------------------\n",
      "\n"
     ]
    },
    {
     "name": "stderr",
     "output_type": "stream",
     "text": [
      "2021-02-08 05:28:30,698 (INFO) train.py:268] \n",
      "                Train epoch_265:\n",
      "                --------------------\n",
      "                train/epoch_loss:        0.31515584141016006\n",
      "train/qrs_score:         0.9582\n",
      "\n",
      "                test/qrs_score:          0.8892\n",
      "                ---------------------------------\n",
      "\n"
     ]
    },
    {
     "name": "stdout",
     "output_type": "stream",
     "text": [
      "ECG-SEQ-LAB - INFO - Created checkpoint directory\n"
     ]
    },
    {
     "name": "stderr",
     "output_type": "stream",
     "text": [
      "2021-02-08 05:28:30,707 (INFO) train.py:275] Created checkpoint directory\n"
     ]
    },
    {
     "name": "stdout",
     "output_type": "stream",
     "text": [
      "ECG-SEQ-LAB - INFO - Checkpoint 265 saved!\n"
     ]
    },
    {
     "name": "stderr",
     "output_type": "stream",
     "text": [
      "2021-02-08 05:28:30,897 (INFO) train.py:283] Checkpoint 265 saved!\n",
      "Epoch 265/300: 100%|████████████████████████████████████████████| 1600/1600 [00:53<00:00, 29.86it/s]\n",
      "Epoch 266/300:  64%|██████████████▋        | 1024/1600 [00:31<00:13, 42.80it/s, loss (batch)=0.0426]"
     ]
    },
    {
     "name": "stdout",
     "output_type": "stream",
     "text": [
      "ECG-SEQ-LAB - INFO - Train step_1860: loss : 0.04259822890162468\n"
     ]
    },
    {
     "name": "stderr",
     "output_type": "stream",
     "text": [
      "2021-02-08 05:29:02,561 (INFO) train.py:225] Train step_1860: loss : 0.04259822890162468\n",
      "Epoch 266/300: 100%|███████████████████████| 1600/1600 [00:37<00:00, 29.45it/s, loss (batch)=0.0426]"
     ]
    },
    {
     "name": "stdout",
     "output_type": "stream",
     "text": [
      "QRS_acc: 0.9586\n",
      "Scoring complete.\n"
     ]
    },
    {
     "name": "stderr",
     "output_type": "stream",
     "text": [
      "\r",
      "Epoch 266/300: 100%|███████████████████████| 1600/1600 [00:50<00:00, 29.45it/s, loss (batch)=0.0426]"
     ]
    },
    {
     "name": "stdout",
     "output_type": "stream",
     "text": [
      "QRS_acc: 0.896\n",
      "Scoring complete.\n",
      "ECG-SEQ-LAB - INFO - \n",
      "                Train epoch_266:\n",
      "                --------------------\n",
      "                train/epoch_loss:        0.30950483307242393\n",
      "train/qrs_score:         0.9586\n",
      "\n",
      "                test/qrs_score:          0.896\n",
      "                ---------------------------------\n",
      "\n"
     ]
    },
    {
     "name": "stderr",
     "output_type": "stream",
     "text": [
      "2021-02-08 05:29:22,456 (INFO) train.py:268] \n",
      "                Train epoch_266:\n",
      "                --------------------\n",
      "                train/epoch_loss:        0.30950483307242393\n",
      "train/qrs_score:         0.9586\n",
      "\n",
      "                test/qrs_score:          0.896\n",
      "                ---------------------------------\n",
      "\n"
     ]
    },
    {
     "name": "stdout",
     "output_type": "stream",
     "text": [
      "ECG-SEQ-LAB - INFO - Created checkpoint directory\n"
     ]
    },
    {
     "name": "stderr",
     "output_type": "stream",
     "text": [
      "2021-02-08 05:29:22,460 (INFO) train.py:275] Created checkpoint directory\n"
     ]
    },
    {
     "name": "stdout",
     "output_type": "stream",
     "text": [
      "ECG-SEQ-LAB - INFO - Checkpoint 266 saved!\n"
     ]
    },
    {
     "name": "stderr",
     "output_type": "stream",
     "text": [
      "2021-02-08 05:29:22,640 (INFO) train.py:283] Checkpoint 266 saved!\n",
      "Epoch 266/300: 100%|███████████████████████| 1600/1600 [00:51<00:00, 30.92it/s, loss (batch)=0.0426]\n",
      "Epoch 267/300: 100%|████████████████████████████████████████████| 1600/1600 [00:50<00:00, 28.08it/s]"
     ]
    },
    {
     "name": "stdout",
     "output_type": "stream",
     "text": [
      "QRS_acc: 0.9584\n",
      "Scoring complete.\n",
      "QRS_acc: 0.8938\n",
      "Scoring complete.\n",
      "ECG-SEQ-LAB - INFO - \n",
      "                Train epoch_267:\n",
      "                --------------------\n",
      "                train/epoch_loss:        0.3176897466182709\n",
      "train/qrs_score:         0.9584\n",
      "\n",
      "                test/qrs_score:          0.8938\n",
      "                ---------------------------------\n",
      "\n"
     ]
    },
    {
     "name": "stderr",
     "output_type": "stream",
     "text": [
      "2021-02-08 05:30:26,395 (INFO) train.py:268] \n",
      "                Train epoch_267:\n",
      "                --------------------\n",
      "                train/epoch_loss:        0.3176897466182709\n",
      "train/qrs_score:         0.9584\n",
      "\n",
      "                test/qrs_score:          0.8938\n",
      "                ---------------------------------\n",
      "\n"
     ]
    },
    {
     "name": "stdout",
     "output_type": "stream",
     "text": [
      "ECG-SEQ-LAB - INFO - Created checkpoint directory\n"
     ]
    },
    {
     "name": "stderr",
     "output_type": "stream",
     "text": [
      "2021-02-08 05:30:26,783 (INFO) train.py:275] Created checkpoint directory\n"
     ]
    },
    {
     "name": "stdout",
     "output_type": "stream",
     "text": [
      "ECG-SEQ-LAB - INFO - Checkpoint 267 saved!\n"
     ]
    },
    {
     "name": "stderr",
     "output_type": "stream",
     "text": [
      "2021-02-08 05:30:27,232 (INFO) train.py:283] Checkpoint 267 saved!\n",
      "Epoch 267/300: 100%|████████████████████████████████████████████| 1600/1600 [01:04<00:00, 24.76it/s]\n",
      "Epoch 268/300: 100%|████████████████████████████████████████████| 1600/1600 [00:41<00:00, 27.29it/s]"
     ]
    },
    {
     "name": "stdout",
     "output_type": "stream",
     "text": [
      "QRS_acc: 0.9555\n",
      "Scoring complete.\n",
      "QRS_acc: 0.8832\n",
      "Scoring complete.\n",
      "ECG-SEQ-LAB - INFO - \n",
      "                Train epoch_268:\n",
      "                --------------------\n",
      "                train/epoch_loss:        0.31810490787029266\n",
      "train/qrs_score:         0.9555\n",
      "\n",
      "                test/qrs_score:          0.8832\n",
      "                ---------------------------------\n",
      "\n"
     ]
    },
    {
     "name": "stderr",
     "output_type": "stream",
     "text": [
      "2021-02-08 05:31:23,458 (INFO) train.py:268] \n",
      "                Train epoch_268:\n",
      "                --------------------\n",
      "                train/epoch_loss:        0.31810490787029266\n",
      "train/qrs_score:         0.9555\n",
      "\n",
      "                test/qrs_score:          0.8832\n",
      "                ---------------------------------\n",
      "\n"
     ]
    },
    {
     "name": "stdout",
     "output_type": "stream",
     "text": [
      "ECG-SEQ-LAB - INFO - Created checkpoint directory\n"
     ]
    },
    {
     "name": "stderr",
     "output_type": "stream",
     "text": [
      "2021-02-08 05:31:23,495 (INFO) train.py:275] Created checkpoint directory\n"
     ]
    },
    {
     "name": "stdout",
     "output_type": "stream",
     "text": [
      "ECG-SEQ-LAB - INFO - Checkpoint 268 saved!\n"
     ]
    },
    {
     "name": "stderr",
     "output_type": "stream",
     "text": [
      "2021-02-08 05:31:23,688 (INFO) train.py:283] Checkpoint 268 saved!\n",
      "Epoch 268/300: 100%|████████████████████████████████████████████| 1600/1600 [00:56<00:00, 28.36it/s]\n",
      "Epoch 269/300:  48%|███████████▌            | 768/1600 [00:25<00:19, 42.24it/s, loss (batch)=0.0462]"
     ]
    },
    {
     "name": "stdout",
     "output_type": "stream",
     "text": [
      "ECG-SEQ-LAB - INFO - Train step_1880: loss : 0.04618198797106743\n"
     ]
    },
    {
     "name": "stderr",
     "output_type": "stream",
     "text": [
      "2021-02-08 05:31:49,696 (INFO) train.py:225] Train step_1880: loss : 0.04618198797106743\n",
      "Epoch 269/300: 100%|███████████████████████| 1600/1600 [00:36<00:00, 29.38it/s, loss (batch)=0.0462]"
     ]
    },
    {
     "name": "stdout",
     "output_type": "stream",
     "text": [
      "QRS_acc: 0.9587\n",
      "Scoring complete.\n"
     ]
    },
    {
     "name": "stderr",
     "output_type": "stream",
     "text": [
      "\r",
      "Epoch 269/300: 100%|███████████████████████| 1600/1600 [00:50<00:00, 29.38it/s, loss (batch)=0.0462]"
     ]
    },
    {
     "name": "stdout",
     "output_type": "stream",
     "text": [
      "QRS_acc: 0.8898\n",
      "Scoring complete.\n",
      "ECG-SEQ-LAB - INFO - \n",
      "                Train epoch_269:\n",
      "                --------------------\n",
      "                train/epoch_loss:        0.31702718138694763\n",
      "train/qrs_score:         0.9587\n",
      "\n",
      "                test/qrs_score:          0.8898\n",
      "                ---------------------------------\n",
      "\n"
     ]
    },
    {
     "name": "stderr",
     "output_type": "stream",
     "text": [
      "2021-02-08 05:32:16,297 (INFO) train.py:268] \n",
      "                Train epoch_269:\n",
      "                --------------------\n",
      "                train/epoch_loss:        0.31702718138694763\n",
      "train/qrs_score:         0.9587\n",
      "\n",
      "                test/qrs_score:          0.8898\n",
      "                ---------------------------------\n",
      "\n"
     ]
    },
    {
     "name": "stdout",
     "output_type": "stream",
     "text": [
      "ECG-SEQ-LAB - INFO - Created checkpoint directory\n"
     ]
    },
    {
     "name": "stderr",
     "output_type": "stream",
     "text": [
      "2021-02-08 05:32:16,308 (INFO) train.py:275] Created checkpoint directory\n"
     ]
    },
    {
     "name": "stdout",
     "output_type": "stream",
     "text": [
      "ECG-SEQ-LAB - INFO - Checkpoint 269 saved!\n"
     ]
    },
    {
     "name": "stderr",
     "output_type": "stream",
     "text": [
      "2021-02-08 05:32:16,424 (INFO) train.py:283] Checkpoint 269 saved!\n",
      "Epoch 269/300: 100%|███████████████████████| 1600/1600 [00:52<00:00, 30.34it/s, loss (batch)=0.0462]\n",
      "Epoch 270/300: 100%|████████████████████████████████████████████| 1600/1600 [00:36<00:00, 28.70it/s]"
     ]
    },
    {
     "name": "stdout",
     "output_type": "stream",
     "text": [
      "QRS_acc: 0.9554\n",
      "Scoring complete.\n"
     ]
    },
    {
     "name": "stderr",
     "output_type": "stream",
     "text": [
      "\r",
      "Epoch 270/300: 100%|████████████████████████████████████████████| 1600/1600 [00:50<00:00, 28.70it/s]"
     ]
    },
    {
     "name": "stdout",
     "output_type": "stream",
     "text": [
      "QRS_acc: 0.8805\n",
      "Scoring complete.\n",
      "ECG-SEQ-LAB - INFO - \n",
      "                Train epoch_270:\n",
      "                --------------------\n",
      "                train/epoch_loss:        0.3241499289870262\n",
      "train/qrs_score:         0.9554\n",
      "\n",
      "                test/qrs_score:          0.8805\n",
      "                ---------------------------------\n",
      "\n"
     ]
    },
    {
     "name": "stderr",
     "output_type": "stream",
     "text": [
      "2021-02-08 05:33:09,012 (INFO) train.py:268] \n",
      "                Train epoch_270:\n",
      "                --------------------\n",
      "                train/epoch_loss:        0.3241499289870262\n",
      "train/qrs_score:         0.9554\n",
      "\n",
      "                test/qrs_score:          0.8805\n",
      "                ---------------------------------\n",
      "\n"
     ]
    },
    {
     "name": "stdout",
     "output_type": "stream",
     "text": [
      "ECG-SEQ-LAB - INFO - Created checkpoint directory\n"
     ]
    },
    {
     "name": "stderr",
     "output_type": "stream",
     "text": [
      "2021-02-08 05:33:09,015 (INFO) train.py:275] Created checkpoint directory\n"
     ]
    },
    {
     "name": "stdout",
     "output_type": "stream",
     "text": [
      "ECG-SEQ-LAB - INFO - Checkpoint 270 saved!\n"
     ]
    },
    {
     "name": "stderr",
     "output_type": "stream",
     "text": [
      "2021-02-08 05:33:09,540 (INFO) train.py:283] Checkpoint 270 saved!\n",
      "Epoch 270/300: 100%|████████████████████████████████████████████| 1600/1600 [00:53<00:00, 30.12it/s]\n",
      "Epoch 271/300: 100%|████████████████████████████████████████████| 1600/1600 [00:37<00:00, 28.34it/s]"
     ]
    },
    {
     "name": "stdout",
     "output_type": "stream",
     "text": [
      "QRS_acc: 0.958\n",
      "Scoring complete.\n"
     ]
    },
    {
     "name": "stderr",
     "output_type": "stream",
     "text": [
      "\r",
      "Epoch 271/300: 100%|████████████████████████████████████████████| 1600/1600 [00:50<00:00, 28.34it/s]"
     ]
    },
    {
     "name": "stdout",
     "output_type": "stream",
     "text": [
      "QRS_acc: 0.8818\n",
      "Scoring complete.\n",
      "ECG-SEQ-LAB - INFO - \n",
      "                Train epoch_271:\n",
      "                --------------------\n",
      "                train/epoch_loss:        0.32771338894963264\n",
      "train/qrs_score:         0.958\n",
      "\n",
      "                test/qrs_score:          0.8818\n",
      "                ---------------------------------\n",
      "\n"
     ]
    },
    {
     "name": "stderr",
     "output_type": "stream",
     "text": [
      "2021-02-08 05:34:02,834 (INFO) train.py:268] \n",
      "                Train epoch_271:\n",
      "                --------------------\n",
      "                train/epoch_loss:        0.32771338894963264\n",
      "train/qrs_score:         0.958\n",
      "\n",
      "                test/qrs_score:          0.8818\n",
      "                ---------------------------------\n",
      "\n"
     ]
    },
    {
     "name": "stdout",
     "output_type": "stream",
     "text": [
      "ECG-SEQ-LAB - INFO - Created checkpoint directory\n"
     ]
    },
    {
     "name": "stderr",
     "output_type": "stream",
     "text": [
      "2021-02-08 05:34:02,844 (INFO) train.py:275] Created checkpoint directory\n"
     ]
    },
    {
     "name": "stdout",
     "output_type": "stream",
     "text": [
      "ECG-SEQ-LAB - INFO - Checkpoint 271 saved!\n"
     ]
    },
    {
     "name": "stderr",
     "output_type": "stream",
     "text": [
      "2021-02-08 05:34:03,078 (INFO) train.py:283] Checkpoint 271 saved!\n",
      "Epoch 271/300: 100%|████████████████████████████████████████████| 1600/1600 [00:53<00:00, 29.89it/s]\n",
      "Epoch 272/300:  32%|████████                 | 512/1600 [00:21<00:29, 36.60it/s, loss (batch)=0.045]"
     ]
    },
    {
     "name": "stdout",
     "output_type": "stream",
     "text": [
      "ECG-SEQ-LAB - INFO - Train step_1900: loss : 0.04501694068312645\n"
     ]
    },
    {
     "name": "stderr",
     "output_type": "stream",
     "text": [
      "2021-02-08 05:34:24,797 (INFO) train.py:225] Train step_1900: loss : 0.04501694068312645\n",
      "Epoch 272/300: 100%|████████████████████████| 1600/1600 [00:50<00:00, 28.77it/s, loss (batch)=0.045]"
     ]
    },
    {
     "name": "stdout",
     "output_type": "stream",
     "text": [
      "QRS_acc: 0.9576\n",
      "Scoring complete.\n",
      "QRS_acc: 0.8948\n",
      "Scoring complete.\n",
      "ECG-SEQ-LAB - INFO - \n",
      "                Train epoch_272:\n",
      "                --------------------\n",
      "                train/epoch_loss:        0.32572174444794655\n",
      "train/qrs_score:         0.9576\n",
      "\n",
      "                test/qrs_score:          0.8948\n",
      "                ---------------------------------\n",
      "\n"
     ]
    },
    {
     "name": "stderr",
     "output_type": "stream",
     "text": [
      "2021-02-08 05:34:58,001 (INFO) train.py:268] \n",
      "                Train epoch_272:\n",
      "                --------------------\n",
      "                train/epoch_loss:        0.32572174444794655\n",
      "train/qrs_score:         0.9576\n",
      "\n",
      "                test/qrs_score:          0.8948\n",
      "                ---------------------------------\n",
      "\n"
     ]
    },
    {
     "name": "stdout",
     "output_type": "stream",
     "text": [
      "ECG-SEQ-LAB - INFO - Created checkpoint directory\n"
     ]
    },
    {
     "name": "stderr",
     "output_type": "stream",
     "text": [
      "2021-02-08 05:34:58,013 (INFO) train.py:275] Created checkpoint directory\n"
     ]
    },
    {
     "name": "stdout",
     "output_type": "stream",
     "text": [
      "ECG-SEQ-LAB - INFO - Checkpoint 272 saved!\n"
     ]
    },
    {
     "name": "stderr",
     "output_type": "stream",
     "text": [
      "2021-02-08 05:34:59,637 (INFO) train.py:283] Checkpoint 272 saved!\n",
      "Epoch 272/300: 100%|████████████████████████| 1600/1600 [00:56<00:00, 28.28it/s, loss (batch)=0.045]\n",
      "Epoch 273/300: 100%|████████████████████████████████████████████| 1600/1600 [00:46<00:00, 25.33it/s]"
     ]
    },
    {
     "name": "stdout",
     "output_type": "stream",
     "text": [
      "QRS_acc: 0.9561\n",
      "Scoring complete.\n"
     ]
    },
    {
     "name": "stderr",
     "output_type": "stream",
     "text": [
      "\r",
      "Epoch 273/300: 100%|████████████████████████████████████████████| 1600/1600 [01:00<00:00, 25.33it/s]"
     ]
    },
    {
     "name": "stdout",
     "output_type": "stream",
     "text": [
      "QRS_acc: 0.8885\n",
      "Scoring complete.\n",
      "ECG-SEQ-LAB - INFO - \n",
      "                Train epoch_273:\n",
      "                --------------------\n",
      "                train/epoch_loss:        0.3194754049181938\n",
      "train/qrs_score:         0.9561\n",
      "\n",
      "                test/qrs_score:          0.8885\n",
      "                ---------------------------------\n",
      "\n"
     ]
    },
    {
     "name": "stderr",
     "output_type": "stream",
     "text": [
      "2021-02-08 05:36:02,251 (INFO) train.py:268] \n",
      "                Train epoch_273:\n",
      "                --------------------\n",
      "                train/epoch_loss:        0.3194754049181938\n",
      "train/qrs_score:         0.9561\n",
      "\n",
      "                test/qrs_score:          0.8885\n",
      "                ---------------------------------\n",
      "\n"
     ]
    },
    {
     "name": "stdout",
     "output_type": "stream",
     "text": [
      "ECG-SEQ-LAB - INFO - Created checkpoint directory\n"
     ]
    },
    {
     "name": "stderr",
     "output_type": "stream",
     "text": [
      "2021-02-08 05:36:02,274 (INFO) train.py:275] Created checkpoint directory\n"
     ]
    },
    {
     "name": "stdout",
     "output_type": "stream",
     "text": [
      "ECG-SEQ-LAB - INFO - Checkpoint 273 saved!\n"
     ]
    },
    {
     "name": "stderr",
     "output_type": "stream",
     "text": [
      "2021-02-08 05:36:02,524 (INFO) train.py:283] Checkpoint 273 saved!\n",
      "Epoch 273/300: 100%|████████████████████████████████████████████| 1600/1600 [01:02<00:00, 25.45it/s]\n",
      "Epoch 274/300: 100%|████████████████████████████████████████████| 1600/1600 [00:50<00:00, 29.00it/s]"
     ]
    },
    {
     "name": "stdout",
     "output_type": "stream",
     "text": [
      "QRS_acc: 0.961\n",
      "Scoring complete.\n",
      "QRS_acc: 0.8928\n",
      "Scoring complete.\n",
      "ECG-SEQ-LAB - INFO - \n",
      "                Train epoch_274:\n",
      "                --------------------\n",
      "                train/epoch_loss:        0.3077520355582237\n",
      "train/qrs_score:         0.961\n",
      "\n",
      "                test/qrs_score:          0.8928\n",
      "                ---------------------------------\n",
      "\n"
     ]
    },
    {
     "name": "stderr",
     "output_type": "stream",
     "text": [
      "2021-02-08 05:37:05,227 (INFO) train.py:268] \n",
      "                Train epoch_274:\n",
      "                --------------------\n",
      "                train/epoch_loss:        0.3077520355582237\n",
      "train/qrs_score:         0.961\n",
      "\n",
      "                test/qrs_score:          0.8928\n",
      "                ---------------------------------\n",
      "\n"
     ]
    },
    {
     "name": "stdout",
     "output_type": "stream",
     "text": [
      "ECG-SEQ-LAB - INFO - Created checkpoint directory\n"
     ]
    },
    {
     "name": "stderr",
     "output_type": "stream",
     "text": [
      "2021-02-08 05:37:05,466 (INFO) train.py:275] Created checkpoint directory\n"
     ]
    },
    {
     "name": "stdout",
     "output_type": "stream",
     "text": [
      "ECG-SEQ-LAB - INFO - Checkpoint 274 saved!\n"
     ]
    },
    {
     "name": "stderr",
     "output_type": "stream",
     "text": [
      "2021-02-08 05:37:06,076 (INFO) train.py:283] Checkpoint 274 saved!\n",
      "Epoch 274/300: 100%|████████████████████████████████████████████| 1600/1600 [01:03<00:00, 25.16it/s]\n",
      "Epoch 275/300:  16%|███▊                    | 256/1600 [00:45<03:14,  6.90it/s, loss (batch)=0.0449]"
     ]
    },
    {
     "name": "stdout",
     "output_type": "stream",
     "text": [
      "ECG-SEQ-LAB - INFO - Train step_1920: loss : 0.044947944581508636\n"
     ]
    },
    {
     "name": "stderr",
     "output_type": "stream",
     "text": [
      "2021-02-08 05:37:52,020 (INFO) train.py:225] Train step_1920: loss : 0.044947944581508636\n",
      "Epoch 275/300: 100%|███████████████████████| 1600/1600 [01:06<00:00, 20.87it/s, loss (batch)=0.0449]"
     ]
    },
    {
     "name": "stdout",
     "output_type": "stream",
     "text": [
      "QRS_acc: 0.9579\n",
      "Scoring complete.\n"
     ]
    },
    {
     "name": "stderr",
     "output_type": "stream",
     "text": [
      "\r",
      "Epoch 275/300: 100%|███████████████████████| 1600/1600 [01:20<00:00, 20.87it/s, loss (batch)=0.0449]"
     ]
    },
    {
     "name": "stdout",
     "output_type": "stream",
     "text": [
      "QRS_acc: 0.8912\n",
      "Scoring complete.\n",
      "ECG-SEQ-LAB - INFO - \n",
      "                Train epoch_275:\n",
      "                --------------------\n",
      "                train/epoch_loss:        0.31417855620384216\n",
      "train/qrs_score:         0.9579\n",
      "\n",
      "                test/qrs_score:          0.8912\n",
      "                ---------------------------------\n",
      "\n"
     ]
    },
    {
     "name": "stderr",
     "output_type": "stream",
     "text": [
      "2021-02-08 05:38:28,095 (INFO) train.py:268] \n",
      "                Train epoch_275:\n",
      "                --------------------\n",
      "                train/epoch_loss:        0.31417855620384216\n",
      "train/qrs_score:         0.9579\n",
      "\n",
      "                test/qrs_score:          0.8912\n",
      "                ---------------------------------\n",
      "\n"
     ]
    },
    {
     "name": "stdout",
     "output_type": "stream",
     "text": [
      "ECG-SEQ-LAB - INFO - Created checkpoint directory\n"
     ]
    },
    {
     "name": "stderr",
     "output_type": "stream",
     "text": [
      "2021-02-08 05:38:28,106 (INFO) train.py:275] Created checkpoint directory\n"
     ]
    },
    {
     "name": "stdout",
     "output_type": "stream",
     "text": [
      "ECG-SEQ-LAB - INFO - Checkpoint 275 saved!\n"
     ]
    },
    {
     "name": "stderr",
     "output_type": "stream",
     "text": [
      "2021-02-08 05:38:28,311 (INFO) train.py:283] Checkpoint 275 saved!\n",
      "Epoch 275/300: 100%|███████████████████████| 1600/1600 [01:22<00:00, 19.47it/s, loss (batch)=0.0449]\n",
      "Epoch 276/300: 100%|████████████████████████████████████████████| 1600/1600 [00:37<00:00, 28.92it/s]"
     ]
    },
    {
     "name": "stdout",
     "output_type": "stream",
     "text": [
      "QRS_acc: 0.9599\n",
      "Scoring complete.\n"
     ]
    },
    {
     "name": "stderr",
     "output_type": "stream",
     "text": [
      "\r",
      "Epoch 276/300: 100%|████████████████████████████████████████████| 1600/1600 [00:50<00:00, 28.92it/s]"
     ]
    },
    {
     "name": "stdout",
     "output_type": "stream",
     "text": [
      "QRS_acc: 0.884\n",
      "Scoring complete.\n",
      "ECG-SEQ-LAB - INFO - \n",
      "                Train epoch_276:\n",
      "                --------------------\n",
      "                train/epoch_loss:        0.3075145296752453\n",
      "train/qrs_score:         0.9599\n",
      "\n",
      "                test/qrs_score:          0.884\n",
      "                ---------------------------------\n",
      "\n"
     ]
    },
    {
     "name": "stderr",
     "output_type": "stream",
     "text": [
      "2021-02-08 05:39:20,095 (INFO) train.py:268] \n",
      "                Train epoch_276:\n",
      "                --------------------\n",
      "                train/epoch_loss:        0.3075145296752453\n",
      "train/qrs_score:         0.9599\n",
      "\n",
      "                test/qrs_score:          0.884\n",
      "                ---------------------------------\n",
      "\n"
     ]
    },
    {
     "name": "stdout",
     "output_type": "stream",
     "text": [
      "ECG-SEQ-LAB - INFO - Created checkpoint directory\n"
     ]
    },
    {
     "name": "stderr",
     "output_type": "stream",
     "text": [
      "2021-02-08 05:39:20,099 (INFO) train.py:275] Created checkpoint directory\n"
     ]
    },
    {
     "name": "stdout",
     "output_type": "stream",
     "text": [
      "ECG-SEQ-LAB - INFO - Checkpoint 276 saved!\n"
     ]
    },
    {
     "name": "stderr",
     "output_type": "stream",
     "text": [
      "2021-02-08 05:39:20,288 (INFO) train.py:283] Checkpoint 276 saved!\n",
      "Epoch 276/300: 100%|████████████████████████████████████████████| 1600/1600 [00:51<00:00, 30.78it/s]\n",
      "Epoch 277/300: 100%|████████████████████████████████████████████| 1600/1600 [00:50<00:00, 28.40it/s]"
     ]
    },
    {
     "name": "stdout",
     "output_type": "stream",
     "text": [
      "QRS_acc: 0.9609\n",
      "Scoring complete.\n",
      "QRS_acc: 0.8812\n",
      "Scoring complete.\n",
      "ECG-SEQ-LAB - INFO - \n",
      "                Train epoch_277:\n",
      "                --------------------\n",
      "                train/epoch_loss:        0.3154737055301666\n",
      "train/qrs_score:         0.9609\n",
      "\n",
      "                test/qrs_score:          0.8812\n",
      "                ---------------------------------\n",
      "\n"
     ]
    },
    {
     "name": "stderr",
     "output_type": "stream",
     "text": [
      "2021-02-08 05:40:16,199 (INFO) train.py:268] \n",
      "                Train epoch_277:\n",
      "                --------------------\n",
      "                train/epoch_loss:        0.3154737055301666\n",
      "train/qrs_score:         0.9609\n",
      "\n",
      "                test/qrs_score:          0.8812\n",
      "                ---------------------------------\n",
      "\n"
     ]
    },
    {
     "name": "stdout",
     "output_type": "stream",
     "text": [
      "ECG-SEQ-LAB - INFO - Created checkpoint directory\n"
     ]
    },
    {
     "name": "stderr",
     "output_type": "stream",
     "text": [
      "2021-02-08 05:40:16,210 (INFO) train.py:275] Created checkpoint directory\n"
     ]
    },
    {
     "name": "stdout",
     "output_type": "stream",
     "text": [
      "ECG-SEQ-LAB - INFO - Checkpoint 277 saved!\n"
     ]
    },
    {
     "name": "stderr",
     "output_type": "stream",
     "text": [
      "2021-02-08 05:40:16,419 (INFO) train.py:283] Checkpoint 277 saved!\n",
      "Epoch 277/300: 100%|████████████████████████████████████████████| 1600/1600 [00:56<00:00, 28.51it/s]\n",
      "Epoch 278/300:   0%|                                  | 0/1600 [00:10<?, ?it/s, loss (batch)=0.0425]"
     ]
    },
    {
     "name": "stdout",
     "output_type": "stream",
     "text": [
      "ECG-SEQ-LAB - INFO - Train step_1940: loss : 0.042458873242139816\n"
     ]
    },
    {
     "name": "stderr",
     "output_type": "stream",
     "text": [
      "2021-02-08 05:40:27,352 (INFO) train.py:225] Train step_1940: loss : 0.042458873242139816\n",
      "Epoch 278/300: 100%|███████████████████████| 1600/1600 [00:36<00:00, 28.15it/s, loss (batch)=0.0425]"
     ]
    },
    {
     "name": "stdout",
     "output_type": "stream",
     "text": [
      "QRS_acc: 0.9596\n",
      "Scoring complete.\n"
     ]
    },
    {
     "name": "stderr",
     "output_type": "stream",
     "text": [
      "\r",
      "Epoch 278/300: 100%|███████████████████████| 1600/1600 [00:50<00:00, 28.15it/s, loss (batch)=0.0425]"
     ]
    },
    {
     "name": "stdout",
     "output_type": "stream",
     "text": [
      "QRS_acc: 0.8808\n",
      "Scoring complete.\n",
      "ECG-SEQ-LAB - INFO - \n",
      "                Train epoch_278:\n",
      "                --------------------\n",
      "                train/epoch_loss:        0.3070282079279423\n",
      "train/qrs_score:         0.9596\n",
      "\n",
      "                test/qrs_score:          0.8808\n",
      "                ---------------------------------\n",
      "\n"
     ]
    },
    {
     "name": "stderr",
     "output_type": "stream",
     "text": [
      "2021-02-08 05:41:08,142 (INFO) train.py:268] \n",
      "                Train epoch_278:\n",
      "                --------------------\n",
      "                train/epoch_loss:        0.3070282079279423\n",
      "train/qrs_score:         0.9596\n",
      "\n",
      "                test/qrs_score:          0.8808\n",
      "                ---------------------------------\n",
      "\n"
     ]
    },
    {
     "name": "stdout",
     "output_type": "stream",
     "text": [
      "ECG-SEQ-LAB - INFO - Created checkpoint directory\n"
     ]
    },
    {
     "name": "stderr",
     "output_type": "stream",
     "text": [
      "2021-02-08 05:41:08,147 (INFO) train.py:275] Created checkpoint directory\n"
     ]
    },
    {
     "name": "stdout",
     "output_type": "stream",
     "text": [
      "ECG-SEQ-LAB - INFO - Checkpoint 278 saved!\n"
     ]
    },
    {
     "name": "stderr",
     "output_type": "stream",
     "text": [
      "2021-02-08 05:41:08,373 (INFO) train.py:283] Checkpoint 278 saved!\n",
      "Epoch 278/300: 100%|███████████████████████| 1600/1600 [00:51<00:00, 30.80it/s, loss (batch)=0.0425]\n",
      "Epoch 279/300: 100%|████████████████████████████████████████████| 1600/1600 [00:36<00:00, 28.79it/s]"
     ]
    },
    {
     "name": "stdout",
     "output_type": "stream",
     "text": [
      "QRS_acc: 0.9626\n",
      "Scoring complete.\n"
     ]
    },
    {
     "name": "stderr",
     "output_type": "stream",
     "text": [
      "\r",
      "Epoch 279/300: 100%|████████████████████████████████████████████| 1600/1600 [00:50<00:00, 28.79it/s]"
     ]
    },
    {
     "name": "stdout",
     "output_type": "stream",
     "text": [
      "QRS_acc: 0.88\n",
      "Scoring complete.\n",
      "ECG-SEQ-LAB - INFO - \n",
      "                Train epoch_279:\n",
      "                --------------------\n",
      "                train/epoch_loss:        0.3115357644855976\n",
      "train/qrs_score:         0.9626\n",
      "\n",
      "                test/qrs_score:          0.88\n",
      "                ---------------------------------\n",
      "\n"
     ]
    },
    {
     "name": "stderr",
     "output_type": "stream",
     "text": [
      "2021-02-08 05:42:00,536 (INFO) train.py:268] \n",
      "                Train epoch_279:\n",
      "                --------------------\n",
      "                train/epoch_loss:        0.3115357644855976\n",
      "train/qrs_score:         0.9626\n",
      "\n",
      "                test/qrs_score:          0.88\n",
      "                ---------------------------------\n",
      "\n"
     ]
    },
    {
     "name": "stdout",
     "output_type": "stream",
     "text": [
      "ECG-SEQ-LAB - INFO - Created checkpoint directory\n"
     ]
    },
    {
     "name": "stderr",
     "output_type": "stream",
     "text": [
      "2021-02-08 05:42:00,546 (INFO) train.py:275] Created checkpoint directory\n"
     ]
    },
    {
     "name": "stdout",
     "output_type": "stream",
     "text": [
      "ECG-SEQ-LAB - INFO - Checkpoint 279 saved!\n"
     ]
    },
    {
     "name": "stderr",
     "output_type": "stream",
     "text": [
      "2021-02-08 05:42:00,789 (INFO) train.py:283] Checkpoint 279 saved!\n",
      "Epoch 279/300: 100%|████████████████████████████████████████████| 1600/1600 [00:52<00:00, 30.52it/s]\n",
      "Epoch 280/300:  96%|███████████████████████ | 1536/1600 [00:37<00:01, 47.29it/s, loss (batch)=0.041]"
     ]
    },
    {
     "name": "stdout",
     "output_type": "stream",
     "text": [
      "ECG-SEQ-LAB - INFO - Train step_1960: loss : 0.04096398875117302\n"
     ]
    },
    {
     "name": "stderr",
     "output_type": "stream",
     "text": [
      "2021-02-08 05:42:38,496 (INFO) train.py:225] Train step_1960: loss : 0.04096398875117302\n",
      "Epoch 280/300: 100%|████████████████████████| 1600/1600 [00:37<00:00, 25.32it/s, loss (batch)=0.041]"
     ]
    },
    {
     "name": "stdout",
     "output_type": "stream",
     "text": [
      "QRS_acc: 0.9639\n",
      "Scoring complete.\n"
     ]
    },
    {
     "name": "stderr",
     "output_type": "stream",
     "text": [
      "\r",
      "Epoch 280/300: 100%|████████████████████████| 1600/1600 [00:50<00:00, 25.32it/s, loss (batch)=0.041]"
     ]
    },
    {
     "name": "stdout",
     "output_type": "stream",
     "text": [
      "QRS_acc: 0.8835\n",
      "Scoring complete.\n",
      "ECG-SEQ-LAB - INFO - \n",
      "                Train epoch_280:\n",
      "                --------------------\n",
      "                train/epoch_loss:        0.30624930933117867\n",
      "train/qrs_score:         0.9639\n",
      "\n",
      "                test/qrs_score:          0.8835\n",
      "                ---------------------------------\n",
      "\n"
     ]
    },
    {
     "name": "stderr",
     "output_type": "stream",
     "text": [
      "2021-02-08 05:42:53,400 (INFO) train.py:268] \n",
      "                Train epoch_280:\n",
      "                --------------------\n",
      "                train/epoch_loss:        0.30624930933117867\n",
      "train/qrs_score:         0.9639\n",
      "\n",
      "                test/qrs_score:          0.8835\n",
      "                ---------------------------------\n",
      "\n"
     ]
    },
    {
     "name": "stdout",
     "output_type": "stream",
     "text": [
      "ECG-SEQ-LAB - INFO - Created checkpoint directory\n"
     ]
    },
    {
     "name": "stderr",
     "output_type": "stream",
     "text": [
      "2021-02-08 05:42:53,404 (INFO) train.py:275] Created checkpoint directory\n"
     ]
    },
    {
     "name": "stdout",
     "output_type": "stream",
     "text": [
      "ECG-SEQ-LAB - INFO - Checkpoint 280 saved!\n"
     ]
    },
    {
     "name": "stderr",
     "output_type": "stream",
     "text": [
      "2021-02-08 05:42:53,593 (INFO) train.py:283] Checkpoint 280 saved!\n",
      "Epoch 280/300: 100%|████████████████████████| 1600/1600 [00:52<00:00, 30.30it/s, loss (batch)=0.041]\n",
      "Epoch 281/300: 100%|████████████████████████████████████████████| 1600/1600 [00:36<00:00, 29.30it/s]"
     ]
    },
    {
     "name": "stdout",
     "output_type": "stream",
     "text": [
      "QRS_acc: 0.9637\n",
      "Scoring complete.\n"
     ]
    },
    {
     "name": "stderr",
     "output_type": "stream",
     "text": [
      "\r",
      "Epoch 281/300: 100%|████████████████████████████████████████████| 1600/1600 [00:50<00:00, 29.30it/s]"
     ]
    },
    {
     "name": "stdout",
     "output_type": "stream",
     "text": [
      "QRS_acc: 0.879\n",
      "Scoring complete.\n",
      "ECG-SEQ-LAB - INFO - \n",
      "                Train epoch_281:\n",
      "                --------------------\n",
      "                train/epoch_loss:        0.30928225070238113\n",
      "train/qrs_score:         0.9637\n",
      "\n",
      "                test/qrs_score:          0.879\n",
      "                ---------------------------------\n",
      "\n"
     ]
    },
    {
     "name": "stderr",
     "output_type": "stream",
     "text": [
      "2021-02-08 05:43:46,803 (INFO) train.py:268] \n",
      "                Train epoch_281:\n",
      "                --------------------\n",
      "                train/epoch_loss:        0.30928225070238113\n",
      "train/qrs_score:         0.9637\n",
      "\n",
      "                test/qrs_score:          0.879\n",
      "                ---------------------------------\n",
      "\n"
     ]
    },
    {
     "name": "stdout",
     "output_type": "stream",
     "text": [
      "ECG-SEQ-LAB - INFO - Created checkpoint directory\n"
     ]
    },
    {
     "name": "stderr",
     "output_type": "stream",
     "text": [
      "2021-02-08 05:43:46,813 (INFO) train.py:275] Created checkpoint directory\n"
     ]
    },
    {
     "name": "stdout",
     "output_type": "stream",
     "text": [
      "ECG-SEQ-LAB - INFO - Checkpoint 281 saved!\n"
     ]
    },
    {
     "name": "stderr",
     "output_type": "stream",
     "text": [
      "2021-02-08 05:43:47,033 (INFO) train.py:283] Checkpoint 281 saved!\n",
      "Epoch 281/300: 100%|████████████████████████████████████████████| 1600/1600 [00:53<00:00, 29.94it/s]\n",
      "Epoch 282/300: 100%|████████████████████████████████████████████| 1600/1600 [00:50<00:00, 28.90it/s]"
     ]
    },
    {
     "name": "stdout",
     "output_type": "stream",
     "text": [
      "QRS_acc: 0.9596\n",
      "Scoring complete.\n",
      "QRS_acc: 0.8788\n",
      "Scoring complete.\n",
      "ECG-SEQ-LAB - INFO - \n",
      "                Train epoch_282:\n",
      "                --------------------\n",
      "                train/epoch_loss:        0.30325011536478996\n",
      "train/qrs_score:         0.9596\n",
      "\n",
      "                test/qrs_score:          0.8788\n",
      "                ---------------------------------\n",
      "\n"
     ]
    },
    {
     "name": "stderr",
     "output_type": "stream",
     "text": [
      "2021-02-08 05:45:21,734 (INFO) train.py:268] \n",
      "                Train epoch_282:\n",
      "                --------------------\n",
      "                train/epoch_loss:        0.30325011536478996\n",
      "train/qrs_score:         0.9596\n",
      "\n",
      "                test/qrs_score:          0.8788\n",
      "                ---------------------------------\n",
      "\n"
     ]
    },
    {
     "name": "stdout",
     "output_type": "stream",
     "text": [
      "ECG-SEQ-LAB - INFO - Created checkpoint directory\n"
     ]
    },
    {
     "name": "stderr",
     "output_type": "stream",
     "text": [
      "2021-02-08 05:45:21,746 (INFO) train.py:275] Created checkpoint directory\n"
     ]
    },
    {
     "name": "stdout",
     "output_type": "stream",
     "text": [
      "ECG-SEQ-LAB - INFO - Checkpoint 282 saved!\n"
     ]
    },
    {
     "name": "stderr",
     "output_type": "stream",
     "text": [
      "2021-02-08 05:45:21,883 (INFO) train.py:283] Checkpoint 282 saved!\n",
      "Epoch 282/300: 100%|████████████████████████████████████████████| 1600/1600 [01:34<00:00, 16.87it/s]\n",
      "Epoch 283/300:  80%|██████████████████▍    | 1280/1600 [00:37<00:07, 43.95it/s, loss (batch)=0.0425]"
     ]
    },
    {
     "name": "stdout",
     "output_type": "stream",
     "text": [
      "ECG-SEQ-LAB - INFO - Train step_1980: loss : 0.042535971850156784\n"
     ]
    },
    {
     "name": "stderr",
     "output_type": "stream",
     "text": [
      "2021-02-08 05:45:59,158 (INFO) train.py:225] Train step_1980: loss : 0.042535971850156784\n",
      "Epoch 283/300: 100%|███████████████████████| 1600/1600 [00:37<00:00, 48.60it/s, loss (batch)=0.0425]"
     ]
    },
    {
     "name": "stdout",
     "output_type": "stream",
     "text": [
      "QRS_acc: 0.9603\n",
      "Scoring complete.\n"
     ]
    },
    {
     "name": "stderr",
     "output_type": "stream",
     "text": [
      "\r",
      "Epoch 283/300: 100%|███████████████████████| 1600/1600 [00:50<00:00, 48.60it/s, loss (batch)=0.0425]"
     ]
    },
    {
     "name": "stdout",
     "output_type": "stream",
     "text": [
      "QRS_acc: 0.8845\n",
      "Scoring complete.\n",
      "ECG-SEQ-LAB - INFO - \n",
      "                Train epoch_283:\n",
      "                --------------------\n",
      "                train/epoch_loss:        0.3060201220214367\n",
      "train/qrs_score:         0.9603\n",
      "\n",
      "                test/qrs_score:          0.8845\n",
      "                ---------------------------------\n",
      "\n"
     ]
    },
    {
     "name": "stderr",
     "output_type": "stream",
     "text": [
      "2021-02-08 05:46:15,108 (INFO) train.py:268] \n",
      "                Train epoch_283:\n",
      "                --------------------\n",
      "                train/epoch_loss:        0.3060201220214367\n",
      "train/qrs_score:         0.9603\n",
      "\n",
      "                test/qrs_score:          0.8845\n",
      "                ---------------------------------\n",
      "\n"
     ]
    },
    {
     "name": "stdout",
     "output_type": "stream",
     "text": [
      "ECG-SEQ-LAB - INFO - Created checkpoint directory\n"
     ]
    },
    {
     "name": "stderr",
     "output_type": "stream",
     "text": [
      "2021-02-08 05:46:15,112 (INFO) train.py:275] Created checkpoint directory\n"
     ]
    },
    {
     "name": "stdout",
     "output_type": "stream",
     "text": [
      "ECG-SEQ-LAB - INFO - Checkpoint 283 saved!\n"
     ]
    },
    {
     "name": "stderr",
     "output_type": "stream",
     "text": [
      "2021-02-08 05:46:15,316 (INFO) train.py:283] Checkpoint 283 saved!\n",
      "Epoch 283/300: 100%|███████████████████████| 1600/1600 [00:53<00:00, 29.95it/s, loss (batch)=0.0425]\n",
      "Epoch 284/300: 100%|████████████████████████████████████████████| 1600/1600 [00:36<00:00, 28.45it/s]"
     ]
    },
    {
     "name": "stdout",
     "output_type": "stream",
     "text": [
      "QRS_acc: 0.9646\n",
      "Scoring complete.\n"
     ]
    },
    {
     "name": "stderr",
     "output_type": "stream",
     "text": [
      "\r",
      "Epoch 284/300: 100%|████████████████████████████████████████████| 1600/1600 [00:50<00:00, 28.45it/s]"
     ]
    },
    {
     "name": "stdout",
     "output_type": "stream",
     "text": [
      "QRS_acc: 0.888\n",
      "Scoring complete.\n",
      "ECG-SEQ-LAB - INFO - \n",
      "                Train epoch_284:\n",
      "                --------------------\n",
      "                train/epoch_loss:        0.3047182597219944\n",
      "train/qrs_score:         0.9646\n",
      "\n",
      "                test/qrs_score:          0.888\n",
      "                ---------------------------------\n",
      "\n"
     ]
    },
    {
     "name": "stderr",
     "output_type": "stream",
     "text": [
      "2021-02-08 05:47:07,823 (INFO) train.py:268] \n",
      "                Train epoch_284:\n",
      "                --------------------\n",
      "                train/epoch_loss:        0.3047182597219944\n",
      "train/qrs_score:         0.9646\n",
      "\n",
      "                test/qrs_score:          0.888\n",
      "                ---------------------------------\n",
      "\n"
     ]
    },
    {
     "name": "stdout",
     "output_type": "stream",
     "text": [
      "ECG-SEQ-LAB - INFO - Created checkpoint directory\n"
     ]
    },
    {
     "name": "stderr",
     "output_type": "stream",
     "text": [
      "2021-02-08 05:47:07,836 (INFO) train.py:275] Created checkpoint directory\n"
     ]
    },
    {
     "name": "stdout",
     "output_type": "stream",
     "text": [
      "ECG-SEQ-LAB - INFO - Checkpoint 284 saved!\n"
     ]
    },
    {
     "name": "stderr",
     "output_type": "stream",
     "text": [
      "2021-02-08 05:47:08,035 (INFO) train.py:283] Checkpoint 284 saved!\n",
      "Epoch 284/300: 100%|████████████████████████████████████████████| 1600/1600 [00:52<00:00, 30.35it/s]\n",
      "Epoch 285/300: 100%|████████████████████████████████████████████| 1600/1600 [00:50<00:00, 28.48it/s]"
     ]
    },
    {
     "name": "stdout",
     "output_type": "stream",
     "text": [
      "QRS_acc: 0.9623\n",
      "Scoring complete.\n",
      "QRS_acc: 0.8815\n",
      "Scoring complete.\n",
      "ECG-SEQ-LAB - INFO - \n",
      "                Train epoch_285:\n",
      "                --------------------\n",
      "                train/epoch_loss:        0.30733563750982285\n",
      "train/qrs_score:         0.9623\n",
      "\n",
      "                test/qrs_score:          0.8815\n",
      "                ---------------------------------\n",
      "\n"
     ]
    },
    {
     "name": "stderr",
     "output_type": "stream",
     "text": [
      "2021-02-08 05:48:11,439 (INFO) train.py:268] \n",
      "                Train epoch_285:\n",
      "                --------------------\n",
      "                train/epoch_loss:        0.30733563750982285\n",
      "train/qrs_score:         0.9623\n",
      "\n",
      "                test/qrs_score:          0.8815\n",
      "                ---------------------------------\n",
      "\n"
     ]
    },
    {
     "name": "stdout",
     "output_type": "stream",
     "text": [
      "ECG-SEQ-LAB - INFO - Created checkpoint directory\n"
     ]
    },
    {
     "name": "stderr",
     "output_type": "stream",
     "text": [
      "2021-02-08 05:48:11,452 (INFO) train.py:275] Created checkpoint directory\n"
     ]
    },
    {
     "name": "stdout",
     "output_type": "stream",
     "text": [
      "ECG-SEQ-LAB - INFO - Checkpoint 285 saved!\n"
     ]
    },
    {
     "name": "stderr",
     "output_type": "stream",
     "text": [
      "2021-02-08 05:48:11,694 (INFO) train.py:283] Checkpoint 285 saved!\n",
      "Epoch 285/300: 100%|████████████████████████████████████████████| 1600/1600 [01:03<00:00, 25.14it/s]\n",
      "Epoch 286/300:  64%|██████████████▋        | 1024/1600 [00:33<00:14, 39.38it/s, loss (batch)=0.0423]"
     ]
    },
    {
     "name": "stdout",
     "output_type": "stream",
     "text": [
      "ECG-SEQ-LAB - INFO - Train step_2000: loss : 0.042346443980932236\n"
     ]
    },
    {
     "name": "stderr",
     "output_type": "stream",
     "text": [
      "2021-02-08 05:48:44,801 (INFO) train.py:225] Train step_2000: loss : 0.042346443980932236\n",
      "Epoch 286/300: 100%|███████████████████████| 1600/1600 [00:38<00:00, 29.37it/s, loss (batch)=0.0423]"
     ]
    },
    {
     "name": "stdout",
     "output_type": "stream",
     "text": [
      "QRS_acc: 0.9624\n",
      "Scoring complete.\n"
     ]
    },
    {
     "name": "stderr",
     "output_type": "stream",
     "text": [
      "\r",
      "Epoch 286/300: 100%|███████████████████████| 1600/1600 [00:50<00:00, 29.37it/s, loss (batch)=0.0423]"
     ]
    },
    {
     "name": "stdout",
     "output_type": "stream",
     "text": [
      "QRS_acc: 0.896\n",
      "Scoring complete.\n",
      "ECG-SEQ-LAB - INFO - \n",
      "                Train epoch_286:\n",
      "                --------------------\n",
      "                train/epoch_loss:        0.3075437508523464\n",
      "train/qrs_score:         0.9624\n",
      "\n",
      "                test/qrs_score:          0.896\n",
      "                ---------------------------------\n",
      "\n"
     ]
    },
    {
     "name": "stderr",
     "output_type": "stream",
     "text": [
      "2021-02-08 05:49:04,512 (INFO) train.py:268] \n",
      "                Train epoch_286:\n",
      "                --------------------\n",
      "                train/epoch_loss:        0.3075437508523464\n",
      "train/qrs_score:         0.9624\n",
      "\n",
      "                test/qrs_score:          0.896\n",
      "                ---------------------------------\n",
      "\n"
     ]
    },
    {
     "name": "stdout",
     "output_type": "stream",
     "text": [
      "ECG-SEQ-LAB - INFO - Created checkpoint directory\n"
     ]
    },
    {
     "name": "stderr",
     "output_type": "stream",
     "text": [
      "2021-02-08 05:49:04,516 (INFO) train.py:275] Created checkpoint directory\n"
     ]
    },
    {
     "name": "stdout",
     "output_type": "stream",
     "text": [
      "ECG-SEQ-LAB - INFO - Checkpoint 286 saved!\n"
     ]
    },
    {
     "name": "stderr",
     "output_type": "stream",
     "text": [
      "2021-02-08 05:49:04,771 (INFO) train.py:283] Checkpoint 286 saved!\n",
      "Epoch 286/300: 100%|███████████████████████| 1600/1600 [00:53<00:00, 30.14it/s, loss (batch)=0.0423]\n",
      "Epoch 287/300: 100%|████████████████████████████████████████████| 1600/1600 [00:38<00:00, 28.56it/s]"
     ]
    },
    {
     "name": "stdout",
     "output_type": "stream",
     "text": [
      "QRS_acc: 0.9641\n",
      "Scoring complete.\n"
     ]
    },
    {
     "name": "stderr",
     "output_type": "stream",
     "text": [
      "\r",
      "Epoch 287/300: 100%|████████████████████████████████████████████| 1600/1600 [00:50<00:00, 28.56it/s]"
     ]
    },
    {
     "name": "stdout",
     "output_type": "stream",
     "text": [
      "QRS_acc: 0.893\n",
      "Scoring complete.\n",
      "ECG-SEQ-LAB - INFO - \n",
      "                Train epoch_287:\n",
      "                --------------------\n",
      "                train/epoch_loss:        0.30331331118941307\n",
      "train/qrs_score:         0.9641\n",
      "\n",
      "                test/qrs_score:          0.893\n",
      "                ---------------------------------\n",
      "\n"
     ]
    },
    {
     "name": "stderr",
     "output_type": "stream",
     "text": [
      "2021-02-08 05:49:59,004 (INFO) train.py:268] \n",
      "                Train epoch_287:\n",
      "                --------------------\n",
      "                train/epoch_loss:        0.30331331118941307\n",
      "train/qrs_score:         0.9641\n",
      "\n",
      "                test/qrs_score:          0.893\n",
      "                ---------------------------------\n",
      "\n"
     ]
    },
    {
     "name": "stdout",
     "output_type": "stream",
     "text": [
      "ECG-SEQ-LAB - INFO - Created checkpoint directory\n"
     ]
    },
    {
     "name": "stderr",
     "output_type": "stream",
     "text": [
      "2021-02-08 05:49:59,014 (INFO) train.py:275] Created checkpoint directory\n"
     ]
    },
    {
     "name": "stdout",
     "output_type": "stream",
     "text": [
      "ECG-SEQ-LAB - INFO - Checkpoint 287 saved!\n"
     ]
    },
    {
     "name": "stderr",
     "output_type": "stream",
     "text": [
      "2021-02-08 05:49:59,232 (INFO) train.py:283] Checkpoint 287 saved!\n",
      "Epoch 287/300: 100%|████████████████████████████████████████████| 1600/1600 [00:54<00:00, 29.38it/s]\n",
      "Epoch 288/300: 100%|████████████████████████████████████████████| 1600/1600 [00:50<00:00, 28.06it/s]"
     ]
    },
    {
     "name": "stdout",
     "output_type": "stream",
     "text": [
      "QRS_acc: 0.9648\n",
      "Scoring complete.\n",
      "QRS_acc: 0.8933\n",
      "Scoring complete.\n",
      "ECG-SEQ-LAB - INFO - \n",
      "                Train epoch_288:\n",
      "                --------------------\n",
      "                train/epoch_loss:        0.3081483580172062\n",
      "train/qrs_score:         0.9648\n",
      "\n",
      "                test/qrs_score:          0.8933\n",
      "                ---------------------------------\n",
      "\n"
     ]
    },
    {
     "name": "stderr",
     "output_type": "stream",
     "text": [
      "2021-02-08 05:50:53,694 (INFO) train.py:268] \n",
      "                Train epoch_288:\n",
      "                --------------------\n",
      "                train/epoch_loss:        0.3081483580172062\n",
      "train/qrs_score:         0.9648\n",
      "\n",
      "                test/qrs_score:          0.8933\n",
      "                ---------------------------------\n",
      "\n"
     ]
    },
    {
     "name": "stdout",
     "output_type": "stream",
     "text": [
      "ECG-SEQ-LAB - INFO - Created checkpoint directory\n"
     ]
    },
    {
     "name": "stderr",
     "output_type": "stream",
     "text": [
      "2021-02-08 05:50:53,698 (INFO) train.py:275] Created checkpoint directory\n"
     ]
    },
    {
     "name": "stdout",
     "output_type": "stream",
     "text": [
      "ECG-SEQ-LAB - INFO - Checkpoint 288 saved!\n"
     ]
    },
    {
     "name": "stderr",
     "output_type": "stream",
     "text": [
      "2021-02-08 05:50:53,807 (INFO) train.py:283] Checkpoint 288 saved!\n",
      "Epoch 288/300: 100%|████████████████████████████████████████████| 1600/1600 [00:54<00:00, 29.32it/s]\n",
      "Epoch 289/300:  48%|███████████▌            | 768/1600 [00:27<00:21, 37.85it/s, loss (batch)=0.0428]"
     ]
    },
    {
     "name": "stdout",
     "output_type": "stream",
     "text": [
      "ECG-SEQ-LAB - INFO - Train step_2020: loss : 0.04280473664402962\n"
     ]
    },
    {
     "name": "stderr",
     "output_type": "stream",
     "text": [
      "2021-02-08 05:51:21,396 (INFO) train.py:225] Train step_2020: loss : 0.04280473664402962\n",
      "Epoch 289/300: 100%|███████████████████████| 1600/1600 [00:50<00:00, 28.94it/s, loss (batch)=0.0428]"
     ]
    },
    {
     "name": "stdout",
     "output_type": "stream",
     "text": [
      "QRS_acc: 0.966\n",
      "Scoring complete.\n",
      "QRS_acc: 0.895\n",
      "Scoring complete.\n",
      "ECG-SEQ-LAB - INFO - \n",
      "                Train epoch_289:\n",
      "                --------------------\n",
      "                train/epoch_loss:        0.3001234456896782\n",
      "train/qrs_score:         0.966\n",
      "\n",
      "                test/qrs_score:          0.895\n",
      "                ---------------------------------\n",
      "\n"
     ]
    },
    {
     "name": "stderr",
     "output_type": "stream",
     "text": [
      "2021-02-08 05:52:10,993 (INFO) train.py:268] \n",
      "                Train epoch_289:\n",
      "                --------------------\n",
      "                train/epoch_loss:        0.3001234456896782\n",
      "train/qrs_score:         0.966\n",
      "\n",
      "                test/qrs_score:          0.895\n",
      "                ---------------------------------\n",
      "\n"
     ]
    },
    {
     "name": "stdout",
     "output_type": "stream",
     "text": [
      "ECG-SEQ-LAB - INFO - Created checkpoint directory\n"
     ]
    },
    {
     "name": "stderr",
     "output_type": "stream",
     "text": [
      "2021-02-08 05:52:11,025 (INFO) train.py:275] Created checkpoint directory\n"
     ]
    },
    {
     "name": "stdout",
     "output_type": "stream",
     "text": [
      "ECG-SEQ-LAB - INFO - Checkpoint 289 saved!\n"
     ]
    },
    {
     "name": "stderr",
     "output_type": "stream",
     "text": [
      "2021-02-08 05:52:11,220 (INFO) train.py:283] Checkpoint 289 saved!\n",
      "Epoch 289/300: 100%|███████████████████████| 1600/1600 [01:17<00:00, 20.67it/s, loss (batch)=0.0428]\n",
      "Epoch 290/300: 100%|████████████████████████████████████████████| 1600/1600 [00:48<00:00, 24.78it/s]"
     ]
    },
    {
     "name": "stdout",
     "output_type": "stream",
     "text": [
      "QRS_acc: 0.9648\n",
      "Scoring complete.\n"
     ]
    },
    {
     "name": "stderr",
     "output_type": "stream",
     "text": [
      "\r",
      "Epoch 290/300: 100%|████████████████████████████████████████████| 1600/1600 [01:00<00:00, 24.78it/s]"
     ]
    },
    {
     "name": "stdout",
     "output_type": "stream",
     "text": [
      "QRS_acc: 0.887\n",
      "Scoring complete.\n",
      "ECG-SEQ-LAB - INFO - \n",
      "                Train epoch_290:\n",
      "                --------------------\n",
      "                train/epoch_loss:        0.3085266053676605\n",
      "train/qrs_score:         0.9648\n",
      "\n",
      "                test/qrs_score:          0.887\n",
      "                ---------------------------------\n",
      "\n"
     ]
    },
    {
     "name": "stderr",
     "output_type": "stream",
     "text": [
      "2021-02-08 05:53:15,122 (INFO) train.py:268] \n",
      "                Train epoch_290:\n",
      "                --------------------\n",
      "                train/epoch_loss:        0.3085266053676605\n",
      "train/qrs_score:         0.9648\n",
      "\n",
      "                test/qrs_score:          0.887\n",
      "                ---------------------------------\n",
      "\n"
     ]
    },
    {
     "name": "stdout",
     "output_type": "stream",
     "text": [
      "ECG-SEQ-LAB - INFO - Created checkpoint directory\n"
     ]
    },
    {
     "name": "stderr",
     "output_type": "stream",
     "text": [
      "2021-02-08 05:53:15,272 (INFO) train.py:275] Created checkpoint directory\n"
     ]
    },
    {
     "name": "stdout",
     "output_type": "stream",
     "text": [
      "ECG-SEQ-LAB - INFO - Checkpoint 290 saved!\n"
     ]
    },
    {
     "name": "stderr",
     "output_type": "stream",
     "text": [
      "2021-02-08 05:53:15,509 (INFO) train.py:283] Checkpoint 290 saved!\n",
      "Epoch 290/300: 100%|████████████████████████████████████████████| 1600/1600 [01:04<00:00, 24.89it/s]\n",
      "Epoch 291/300: 100%|████████████████████████████████████████████| 1600/1600 [00:50<00:00, 29.44it/s]"
     ]
    },
    {
     "name": "stdout",
     "output_type": "stream",
     "text": [
      "QRS_acc: 0.9649\n",
      "Scoring complete.\n",
      "QRS_acc: 0.8918\n",
      "Scoring complete.\n",
      "ECG-SEQ-LAB - INFO - \n",
      "                Train epoch_291:\n",
      "                --------------------\n",
      "                train/epoch_loss:        0.296700619161129\n",
      "train/qrs_score:         0.9649\n",
      "\n",
      "                test/qrs_score:          0.8918\n",
      "                ---------------------------------\n",
      "\n"
     ]
    },
    {
     "name": "stderr",
     "output_type": "stream",
     "text": [
      "2021-02-08 05:54:12,547 (INFO) train.py:268] \n",
      "                Train epoch_291:\n",
      "                --------------------\n",
      "                train/epoch_loss:        0.296700619161129\n",
      "train/qrs_score:         0.9649\n",
      "\n",
      "                test/qrs_score:          0.8918\n",
      "                ---------------------------------\n",
      "\n"
     ]
    },
    {
     "name": "stdout",
     "output_type": "stream",
     "text": [
      "ECG-SEQ-LAB - INFO - Created checkpoint directory\n"
     ]
    },
    {
     "name": "stderr",
     "output_type": "stream",
     "text": [
      "2021-02-08 05:54:12,552 (INFO) train.py:275] Created checkpoint directory\n"
     ]
    },
    {
     "name": "stdout",
     "output_type": "stream",
     "text": [
      "ECG-SEQ-LAB - INFO - Checkpoint 291 saved!\n"
     ]
    },
    {
     "name": "stderr",
     "output_type": "stream",
     "text": [
      "2021-02-08 05:54:12,950 (INFO) train.py:283] Checkpoint 291 saved!\n",
      "Epoch 291/300: 100%|████████████████████████████████████████████| 1600/1600 [00:57<00:00, 27.85it/s]\n",
      "Epoch 292/300:  32%|███████▋                | 512/1600 [00:26<00:44, 24.45it/s, loss (batch)=0.0479]"
     ]
    },
    {
     "name": "stdout",
     "output_type": "stream",
     "text": [
      "ECG-SEQ-LAB - INFO - Train step_2040: loss : 0.047934383153915405\n"
     ]
    },
    {
     "name": "stderr",
     "output_type": "stream",
     "text": [
      "2021-02-08 05:54:39,596 (INFO) train.py:225] Train step_2040: loss : 0.047934383153915405\n",
      "Epoch 292/300: 100%|███████████████████████| 1600/1600 [00:42<00:00, 26.72it/s, loss (batch)=0.0479]"
     ]
    },
    {
     "name": "stdout",
     "output_type": "stream",
     "text": [
      "QRS_acc: 0.9623\n",
      "Scoring complete.\n",
      "QRS_acc: 0.8802\n",
      "Scoring complete.\n",
      "ECG-SEQ-LAB - INFO - \n",
      "                Train epoch_292:\n",
      "                --------------------\n",
      "                train/epoch_loss:        0.29334812611341476\n",
      "train/qrs_score:         0.9623\n",
      "\n",
      "                test/qrs_score:          0.8802\n",
      "                ---------------------------------\n",
      "\n"
     ]
    },
    {
     "name": "stderr",
     "output_type": "stream",
     "text": [
      "2021-02-08 05:55:10,716 (INFO) train.py:268] \n",
      "                Train epoch_292:\n",
      "                --------------------\n",
      "                train/epoch_loss:        0.29334812611341476\n",
      "train/qrs_score:         0.9623\n",
      "\n",
      "                test/qrs_score:          0.8802\n",
      "                ---------------------------------\n",
      "\n"
     ]
    },
    {
     "name": "stdout",
     "output_type": "stream",
     "text": [
      "ECG-SEQ-LAB - INFO - Created checkpoint directory\n"
     ]
    },
    {
     "name": "stderr",
     "output_type": "stream",
     "text": [
      "2021-02-08 05:55:10,724 (INFO) train.py:275] Created checkpoint directory\n"
     ]
    },
    {
     "name": "stdout",
     "output_type": "stream",
     "text": [
      "ECG-SEQ-LAB - INFO - Checkpoint 292 saved!\n"
     ]
    },
    {
     "name": "stderr",
     "output_type": "stream",
     "text": [
      "2021-02-08 05:55:10,880 (INFO) train.py:283] Checkpoint 292 saved!\n",
      "Epoch 292/300: 100%|███████████████████████| 1600/1600 [00:57<00:00, 27.63it/s, loss (batch)=0.0479]\n",
      "Epoch 293/300: 100%|████████████████████████████████████████████| 1600/1600 [00:36<00:00, 28.62it/s]"
     ]
    },
    {
     "name": "stdout",
     "output_type": "stream",
     "text": [
      "QRS_acc: 0.9638\n",
      "Scoring complete.\n"
     ]
    },
    {
     "name": "stderr",
     "output_type": "stream",
     "text": [
      "\r",
      "Epoch 293/300: 100%|████████████████████████████████████████████| 1600/1600 [00:50<00:00, 28.62it/s]"
     ]
    },
    {
     "name": "stdout",
     "output_type": "stream",
     "text": [
      "QRS_acc: 0.8903\n",
      "Scoring complete.\n",
      "ECG-SEQ-LAB - INFO - \n",
      "                Train epoch_293:\n",
      "                --------------------\n",
      "                train/epoch_loss:        0.2975487597286701\n",
      "train/qrs_score:         0.9638\n",
      "\n",
      "                test/qrs_score:          0.8903\n",
      "                ---------------------------------\n",
      "\n"
     ]
    },
    {
     "name": "stderr",
     "output_type": "stream",
     "text": [
      "2021-02-08 05:56:02,027 (INFO) train.py:268] \n",
      "                Train epoch_293:\n",
      "                --------------------\n",
      "                train/epoch_loss:        0.2975487597286701\n",
      "train/qrs_score:         0.9638\n",
      "\n",
      "                test/qrs_score:          0.8903\n",
      "                ---------------------------------\n",
      "\n"
     ]
    },
    {
     "name": "stdout",
     "output_type": "stream",
     "text": [
      "ECG-SEQ-LAB - INFO - Created checkpoint directory\n"
     ]
    },
    {
     "name": "stderr",
     "output_type": "stream",
     "text": [
      "2021-02-08 05:56:02,033 (INFO) train.py:275] Created checkpoint directory\n"
     ]
    },
    {
     "name": "stdout",
     "output_type": "stream",
     "text": [
      "ECG-SEQ-LAB - INFO - Checkpoint 293 saved!\n"
     ]
    },
    {
     "name": "stderr",
     "output_type": "stream",
     "text": [
      "2021-02-08 05:56:02,150 (INFO) train.py:283] Checkpoint 293 saved!\n",
      "Epoch 293/300: 100%|████████████████████████████████████████████| 1600/1600 [00:51<00:00, 31.21it/s]\n",
      "Epoch 294/300: 100%|████████████████████████████████████████████| 1600/1600 [00:50<00:00, 25.43it/s]"
     ]
    },
    {
     "name": "stdout",
     "output_type": "stream",
     "text": [
      "QRS_acc: 0.9624\n",
      "Scoring complete.\n",
      "QRS_acc: 0.885\n",
      "Scoring complete.\n",
      "ECG-SEQ-LAB - INFO - \n",
      "                Train epoch_294:\n",
      "                --------------------\n",
      "                train/epoch_loss:        0.29989198222756386\n",
      "train/qrs_score:         0.9624\n",
      "\n",
      "                test/qrs_score:          0.885\n",
      "                ---------------------------------\n",
      "\n"
     ]
    },
    {
     "name": "stderr",
     "output_type": "stream",
     "text": [
      "2021-02-08 05:56:57,254 (INFO) train.py:268] \n",
      "                Train epoch_294:\n",
      "                --------------------\n",
      "                train/epoch_loss:        0.29989198222756386\n",
      "train/qrs_score:         0.9624\n",
      "\n",
      "                test/qrs_score:          0.885\n",
      "                ---------------------------------\n",
      "\n"
     ]
    },
    {
     "name": "stdout",
     "output_type": "stream",
     "text": [
      "ECG-SEQ-LAB - INFO - Created checkpoint directory\n"
     ]
    },
    {
     "name": "stderr",
     "output_type": "stream",
     "text": [
      "2021-02-08 05:56:57,529 (INFO) train.py:275] Created checkpoint directory\n"
     ]
    },
    {
     "name": "stdout",
     "output_type": "stream",
     "text": [
      "ECG-SEQ-LAB - INFO - Checkpoint 294 saved!\n"
     ]
    },
    {
     "name": "stderr",
     "output_type": "stream",
     "text": [
      "2021-02-08 05:56:57,663 (INFO) train.py:283] Checkpoint 294 saved!\n",
      "Epoch 294/300: 100%|████████████████████████████████████████████| 1600/1600 [00:55<00:00, 28.82it/s]\n",
      "Epoch 295/300:  16%|███▊                    | 256/1600 [00:16<00:40, 33.04it/s, loss (batch)=0.0422]"
     ]
    },
    {
     "name": "stdout",
     "output_type": "stream",
     "text": [
      "ECG-SEQ-LAB - INFO - Train step_2060: loss : 0.042218733578920364\n"
     ]
    },
    {
     "name": "stderr",
     "output_type": "stream",
     "text": [
      "2021-02-08 05:57:14,332 (INFO) train.py:225] Train step_2060: loss : 0.042218733578920364\n",
      "Epoch 295/300: 100%|███████████████████████| 1600/1600 [00:37<00:00, 28.57it/s, loss (batch)=0.0422]"
     ]
    },
    {
     "name": "stdout",
     "output_type": "stream",
     "text": [
      "QRS_acc: 0.9657\n",
      "Scoring complete.\n"
     ]
    },
    {
     "name": "stderr",
     "output_type": "stream",
     "text": [
      "\r",
      "Epoch 295/300: 100%|███████████████████████| 1600/1600 [00:50<00:00, 28.57it/s, loss (batch)=0.0422]"
     ]
    },
    {
     "name": "stdout",
     "output_type": "stream",
     "text": [
      "QRS_acc: 0.8955\n",
      "Scoring complete.\n",
      "ECG-SEQ-LAB - INFO - \n",
      "                Train epoch_295:\n",
      "                --------------------\n",
      "                train/epoch_loss:        0.3069174326956272\n",
      "train/qrs_score:         0.9657\n",
      "\n",
      "                test/qrs_score:          0.8955\n",
      "                ---------------------------------\n",
      "\n"
     ]
    },
    {
     "name": "stderr",
     "output_type": "stream",
     "text": [
      "2021-02-08 05:57:49,908 (INFO) train.py:268] \n",
      "                Train epoch_295:\n",
      "                --------------------\n",
      "                train/epoch_loss:        0.3069174326956272\n",
      "train/qrs_score:         0.9657\n",
      "\n",
      "                test/qrs_score:          0.8955\n",
      "                ---------------------------------\n",
      "\n"
     ]
    },
    {
     "name": "stdout",
     "output_type": "stream",
     "text": [
      "ECG-SEQ-LAB - INFO - Created checkpoint directory\n"
     ]
    },
    {
     "name": "stderr",
     "output_type": "stream",
     "text": [
      "2021-02-08 05:57:49,913 (INFO) train.py:275] Created checkpoint directory\n"
     ]
    },
    {
     "name": "stdout",
     "output_type": "stream",
     "text": [
      "ECG-SEQ-LAB - INFO - Checkpoint 295 saved!\n"
     ]
    },
    {
     "name": "stderr",
     "output_type": "stream",
     "text": [
      "2021-02-08 05:57:50,114 (INFO) train.py:283] Checkpoint 295 saved!\n",
      "Epoch 295/300: 100%|███████████████████████| 1600/1600 [00:52<00:00, 30.51it/s, loss (batch)=0.0422]\n",
      "Epoch 296/300: 100%|████████████████████████████████████████████| 1600/1600 [00:36<00:00, 28.65it/s]"
     ]
    },
    {
     "name": "stdout",
     "output_type": "stream",
     "text": [
      "QRS_acc: 0.9639\n",
      "Scoring complete.\n"
     ]
    },
    {
     "name": "stderr",
     "output_type": "stream",
     "text": [
      "\r",
      "Epoch 296/300: 100%|████████████████████████████████████████████| 1600/1600 [00:50<00:00, 28.65it/s]"
     ]
    },
    {
     "name": "stdout",
     "output_type": "stream",
     "text": [
      "QRS_acc: 0.8882\n",
      "Scoring complete.\n",
      "ECG-SEQ-LAB - INFO - \n",
      "                Train epoch_296:\n",
      "                --------------------\n",
      "                train/epoch_loss:        0.30824923142790794\n",
      "train/qrs_score:         0.9639\n",
      "\n",
      "                test/qrs_score:          0.8882\n",
      "                ---------------------------------\n",
      "\n"
     ]
    },
    {
     "name": "stderr",
     "output_type": "stream",
     "text": [
      "2021-02-08 05:58:45,152 (INFO) train.py:268] \n",
      "                Train epoch_296:\n",
      "                --------------------\n",
      "                train/epoch_loss:        0.30824923142790794\n",
      "train/qrs_score:         0.9639\n",
      "\n",
      "                test/qrs_score:          0.8882\n",
      "                ---------------------------------\n",
      "\n"
     ]
    },
    {
     "name": "stdout",
     "output_type": "stream",
     "text": [
      "ECG-SEQ-LAB - INFO - Created checkpoint directory\n"
     ]
    },
    {
     "name": "stderr",
     "output_type": "stream",
     "text": [
      "2021-02-08 05:58:45,163 (INFO) train.py:275] Created checkpoint directory\n"
     ]
    },
    {
     "name": "stdout",
     "output_type": "stream",
     "text": [
      "ECG-SEQ-LAB - INFO - Checkpoint 296 saved!\n"
     ]
    },
    {
     "name": "stderr",
     "output_type": "stream",
     "text": [
      "2021-02-08 05:58:45,686 (INFO) train.py:283] Checkpoint 296 saved!\n",
      "Epoch 296/300: 100%|████████████████████████████████████████████| 1600/1600 [00:55<00:00, 28.79it/s]\n",
      "Epoch 297/300: 100%|████████████████████████████████████████████| 1600/1600 [00:50<00:00, 28.19it/s]"
     ]
    },
    {
     "name": "stdout",
     "output_type": "stream",
     "text": [
      "QRS_acc: 0.9623\n",
      "Scoring complete.\n",
      "QRS_acc: 0.8848\n",
      "Scoring complete.\n",
      "ECG-SEQ-LAB - INFO - \n",
      "                Train epoch_297:\n",
      "                --------------------\n",
      "                train/epoch_loss:        0.3011520355939865\n",
      "train/qrs_score:         0.9623\n",
      "\n",
      "                test/qrs_score:          0.8848\n",
      "                ---------------------------------\n",
      "\n"
     ]
    },
    {
     "name": "stderr",
     "output_type": "stream",
     "text": [
      "2021-02-08 05:59:41,014 (INFO) train.py:268] \n",
      "                Train epoch_297:\n",
      "                --------------------\n",
      "                train/epoch_loss:        0.3011520355939865\n",
      "train/qrs_score:         0.9623\n",
      "\n",
      "                test/qrs_score:          0.8848\n",
      "                ---------------------------------\n",
      "\n"
     ]
    },
    {
     "name": "stdout",
     "output_type": "stream",
     "text": [
      "ECG-SEQ-LAB - INFO - Created checkpoint directory\n"
     ]
    },
    {
     "name": "stderr",
     "output_type": "stream",
     "text": [
      "2021-02-08 05:59:41,021 (INFO) train.py:275] Created checkpoint directory\n"
     ]
    },
    {
     "name": "stdout",
     "output_type": "stream",
     "text": [
      "ECG-SEQ-LAB - INFO - Checkpoint 297 saved!\n"
     ]
    },
    {
     "name": "stderr",
     "output_type": "stream",
     "text": [
      "2021-02-08 05:59:41,270 (INFO) train.py:283] Checkpoint 297 saved!\n",
      "Epoch 297/300: 100%|████████████████████████████████████████████| 1600/1600 [00:55<00:00, 28.79it/s]\n",
      "Epoch 298/300:   0%|                                  | 0/1600 [00:12<?, ?it/s, loss (batch)=0.0436]"
     ]
    },
    {
     "name": "stdout",
     "output_type": "stream",
     "text": [
      "ECG-SEQ-LAB - INFO - Train step_2080: loss : 0.04359216243028641\n"
     ]
    },
    {
     "name": "stderr",
     "output_type": "stream",
     "text": [
      "2021-02-08 05:59:53,997 (INFO) train.py:225] Train step_2080: loss : 0.04359216243028641\n",
      "Epoch 298/300: 100%|███████████████████████| 1600/1600 [00:38<00:00, 27.35it/s, loss (batch)=0.0436]"
     ]
    },
    {
     "name": "stdout",
     "output_type": "stream",
     "text": [
      "QRS_acc: 0.9593\n",
      "Scoring complete.\n"
     ]
    },
    {
     "name": "stderr",
     "output_type": "stream",
     "text": [
      "\r",
      "Epoch 298/300: 100%|███████████████████████| 1600/1600 [00:50<00:00, 27.35it/s, loss (batch)=0.0436]"
     ]
    },
    {
     "name": "stdout",
     "output_type": "stream",
     "text": [
      "QRS_acc: 0.8808\n",
      "Scoring complete.\n",
      "ECG-SEQ-LAB - INFO - \n",
      "                Train epoch_298:\n",
      "                --------------------\n",
      "                train/epoch_loss:        0.29780297353863716\n",
      "train/qrs_score:         0.9593\n",
      "\n",
      "                test/qrs_score:          0.8808\n",
      "                ---------------------------------\n",
      "\n"
     ]
    },
    {
     "name": "stderr",
     "output_type": "stream",
     "text": [
      "2021-02-08 06:00:35,109 (INFO) train.py:268] \n",
      "                Train epoch_298:\n",
      "                --------------------\n",
      "                train/epoch_loss:        0.29780297353863716\n",
      "train/qrs_score:         0.9593\n",
      "\n",
      "                test/qrs_score:          0.8808\n",
      "                ---------------------------------\n",
      "\n"
     ]
    },
    {
     "name": "stdout",
     "output_type": "stream",
     "text": [
      "ECG-SEQ-LAB - INFO - Created checkpoint directory\n"
     ]
    },
    {
     "name": "stderr",
     "output_type": "stream",
     "text": [
      "2021-02-08 06:00:35,118 (INFO) train.py:275] Created checkpoint directory\n"
     ]
    },
    {
     "name": "stdout",
     "output_type": "stream",
     "text": [
      "ECG-SEQ-LAB - INFO - Checkpoint 298 saved!\n"
     ]
    },
    {
     "name": "stderr",
     "output_type": "stream",
     "text": [
      "2021-02-08 06:00:35,326 (INFO) train.py:283] Checkpoint 298 saved!\n",
      "Epoch 298/300: 100%|███████████████████████| 1600/1600 [00:54<00:00, 29.60it/s, loss (batch)=0.0436]\n",
      "Epoch 299/300: 100%|████████████████████████████████████████████| 1600/1600 [00:37<00:00, 28.43it/s]"
     ]
    },
    {
     "name": "stdout",
     "output_type": "stream",
     "text": [
      "QRS_acc: 0.9625\n",
      "Scoring complete.\n"
     ]
    },
    {
     "name": "stderr",
     "output_type": "stream",
     "text": [
      "\r",
      "Epoch 299/300: 100%|████████████████████████████████████████████| 1600/1600 [00:50<00:00, 28.43it/s]"
     ]
    },
    {
     "name": "stdout",
     "output_type": "stream",
     "text": [
      "QRS_acc: 0.8802\n",
      "Scoring complete.\n",
      "ECG-SEQ-LAB - INFO - \n",
      "                Train epoch_299:\n",
      "                --------------------\n",
      "                train/epoch_loss:        0.3011740632355213\n",
      "train/qrs_score:         0.9625\n",
      "\n",
      "                test/qrs_score:          0.8802\n",
      "                ---------------------------------\n",
      "\n"
     ]
    },
    {
     "name": "stderr",
     "output_type": "stream",
     "text": [
      "2021-02-08 06:01:29,698 (INFO) train.py:268] \n",
      "                Train epoch_299:\n",
      "                --------------------\n",
      "                train/epoch_loss:        0.3011740632355213\n",
      "train/qrs_score:         0.9625\n",
      "\n",
      "                test/qrs_score:          0.8802\n",
      "                ---------------------------------\n",
      "\n"
     ]
    },
    {
     "name": "stdout",
     "output_type": "stream",
     "text": [
      "ECG-SEQ-LAB - INFO - Created checkpoint directory\n"
     ]
    },
    {
     "name": "stderr",
     "output_type": "stream",
     "text": [
      "2021-02-08 06:01:29,703 (INFO) train.py:275] Created checkpoint directory\n"
     ]
    },
    {
     "name": "stdout",
     "output_type": "stream",
     "text": [
      "ECG-SEQ-LAB - INFO - Checkpoint 299 saved!\n"
     ]
    },
    {
     "name": "stderr",
     "output_type": "stream",
     "text": [
      "2021-02-08 06:01:29,901 (INFO) train.py:283] Checkpoint 299 saved!\n",
      "Epoch 299/300: 100%|████████████████████████████████████████████| 1600/1600 [00:54<00:00, 29.32it/s]\n",
      "Epoch 300/300:  96%|██████████████████████ | 1536/1600 [00:53<00:02, 31.46it/s, loss (batch)=0.0435]"
     ]
    },
    {
     "name": "stdout",
     "output_type": "stream",
     "text": [
      "ECG-SEQ-LAB - INFO - Train step_2100: loss : 0.04350323975086212\n"
     ]
    },
    {
     "name": "stderr",
     "output_type": "stream",
     "text": [
      "2021-02-08 06:02:23,694 (INFO) train.py:225] Train step_2100: loss : 0.04350323975086212\n",
      "Epoch 300/300: 100%|███████████████████████| 1600/1600 [01:10<00:00, 21.48it/s, loss (batch)=0.0435]"
     ]
    },
    {
     "name": "stdout",
     "output_type": "stream",
     "text": [
      "QRS_acc: 0.9624\n",
      "Scoring complete.\n",
      "QRS_acc: 0.8832\n",
      "Scoring complete.\n",
      "ECG-SEQ-LAB - INFO - \n",
      "                Train epoch_300:\n",
      "                --------------------\n",
      "                train/epoch_loss:        0.3004815876483917\n",
      "train/qrs_score:         0.9624\n",
      "\n",
      "                test/qrs_score:          0.8832\n",
      "                ---------------------------------\n",
      "\n"
     ]
    },
    {
     "name": "stderr",
     "output_type": "stream",
     "text": [
      "2021-02-08 06:04:01,234 (INFO) train.py:268] \n",
      "                Train epoch_300:\n",
      "                --------------------\n",
      "                train/epoch_loss:        0.3004815876483917\n",
      "train/qrs_score:         0.9624\n",
      "\n",
      "                test/qrs_score:          0.8832\n",
      "                ---------------------------------\n",
      "\n"
     ]
    },
    {
     "name": "stdout",
     "output_type": "stream",
     "text": [
      "ECG-SEQ-LAB - INFO - Created checkpoint directory\n"
     ]
    },
    {
     "name": "stderr",
     "output_type": "stream",
     "text": [
      "2021-02-08 06:04:01,484 (INFO) train.py:275] Created checkpoint directory\n"
     ]
    },
    {
     "name": "stdout",
     "output_type": "stream",
     "text": [
      "ECG-SEQ-LAB - INFO - Checkpoint 300 saved!\n"
     ]
    },
    {
     "name": "stderr",
     "output_type": "stream",
     "text": [
      "2021-02-08 06:04:03,833 (INFO) train.py:283] Checkpoint 300 saved!\n",
      "Epoch 300/300: 100%|███████████████████████| 1600/1600 [02:33<00:00, 10.39it/s, loss (batch)=0.0435]\n"
     ]
    }
   ],
   "source": [
    "train(\n",
    "    model=model,\n",
    "    config=train_config,\n",
    "    device=device,\n",
    "    logger=logger,\n",
    "    debug=train_config.debug,\n",
    ")"
   ]
  },
  {
   "cell_type": "code",
   "execution_count": null,
   "metadata": {},
   "outputs": [],
   "source": []
  },
  {
   "cell_type": "code",
   "execution_count": null,
   "metadata": {},
   "outputs": [],
   "source": []
  },
  {
   "cell_type": "code",
   "execution_count": null,
   "metadata": {},
   "outputs": [],
   "source": []
  },
  {
   "cell_type": "code",
   "execution_count": null,
   "metadata": {},
   "outputs": [],
   "source": []
  },
  {
   "cell_type": "code",
   "execution_count": null,
   "metadata": {},
   "outputs": [],
   "source": []
  },
  {
   "cell_type": "code",
   "execution_count": null,
   "metadata": {},
   "outputs": [],
   "source": []
  },
  {
   "cell_type": "code",
   "execution_count": null,
   "metadata": {},
   "outputs": [],
   "source": [
    "# job = pe.PyTorch(\n",
    "#     entry_point='/media/cfs/wenhao71/workspace/torch_ecg/torch_ecg/train/train_seq_lab_net_cpsc2019/train.py',\n",
    "#     framework_version='1.3.1',\n",
    "#     train_gpu_count=1,\n",
    "#     hyperparameters = {'debug': 'True', 'batch-size':256},\n",
    "# #     hyperparameters = {'model-name':model_name, 'rnn-name':rnn, 'debug': 'True', 'batch-size':bs},\n",
    "# )"
   ]
  },
  {
   "cell_type": "code",
   "execution_count": null,
   "metadata": {},
   "outputs": [],
   "source": [
    "# job.fit(base_job_name=f'cpsc2019-seq-lab')"
   ]
  },
  {
   "cell_type": "code",
   "execution_count": null,
   "metadata": {},
   "outputs": [],
   "source": []
  },
  {
   "cell_type": "code",
   "execution_count": null,
   "metadata": {},
   "outputs": [],
   "source": []
  }
 ],
 "metadata": {
  "kernelspec": {
   "display_name": "Python3 (PySpark)",
   "language": "python",
   "name": "python3"
  },
  "language_info": {
   "codemirror_mode": {
    "name": "ipython",
    "version": 3
   },
   "file_extension": ".py",
   "mimetype": "text/x-python",
   "name": "python",
   "nbconvert_exporter": "python",
   "pygments_lexer": "ipython3",
   "version": "3.6.11"
  }
 },
 "nbformat": 4,
 "nbformat_minor": 4
}
